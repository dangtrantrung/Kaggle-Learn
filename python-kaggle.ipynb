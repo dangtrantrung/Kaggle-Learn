{
 "cells": [
  {
   "cell_type": "markdown",
   "id": "f0019b95",
   "metadata": {
    "papermill": {
     "duration": 0.008738,
     "end_time": "2024-02-19T06:12:03.611947",
     "exception": false,
     "start_time": "2024-02-19T06:12:03.603209",
     "status": "completed"
    },
    "tags": []
   },
   "source": [
    "**This notebook is an exercise in the [Python](https://www.kaggle.com/learn/python) course.  You can reference the tutorial at [this link](https://www.kaggle.com/colinmorris/hello-python).**\n",
    "\n",
    "---\n"
   ]
  },
  {
   "cell_type": "markdown",
   "id": "09692c9e",
   "metadata": {
    "papermill": {
     "duration": 0.008517,
     "end_time": "2024-02-19T06:12:03.629258",
     "exception": false,
     "start_time": "2024-02-19T06:12:03.620741",
     "status": "completed"
    },
    "tags": []
   },
   "source": [
    "Welcome to your first set of Python coding problems.  If this is your first time using Kaggle Notebooks, welcome! \n",
    "\n",
    "Notebooks are composed of blocks (called \"cells\") of text and code. Each of these is editable, though you'll mainly be editing the code cells to answer some questions.\n",
    "\n",
    "To get started, try running the code cell below (by pressing the ► button, or clicking on the cell and pressing ctrl+enter on your keyboard)."
   ]
  },
  {
   "cell_type": "code",
   "execution_count": 1,
   "id": "2a8c13c8",
   "metadata": {
    "execution": {
     "iopub.execute_input": "2024-02-19T06:12:03.648536Z",
     "iopub.status.busy": "2024-02-19T06:12:03.647701Z",
     "iopub.status.idle": "2024-02-19T06:12:03.662758Z",
     "shell.execute_reply": "2024-02-19T06:12:03.661190Z"
    },
    "papermill": {
     "duration": 0.02798,
     "end_time": "2024-02-19T06:12:03.665761",
     "exception": false,
     "start_time": "2024-02-19T06:12:03.637781",
     "status": "completed"
    },
    "tags": []
   },
   "outputs": [
    {
     "name": "stdout",
     "output_type": "stream",
     "text": [
      "You've successfully run some Python code\n",
      "Congratulations!\n"
     ]
    }
   ],
   "source": [
    "print(\"You've successfully run some Python code\")\n",
    "print(\"Congratulations!\")"
   ]
  },
  {
   "cell_type": "markdown",
   "id": "e06d06d5",
   "metadata": {
    "papermill": {
     "duration": 0.008015,
     "end_time": "2024-02-19T06:12:03.682420",
     "exception": false,
     "start_time": "2024-02-19T06:12:03.674405",
     "status": "completed"
    },
    "tags": []
   },
   "source": [
    "Try adding another line of code in the cell above and re-running it. \n",
    "\n",
    "Now let's get a little fancier:  Add a new code cell by clicking on an existing code cell, hitting the escape key, and then hitting the `a` or `b` key.  The `a` key will add a cell above the current cell, and `b` adds a cell below.\n",
    "\n",
    "Great! Now you know how to use Notebooks.\n",
    "\n",
    "Each hands-on exercise starts by setting up our feedback and code checking mechanism. Run the code cell below to do that. Then you'll be ready to move on to question 0."
   ]
  },
  {
   "cell_type": "code",
   "execution_count": 2,
   "id": "d0ea00c4",
   "metadata": {
    "_kg_hide-input": true,
    "_kg_hide-output": true,
    "execution": {
     "iopub.execute_input": "2024-02-19T06:12:03.701772Z",
     "iopub.status.busy": "2024-02-19T06:12:03.700682Z",
     "iopub.status.idle": "2024-02-19T06:12:04.756728Z",
     "shell.execute_reply": "2024-02-19T06:12:04.755013Z"
    },
    "papermill": {
     "duration": 1.068514,
     "end_time": "2024-02-19T06:12:04.759355",
     "exception": false,
     "start_time": "2024-02-19T06:12:03.690841",
     "status": "completed"
    },
    "tags": []
   },
   "outputs": [
    {
     "name": "stdout",
     "output_type": "stream",
     "text": [
      "Setup complete! You're ready to start question 0.\n"
     ]
    }
   ],
   "source": [
    "from learntools.core import binder; binder.bind(globals())\n",
    "from learntools.python.ex1 import *\n",
    "print(\"Setup complete! You're ready to start question 0.\")"
   ]
  },
  {
   "cell_type": "markdown",
   "id": "474957c5",
   "metadata": {
    "papermill": {
     "duration": 0.0083,
     "end_time": "2024-02-19T06:12:04.776863",
     "exception": false,
     "start_time": "2024-02-19T06:12:04.768563",
     "status": "completed"
    },
    "tags": []
   },
   "source": [
    "# 0.\n",
    "\n",
    "*This is a silly question intended as an introduction to the format we use for hands-on exercises throughout all Kaggle courses.*\n",
    "\n",
    "**What is your favorite color? **\n",
    "\n",
    "To complete this question, create a variable called `color` in the cell below with an appropriate value. The function call `q0.check()` (which we've already provided in the cell below) will check your answer."
   ]
  },
  {
   "cell_type": "code",
   "execution_count": 3,
   "id": "18661ba9",
   "metadata": {
    "execution": {
     "iopub.execute_input": "2024-02-19T06:12:04.796486Z",
     "iopub.status.busy": "2024-02-19T06:12:04.795892Z",
     "iopub.status.idle": "2024-02-19T06:12:04.807358Z",
     "shell.execute_reply": "2024-02-19T06:12:04.806186Z"
    },
    "papermill": {
     "duration": 0.024172,
     "end_time": "2024-02-19T06:12:04.809917",
     "exception": false,
     "start_time": "2024-02-19T06:12:04.785745",
     "status": "completed"
    },
    "tags": []
   },
   "outputs": [
    {
     "data": {
      "application/javascript": [
       "parent.postMessage({\"jupyterEvent\": \"custom.exercise_interaction\", \"data\": {\"outcomeType\": 1, \"valueTowardsCompletion\": 0.25, \"interactionType\": 1, \"questionType\": 2, \"questionId\": \"0_ExerciseFormatTutorial\", \"learnToolsVersion\": \"0.3.4\", \"failureMessage\": \"\", \"exceptionClass\": \"\", \"trace\": \"\"}}, \"*\")"
      ],
      "text/plain": [
       "<IPython.core.display.Javascript object>"
      ]
     },
     "metadata": {},
     "output_type": "display_data"
    },
    {
     "data": {
      "text/markdown": [
       "<span style=\"color:#33cc33\">Correct:</span> What?! You got it right without needing a hint or anything? Drats. Well hey, you should still continue to the next step to get some practice asking for a hint and checking solutions. (Even though you obviously don't need any help here.)"
      ],
      "text/plain": [
       "Correct: What?! You got it right without needing a hint or anything? Drats. Well hey, you should still continue to the next step to get some practice asking for a hint and checking solutions. (Even though you obviously don't need any help here.)"
      ]
     },
     "metadata": {},
     "output_type": "display_data"
    }
   ],
   "source": [
    "# create a variable called color with an appropriate value on the line below\n",
    "# (Remember, strings in Python must be enclosed in 'single' or \"double\" quotes)\n",
    "color='blue'\n",
    "\n",
    "# Check your answer\n",
    "q0.check()"
   ]
  },
  {
   "cell_type": "markdown",
   "id": "1b414bc9",
   "metadata": {
    "papermill": {
     "duration": 0.009085,
     "end_time": "2024-02-19T06:12:04.827897",
     "exception": false,
     "start_time": "2024-02-19T06:12:04.818812",
     "status": "completed"
    },
    "tags": []
   },
   "source": [
    "Didn't get the right answer? How do you not even know your own favorite color?!\n",
    "\n",
    "Delete the `#` in the line below to make one of the lines run. You can choose between getting a hint or the full answer by choosing which line to remove the `#` from. \n",
    "\n",
    "Removing the `#` is called uncommenting, because it changes that line from a \"comment\" which Python doesn't run to code, which Python does run."
   ]
  },
  {
   "cell_type": "code",
   "execution_count": 4,
   "id": "6ac646b3",
   "metadata": {
    "execution": {
     "iopub.execute_input": "2024-02-19T06:12:04.848083Z",
     "iopub.status.busy": "2024-02-19T06:12:04.847692Z",
     "iopub.status.idle": "2024-02-19T06:12:04.861750Z",
     "shell.execute_reply": "2024-02-19T06:12:04.860663Z"
    },
    "papermill": {
     "duration": 0.026695,
     "end_time": "2024-02-19T06:12:04.864127",
     "exception": false,
     "start_time": "2024-02-19T06:12:04.837432",
     "status": "completed"
    },
    "tags": []
   },
   "outputs": [
    {
     "data": {
      "application/javascript": [
       "parent.postMessage({\"jupyterEvent\": \"custom.exercise_interaction\", \"data\": {\"interactionType\": 2, \"questionType\": 2, \"questionId\": \"0_ExerciseFormatTutorial\", \"learnToolsVersion\": \"0.3.4\", \"valueTowardsCompletion\": 0.0, \"failureMessage\": \"\", \"exceptionClass\": \"\", \"trace\": \"\", \"outcomeType\": 4}}, \"*\")"
      ],
      "text/plain": [
       "<IPython.core.display.Javascript object>"
      ]
     },
     "metadata": {},
     "output_type": "display_data"
    },
    {
     "data": {
      "text/markdown": [
       "<span style=\"color:#3366cc\">Hint:</span> Your favorite color rhymes with *glue*."
      ],
      "text/plain": [
       "Hint: Your favorite color rhymes with *glue*."
      ]
     },
     "metadata": {},
     "output_type": "display_data"
    },
    {
     "data": {
      "application/javascript": [
       "parent.postMessage({\"jupyterEvent\": \"custom.exercise_interaction\", \"data\": {\"interactionType\": 3, \"questionType\": 2, \"questionId\": \"0_ExerciseFormatTutorial\", \"learnToolsVersion\": \"0.3.4\", \"valueTowardsCompletion\": 0.0, \"failureMessage\": \"\", \"exceptionClass\": \"\", \"trace\": \"\", \"outcomeType\": 4}}, \"*\")"
      ],
      "text/plain": [
       "<IPython.core.display.Javascript object>"
      ]
     },
     "metadata": {},
     "output_type": "display_data"
    },
    {
     "data": {
      "text/markdown": [
       "<span style=\"color:#33cc99\">Solution:</span> \n",
       "```python\n",
       "color = \"blue\"\n",
       "```"
      ],
      "text/plain": [
       "Solution: \n",
       "```python\n",
       "color = \"blue\"\n",
       "```"
      ]
     },
     "metadata": {},
     "output_type": "display_data"
    }
   ],
   "source": [
    "q0.hint()\n",
    "q0.solution()"
   ]
  },
  {
   "cell_type": "markdown",
   "id": "e618bac0",
   "metadata": {
    "papermill": {
     "duration": 0.00934,
     "end_time": "2024-02-19T06:12:04.883301",
     "exception": false,
     "start_time": "2024-02-19T06:12:04.873961",
     "status": "completed"
    },
    "tags": []
   },
   "source": [
    "The upcoming questions work the same way. The only thing that will change are the question numbers. For the next question, you'll call `q1.check()`, `q1.hint()`, `q1.solution()`, for question 2, you'll call `q2.check()`, and so on."
   ]
  },
  {
   "cell_type": "markdown",
   "id": "952d5d70",
   "metadata": {
    "papermill": {
     "duration": 0.009644,
     "end_time": "2024-02-19T06:12:04.902494",
     "exception": false,
     "start_time": "2024-02-19T06:12:04.892850",
     "status": "completed"
    },
    "tags": []
   },
   "source": [
    "<hr/>\n",
    "\n",
    "# 1.\n",
    "\n",
    "Complete the code below. In case it's helpful, here is the table of available arithmetic operations:\n",
    "\n",
    "\n",
    "\n",
    "| Operator     | Name           | Description                                            |\n",
    "|--------------|----------------|--------------------------------------------------------|\n",
    "| ``a + b``    | Addition       | Sum of ``a`` and ``b``                                 |\n",
    "| ``a - b``    | Subtraction    | Difference of ``a`` and ``b``                          |\n",
    "| ``a * b``    | Multiplication | Product of ``a`` and ``b``                             |\n",
    "| ``a / b``    | True division  | Quotient of ``a`` and ``b``                            |\n",
    "| ``a // b``   | Floor division | Quotient of ``a`` and ``b``, removing fractional parts |\n",
    "| ``a % b``    | Modulus        | Integer remainder after division of ``a`` by ``b``     |\n",
    "| ``a ** b``   | Exponentiation | ``a`` raised to the power of ``b``                     |\n",
    "| ``-a``       | Negation       | The negative of ``a``                                  |\n",
    "\n",
    "<span style=\"display:none\"></span>\n"
   ]
  },
  {
   "cell_type": "code",
   "execution_count": 5,
   "id": "301959d5",
   "metadata": {
    "execution": {
     "iopub.execute_input": "2024-02-19T06:12:04.924572Z",
     "iopub.status.busy": "2024-02-19T06:12:04.924133Z",
     "iopub.status.idle": "2024-02-19T06:12:04.933838Z",
     "shell.execute_reply": "2024-02-19T06:12:04.933018Z"
    },
    "papermill": {
     "duration": 0.022754,
     "end_time": "2024-02-19T06:12:04.935993",
     "exception": false,
     "start_time": "2024-02-19T06:12:04.913239",
     "status": "completed"
    },
    "tags": []
   },
   "outputs": [
    {
     "data": {
      "application/javascript": [
       "parent.postMessage({\"jupyterEvent\": \"custom.exercise_interaction\", \"data\": {\"outcomeType\": 1, \"valueTowardsCompletion\": 0.25, \"interactionType\": 1, \"questionType\": 1, \"questionId\": \"1_CircleArea\", \"learnToolsVersion\": \"0.3.4\", \"failureMessage\": \"\", \"exceptionClass\": \"\", \"trace\": \"\"}}, \"*\")"
      ],
      "text/plain": [
       "<IPython.core.display.Javascript object>"
      ]
     },
     "metadata": {},
     "output_type": "display_data"
    },
    {
     "data": {
      "text/markdown": [
       "<span style=\"color:#33cc33\">Correct</span>"
      ],
      "text/plain": [
       "Correct"
      ]
     },
     "metadata": {},
     "output_type": "display_data"
    }
   ],
   "source": [
    "pi = 3.14159 # approximate\n",
    "diameter = 3\n",
    "\n",
    "# Create a variable called 'radius' equal to half the diameter\n",
    "radius=diameter/2\n",
    "\n",
    "# Create a variable called 'area', using the formula for the area of a circle: pi times the radius squared\n",
    "area=pi*(radius)**2\n",
    "\n",
    "# Check your answer\n",
    "q1.check()"
   ]
  },
  {
   "cell_type": "code",
   "execution_count": 6,
   "id": "c0fcb086",
   "metadata": {
    "execution": {
     "iopub.execute_input": "2024-02-19T06:12:04.957722Z",
     "iopub.status.busy": "2024-02-19T06:12:04.957351Z",
     "iopub.status.idle": "2024-02-19T06:12:04.961028Z",
     "shell.execute_reply": "2024-02-19T06:12:04.960188Z"
    },
    "papermill": {
     "duration": 0.017444,
     "end_time": "2024-02-19T06:12:04.963210",
     "exception": false,
     "start_time": "2024-02-19T06:12:04.945766",
     "status": "completed"
    },
    "tags": []
   },
   "outputs": [],
   "source": [
    "# Uncomment and run the lines below if you need help.\n",
    "#q1.hint()\n",
    "#q1.solution()"
   ]
  },
  {
   "cell_type": "markdown",
   "id": "a4839170",
   "metadata": {
    "papermill": {
     "duration": 0.010315,
     "end_time": "2024-02-19T06:12:04.983426",
     "exception": false,
     "start_time": "2024-02-19T06:12:04.973111",
     "status": "completed"
    },
    "tags": []
   },
   "source": [
    "<hr/>\n",
    "\n",
    "# 2.\n",
    "\n",
    "Add code to the following cell to swap variables `a` and `b` (so that `a` refers to the object previously referred to by `b` and vice versa)."
   ]
  },
  {
   "cell_type": "code",
   "execution_count": 7,
   "id": "8e14de58",
   "metadata": {
    "execution": {
     "iopub.execute_input": "2024-02-19T06:12:05.006363Z",
     "iopub.status.busy": "2024-02-19T06:12:05.005881Z",
     "iopub.status.idle": "2024-02-19T06:12:05.016040Z",
     "shell.execute_reply": "2024-02-19T06:12:05.015230Z"
    },
    "papermill": {
     "duration": 0.02461,
     "end_time": "2024-02-19T06:12:05.018401",
     "exception": false,
     "start_time": "2024-02-19T06:12:04.993791",
     "status": "completed"
    },
    "tags": []
   },
   "outputs": [
    {
     "data": {
      "application/javascript": [
       "parent.postMessage({\"jupyterEvent\": \"custom.exercise_interaction\", \"data\": {\"outcomeType\": 2, \"failureMessage\": \"`a` and `b` still have their original values.\", \"interactionType\": 1, \"questionType\": 2, \"questionId\": \"2_VariableSwap\", \"learnToolsVersion\": \"0.3.4\", \"valueTowardsCompletion\": 0.0, \"exceptionClass\": \"\", \"trace\": \"\"}}, \"*\")"
      ],
      "text/plain": [
       "<IPython.core.display.Javascript object>"
      ]
     },
     "metadata": {},
     "output_type": "display_data"
    },
    {
     "data": {
      "text/markdown": [
       "<span style=\"color:#cc3333\">Incorrect:</span> `a` and `b` still have their original values."
      ],
      "text/plain": [
       "Incorrect: `a` and `b` still have their original values."
      ]
     },
     "metadata": {},
     "output_type": "display_data"
    }
   ],
   "source": [
    "########### Setup code - don't touch this part ######################\n",
    "# If you're curious, these are examples of lists. We'll talk about \n",
    "# them in depth a few lessons from now. For now, just know that they're\n",
    "# yet another type of Python object, like int or float.\n",
    "a = [1, 2, 3]\n",
    "b = [3, 2, 1]\n",
    "q2.store_original_ids()\n",
    "######################################################################\n",
    "\n",
    "# Your code goes here. Swap the values to which a and b refer.\n",
    "# If you get stuck, you can always uncomment one or both of the lines in\n",
    "# the next cell for a hint, or to peek at the solution.\n",
    "\n",
    "######################################################################\n",
    "\n",
    "# Check your answer\n",
    "q2.check()"
   ]
  },
  {
   "cell_type": "code",
   "execution_count": 8,
   "id": "83c5d42a",
   "metadata": {
    "execution": {
     "iopub.execute_input": "2024-02-19T06:12:05.042039Z",
     "iopub.status.busy": "2024-02-19T06:12:05.041309Z",
     "iopub.status.idle": "2024-02-19T06:12:05.046009Z",
     "shell.execute_reply": "2024-02-19T06:12:05.044859Z"
    },
    "papermill": {
     "duration": 0.019541,
     "end_time": "2024-02-19T06:12:05.048509",
     "exception": false,
     "start_time": "2024-02-19T06:12:05.028968",
     "status": "completed"
    },
    "tags": []
   },
   "outputs": [],
   "source": [
    "#q2.hint()"
   ]
  },
  {
   "cell_type": "code",
   "execution_count": 9,
   "id": "2f55c5e3",
   "metadata": {
    "execution": {
     "iopub.execute_input": "2024-02-19T06:12:05.071505Z",
     "iopub.status.busy": "2024-02-19T06:12:05.070817Z",
     "iopub.status.idle": "2024-02-19T06:12:05.075711Z",
     "shell.execute_reply": "2024-02-19T06:12:05.074471Z"
    },
    "papermill": {
     "duration": 0.018951,
     "end_time": "2024-02-19T06:12:05.077970",
     "exception": false,
     "start_time": "2024-02-19T06:12:05.059019",
     "status": "completed"
    },
    "tags": []
   },
   "outputs": [],
   "source": [
    "#q2.solution()"
   ]
  },
  {
   "cell_type": "markdown",
   "id": "8922e39d",
   "metadata": {
    "papermill": {
     "duration": 0.010203,
     "end_time": "2024-02-19T06:12:05.098750",
     "exception": false,
     "start_time": "2024-02-19T06:12:05.088547",
     "status": "completed"
    },
    "tags": []
   },
   "source": [
    "<hr/>\n",
    "\n",
    "# 3a.\n",
    "\n",
    "Add parentheses to the following expression so that it evaluates to 1."
   ]
  },
  {
   "cell_type": "code",
   "execution_count": 10,
   "id": "8df47168",
   "metadata": {
    "execution": {
     "iopub.execute_input": "2024-02-19T06:12:05.121444Z",
     "iopub.status.busy": "2024-02-19T06:12:05.121007Z",
     "iopub.status.idle": "2024-02-19T06:12:05.127918Z",
     "shell.execute_reply": "2024-02-19T06:12:05.126850Z"
    },
    "papermill": {
     "duration": 0.021324,
     "end_time": "2024-02-19T06:12:05.130451",
     "exception": false,
     "start_time": "2024-02-19T06:12:05.109127",
     "status": "completed"
    },
    "tags": []
   },
   "outputs": [
    {
     "data": {
      "text/plain": [
       "4"
      ]
     },
     "execution_count": 10,
     "metadata": {},
     "output_type": "execute_result"
    }
   ],
   "source": [
    "5 - 3 // 2"
   ]
  },
  {
   "cell_type": "code",
   "execution_count": 11,
   "id": "1e811d53",
   "metadata": {
    "execution": {
     "iopub.execute_input": "2024-02-19T06:12:05.154884Z",
     "iopub.status.busy": "2024-02-19T06:12:05.154458Z",
     "iopub.status.idle": "2024-02-19T06:12:05.159638Z",
     "shell.execute_reply": "2024-02-19T06:12:05.158374Z"
    },
    "papermill": {
     "duration": 0.020154,
     "end_time": "2024-02-19T06:12:05.161978",
     "exception": false,
     "start_time": "2024-02-19T06:12:05.141824",
     "status": "completed"
    },
    "tags": []
   },
   "outputs": [],
   "source": [
    "#q3.a.hint()"
   ]
  },
  {
   "cell_type": "code",
   "execution_count": 12,
   "id": "60034dca",
   "metadata": {
    "execution": {
     "iopub.execute_input": "2024-02-19T06:12:05.186403Z",
     "iopub.status.busy": "2024-02-19T06:12:05.185917Z",
     "iopub.status.idle": "2024-02-19T06:12:05.195872Z",
     "shell.execute_reply": "2024-02-19T06:12:05.194795Z"
    },
    "papermill": {
     "duration": 0.024862,
     "end_time": "2024-02-19T06:12:05.198184",
     "exception": false,
     "start_time": "2024-02-19T06:12:05.173322",
     "status": "completed"
    },
    "tags": []
   },
   "outputs": [
    {
     "data": {
      "application/javascript": [
       "parent.postMessage({\"jupyterEvent\": \"custom.exercise_interaction\", \"data\": {\"interactionType\": 3, \"questionType\": 4, \"questionId\": \"3.1_ArithmeticParensEasy\", \"learnToolsVersion\": \"0.3.4\", \"valueTowardsCompletion\": 0.0, \"failureMessage\": \"\", \"exceptionClass\": \"\", \"trace\": \"\", \"outcomeType\": 4}}, \"*\")"
      ],
      "text/plain": [
       "<IPython.core.display.Javascript object>"
      ]
     },
     "metadata": {},
     "output_type": "display_data"
    },
    {
     "data": {
      "text/markdown": [
       "<span style=\"color:#33cc99\">Solution:</span> \n",
       "```python\n",
       "(5 - 3) // 2\n",
       "```"
      ],
      "text/plain": [
       "Solution: \n",
       "```python\n",
       "(5 - 3) // 2\n",
       "```"
      ]
     },
     "metadata": {},
     "output_type": "display_data"
    }
   ],
   "source": [
    "# Check your answer (Run this code cell to receive credit!)\n",
    "q3.a.solution()"
   ]
  },
  {
   "cell_type": "markdown",
   "id": "156ec097",
   "metadata": {
    "papermill": {
     "duration": 0.010844,
     "end_time": "2024-02-19T06:12:05.220333",
     "exception": false,
     "start_time": "2024-02-19T06:12:05.209489",
     "status": "completed"
    },
    "tags": []
   },
   "source": [
    "# 3b.  <span title=\"A bit spicy\" style=\"color: darkgreen \">🌶️</span>\n",
    "\n",
    "<small>Questions, like this one, marked a spicy pepper are a bit harder.</small>\n",
    "\n",
    "Add parentheses to the following expression so that it evaluates to 0."
   ]
  },
  {
   "cell_type": "code",
   "execution_count": 13,
   "id": "2d604998",
   "metadata": {
    "execution": {
     "iopub.execute_input": "2024-02-19T06:12:05.245089Z",
     "iopub.status.busy": "2024-02-19T06:12:05.244641Z",
     "iopub.status.idle": "2024-02-19T06:12:05.252027Z",
     "shell.execute_reply": "2024-02-19T06:12:05.250788Z"
    },
    "papermill": {
     "duration": 0.022776,
     "end_time": "2024-02-19T06:12:05.254405",
     "exception": false,
     "start_time": "2024-02-19T06:12:05.231629",
     "status": "completed"
    },
    "tags": []
   },
   "outputs": [
    {
     "data": {
      "text/plain": [
       "2"
      ]
     },
     "execution_count": 13,
     "metadata": {},
     "output_type": "execute_result"
    }
   ],
   "source": [
    "8 - 3 * 2 - 1 + 1"
   ]
  },
  {
   "cell_type": "code",
   "execution_count": 14,
   "id": "e4459238",
   "metadata": {
    "execution": {
     "iopub.execute_input": "2024-02-19T06:12:05.279975Z",
     "iopub.status.busy": "2024-02-19T06:12:05.279539Z",
     "iopub.status.idle": "2024-02-19T06:12:05.284809Z",
     "shell.execute_reply": "2024-02-19T06:12:05.283580Z"
    },
    "papermill": {
     "duration": 0.020879,
     "end_time": "2024-02-19T06:12:05.287215",
     "exception": false,
     "start_time": "2024-02-19T06:12:05.266336",
     "status": "completed"
    },
    "tags": []
   },
   "outputs": [],
   "source": [
    "#q3.b.hint()"
   ]
  },
  {
   "cell_type": "code",
   "execution_count": 15,
   "id": "f85147d3",
   "metadata": {
    "execution": {
     "iopub.execute_input": "2024-02-19T06:12:05.312110Z",
     "iopub.status.busy": "2024-02-19T06:12:05.311657Z",
     "iopub.status.idle": "2024-02-19T06:12:05.321590Z",
     "shell.execute_reply": "2024-02-19T06:12:05.320284Z"
    },
    "papermill": {
     "duration": 0.025092,
     "end_time": "2024-02-19T06:12:05.323864",
     "exception": false,
     "start_time": "2024-02-19T06:12:05.298772",
     "status": "completed"
    },
    "tags": []
   },
   "outputs": [
    {
     "data": {
      "application/javascript": [
       "parent.postMessage({\"jupyterEvent\": \"custom.exercise_interaction\", \"data\": {\"interactionType\": 3, \"questionType\": 4, \"questionId\": \"3.2_ArithmeticParensHard\", \"learnToolsVersion\": \"0.3.4\", \"valueTowardsCompletion\": 0.0, \"failureMessage\": \"\", \"exceptionClass\": \"\", \"trace\": \"\", \"outcomeType\": 4}}, \"*\")"
      ],
      "text/plain": [
       "<IPython.core.display.Javascript object>"
      ]
     },
     "metadata": {},
     "output_type": "display_data"
    },
    {
     "data": {
      "text/markdown": [
       "<span style=\"color:#33cc99\">Solution:</span> `(8 - 3) * (2 - (1 + 1))` is one solution. There may be others."
      ],
      "text/plain": [
       "Solution: `(8 - 3) * (2 - (1 + 1))` is one solution. There may be others."
      ]
     },
     "metadata": {},
     "output_type": "display_data"
    }
   ],
   "source": [
    "# Check your answer (Run this code cell to receive credit!)\n",
    "q3.b.solution()"
   ]
  },
  {
   "cell_type": "markdown",
   "id": "6faae8b8",
   "metadata": {
    "papermill": {
     "duration": 0.011638,
     "end_time": "2024-02-19T06:12:05.347527",
     "exception": false,
     "start_time": "2024-02-19T06:12:05.335889",
     "status": "completed"
    },
    "tags": []
   },
   "source": [
    "<hr/>\n",
    "\n",
    "# 4. \n",
    "Alice, Bob and Carol have agreed to pool their Halloween candy and split it evenly among themselves.\n",
    "For the sake of their friendship, any candies left over will be smashed. For example, if they collectively\n",
    "bring home 91 candies, they'll take 30 each and smash 1.\n",
    "\n",
    "Write an arithmetic expression below to calculate how many candies they must smash for a given haul."
   ]
  },
  {
   "cell_type": "code",
   "execution_count": 16,
   "id": "3a439eaf",
   "metadata": {
    "execution": {
     "iopub.execute_input": "2024-02-19T06:12:05.373521Z",
     "iopub.status.busy": "2024-02-19T06:12:05.373115Z",
     "iopub.status.idle": "2024-02-19T06:12:05.382090Z",
     "shell.execute_reply": "2024-02-19T06:12:05.381195Z"
    },
    "papermill": {
     "duration": 0.024951,
     "end_time": "2024-02-19T06:12:05.384291",
     "exception": false,
     "start_time": "2024-02-19T06:12:05.359340",
     "status": "completed"
    },
    "tags": []
   },
   "outputs": [
    {
     "data": {
      "application/javascript": [
       "parent.postMessage({\"jupyterEvent\": \"custom.exercise_interaction\", \"data\": {\"outcomeType\": 4, \"interactionType\": 1, \"questionType\": 1, \"questionId\": \"4_CandySplitting\", \"learnToolsVersion\": \"0.3.4\", \"valueTowardsCompletion\": 0.0, \"failureMessage\": \"\", \"exceptionClass\": \"\", \"trace\": \"\"}}, \"*\")"
      ],
      "text/plain": [
       "<IPython.core.display.Javascript object>"
      ]
     },
     "metadata": {},
     "output_type": "display_data"
    },
    {
     "data": {
      "text/markdown": [
       "<span style=\"color:#ccaa33\">Check:</span> When you've updated the starter code, `check()` will tell you whether your code is correct. You need to update the code that creates variable `to_smash`"
      ],
      "text/plain": [
       "Check: When you've updated the starter code, `check()` will tell you whether your code is correct. You need to update the code that creates variable `to_smash`"
      ]
     },
     "metadata": {},
     "output_type": "display_data"
    }
   ],
   "source": [
    "# Variables representing the number of candies collected by alice, bob, and carol\n",
    "alice_candies = 121\n",
    "bob_candies = 77\n",
    "carol_candies = 109\n",
    "\n",
    "# Your code goes here! Replace the right-hand side of this assignment with an expression\n",
    "# involving alice_candies, bob_candies, and carol_candies\n",
    "to_smash = -1\n",
    "\n",
    "# Check your answer\n",
    "q4.check()"
   ]
  },
  {
   "cell_type": "code",
   "execution_count": 17,
   "id": "8030ad15",
   "metadata": {
    "execution": {
     "iopub.execute_input": "2024-02-19T06:12:05.411298Z",
     "iopub.status.busy": "2024-02-19T06:12:05.410393Z",
     "iopub.status.idle": "2024-02-19T06:12:05.415624Z",
     "shell.execute_reply": "2024-02-19T06:12:05.414448Z"
    },
    "papermill": {
     "duration": 0.021963,
     "end_time": "2024-02-19T06:12:05.418528",
     "exception": false,
     "start_time": "2024-02-19T06:12:05.396565",
     "status": "completed"
    },
    "tags": []
   },
   "outputs": [],
   "source": [
    "#q4.hint()\n",
    "#q4.solution()"
   ]
  },
  {
   "cell_type": "markdown",
   "id": "a635b8cb",
   "metadata": {
    "papermill": {
     "duration": 0.012982,
     "end_time": "2024-02-19T06:12:05.444031",
     "exception": false,
     "start_time": "2024-02-19T06:12:05.431049",
     "status": "completed"
    },
    "tags": []
   },
   "source": [
    "# Keep Going\n",
    "\n",
    "Next up, you'll **[learn to write new functions and understand functions others write](https://www.kaggle.com/colinmorris/functions-and-getting-help)**. This will make you at least 10 times more productive as a Python programmer. "
   ]
  },
  {
   "cell_type": "markdown",
   "id": "8acc2b76",
   "metadata": {
    "papermill": {
     "duration": 0.012848,
     "end_time": "2024-02-19T06:12:05.469767",
     "exception": false,
     "start_time": "2024-02-19T06:12:05.456919",
     "status": "completed"
    },
    "tags": []
   },
   "source": [
    "---\n",
    "\n",
    "\n",
    "\n",
    "\n",
    "*Have questions or comments? Visit the [course discussion forum](https://www.kaggle.com/learn/python/discussion) to chat with other learners.*"
   ]
  }
 ],
 "metadata": {
  "kaggle": {
   "accelerator": "none",
   "dataSources": [],
   "isGpuEnabled": false,
   "isInternetEnabled": false,
   "language": "python",
   "sourceType": "notebook"
  },
  "kernelspec": {
   "display_name": "Python 3",
   "language": "python",
   "name": "python3"
  },
  "language_info": {
   "codemirror_mode": {
    "name": "ipython",
    "version": 3
   },
   "file_extension": ".py",
   "mimetype": "text/x-python",
   "name": "python",
   "nbconvert_exporter": "python",
   "pygments_lexer": "ipython3",
   "version": "3.10.13"
  },
  "learntools_metadata": {
   "lesson_index": 0,
   "type": "exercise"
  },
  "papermill": {
   "default_parameters": {},
   "duration": 5.647247,
   "end_time": "2024-02-19T06:12:06.006857",
   "environment_variables": {},
   "exception": null,
   "input_path": "__notebook__.ipynb",
   "output_path": "__notebook__.ipynb",
   "parameters": {},
   "start_time": "2024-02-19T06:12:00.359610",
   "version": "2.5.0"
  }
 },
 "nbformat": 4,
 "nbformat_minor": 5
}
