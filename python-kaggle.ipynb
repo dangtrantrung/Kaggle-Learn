{
 "cells": [
  {
   "cell_type": "markdown",
   "id": "d6a944ef",
   "metadata": {
    "papermill": {
     "duration": 0.006875,
     "end_time": "2024-02-19T06:24:48.024725",
     "exception": false,
     "start_time": "2024-02-19T06:24:48.017850",
     "status": "completed"
    },
    "tags": []
   },
   "source": [
    "**This notebook is an exercise in the [Python](https://www.kaggle.com/learn/python) course.  You can reference the tutorial at [this link](https://www.kaggle.com/colinmorris/hello-python).**\n",
    "\n",
    "---\n"
   ]
  },
  {
   "cell_type": "markdown",
   "id": "09925c4e",
   "metadata": {
    "papermill": {
     "duration": 0.006139,
     "end_time": "2024-02-19T06:24:48.037435",
     "exception": false,
     "start_time": "2024-02-19T06:24:48.031296",
     "status": "completed"
    },
    "tags": []
   },
   "source": [
    "Welcome to your first set of Python coding problems.  If this is your first time using Kaggle Notebooks, welcome! \n",
    "\n",
    "Notebooks are composed of blocks (called \"cells\") of text and code. Each of these is editable, though you'll mainly be editing the code cells to answer some questions.\n",
    "\n",
    "To get started, try running the code cell below (by pressing the ► button, or clicking on the cell and pressing ctrl+enter on your keyboard)."
   ]
  },
  {
   "cell_type": "code",
   "execution_count": 1,
   "id": "20b45ae4",
   "metadata": {
    "execution": {
     "iopub.execute_input": "2024-02-19T06:24:48.052610Z",
     "iopub.status.busy": "2024-02-19T06:24:48.051590Z",
     "iopub.status.idle": "2024-02-19T06:24:48.063338Z",
     "shell.execute_reply": "2024-02-19T06:24:48.062285Z"
    },
    "papermill": {
     "duration": 0.021926,
     "end_time": "2024-02-19T06:24:48.065721",
     "exception": false,
     "start_time": "2024-02-19T06:24:48.043795",
     "status": "completed"
    },
    "tags": []
   },
   "outputs": [
    {
     "name": "stdout",
     "output_type": "stream",
     "text": [
      "You've successfully run some Python code\n",
      "Congratulations!\n"
     ]
    }
   ],
   "source": [
    "print(\"You've successfully run some Python code\")\n",
    "print(\"Congratulations!\")"
   ]
  },
  {
   "cell_type": "markdown",
   "id": "93447424",
   "metadata": {
    "papermill": {
     "duration": 0.00632,
     "end_time": "2024-02-19T06:24:48.078864",
     "exception": false,
     "start_time": "2024-02-19T06:24:48.072544",
     "status": "completed"
    },
    "tags": []
   },
   "source": [
    "Try adding another line of code in the cell above and re-running it. \n",
    "\n",
    "Now let's get a little fancier:  Add a new code cell by clicking on an existing code cell, hitting the escape key, and then hitting the `a` or `b` key.  The `a` key will add a cell above the current cell, and `b` adds a cell below.\n",
    "\n",
    "Great! Now you know how to use Notebooks.\n",
    "\n",
    "Each hands-on exercise starts by setting up our feedback and code checking mechanism. Run the code cell below to do that. Then you'll be ready to move on to question 0."
   ]
  },
  {
   "cell_type": "code",
   "execution_count": 2,
   "id": "7c3d3156",
   "metadata": {
    "_kg_hide-input": true,
    "_kg_hide-output": true,
    "execution": {
     "iopub.execute_input": "2024-02-19T06:24:48.094283Z",
     "iopub.status.busy": "2024-02-19T06:24:48.093522Z",
     "iopub.status.idle": "2024-02-19T06:24:48.955938Z",
     "shell.execute_reply": "2024-02-19T06:24:48.955093Z"
    },
    "papermill": {
     "duration": 0.872461,
     "end_time": "2024-02-19T06:24:48.958018",
     "exception": false,
     "start_time": "2024-02-19T06:24:48.085557",
     "status": "completed"
    },
    "tags": []
   },
   "outputs": [
    {
     "name": "stdout",
     "output_type": "stream",
     "text": [
      "Setup complete! You're ready to start question 0.\n"
     ]
    }
   ],
   "source": [
    "from learntools.core import binder; binder.bind(globals())\n",
    "from learntools.python.ex1 import *\n",
    "print(\"Setup complete! You're ready to start question 0.\")"
   ]
  },
  {
   "cell_type": "markdown",
   "id": "9419f167",
   "metadata": {
    "papermill": {
     "duration": 0.006347,
     "end_time": "2024-02-19T06:24:48.971122",
     "exception": false,
     "start_time": "2024-02-19T06:24:48.964775",
     "status": "completed"
    },
    "tags": []
   },
   "source": [
    "# 0.\n",
    "\n",
    "*This is a silly question intended as an introduction to the format we use for hands-on exercises throughout all Kaggle courses.*\n",
    "\n",
    "**What is your favorite color? **\n",
    "\n",
    "To complete this question, create a variable called `color` in the cell below with an appropriate value. The function call `q0.check()` (which we've already provided in the cell below) will check your answer."
   ]
  },
  {
   "cell_type": "code",
   "execution_count": 3,
   "id": "e9b4fd9a",
   "metadata": {
    "execution": {
     "iopub.execute_input": "2024-02-19T06:24:48.986630Z",
     "iopub.status.busy": "2024-02-19T06:24:48.985869Z",
     "iopub.status.idle": "2024-02-19T06:24:48.995355Z",
     "shell.execute_reply": "2024-02-19T06:24:48.994324Z"
    },
    "papermill": {
     "duration": 0.01995,
     "end_time": "2024-02-19T06:24:48.997715",
     "exception": false,
     "start_time": "2024-02-19T06:24:48.977765",
     "status": "completed"
    },
    "tags": []
   },
   "outputs": [
    {
     "data": {
      "application/javascript": [
       "parent.postMessage({\"jupyterEvent\": \"custom.exercise_interaction\", \"data\": {\"outcomeType\": 1, \"valueTowardsCompletion\": 0.25, \"interactionType\": 1, \"questionType\": 2, \"questionId\": \"0_ExerciseFormatTutorial\", \"learnToolsVersion\": \"0.3.4\", \"failureMessage\": \"\", \"exceptionClass\": \"\", \"trace\": \"\"}}, \"*\")"
      ],
      "text/plain": [
       "<IPython.core.display.Javascript object>"
      ]
     },
     "metadata": {},
     "output_type": "display_data"
    },
    {
     "data": {
      "text/markdown": [
       "<span style=\"color:#33cc33\">Correct:</span> What?! You got it right without needing a hint or anything? Drats. Well hey, you should still continue to the next step to get some practice asking for a hint and checking solutions. (Even though you obviously don't need any help here.)"
      ],
      "text/plain": [
       "Correct: What?! You got it right without needing a hint or anything? Drats. Well hey, you should still continue to the next step to get some practice asking for a hint and checking solutions. (Even though you obviously don't need any help here.)"
      ]
     },
     "metadata": {},
     "output_type": "display_data"
    }
   ],
   "source": [
    "# create a variable called color with an appropriate value on the line below\n",
    "# (Remember, strings in Python must be enclosed in 'single' or \"double\" quotes)\n",
    "color='blue'\n",
    "\n",
    "# Check your answer\n",
    "q0.check()"
   ]
  },
  {
   "cell_type": "markdown",
   "id": "fd5d1dff",
   "metadata": {
    "papermill": {
     "duration": 0.006801,
     "end_time": "2024-02-19T06:24:49.011958",
     "exception": false,
     "start_time": "2024-02-19T06:24:49.005157",
     "status": "completed"
    },
    "tags": []
   },
   "source": [
    "Didn't get the right answer? How do you not even know your own favorite color?!\n",
    "\n",
    "Delete the `#` in the line below to make one of the lines run. You can choose between getting a hint or the full answer by choosing which line to remove the `#` from. \n",
    "\n",
    "Removing the `#` is called uncommenting, because it changes that line from a \"comment\" which Python doesn't run to code, which Python does run."
   ]
  },
  {
   "cell_type": "code",
   "execution_count": 4,
   "id": "6ae3e905",
   "metadata": {
    "execution": {
     "iopub.execute_input": "2024-02-19T06:24:49.029023Z",
     "iopub.status.busy": "2024-02-19T06:24:49.028334Z",
     "iopub.status.idle": "2024-02-19T06:24:49.041209Z",
     "shell.execute_reply": "2024-02-19T06:24:49.040327Z"
    },
    "papermill": {
     "duration": 0.023489,
     "end_time": "2024-02-19T06:24:49.043365",
     "exception": false,
     "start_time": "2024-02-19T06:24:49.019876",
     "status": "completed"
    },
    "tags": []
   },
   "outputs": [
    {
     "data": {
      "application/javascript": [
       "parent.postMessage({\"jupyterEvent\": \"custom.exercise_interaction\", \"data\": {\"interactionType\": 2, \"questionType\": 2, \"questionId\": \"0_ExerciseFormatTutorial\", \"learnToolsVersion\": \"0.3.4\", \"valueTowardsCompletion\": 0.0, \"failureMessage\": \"\", \"exceptionClass\": \"\", \"trace\": \"\", \"outcomeType\": 4}}, \"*\")"
      ],
      "text/plain": [
       "<IPython.core.display.Javascript object>"
      ]
     },
     "metadata": {},
     "output_type": "display_data"
    },
    {
     "data": {
      "text/markdown": [
       "<span style=\"color:#3366cc\">Hint:</span> Your favorite color rhymes with *glue*."
      ],
      "text/plain": [
       "Hint: Your favorite color rhymes with *glue*."
      ]
     },
     "metadata": {},
     "output_type": "display_data"
    },
    {
     "data": {
      "application/javascript": [
       "parent.postMessage({\"jupyterEvent\": \"custom.exercise_interaction\", \"data\": {\"interactionType\": 3, \"questionType\": 2, \"questionId\": \"0_ExerciseFormatTutorial\", \"learnToolsVersion\": \"0.3.4\", \"valueTowardsCompletion\": 0.0, \"failureMessage\": \"\", \"exceptionClass\": \"\", \"trace\": \"\", \"outcomeType\": 4}}, \"*\")"
      ],
      "text/plain": [
       "<IPython.core.display.Javascript object>"
      ]
     },
     "metadata": {},
     "output_type": "display_data"
    },
    {
     "data": {
      "text/markdown": [
       "<span style=\"color:#33cc99\">Solution:</span> \n",
       "```python\n",
       "color = \"blue\"\n",
       "```"
      ],
      "text/plain": [
       "Solution: \n",
       "```python\n",
       "color = \"blue\"\n",
       "```"
      ]
     },
     "metadata": {},
     "output_type": "display_data"
    }
   ],
   "source": [
    "q0.hint()\n",
    "q0.solution()"
   ]
  },
  {
   "cell_type": "markdown",
   "id": "1b1ca566",
   "metadata": {
    "papermill": {
     "duration": 0.00725,
     "end_time": "2024-02-19T06:24:49.058368",
     "exception": false,
     "start_time": "2024-02-19T06:24:49.051118",
     "status": "completed"
    },
    "tags": []
   },
   "source": [
    "The upcoming questions work the same way. The only thing that will change are the question numbers. For the next question, you'll call `q1.check()`, `q1.hint()`, `q1.solution()`, for question 2, you'll call `q2.check()`, and so on."
   ]
  },
  {
   "cell_type": "markdown",
   "id": "809c257e",
   "metadata": {
    "papermill": {
     "duration": 0.007115,
     "end_time": "2024-02-19T06:24:49.072846",
     "exception": false,
     "start_time": "2024-02-19T06:24:49.065731",
     "status": "completed"
    },
    "tags": []
   },
   "source": [
    "<hr/>\n",
    "\n",
    "# 1.\n",
    "\n",
    "Complete the code below. In case it's helpful, here is the table of available arithmetic operations:\n",
    "\n",
    "\n",
    "\n",
    "| Operator     | Name           | Description                                            |\n",
    "|--------------|----------------|--------------------------------------------------------|\n",
    "| ``a + b``    | Addition       | Sum of ``a`` and ``b``                                 |\n",
    "| ``a - b``    | Subtraction    | Difference of ``a`` and ``b``                          |\n",
    "| ``a * b``    | Multiplication | Product of ``a`` and ``b``                             |\n",
    "| ``a / b``    | True division  | Quotient of ``a`` and ``b``                            |\n",
    "| ``a // b``   | Floor division | Quotient of ``a`` and ``b``, removing fractional parts |\n",
    "| ``a % b``    | Modulus        | Integer remainder after division of ``a`` by ``b``     |\n",
    "| ``a ** b``   | Exponentiation | ``a`` raised to the power of ``b``                     |\n",
    "| ``-a``       | Negation       | The negative of ``a``                                  |\n",
    "\n",
    "<span style=\"display:none\"></span>\n"
   ]
  },
  {
   "cell_type": "code",
   "execution_count": 5,
   "id": "61c24dc9",
   "metadata": {
    "execution": {
     "iopub.execute_input": "2024-02-19T06:24:49.090036Z",
     "iopub.status.busy": "2024-02-19T06:24:49.089262Z",
     "iopub.status.idle": "2024-02-19T06:24:49.098708Z",
     "shell.execute_reply": "2024-02-19T06:24:49.097665Z"
    },
    "papermill": {
     "duration": 0.020892,
     "end_time": "2024-02-19T06:24:49.101173",
     "exception": false,
     "start_time": "2024-02-19T06:24:49.080281",
     "status": "completed"
    },
    "tags": []
   },
   "outputs": [
    {
     "data": {
      "application/javascript": [
       "parent.postMessage({\"jupyterEvent\": \"custom.exercise_interaction\", \"data\": {\"outcomeType\": 1, \"valueTowardsCompletion\": 0.25, \"interactionType\": 1, \"questionType\": 1, \"questionId\": \"1_CircleArea\", \"learnToolsVersion\": \"0.3.4\", \"failureMessage\": \"\", \"exceptionClass\": \"\", \"trace\": \"\"}}, \"*\")"
      ],
      "text/plain": [
       "<IPython.core.display.Javascript object>"
      ]
     },
     "metadata": {},
     "output_type": "display_data"
    },
    {
     "data": {
      "text/markdown": [
       "<span style=\"color:#33cc33\">Correct</span>"
      ],
      "text/plain": [
       "Correct"
      ]
     },
     "metadata": {},
     "output_type": "display_data"
    }
   ],
   "source": [
    "pi = 3.14159 # approximate\n",
    "diameter = 3\n",
    "\n",
    "# Create a variable called 'radius' equal to half the diameter\n",
    "radius=diameter/2\n",
    "\n",
    "# Create a variable called 'area', using the formula for the area of a circle: pi times the radius squared\n",
    "area=pi*(radius)**2\n",
    "\n",
    "# Check your answer\n",
    "q1.check()"
   ]
  },
  {
   "cell_type": "code",
   "execution_count": 6,
   "id": "548976a5",
   "metadata": {
    "execution": {
     "iopub.execute_input": "2024-02-19T06:24:49.118373Z",
     "iopub.status.busy": "2024-02-19T06:24:49.118016Z",
     "iopub.status.idle": "2024-02-19T06:24:49.122154Z",
     "shell.execute_reply": "2024-02-19T06:24:49.121014Z"
    },
    "papermill": {
     "duration": 0.015595,
     "end_time": "2024-02-19T06:24:49.124392",
     "exception": false,
     "start_time": "2024-02-19T06:24:49.108797",
     "status": "completed"
    },
    "tags": []
   },
   "outputs": [],
   "source": [
    "# Uncomment and run the lines below if you need help.\n",
    "#q1.hint()\n",
    "#q1.solution()"
   ]
  },
  {
   "cell_type": "markdown",
   "id": "4fc84d4e",
   "metadata": {
    "papermill": {
     "duration": 0.007337,
     "end_time": "2024-02-19T06:24:49.139486",
     "exception": false,
     "start_time": "2024-02-19T06:24:49.132149",
     "status": "completed"
    },
    "tags": []
   },
   "source": [
    "<hr/>\n",
    "\n",
    "# 2.\n",
    "\n",
    "Add code to the following cell to swap variables `a` and `b` (so that `a` refers to the object previously referred to by `b` and vice versa)."
   ]
  },
  {
   "cell_type": "code",
   "execution_count": 7,
   "id": "857ad4d8",
   "metadata": {
    "execution": {
     "iopub.execute_input": "2024-02-19T06:24:49.157380Z",
     "iopub.status.busy": "2024-02-19T06:24:49.156550Z",
     "iopub.status.idle": "2024-02-19T06:24:49.166008Z",
     "shell.execute_reply": "2024-02-19T06:24:49.164916Z"
    },
    "papermill": {
     "duration": 0.02114,
     "end_time": "2024-02-19T06:24:49.168358",
     "exception": false,
     "start_time": "2024-02-19T06:24:49.147218",
     "status": "completed"
    },
    "tags": []
   },
   "outputs": [
    {
     "data": {
      "application/javascript": [
       "parent.postMessage({\"jupyterEvent\": \"custom.exercise_interaction\", \"data\": {\"outcomeType\": 1, \"valueTowardsCompletion\": 0.25, \"interactionType\": 1, \"questionType\": 2, \"questionId\": \"2_VariableSwap\", \"learnToolsVersion\": \"0.3.4\", \"failureMessage\": \"\", \"exceptionClass\": \"\", \"trace\": \"\"}}, \"*\")"
      ],
      "text/plain": [
       "<IPython.core.display.Javascript object>"
      ]
     },
     "metadata": {},
     "output_type": "display_data"
    },
    {
     "data": {
      "text/markdown": [
       "<span style=\"color:#33cc33\">Correct:</span> \n",
       "\n",
       "The most straightforward solution is to use a third variable to temporarily store one of the old values. e.g.:\n",
       "\n",
       "    tmp = a\n",
       "    a = b\n",
       "    b = tmp\n",
       "\n",
       "If you've read lots of Python code, you might have seen the following trick to swap two variables in one line:\n",
       "\n",
       "    a, b = b, a\n",
       "\n",
       "We'll demystify this bit of Python magic later when we talk about *tuples*."
      ],
      "text/plain": [
       "Correct: \n",
       "\n",
       "The most straightforward solution is to use a third variable to temporarily store one of the old values. e.g.:\n",
       "\n",
       "    tmp = a\n",
       "    a = b\n",
       "    b = tmp\n",
       "\n",
       "If you've read lots of Python code, you might have seen the following trick to swap two variables in one line:\n",
       "\n",
       "    a, b = b, a\n",
       "\n",
       "We'll demystify this bit of Python magic later when we talk about *tuples*."
      ]
     },
     "metadata": {},
     "output_type": "display_data"
    }
   ],
   "source": [
    "########### Setup code - don't touch this part ######################\n",
    "# If you're curious, these are examples of lists. We'll talk about \n",
    "# them in depth a few lessons from now. For now, just know that they're\n",
    "# yet another type of Python object, like int or float.\n",
    "a = [1, 2, 3]\n",
    "b = [3, 2, 1]\n",
    "q2.store_original_ids()\n",
    "######################################################################\n",
    "\n",
    "# Your code goes here. Swap the values to which a and b refer.\n",
    "# If you get stuck, you can always uncomment one or both of the lines in\n",
    "# the next cell for a hint, or to peek at the solution.\n",
    "\n",
    "######################################################################\n",
    "a1=b\n",
    "b=a\n",
    "a=a1\n",
    "\n",
    "# Check your answer\n",
    "q2.check()"
   ]
  },
  {
   "cell_type": "code",
   "execution_count": 8,
   "id": "16b770c0",
   "metadata": {
    "execution": {
     "iopub.execute_input": "2024-02-19T06:24:49.187010Z",
     "iopub.status.busy": "2024-02-19T06:24:49.186324Z",
     "iopub.status.idle": "2024-02-19T06:24:49.191135Z",
     "shell.execute_reply": "2024-02-19T06:24:49.190222Z"
    },
    "papermill": {
     "duration": 0.016449,
     "end_time": "2024-02-19T06:24:49.193372",
     "exception": false,
     "start_time": "2024-02-19T06:24:49.176923",
     "status": "completed"
    },
    "tags": []
   },
   "outputs": [],
   "source": [
    "#q2.hint()"
   ]
  },
  {
   "cell_type": "code",
   "execution_count": 9,
   "id": "5f7c57be",
   "metadata": {
    "execution": {
     "iopub.execute_input": "2024-02-19T06:24:49.211005Z",
     "iopub.status.busy": "2024-02-19T06:24:49.210605Z",
     "iopub.status.idle": "2024-02-19T06:24:49.214870Z",
     "shell.execute_reply": "2024-02-19T06:24:49.214069Z"
    },
    "papermill": {
     "duration": 0.015797,
     "end_time": "2024-02-19T06:24:49.217102",
     "exception": false,
     "start_time": "2024-02-19T06:24:49.201305",
     "status": "completed"
    },
    "tags": []
   },
   "outputs": [],
   "source": [
    "#q2.solution()"
   ]
  },
  {
   "cell_type": "markdown",
   "id": "f5cc1250",
   "metadata": {
    "papermill": {
     "duration": 0.007588,
     "end_time": "2024-02-19T06:24:49.232806",
     "exception": false,
     "start_time": "2024-02-19T06:24:49.225218",
     "status": "completed"
    },
    "tags": []
   },
   "source": [
    "<hr/>\n",
    "\n",
    "# 3a.\n",
    "\n",
    "Add parentheses to the following expression so that it evaluates to 1."
   ]
  },
  {
   "cell_type": "code",
   "execution_count": 10,
   "id": "911062a5",
   "metadata": {
    "execution": {
     "iopub.execute_input": "2024-02-19T06:24:49.250741Z",
     "iopub.status.busy": "2024-02-19T06:24:49.250010Z",
     "iopub.status.idle": "2024-02-19T06:24:49.256818Z",
     "shell.execute_reply": "2024-02-19T06:24:49.255772Z"
    },
    "papermill": {
     "duration": 0.018335,
     "end_time": "2024-02-19T06:24:49.258990",
     "exception": false,
     "start_time": "2024-02-19T06:24:49.240655",
     "status": "completed"
    },
    "tags": []
   },
   "outputs": [
    {
     "data": {
      "text/plain": [
       "1"
      ]
     },
     "execution_count": 10,
     "metadata": {},
     "output_type": "execute_result"
    }
   ],
   "source": [
    "(5 - 3) // 2"
   ]
  },
  {
   "cell_type": "code",
   "execution_count": 11,
   "id": "82f33fb5",
   "metadata": {
    "execution": {
     "iopub.execute_input": "2024-02-19T06:24:49.276993Z",
     "iopub.status.busy": "2024-02-19T06:24:49.276238Z",
     "iopub.status.idle": "2024-02-19T06:24:49.280569Z",
     "shell.execute_reply": "2024-02-19T06:24:49.279829Z"
    },
    "papermill": {
     "duration": 0.015668,
     "end_time": "2024-02-19T06:24:49.282617",
     "exception": false,
     "start_time": "2024-02-19T06:24:49.266949",
     "status": "completed"
    },
    "tags": []
   },
   "outputs": [],
   "source": [
    "#q3.a.hint()"
   ]
  },
  {
   "cell_type": "code",
   "execution_count": 12,
   "id": "9aace32d",
   "metadata": {
    "execution": {
     "iopub.execute_input": "2024-02-19T06:24:49.301009Z",
     "iopub.status.busy": "2024-02-19T06:24:49.300275Z",
     "iopub.status.idle": "2024-02-19T06:24:49.308961Z",
     "shell.execute_reply": "2024-02-19T06:24:49.307968Z"
    },
    "papermill": {
     "duration": 0.02029,
     "end_time": "2024-02-19T06:24:49.311030",
     "exception": false,
     "start_time": "2024-02-19T06:24:49.290740",
     "status": "completed"
    },
    "tags": []
   },
   "outputs": [
    {
     "data": {
      "application/javascript": [
       "parent.postMessage({\"jupyterEvent\": \"custom.exercise_interaction\", \"data\": {\"interactionType\": 3, \"questionType\": 4, \"questionId\": \"3.1_ArithmeticParensEasy\", \"learnToolsVersion\": \"0.3.4\", \"valueTowardsCompletion\": 0.0, \"failureMessage\": \"\", \"exceptionClass\": \"\", \"trace\": \"\", \"outcomeType\": 4}}, \"*\")"
      ],
      "text/plain": [
       "<IPython.core.display.Javascript object>"
      ]
     },
     "metadata": {},
     "output_type": "display_data"
    },
    {
     "data": {
      "text/markdown": [
       "<span style=\"color:#33cc99\">Solution:</span> \n",
       "```python\n",
       "(5 - 3) // 2\n",
       "```"
      ],
      "text/plain": [
       "Solution: \n",
       "```python\n",
       "(5 - 3) // 2\n",
       "```"
      ]
     },
     "metadata": {},
     "output_type": "display_data"
    }
   ],
   "source": [
    "# Check your answer (Run this code cell to receive credit!)\n",
    "q3.a.solution()"
   ]
  },
  {
   "cell_type": "markdown",
   "id": "5626004c",
   "metadata": {
    "papermill": {
     "duration": 0.00844,
     "end_time": "2024-02-19T06:24:49.329782",
     "exception": false,
     "start_time": "2024-02-19T06:24:49.321342",
     "status": "completed"
    },
    "tags": []
   },
   "source": [
    "# 3b.  <span title=\"A bit spicy\" style=\"color: darkgreen \">🌶️</span>\n",
    "\n",
    "<small>Questions, like this one, marked a spicy pepper are a bit harder.</small>\n",
    "\n",
    "Add parentheses to the following expression so that it evaluates to 0."
   ]
  },
  {
   "cell_type": "code",
   "execution_count": 13,
   "id": "f7f5862a",
   "metadata": {
    "execution": {
     "iopub.execute_input": "2024-02-19T06:24:49.348916Z",
     "iopub.status.busy": "2024-02-19T06:24:49.348514Z",
     "iopub.status.idle": "2024-02-19T06:24:49.354987Z",
     "shell.execute_reply": "2024-02-19T06:24:49.353824Z"
    },
    "papermill": {
     "duration": 0.019148,
     "end_time": "2024-02-19T06:24:49.357776",
     "exception": false,
     "start_time": "2024-02-19T06:24:49.338628",
     "status": "completed"
    },
    "tags": []
   },
   "outputs": [
    {
     "data": {
      "text/plain": [
       "0"
      ]
     },
     "execution_count": 13,
     "metadata": {},
     "output_type": "execute_result"
    }
   ],
   "source": [
    "(8 - 3) * (2 - (1 + 1))"
   ]
  },
  {
   "cell_type": "code",
   "execution_count": 14,
   "id": "e6269870",
   "metadata": {
    "execution": {
     "iopub.execute_input": "2024-02-19T06:24:49.377283Z",
     "iopub.status.busy": "2024-02-19T06:24:49.376898Z",
     "iopub.status.idle": "2024-02-19T06:24:49.381040Z",
     "shell.execute_reply": "2024-02-19T06:24:49.379847Z"
    },
    "papermill": {
     "duration": 0.016558,
     "end_time": "2024-02-19T06:24:49.383159",
     "exception": false,
     "start_time": "2024-02-19T06:24:49.366601",
     "status": "completed"
    },
    "tags": []
   },
   "outputs": [],
   "source": [
    "#q3.b.hint()"
   ]
  },
  {
   "cell_type": "code",
   "execution_count": 15,
   "id": "6a294dd9",
   "metadata": {
    "execution": {
     "iopub.execute_input": "2024-02-19T06:24:49.402426Z",
     "iopub.status.busy": "2024-02-19T06:24:49.401828Z",
     "iopub.status.idle": "2024-02-19T06:24:49.409227Z",
     "shell.execute_reply": "2024-02-19T06:24:49.408149Z"
    },
    "papermill": {
     "duration": 0.019626,
     "end_time": "2024-02-19T06:24:49.411339",
     "exception": false,
     "start_time": "2024-02-19T06:24:49.391713",
     "status": "completed"
    },
    "tags": []
   },
   "outputs": [
    {
     "data": {
      "application/javascript": [
       "parent.postMessage({\"jupyterEvent\": \"custom.exercise_interaction\", \"data\": {\"interactionType\": 3, \"questionType\": 4, \"questionId\": \"3.2_ArithmeticParensHard\", \"learnToolsVersion\": \"0.3.4\", \"valueTowardsCompletion\": 0.0, \"failureMessage\": \"\", \"exceptionClass\": \"\", \"trace\": \"\", \"outcomeType\": 4}}, \"*\")"
      ],
      "text/plain": [
       "<IPython.core.display.Javascript object>"
      ]
     },
     "metadata": {},
     "output_type": "display_data"
    },
    {
     "data": {
      "text/markdown": [
       "<span style=\"color:#33cc99\">Solution:</span> `(8 - 3) * (2 - (1 + 1))` is one solution. There may be others."
      ],
      "text/plain": [
       "Solution: `(8 - 3) * (2 - (1 + 1))` is one solution. There may be others."
      ]
     },
     "metadata": {},
     "output_type": "display_data"
    }
   ],
   "source": [
    "# Check your answer (Run this code cell to receive credit!)\n",
    "q3.b.solution()"
   ]
  },
  {
   "cell_type": "markdown",
   "id": "456fb54c",
   "metadata": {
    "papermill": {
     "duration": 0.008482,
     "end_time": "2024-02-19T06:24:49.428697",
     "exception": false,
     "start_time": "2024-02-19T06:24:49.420215",
     "status": "completed"
    },
    "tags": []
   },
   "source": [
    "<hr/>\n",
    "\n",
    "# 4. \n",
    "Alice, Bob and Carol have agreed to pool their Halloween candy and split it evenly among themselves.\n",
    "For the sake of their friendship, any candies left over will be smashed. For example, if they collectively\n",
    "bring home 91 candies, they'll take 30 each and smash 1.\n",
    "\n",
    "Write an arithmetic expression below to calculate how many candies they must smash for a given haul."
   ]
  },
  {
   "cell_type": "code",
   "execution_count": 16,
   "id": "97947485",
   "metadata": {
    "execution": {
     "iopub.execute_input": "2024-02-19T06:24:49.448827Z",
     "iopub.status.busy": "2024-02-19T06:24:49.448108Z",
     "iopub.status.idle": "2024-02-19T06:24:49.457673Z",
     "shell.execute_reply": "2024-02-19T06:24:49.456596Z"
    },
    "papermill": {
     "duration": 0.022443,
     "end_time": "2024-02-19T06:24:49.460014",
     "exception": false,
     "start_time": "2024-02-19T06:24:49.437571",
     "status": "completed"
    },
    "tags": []
   },
   "outputs": [
    {
     "data": {
      "application/javascript": [
       "parent.postMessage({\"jupyterEvent\": \"custom.exercise_interaction\", \"data\": {\"outcomeType\": 1, \"valueTowardsCompletion\": 0.25, \"interactionType\": 1, \"questionType\": 1, \"questionId\": \"4_CandySplitting\", \"learnToolsVersion\": \"0.3.4\", \"failureMessage\": \"\", \"exceptionClass\": \"\", \"trace\": \"\"}}, \"*\")"
      ],
      "text/plain": [
       "<IPython.core.display.Javascript object>"
      ]
     },
     "metadata": {},
     "output_type": "display_data"
    },
    {
     "data": {
      "text/markdown": [
       "<span style=\"color:#33cc33\">Correct</span>"
      ],
      "text/plain": [
       "Correct"
      ]
     },
     "metadata": {},
     "output_type": "display_data"
    }
   ],
   "source": [
    "# Variables representing the number of candies collected by alice, bob, and carol\n",
    "alice_candies = 121\n",
    "bob_candies = 77\n",
    "carol_candies = 109\n",
    "\n",
    "# Your code goes here! Replace the right-hand side of this assignment with an expression\n",
    "# involving alice_candies, bob_candies, and carol_candies\n",
    "to_smash = (alice_candies+bob_candies+carol_candies)%3\n",
    "\n",
    "# Check your answer\n",
    "q4.check()"
   ]
  },
  {
   "cell_type": "code",
   "execution_count": 17,
   "id": "62051a12",
   "metadata": {
    "execution": {
     "iopub.execute_input": "2024-02-19T06:24:49.480126Z",
     "iopub.status.busy": "2024-02-19T06:24:49.479491Z",
     "iopub.status.idle": "2024-02-19T06:24:49.483609Z",
     "shell.execute_reply": "2024-02-19T06:24:49.482840Z"
    },
    "papermill": {
     "duration": 0.016634,
     "end_time": "2024-02-19T06:24:49.485643",
     "exception": false,
     "start_time": "2024-02-19T06:24:49.469009",
     "status": "completed"
    },
    "tags": []
   },
   "outputs": [],
   "source": [
    "#q4.hint()\n",
    "#q4.solution()"
   ]
  },
  {
   "cell_type": "markdown",
   "id": "2792d860",
   "metadata": {
    "papermill": {
     "duration": 0.008797,
     "end_time": "2024-02-19T06:24:49.503533",
     "exception": false,
     "start_time": "2024-02-19T06:24:49.494736",
     "status": "completed"
    },
    "tags": []
   },
   "source": [
    "# Keep Going\n",
    "\n",
    "Next up, you'll **[learn to write new functions and understand functions others write](https://www.kaggle.com/colinmorris/functions-and-getting-help)**. This will make you at least 10 times more productive as a Python programmer. "
   ]
  },
  {
   "cell_type": "markdown",
   "id": "577f80e0",
   "metadata": {
    "papermill": {
     "duration": 0.008692,
     "end_time": "2024-02-19T06:24:49.521145",
     "exception": false,
     "start_time": "2024-02-19T06:24:49.512453",
     "status": "completed"
    },
    "tags": []
   },
   "source": [
    "---\n",
    "\n",
    "\n",
    "\n",
    "\n",
    "*Have questions or comments? Visit the [course discussion forum](https://www.kaggle.com/learn/python/discussion) to chat with other learners.*"
   ]
  }
 ],
 "metadata": {
  "kaggle": {
   "accelerator": "none",
   "dataSources": [],
   "isGpuEnabled": false,
   "isInternetEnabled": false,
   "language": "python",
   "sourceType": "notebook"
  },
  "kernelspec": {
   "display_name": "Python 3",
   "language": "python",
   "name": "python3"
  },
  "language_info": {
   "codemirror_mode": {
    "name": "ipython",
    "version": 3
   },
   "file_extension": ".py",
   "mimetype": "text/x-python",
   "name": "python",
   "nbconvert_exporter": "python",
   "pygments_lexer": "ipython3",
   "version": "3.10.13"
  },
  "learntools_metadata": {
   "lesson_index": 0,
   "type": "exercise"
  },
  "papermill": {
   "default_parameters": {},
   "duration": 4.970431,
   "end_time": "2024-02-19T06:24:49.949706",
   "environment_variables": {},
   "exception": null,
   "input_path": "__notebook__.ipynb",
   "output_path": "__notebook__.ipynb",
   "parameters": {},
   "start_time": "2024-02-19T06:24:44.979275",
   "version": "2.5.0"
  }
 },
 "nbformat": 4,
 "nbformat_minor": 5
}
