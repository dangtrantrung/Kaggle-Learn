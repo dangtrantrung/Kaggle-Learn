{
 "cells": [
  {
   "cell_type": "markdown",
   "id": "ba4b7faf",
   "metadata": {
    "papermill": {
     "duration": 0.006797,
     "end_time": "2024-02-19T07:01:56.477900",
     "exception": false,
     "start_time": "2024-02-19T07:01:56.471103",
     "status": "completed"
    },
    "tags": []
   },
   "source": [
    "**This notebook is an exercise in the [Python](https://www.kaggle.com/learn/python) course.  You can reference the tutorial at [this link](https://www.kaggle.com/colinmorris/functions-and-getting-help).**\n",
    "\n",
    "---\n"
   ]
  },
  {
   "cell_type": "markdown",
   "id": "e1c9829c",
   "metadata": {
    "papermill": {
     "duration": 0.006038,
     "end_time": "2024-02-19T07:01:56.490682",
     "exception": false,
     "start_time": "2024-02-19T07:01:56.484644",
     "status": "completed"
    },
    "tags": []
   },
   "source": [
    "Functions are powerful. Try writing some yourself.\n",
    "\n",
    "As before, don't forget to run the setup code below before jumping into question 1."
   ]
  },
  {
   "cell_type": "code",
   "execution_count": 1,
   "id": "48764ca7",
   "metadata": {
    "_kg_hide-input": true,
    "_kg_hide-output": true,
    "execution": {
     "iopub.execute_input": "2024-02-19T07:01:56.505852Z",
     "iopub.status.busy": "2024-02-19T07:01:56.505495Z",
     "iopub.status.idle": "2024-02-19T07:01:57.570734Z",
     "shell.execute_reply": "2024-02-19T07:01:57.569479Z"
    },
    "papermill": {
     "duration": 1.075974,
     "end_time": "2024-02-19T07:01:57.573488",
     "exception": false,
     "start_time": "2024-02-19T07:01:56.497514",
     "status": "completed"
    },
    "tags": []
   },
   "outputs": [
    {
     "name": "stdout",
     "output_type": "stream",
     "text": [
      "Setup complete.\n"
     ]
    }
   ],
   "source": [
    "# SETUP. You don't need to worry for now about what this code does or how it works.\n",
    "from learntools.core import binder; binder.bind(globals())\n",
    "from learntools.python.ex2 import *\n",
    "print('Setup complete.')"
   ]
  },
  {
   "cell_type": "markdown",
   "id": "fc1b49ca",
   "metadata": {
    "papermill": {
     "duration": 0.006233,
     "end_time": "2024-02-19T07:01:57.586275",
     "exception": false,
     "start_time": "2024-02-19T07:01:57.580042",
     "status": "completed"
    },
    "tags": []
   },
   "source": [
    "# 1.\n",
    "\n",
    "Complete the body of the following function according to its docstring.\n",
    "\n",
    "HINT: Python has a built-in function `round`."
   ]
  },
  {
   "cell_type": "code",
   "execution_count": 2,
   "id": "bdf04060",
   "metadata": {
    "execution": {
     "iopub.execute_input": "2024-02-19T07:01:57.601657Z",
     "iopub.status.busy": "2024-02-19T07:01:57.601108Z",
     "iopub.status.idle": "2024-02-19T07:01:57.612725Z",
     "shell.execute_reply": "2024-02-19T07:01:57.611637Z"
    },
    "papermill": {
     "duration": 0.021822,
     "end_time": "2024-02-19T07:01:57.615127",
     "exception": false,
     "start_time": "2024-02-19T07:01:57.593305",
     "status": "completed"
    },
    "tags": []
   },
   "outputs": [
    {
     "data": {
      "application/javascript": [
       "parent.postMessage({\"jupyterEvent\": \"custom.exercise_interaction\", \"data\": {\"outcomeType\": 1, \"valueTowardsCompletion\": 0.16666666666666666, \"interactionType\": 1, \"questionType\": 2, \"questionId\": \"1_RoundFunctionProblem\", \"learnToolsVersion\": \"0.3.4\", \"failureMessage\": \"\", \"exceptionClass\": \"\", \"trace\": \"\"}}, \"*\")"
      ],
      "text/plain": [
       "<IPython.core.display.Javascript object>"
      ]
     },
     "metadata": {},
     "output_type": "display_data"
    },
    {
     "data": {
      "text/markdown": [
       "<span style=\"color:#33cc33\">Correct</span>"
      ],
      "text/plain": [
       "Correct"
      ]
     },
     "metadata": {},
     "output_type": "display_data"
    }
   ],
   "source": [
    "def round_to_two_places(num):\n",
    "    \"\"\"Return the given number rounded to two decimal places. \n",
    "    \n",
    "    >>> round_to_two_places(3.14159)\n",
    "    3.14\n",
    "    \"\"\"\n",
    "    # Replace this body with your own code.\n",
    "    # (\"pass\" is a keyword that does literally nothing. We used it as a placeholder\n",
    "    # because after we begin a code block, Python requires at least one line of code)\n",
    "    return round(num,2)\n",
    "\n",
    "# Check your answer\n",
    "q1.check()"
   ]
  },
  {
   "cell_type": "code",
   "execution_count": 3,
   "id": "245e36a7",
   "metadata": {
    "execution": {
     "iopub.execute_input": "2024-02-19T07:01:57.630681Z",
     "iopub.status.busy": "2024-02-19T07:01:57.630255Z",
     "iopub.status.idle": "2024-02-19T07:01:57.643512Z",
     "shell.execute_reply": "2024-02-19T07:01:57.642316Z"
    },
    "papermill": {
     "duration": 0.023786,
     "end_time": "2024-02-19T07:01:57.645738",
     "exception": false,
     "start_time": "2024-02-19T07:01:57.621952",
     "status": "completed"
    },
    "tags": []
   },
   "outputs": [
    {
     "data": {
      "application/javascript": [
       "parent.postMessage({\"jupyterEvent\": \"custom.exercise_interaction\", \"data\": {\"interactionType\": 2, \"questionType\": 2, \"questionId\": \"1_RoundFunctionProblem\", \"learnToolsVersion\": \"0.3.4\", \"valueTowardsCompletion\": 0.0, \"failureMessage\": \"\", \"exceptionClass\": \"\", \"trace\": \"\", \"outcomeType\": 4}}, \"*\")"
      ],
      "text/plain": [
       "<IPython.core.display.Javascript object>"
      ]
     },
     "metadata": {},
     "output_type": "display_data"
    },
    {
     "data": {
      "text/markdown": [
       "<span style=\"color:#3366cc\">Hint:</span> Run `help(round)` in the console (or in a code cell) to learn more about the round function. You'll need to use the function's optional second argument."
      ],
      "text/plain": [
       "Hint: Run `help(round)` in the console (or in a code cell) to learn more about the round function. You'll need to use the function's optional second argument."
      ]
     },
     "metadata": {},
     "output_type": "display_data"
    },
    {
     "data": {
      "application/javascript": [
       "parent.postMessage({\"jupyterEvent\": \"custom.exercise_interaction\", \"data\": {\"interactionType\": 3, \"questionType\": 2, \"questionId\": \"1_RoundFunctionProblem\", \"learnToolsVersion\": \"0.3.4\", \"valueTowardsCompletion\": 0.0, \"failureMessage\": \"\", \"exceptionClass\": \"\", \"trace\": \"\", \"outcomeType\": 4}}, \"*\")"
      ],
      "text/plain": [
       "<IPython.core.display.Javascript object>"
      ]
     },
     "metadata": {},
     "output_type": "display_data"
    },
    {
     "data": {
      "text/markdown": [
       "<span style=\"color:#33cc99\">Solution:</span> \n",
       "```python\n",
       "return round(num, 2)\n",
       "```"
      ],
      "text/plain": [
       "Solution: \n",
       "```python\n",
       "return round(num, 2)\n",
       "```"
      ]
     },
     "metadata": {},
     "output_type": "display_data"
    }
   ],
   "source": [
    "# Uncomment the following for a hint\n",
    "q1.hint()\n",
    "# Or uncomment the following to peek at the solution\n",
    "q1.solution()"
   ]
  },
  {
   "cell_type": "markdown",
   "id": "f72a907f",
   "metadata": {
    "papermill": {
     "duration": 0.007157,
     "end_time": "2024-02-19T07:01:57.660489",
     "exception": false,
     "start_time": "2024-02-19T07:01:57.653332",
     "status": "completed"
    },
    "tags": []
   },
   "source": [
    "# 2.\n",
    "The help for `round` says that `ndigits` (the second argument) may be negative.\n",
    "What do you think will happen when it is? Try some examples in the following cell."
   ]
  },
  {
   "cell_type": "code",
   "execution_count": 4,
   "id": "9f3e4afb",
   "metadata": {
    "execution": {
     "iopub.execute_input": "2024-02-19T07:01:57.678209Z",
     "iopub.status.busy": "2024-02-19T07:01:57.677813Z",
     "iopub.status.idle": "2024-02-19T07:01:57.687890Z",
     "shell.execute_reply": "2024-02-19T07:01:57.686408Z"
    },
    "papermill": {
     "duration": 0.022141,
     "end_time": "2024-02-19T07:01:57.690032",
     "exception": false,
     "start_time": "2024-02-19T07:01:57.667891",
     "status": "completed"
    },
    "tags": []
   },
   "outputs": [
    {
     "name": "stdout",
     "output_type": "stream",
     "text": [
      "Help on built-in function round in module builtins:\n",
      "\n",
      "round(number, ndigits=None)\n",
      "    Round a number to a given precision in decimal digits.\n",
      "    \n",
      "    The return value is an integer if ndigits is omitted or None.  Otherwise\n",
      "    the return value has the same type as the number.  ndigits may be negative.\n",
      "\n",
      "0.0\n",
      "0.0\n",
      "338000\n",
      "2166000\n",
      "2170000\n",
      "2200000\n",
      "2000000\n",
      "0\n",
      "0\n",
      "2166100\n",
      "2166090\n"
     ]
    }
   ],
   "source": [
    "# Put your test code here\n",
    "help(round)\n",
    "print(round(3.14159,-1))\n",
    "print(round(3.14159,-2))\n",
    "print(round(338424,-3))\n",
    "print(round(2166086,-3))\n",
    "print(round(2166086,-4))\n",
    "print(round(2166086,-5))\n",
    "print(round(2166086,-6))\n",
    "print(round(2166086,-7))\n",
    "print(round(2166086,-8))\n",
    "\n",
    "\n",
    "\n",
    "\n",
    "print(round(2166086,-2))\n",
    "print(round(2166086,-1))\n",
    "\n",
    "\n",
    "\n"
   ]
  },
  {
   "cell_type": "markdown",
   "id": "481ad47d",
   "metadata": {
    "papermill": {
     "duration": 0.007347,
     "end_time": "2024-02-19T07:01:57.705029",
     "exception": false,
     "start_time": "2024-02-19T07:01:57.697682",
     "status": "completed"
    },
    "tags": []
   },
   "source": [
    "Can you think of a case where this would be useful?  Once you're ready, run the code cell below to see the answer and to receive credit for completing the problem."
   ]
  },
  {
   "cell_type": "code",
   "execution_count": 5,
   "id": "1e5e0491",
   "metadata": {
    "execution": {
     "iopub.execute_input": "2024-02-19T07:01:57.722593Z",
     "iopub.status.busy": "2024-02-19T07:01:57.722200Z",
     "iopub.status.idle": "2024-02-19T07:01:57.731710Z",
     "shell.execute_reply": "2024-02-19T07:01:57.730281Z"
    },
    "papermill": {
     "duration": 0.02124,
     "end_time": "2024-02-19T07:01:57.733991",
     "exception": false,
     "start_time": "2024-02-19T07:01:57.712751",
     "status": "completed"
    },
    "tags": []
   },
   "outputs": [
    {
     "data": {
      "application/javascript": [
       "parent.postMessage({\"jupyterEvent\": \"custom.exercise_interaction\", \"data\": {\"interactionType\": 3, \"questionType\": 4, \"questionId\": \"2_RoundNdigitsProblem\", \"learnToolsVersion\": \"0.3.4\", \"valueTowardsCompletion\": 0.0, \"failureMessage\": \"\", \"exceptionClass\": \"\", \"trace\": \"\", \"outcomeType\": 4}}, \"*\")"
      ],
      "text/plain": [
       "<IPython.core.display.Javascript object>"
      ]
     },
     "metadata": {},
     "output_type": "display_data"
    },
    {
     "data": {
      "text/markdown": [
       "<span style=\"color:#33cc99\">Solution:</span> As you've seen, `ndigits=-1` rounds to the nearest 10, `ndigits=-2` rounds to the nearest 100 and so on. Where might this be useful? Suppose we're dealing with large numbers:\n",
       "\n",
       "> The area of Finland is 338,424 km²  \n",
       "> The area of Greenland is 2,166,086 km²\n",
       "\n",
       "We probably don't care whether it's really 338,424, or 338,425, or 338,177. All those digits of accuracy are just distracting. We can chop them off by calling `round()` with `ndigits=-3`:\n",
       "\n",
       "> The area of Finland is 338,000 km²  \n",
       "> The area of Greenland is 2,166,000 km²\n",
       "\n",
       "(We'll talk about how we would get the commas later when we talk about string formatting :))\n"
      ],
      "text/plain": [
       "Solution: As you've seen, `ndigits=-1` rounds to the nearest 10, `ndigits=-2` rounds to the nearest 100 and so on. Where might this be useful? Suppose we're dealing with large numbers:\n",
       "\n",
       "> The area of Finland is 338,424 km²  \n",
       "> The area of Greenland is 2,166,086 km²\n",
       "\n",
       "We probably don't care whether it's really 338,424, or 338,425, or 338,177. All those digits of accuracy are just distracting. We can chop them off by calling `round()` with `ndigits=-3`:\n",
       "\n",
       "> The area of Finland is 338,000 km²  \n",
       "> The area of Greenland is 2,166,000 km²\n",
       "\n",
       "(We'll talk about how we would get the commas later when we talk about string formatting :))"
      ]
     },
     "metadata": {},
     "output_type": "display_data"
    }
   ],
   "source": [
    "# Check your answer (Run this code cell to receive credit!)\n",
    "q2.solution()"
   ]
  },
  {
   "cell_type": "markdown",
   "id": "5e90e8ea",
   "metadata": {
    "papermill": {
     "duration": 0.007841,
     "end_time": "2024-02-19T07:01:57.749921",
     "exception": false,
     "start_time": "2024-02-19T07:01:57.742080",
     "status": "completed"
    },
    "tags": []
   },
   "source": [
    "# 3.\n",
    "\n",
    "In the previous exercise, the candy-sharing friends Alice, Bob and Carol tried to split candies evenly. For the sake of their friendship, any candies left over would be smashed. For example, if they collectively bring home 91 candies, they'll take 30 each and smash 1.\n",
    "\n",
    "Below is a simple function that will calculate the number of candies to smash for *any* number of total candies.\n",
    "\n",
    "Modify it so that it optionally takes a second argument representing the number of friends the candies are being split between. If no second argument is provided, it should assume 3 friends, as before.\n",
    "\n",
    "Update the docstring to reflect this new behaviour."
   ]
  },
  {
   "cell_type": "code",
   "execution_count": 6,
   "id": "f2d580b5",
   "metadata": {
    "execution": {
     "iopub.execute_input": "2024-02-19T07:01:57.767878Z",
     "iopub.status.busy": "2024-02-19T07:01:57.767474Z",
     "iopub.status.idle": "2024-02-19T07:01:57.775952Z",
     "shell.execute_reply": "2024-02-19T07:01:57.775160Z"
    },
    "papermill": {
     "duration": 0.020102,
     "end_time": "2024-02-19T07:01:57.778015",
     "exception": false,
     "start_time": "2024-02-19T07:01:57.757913",
     "status": "completed"
    },
    "tags": []
   },
   "outputs": [
    {
     "data": {
      "application/javascript": [
       "parent.postMessage({\"jupyterEvent\": \"custom.exercise_interaction\", \"data\": {\"outcomeType\": 1, \"valueTowardsCompletion\": 0.16666666666666666, \"interactionType\": 1, \"questionType\": 2, \"questionId\": \"3_CandySmashingFunctionProblem\", \"learnToolsVersion\": \"0.3.4\", \"failureMessage\": \"\", \"exceptionClass\": \"\", \"trace\": \"\"}}, \"*\")"
      ],
      "text/plain": [
       "<IPython.core.display.Javascript object>"
      ]
     },
     "metadata": {},
     "output_type": "display_data"
    },
    {
     "data": {
      "text/markdown": [
       "<span style=\"color:#33cc33\">Correct</span>"
      ],
      "text/plain": [
       "Correct"
      ]
     },
     "metadata": {},
     "output_type": "display_data"
    }
   ],
   "source": [
    "def to_smash(total_candies,num_friends=3):\n",
    "    \"\"\"Return the number of leftover candies that must be smashed after distributing\n",
    "    the given number of candies evenly between 3 friends.\n",
    "    \n",
    "    >>> to_smash(91)\n",
    "    1\n",
    "    \"\"\"\n",
    "    return total_candies % num_friends\n",
    "\n",
    "# Check your answer\n",
    "q3.check()"
   ]
  },
  {
   "cell_type": "code",
   "execution_count": 7,
   "id": "7672af09",
   "metadata": {
    "execution": {
     "iopub.execute_input": "2024-02-19T07:01:57.796506Z",
     "iopub.status.busy": "2024-02-19T07:01:57.796086Z",
     "iopub.status.idle": "2024-02-19T07:01:57.801010Z",
     "shell.execute_reply": "2024-02-19T07:01:57.799756Z"
    },
    "papermill": {
     "duration": 0.017483,
     "end_time": "2024-02-19T07:01:57.803717",
     "exception": false,
     "start_time": "2024-02-19T07:01:57.786234",
     "status": "completed"
    },
    "tags": []
   },
   "outputs": [],
   "source": [
    "#q3.hint()"
   ]
  },
  {
   "cell_type": "code",
   "execution_count": 8,
   "id": "81a18a8d",
   "metadata": {
    "execution": {
     "iopub.execute_input": "2024-02-19T07:01:57.826179Z",
     "iopub.status.busy": "2024-02-19T07:01:57.825813Z",
     "iopub.status.idle": "2024-02-19T07:01:57.830194Z",
     "shell.execute_reply": "2024-02-19T07:01:57.829086Z"
    },
    "papermill": {
     "duration": 0.01746,
     "end_time": "2024-02-19T07:01:57.832568",
     "exception": false,
     "start_time": "2024-02-19T07:01:57.815108",
     "status": "completed"
    },
    "tags": []
   },
   "outputs": [],
   "source": [
    "#q3.solution()"
   ]
  },
  {
   "cell_type": "markdown",
   "id": "43de982c",
   "metadata": {
    "papermill": {
     "duration": 0.00807,
     "end_time": "2024-02-19T07:01:57.849697",
     "exception": false,
     "start_time": "2024-02-19T07:01:57.841627",
     "status": "completed"
    },
    "tags": []
   },
   "source": [
    "# 4. (Optional)\n",
    "\n",
    "It may not be fun, but reading and understanding error messages will be an important part of your Python career.\n",
    "\n",
    "Each code cell below contains some commented buggy code. For each cell...\n",
    "\n",
    "1. Read the code and predict what you think will happen when it's run.\n",
    "2. Then uncomment the code and run it to see what happens. (**Tip**: In the kernel editor, you can highlight several lines and press `ctrl`+`/` to toggle commenting.)\n",
    "3. Fix the code (so that it accomplishes its intended purpose without throwing an exception)\n",
    "\n",
    "<!-- TODO: should this be autochecked? Delta is probably pretty small. -->"
   ]
  },
  {
   "cell_type": "code",
   "execution_count": 9,
   "id": "6371247c",
   "metadata": {
    "execution": {
     "iopub.execute_input": "2024-02-19T07:01:57.868892Z",
     "iopub.status.busy": "2024-02-19T07:01:57.868517Z",
     "iopub.status.idle": "2024-02-19T07:01:57.875566Z",
     "shell.execute_reply": "2024-02-19T07:01:57.874451Z"
    },
    "papermill": {
     "duration": 0.019677,
     "end_time": "2024-02-19T07:01:57.878195",
     "exception": false,
     "start_time": "2024-02-19T07:01:57.858518",
     "status": "completed"
    },
    "tags": []
   },
   "outputs": [
    {
     "data": {
      "text/plain": [
       "10.0"
      ]
     },
     "execution_count": 9,
     "metadata": {},
     "output_type": "execute_result"
    }
   ],
   "source": [
    " round_to_two_places(9.9999)"
   ]
  },
  {
   "cell_type": "code",
   "execution_count": 10,
   "id": "b2cf1517",
   "metadata": {
    "execution": {
     "iopub.execute_input": "2024-02-19T07:01:57.897990Z",
     "iopub.status.busy": "2024-02-19T07:01:57.897625Z",
     "iopub.status.idle": "2024-02-19T07:01:57.903484Z",
     "shell.execute_reply": "2024-02-19T07:01:57.902036Z"
    },
    "papermill": {
     "duration": 0.019043,
     "end_time": "2024-02-19T07:01:57.905932",
     "exception": false,
     "start_time": "2024-02-19T07:01:57.886889",
     "status": "completed"
    },
    "tags": []
   },
   "outputs": [],
   "source": [
    " x = -10\n",
    " y = 5\n",
    " # Which of the two variables above has the smallest absolute value?\n",
    " smallest_abs = min(abs(x), abs(y))"
   ]
  },
  {
   "cell_type": "code",
   "execution_count": 11,
   "id": "8c4f3cf5",
   "metadata": {
    "execution": {
     "iopub.execute_input": "2024-02-19T07:01:57.925438Z",
     "iopub.status.busy": "2024-02-19T07:01:57.924998Z",
     "iopub.status.idle": "2024-02-19T07:01:57.932789Z",
     "shell.execute_reply": "2024-02-19T07:01:57.931239Z"
    },
    "papermill": {
     "duration": 0.020778,
     "end_time": "2024-02-19T07:01:57.935378",
     "exception": false,
     "start_time": "2024-02-19T07:01:57.914600",
     "status": "completed"
    },
    "tags": []
   },
   "outputs": [
    {
     "name": "stdout",
     "output_type": "stream",
     "text": [
      "5\n"
     ]
    }
   ],
   "source": [
    " def f(x):\n",
    "     y = abs(x)\n",
    "     return y\n",
    "\n",
    " print(f(5))"
   ]
  },
  {
   "cell_type": "markdown",
   "id": "ee133fc1",
   "metadata": {
    "papermill": {
     "duration": 0.008747,
     "end_time": "2024-02-19T07:01:57.953187",
     "exception": false,
     "start_time": "2024-02-19T07:01:57.944440",
     "status": "completed"
    },
    "tags": []
   },
   "source": [
    "# Keep Going\n",
    "\n",
    "Nice job with the code. Next up, you'll learn about *conditionals*, which you'll need to **[write interesting programs](https://www.kaggle.com/colinmorris/booleans-and-conditionals)**. "
   ]
  },
  {
   "cell_type": "markdown",
   "id": "1d173597",
   "metadata": {
    "papermill": {
     "duration": 0.008431,
     "end_time": "2024-02-19T07:01:57.970746",
     "exception": false,
     "start_time": "2024-02-19T07:01:57.962315",
     "status": "completed"
    },
    "tags": []
   },
   "source": [
    "---\n",
    "\n",
    "\n",
    "\n",
    "\n",
    "*Have questions or comments? Visit the [course discussion forum](https://www.kaggle.com/learn/python/discussion) to chat with other learners.*"
   ]
  }
 ],
 "metadata": {
  "kaggle": {
   "accelerator": "none",
   "dataSources": [],
   "isGpuEnabled": false,
   "isInternetEnabled": false,
   "language": "python",
   "sourceType": "notebook"
  },
  "kernelspec": {
   "display_name": "Python 3",
   "language": "python",
   "name": "python3"
  },
  "language_info": {
   "codemirror_mode": {
    "name": "ipython",
    "version": 3
   },
   "file_extension": ".py",
   "mimetype": "text/x-python",
   "name": "python",
   "nbconvert_exporter": "python",
   "pygments_lexer": "ipython3",
   "version": "3.10.13"
  },
  "learntools_metadata": {
   "lesson_index": 1,
   "type": "exercise"
  },
  "papermill": {
   "default_parameters": {},
   "duration": 5.047899,
   "end_time": "2024-02-19T07:01:58.400837",
   "environment_variables": {},
   "exception": null,
   "input_path": "__notebook__.ipynb",
   "output_path": "__notebook__.ipynb",
   "parameters": {},
   "start_time": "2024-02-19T07:01:53.352938",
   "version": "2.5.0"
  }
 },
 "nbformat": 4,
 "nbformat_minor": 5
}
