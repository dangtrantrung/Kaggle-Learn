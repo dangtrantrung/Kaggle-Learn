{
 "cells": [
  {
   "cell_type": "markdown",
   "id": "1640a301",
   "metadata": {
    "papermill": {
     "duration": 0.005532,
     "end_time": "2024-02-19T06:57:23.493669",
     "exception": false,
     "start_time": "2024-02-19T06:57:23.488137",
     "status": "completed"
    },
    "tags": []
   },
   "source": [
    "**This notebook is an exercise in the [Python](https://www.kaggle.com/learn/python) course.  You can reference the tutorial at [this link](https://www.kaggle.com/colinmorris/functions-and-getting-help).**\n",
    "\n",
    "---\n"
   ]
  },
  {
   "cell_type": "markdown",
   "id": "5bb7484c",
   "metadata": {
    "papermill": {
     "duration": 0.00376,
     "end_time": "2024-02-19T06:57:23.502159",
     "exception": false,
     "start_time": "2024-02-19T06:57:23.498399",
     "status": "completed"
    },
    "tags": []
   },
   "source": [
    "Functions are powerful. Try writing some yourself.\n",
    "\n",
    "As before, don't forget to run the setup code below before jumping into question 1."
   ]
  },
  {
   "cell_type": "code",
   "execution_count": 1,
   "id": "014f2c5e",
   "metadata": {
    "_kg_hide-input": true,
    "_kg_hide-output": true,
    "execution": {
     "iopub.execute_input": "2024-02-19T06:57:23.513066Z",
     "iopub.status.busy": "2024-02-19T06:57:23.512481Z",
     "iopub.status.idle": "2024-02-19T06:57:24.559380Z",
     "shell.execute_reply": "2024-02-19T06:57:24.558037Z"
    },
    "papermill": {
     "duration": 1.055059,
     "end_time": "2024-02-19T06:57:24.561155",
     "exception": false,
     "start_time": "2024-02-19T06:57:23.506096",
     "status": "completed"
    },
    "tags": []
   },
   "outputs": [
    {
     "name": "stdout",
     "output_type": "stream",
     "text": [
      "Setup complete.\n"
     ]
    }
   ],
   "source": [
    "# SETUP. You don't need to worry for now about what this code does or how it works.\n",
    "from learntools.core import binder; binder.bind(globals())\n",
    "from learntools.python.ex2 import *\n",
    "print('Setup complete.')"
   ]
  },
  {
   "cell_type": "markdown",
   "id": "eba86dda",
   "metadata": {
    "papermill": {
     "duration": 0.003712,
     "end_time": "2024-02-19T06:57:24.568906",
     "exception": false,
     "start_time": "2024-02-19T06:57:24.565194",
     "status": "completed"
    },
    "tags": []
   },
   "source": [
    "# 1.\n",
    "\n",
    "Complete the body of the following function according to its docstring.\n",
    "\n",
    "HINT: Python has a built-in function `round`."
   ]
  },
  {
   "cell_type": "code",
   "execution_count": 2,
   "id": "6e6209d3",
   "metadata": {
    "execution": {
     "iopub.execute_input": "2024-02-19T06:57:24.578375Z",
     "iopub.status.busy": "2024-02-19T06:57:24.577913Z",
     "iopub.status.idle": "2024-02-19T06:57:24.589585Z",
     "shell.execute_reply": "2024-02-19T06:57:24.588281Z"
    },
    "papermill": {
     "duration": 0.019006,
     "end_time": "2024-02-19T06:57:24.591774",
     "exception": false,
     "start_time": "2024-02-19T06:57:24.572768",
     "status": "completed"
    },
    "tags": []
   },
   "outputs": [
    {
     "data": {
      "application/javascript": [
       "parent.postMessage({\"jupyterEvent\": \"custom.exercise_interaction\", \"data\": {\"outcomeType\": 1, \"valueTowardsCompletion\": 0.16666666666666666, \"interactionType\": 1, \"questionType\": 2, \"questionId\": \"1_RoundFunctionProblem\", \"learnToolsVersion\": \"0.3.4\", \"failureMessage\": \"\", \"exceptionClass\": \"\", \"trace\": \"\"}}, \"*\")"
      ],
      "text/plain": [
       "<IPython.core.display.Javascript object>"
      ]
     },
     "metadata": {},
     "output_type": "display_data"
    },
    {
     "data": {
      "text/markdown": [
       "<span style=\"color:#33cc33\">Correct</span>"
      ],
      "text/plain": [
       "Correct"
      ]
     },
     "metadata": {},
     "output_type": "display_data"
    }
   ],
   "source": [
    "def round_to_two_places(num):\n",
    "    \"\"\"Return the given number rounded to two decimal places. \n",
    "    \n",
    "    >>> round_to_two_places(3.14159)\n",
    "    3.14\n",
    "    \"\"\"\n",
    "    # Replace this body with your own code.\n",
    "    # (\"pass\" is a keyword that does literally nothing. We used it as a placeholder\n",
    "    # because after we begin a code block, Python requires at least one line of code)\n",
    "    return round(num,2)\n",
    "\n",
    "# Check your answer\n",
    "q1.check()"
   ]
  },
  {
   "cell_type": "code",
   "execution_count": 3,
   "id": "b958ee9e",
   "metadata": {
    "execution": {
     "iopub.execute_input": "2024-02-19T06:57:24.601560Z",
     "iopub.status.busy": "2024-02-19T06:57:24.601263Z",
     "iopub.status.idle": "2024-02-19T06:57:24.614777Z",
     "shell.execute_reply": "2024-02-19T06:57:24.613515Z"
    },
    "papermill": {
     "duration": 0.020789,
     "end_time": "2024-02-19T06:57:24.616798",
     "exception": false,
     "start_time": "2024-02-19T06:57:24.596009",
     "status": "completed"
    },
    "tags": []
   },
   "outputs": [
    {
     "data": {
      "application/javascript": [
       "parent.postMessage({\"jupyterEvent\": \"custom.exercise_interaction\", \"data\": {\"interactionType\": 2, \"questionType\": 2, \"questionId\": \"1_RoundFunctionProblem\", \"learnToolsVersion\": \"0.3.4\", \"valueTowardsCompletion\": 0.0, \"failureMessage\": \"\", \"exceptionClass\": \"\", \"trace\": \"\", \"outcomeType\": 4}}, \"*\")"
      ],
      "text/plain": [
       "<IPython.core.display.Javascript object>"
      ]
     },
     "metadata": {},
     "output_type": "display_data"
    },
    {
     "data": {
      "text/markdown": [
       "<span style=\"color:#3366cc\">Hint:</span> Run `help(round)` in the console (or in a code cell) to learn more about the round function. You'll need to use the function's optional second argument."
      ],
      "text/plain": [
       "Hint: Run `help(round)` in the console (or in a code cell) to learn more about the round function. You'll need to use the function's optional second argument."
      ]
     },
     "metadata": {},
     "output_type": "display_data"
    },
    {
     "data": {
      "application/javascript": [
       "parent.postMessage({\"jupyterEvent\": \"custom.exercise_interaction\", \"data\": {\"interactionType\": 3, \"questionType\": 2, \"questionId\": \"1_RoundFunctionProblem\", \"learnToolsVersion\": \"0.3.4\", \"valueTowardsCompletion\": 0.0, \"failureMessage\": \"\", \"exceptionClass\": \"\", \"trace\": \"\", \"outcomeType\": 4}}, \"*\")"
      ],
      "text/plain": [
       "<IPython.core.display.Javascript object>"
      ]
     },
     "metadata": {},
     "output_type": "display_data"
    },
    {
     "data": {
      "text/markdown": [
       "<span style=\"color:#33cc99\">Solution:</span> \n",
       "```python\n",
       "return round(num, 2)\n",
       "```"
      ],
      "text/plain": [
       "Solution: \n",
       "```python\n",
       "return round(num, 2)\n",
       "```"
      ]
     },
     "metadata": {},
     "output_type": "display_data"
    }
   ],
   "source": [
    "# Uncomment the following for a hint\n",
    "q1.hint()\n",
    "# Or uncomment the following to peek at the solution\n",
    "q1.solution()"
   ]
  },
  {
   "cell_type": "markdown",
   "id": "b7d0aaee",
   "metadata": {
    "papermill": {
     "duration": 0.004476,
     "end_time": "2024-02-19T06:57:24.626032",
     "exception": false,
     "start_time": "2024-02-19T06:57:24.621556",
     "status": "completed"
    },
    "tags": []
   },
   "source": [
    "# 2.\n",
    "The help for `round` says that `ndigits` (the second argument) may be negative.\n",
    "What do you think will happen when it is? Try some examples in the following cell."
   ]
  },
  {
   "cell_type": "code",
   "execution_count": 4,
   "id": "048dcff9",
   "metadata": {
    "execution": {
     "iopub.execute_input": "2024-02-19T06:57:24.636682Z",
     "iopub.status.busy": "2024-02-19T06:57:24.636379Z",
     "iopub.status.idle": "2024-02-19T06:57:24.644276Z",
     "shell.execute_reply": "2024-02-19T06:57:24.643270Z"
    },
    "papermill": {
     "duration": 0.015354,
     "end_time": "2024-02-19T06:57:24.646061",
     "exception": false,
     "start_time": "2024-02-19T06:57:24.630707",
     "status": "completed"
    },
    "tags": []
   },
   "outputs": [
    {
     "name": "stdout",
     "output_type": "stream",
     "text": [
      "Help on built-in function round in module builtins:\n",
      "\n",
      "round(number, ndigits=None)\n",
      "    Round a number to a given precision in decimal digits.\n",
      "    \n",
      "    The return value is an integer if ndigits is omitted or None.  Otherwise\n",
      "    the return value has the same type as the number.  ndigits may be negative.\n",
      "\n",
      "0.0\n",
      "0.0\n",
      "338000\n",
      "2166000\n",
      "2170000\n",
      "2200000\n",
      "2000000\n",
      "0\n",
      "0\n",
      "2166100\n",
      "2166090\n"
     ]
    }
   ],
   "source": [
    "# Put your test code here\n",
    "help(round)\n",
    "print(round(3.14159,-1))\n",
    "print(round(3.14159,-2))\n",
    "print(round(338424,-3))\n",
    "print(round(2166086,-3))\n",
    "print(round(2166086,-4))\n",
    "print(round(2166086,-5))\n",
    "print(round(2166086,-6))\n",
    "print(round(2166086,-7))\n",
    "print(round(2166086,-8))\n",
    "\n",
    "\n",
    "\n",
    "\n",
    "print(round(2166086,-2))\n",
    "print(round(2166086,-1))\n",
    "\n",
    "\n",
    "\n"
   ]
  },
  {
   "cell_type": "markdown",
   "id": "e492f050",
   "metadata": {
    "papermill": {
     "duration": 0.004344,
     "end_time": "2024-02-19T06:57:24.655153",
     "exception": false,
     "start_time": "2024-02-19T06:57:24.650809",
     "status": "completed"
    },
    "tags": []
   },
   "source": [
    "Can you think of a case where this would be useful?  Once you're ready, run the code cell below to see the answer and to receive credit for completing the problem."
   ]
  },
  {
   "cell_type": "code",
   "execution_count": 5,
   "id": "92faca49",
   "metadata": {
    "execution": {
     "iopub.execute_input": "2024-02-19T06:57:24.665932Z",
     "iopub.status.busy": "2024-02-19T06:57:24.665627Z",
     "iopub.status.idle": "2024-02-19T06:57:24.675464Z",
     "shell.execute_reply": "2024-02-19T06:57:24.674027Z"
    },
    "papermill": {
     "duration": 0.018154,
     "end_time": "2024-02-19T06:57:24.677870",
     "exception": false,
     "start_time": "2024-02-19T06:57:24.659716",
     "status": "completed"
    },
    "tags": []
   },
   "outputs": [
    {
     "data": {
      "application/javascript": [
       "parent.postMessage({\"jupyterEvent\": \"custom.exercise_interaction\", \"data\": {\"interactionType\": 3, \"questionType\": 4, \"questionId\": \"2_RoundNdigitsProblem\", \"learnToolsVersion\": \"0.3.4\", \"valueTowardsCompletion\": 0.0, \"failureMessage\": \"\", \"exceptionClass\": \"\", \"trace\": \"\", \"outcomeType\": 4}}, \"*\")"
      ],
      "text/plain": [
       "<IPython.core.display.Javascript object>"
      ]
     },
     "metadata": {},
     "output_type": "display_data"
    },
    {
     "data": {
      "text/markdown": [
       "<span style=\"color:#33cc99\">Solution:</span> As you've seen, `ndigits=-1` rounds to the nearest 10, `ndigits=-2` rounds to the nearest 100 and so on. Where might this be useful? Suppose we're dealing with large numbers:\n",
       "\n",
       "> The area of Finland is 338,424 km²  \n",
       "> The area of Greenland is 2,166,086 km²\n",
       "\n",
       "We probably don't care whether it's really 338,424, or 338,425, or 338,177. All those digits of accuracy are just distracting. We can chop them off by calling `round()` with `ndigits=-3`:\n",
       "\n",
       "> The area of Finland is 338,000 km²  \n",
       "> The area of Greenland is 2,166,000 km²\n",
       "\n",
       "(We'll talk about how we would get the commas later when we talk about string formatting :))\n"
      ],
      "text/plain": [
       "Solution: As you've seen, `ndigits=-1` rounds to the nearest 10, `ndigits=-2` rounds to the nearest 100 and so on. Where might this be useful? Suppose we're dealing with large numbers:\n",
       "\n",
       "> The area of Finland is 338,424 km²  \n",
       "> The area of Greenland is 2,166,086 km²\n",
       "\n",
       "We probably don't care whether it's really 338,424, or 338,425, or 338,177. All those digits of accuracy are just distracting. We can chop them off by calling `round()` with `ndigits=-3`:\n",
       "\n",
       "> The area of Finland is 338,000 km²  \n",
       "> The area of Greenland is 2,166,000 km²\n",
       "\n",
       "(We'll talk about how we would get the commas later when we talk about string formatting :))"
      ]
     },
     "metadata": {},
     "output_type": "display_data"
    }
   ],
   "source": [
    "# Check your answer (Run this code cell to receive credit!)\n",
    "q2.solution()"
   ]
  },
  {
   "cell_type": "markdown",
   "id": "a700bad8",
   "metadata": {
    "papermill": {
     "duration": 0.004891,
     "end_time": "2024-02-19T06:57:24.687967",
     "exception": false,
     "start_time": "2024-02-19T06:57:24.683076",
     "status": "completed"
    },
    "tags": []
   },
   "source": [
    "# 3.\n",
    "\n",
    "In the previous exercise, the candy-sharing friends Alice, Bob and Carol tried to split candies evenly. For the sake of their friendship, any candies left over would be smashed. For example, if they collectively bring home 91 candies, they'll take 30 each and smash 1.\n",
    "\n",
    "Below is a simple function that will calculate the number of candies to smash for *any* number of total candies.\n",
    "\n",
    "Modify it so that it optionally takes a second argument representing the number of friends the candies are being split between. If no second argument is provided, it should assume 3 friends, as before.\n",
    "\n",
    "Update the docstring to reflect this new behaviour."
   ]
  },
  {
   "cell_type": "code",
   "execution_count": 6,
   "id": "c4ee579d",
   "metadata": {
    "execution": {
     "iopub.execute_input": "2024-02-19T06:57:24.699949Z",
     "iopub.status.busy": "2024-02-19T06:57:24.699641Z",
     "iopub.status.idle": "2024-02-19T06:57:24.709676Z",
     "shell.execute_reply": "2024-02-19T06:57:24.708025Z"
    },
    "papermill": {
     "duration": 0.018693,
     "end_time": "2024-02-19T06:57:24.711927",
     "exception": false,
     "start_time": "2024-02-19T06:57:24.693234",
     "status": "completed"
    },
    "tags": []
   },
   "outputs": [
    {
     "data": {
      "application/javascript": [
       "parent.postMessage({\"jupyterEvent\": \"custom.exercise_interaction\", \"data\": {\"outcomeType\": 2, \"failureMessage\": \"`to_smash` should be callable with two arguments (e.g. `to_smash(10, 2)`\", \"interactionType\": 1, \"questionType\": 2, \"questionId\": \"3_CandySmashingFunctionProblem\", \"learnToolsVersion\": \"0.3.4\", \"valueTowardsCompletion\": 0.0, \"exceptionClass\": \"\", \"trace\": \"\"}}, \"*\")"
      ],
      "text/plain": [
       "<IPython.core.display.Javascript object>"
      ]
     },
     "metadata": {},
     "output_type": "display_data"
    },
    {
     "data": {
      "text/markdown": [
       "<span style=\"color:#cc3333\">Incorrect:</span> `to_smash` should be callable with two arguments (e.g. `to_smash(10, 2)`"
      ],
      "text/plain": [
       "Incorrect: `to_smash` should be callable with two arguments (e.g. `to_smash(10, 2)`"
      ]
     },
     "metadata": {},
     "output_type": "display_data"
    }
   ],
   "source": [
    "def to_smash(total_candies):\n",
    "    \"\"\"Return the number of leftover candies that must be smashed after distributing\n",
    "    the given number of candies evenly between 3 friends.\n",
    "    \n",
    "    >>> to_smash(91)\n",
    "    1\n",
    "    \"\"\"\n",
    "    return total_candies % 3\n",
    "\n",
    "# Check your answer\n",
    "q3.check()"
   ]
  },
  {
   "cell_type": "code",
   "execution_count": 7,
   "id": "b1abde31",
   "metadata": {
    "execution": {
     "iopub.execute_input": "2024-02-19T06:57:24.724528Z",
     "iopub.status.busy": "2024-02-19T06:57:24.724216Z",
     "iopub.status.idle": "2024-02-19T06:57:24.728013Z",
     "shell.execute_reply": "2024-02-19T06:57:24.726671Z"
    },
    "papermill": {
     "duration": 0.0121,
     "end_time": "2024-02-19T06:57:24.729835",
     "exception": false,
     "start_time": "2024-02-19T06:57:24.717735",
     "status": "completed"
    },
    "tags": []
   },
   "outputs": [],
   "source": [
    "#q3.hint()"
   ]
  },
  {
   "cell_type": "code",
   "execution_count": 8,
   "id": "40f70cab",
   "metadata": {
    "execution": {
     "iopub.execute_input": "2024-02-19T06:57:24.743142Z",
     "iopub.status.busy": "2024-02-19T06:57:24.742822Z",
     "iopub.status.idle": "2024-02-19T06:57:24.748060Z",
     "shell.execute_reply": "2024-02-19T06:57:24.746261Z"
    },
    "papermill": {
     "duration": 0.015315,
     "end_time": "2024-02-19T06:57:24.750611",
     "exception": false,
     "start_time": "2024-02-19T06:57:24.735296",
     "status": "completed"
    },
    "tags": []
   },
   "outputs": [],
   "source": [
    "#q3.solution()"
   ]
  },
  {
   "cell_type": "markdown",
   "id": "c8696d0c",
   "metadata": {
    "papermill": {
     "duration": 0.00522,
     "end_time": "2024-02-19T06:57:24.761248",
     "exception": false,
     "start_time": "2024-02-19T06:57:24.756028",
     "status": "completed"
    },
    "tags": []
   },
   "source": [
    "# 4. (Optional)\n",
    "\n",
    "It may not be fun, but reading and understanding error messages will be an important part of your Python career.\n",
    "\n",
    "Each code cell below contains some commented buggy code. For each cell...\n",
    "\n",
    "1. Read the code and predict what you think will happen when it's run.\n",
    "2. Then uncomment the code and run it to see what happens. (**Tip**: In the kernel editor, you can highlight several lines and press `ctrl`+`/` to toggle commenting.)\n",
    "3. Fix the code (so that it accomplishes its intended purpose without throwing an exception)\n",
    "\n",
    "<!-- TODO: should this be autochecked? Delta is probably pretty small. -->"
   ]
  },
  {
   "cell_type": "code",
   "execution_count": 9,
   "id": "be3aa005",
   "metadata": {
    "execution": {
     "iopub.execute_input": "2024-02-19T06:57:24.773608Z",
     "iopub.status.busy": "2024-02-19T06:57:24.773300Z",
     "iopub.status.idle": "2024-02-19T06:57:24.778151Z",
     "shell.execute_reply": "2024-02-19T06:57:24.777035Z"
    },
    "papermill": {
     "duration": 0.013371,
     "end_time": "2024-02-19T06:57:24.780170",
     "exception": false,
     "start_time": "2024-02-19T06:57:24.766799",
     "status": "completed"
    },
    "tags": []
   },
   "outputs": [],
   "source": [
    "# ruound_to_two_places(9.9999)"
   ]
  },
  {
   "cell_type": "code",
   "execution_count": 10,
   "id": "aceedb55",
   "metadata": {
    "execution": {
     "iopub.execute_input": "2024-02-19T06:57:24.792877Z",
     "iopub.status.busy": "2024-02-19T06:57:24.792578Z",
     "iopub.status.idle": "2024-02-19T06:57:24.795815Z",
     "shell.execute_reply": "2024-02-19T06:57:24.794887Z"
    },
    "papermill": {
     "duration": 0.012218,
     "end_time": "2024-02-19T06:57:24.797955",
     "exception": false,
     "start_time": "2024-02-19T06:57:24.785737",
     "status": "completed"
    },
    "tags": []
   },
   "outputs": [],
   "source": [
    "# x = -10\n",
    "# y = 5\n",
    "# # Which of the two variables above has the smallest absolute value?\n",
    "# smallest_abs = min(abs(x, y))"
   ]
  },
  {
   "cell_type": "code",
   "execution_count": 11,
   "id": "76c511cd",
   "metadata": {
    "execution": {
     "iopub.execute_input": "2024-02-19T06:57:24.811685Z",
     "iopub.status.busy": "2024-02-19T06:57:24.810003Z",
     "iopub.status.idle": "2024-02-19T06:57:24.816039Z",
     "shell.execute_reply": "2024-02-19T06:57:24.814513Z"
    },
    "papermill": {
     "duration": 0.014802,
     "end_time": "2024-02-19T06:57:24.818303",
     "exception": false,
     "start_time": "2024-02-19T06:57:24.803501",
     "status": "completed"
    },
    "tags": []
   },
   "outputs": [],
   "source": [
    "# def f(x):\n",
    "#     y = abs(x)\n",
    "# return y\n",
    "\n",
    "# print(f(5))"
   ]
  },
  {
   "cell_type": "markdown",
   "id": "924d6dae",
   "metadata": {
    "papermill": {
     "duration": 0.005202,
     "end_time": "2024-02-19T06:57:24.829967",
     "exception": false,
     "start_time": "2024-02-19T06:57:24.824765",
     "status": "completed"
    },
    "tags": []
   },
   "source": [
    "# Keep Going\n",
    "\n",
    "Nice job with the code. Next up, you'll learn about *conditionals*, which you'll need to **[write interesting programs](https://www.kaggle.com/colinmorris/booleans-and-conditionals)**. "
   ]
  },
  {
   "cell_type": "markdown",
   "id": "5509af92",
   "metadata": {
    "papermill": {
     "duration": 0.006841,
     "end_time": "2024-02-19T06:57:24.843015",
     "exception": false,
     "start_time": "2024-02-19T06:57:24.836174",
     "status": "completed"
    },
    "tags": []
   },
   "source": [
    "---\n",
    "\n",
    "\n",
    "\n",
    "\n",
    "*Have questions or comments? Visit the [course discussion forum](https://www.kaggle.com/learn/python/discussion) to chat with other learners.*"
   ]
  }
 ],
 "metadata": {
  "kaggle": {
   "accelerator": "none",
   "dataSources": [],
   "isGpuEnabled": false,
   "isInternetEnabled": false,
   "language": "python",
   "sourceType": "notebook"
  },
  "kernelspec": {
   "display_name": "Python 3",
   "language": "python",
   "name": "python3"
  },
  "language_info": {
   "codemirror_mode": {
    "name": "ipython",
    "version": 3
   },
   "file_extension": ".py",
   "mimetype": "text/x-python",
   "name": "python",
   "nbconvert_exporter": "python",
   "pygments_lexer": "ipython3",
   "version": "3.10.13"
  },
  "learntools_metadata": {
   "lesson_index": 1,
   "type": "exercise"
  },
  "papermill": {
   "default_parameters": {},
   "duration": 4.51047,
   "end_time": "2024-02-19T06:57:25.372509",
   "environment_variables": {},
   "exception": null,
   "input_path": "__notebook__.ipynb",
   "output_path": "__notebook__.ipynb",
   "parameters": {},
   "start_time": "2024-02-19T06:57:20.862039",
   "version": "2.5.0"
  }
 },
 "nbformat": 4,
 "nbformat_minor": 5
}
