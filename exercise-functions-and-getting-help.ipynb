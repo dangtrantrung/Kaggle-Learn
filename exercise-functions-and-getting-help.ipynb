{
 "cells": [
  {
   "cell_type": "markdown",
   "id": "f51d24ef",
   "metadata": {
    "papermill": {
     "duration": 0.005667,
     "end_time": "2024-02-19T06:41:03.518221",
     "exception": false,
     "start_time": "2024-02-19T06:41:03.512554",
     "status": "completed"
    },
    "tags": []
   },
   "source": [
    "**This notebook is an exercise in the [Python](https://www.kaggle.com/learn/python) course.  You can reference the tutorial at [this link](https://www.kaggle.com/colinmorris/functions-and-getting-help).**\n",
    "\n",
    "---\n"
   ]
  },
  {
   "cell_type": "markdown",
   "id": "c7f25e3f",
   "metadata": {
    "papermill": {
     "duration": 0.005081,
     "end_time": "2024-02-19T06:41:03.528956",
     "exception": false,
     "start_time": "2024-02-19T06:41:03.523875",
     "status": "completed"
    },
    "tags": []
   },
   "source": [
    "Functions are powerful. Try writing some yourself.\n",
    "\n",
    "As before, don't forget to run the setup code below before jumping into question 1."
   ]
  },
  {
   "cell_type": "code",
   "execution_count": 1,
   "id": "595af5c9",
   "metadata": {
    "_kg_hide-input": true,
    "_kg_hide-output": true,
    "execution": {
     "iopub.execute_input": "2024-02-19T06:41:03.542482Z",
     "iopub.status.busy": "2024-02-19T06:41:03.541589Z",
     "iopub.status.idle": "2024-02-19T06:41:04.420903Z",
     "shell.execute_reply": "2024-02-19T06:41:04.419492Z"
    },
    "papermill": {
     "duration": 0.889269,
     "end_time": "2024-02-19T06:41:04.423659",
     "exception": false,
     "start_time": "2024-02-19T06:41:03.534390",
     "status": "completed"
    },
    "tags": []
   },
   "outputs": [
    {
     "name": "stdout",
     "output_type": "stream",
     "text": [
      "Setup complete.\n"
     ]
    }
   ],
   "source": [
    "# SETUP. You don't need to worry for now about what this code does or how it works.\n",
    "from learntools.core import binder; binder.bind(globals())\n",
    "from learntools.python.ex2 import *\n",
    "print('Setup complete.')"
   ]
  },
  {
   "cell_type": "markdown",
   "id": "be44d263",
   "metadata": {
    "papermill": {
     "duration": 0.005496,
     "end_time": "2024-02-19T06:41:04.435139",
     "exception": false,
     "start_time": "2024-02-19T06:41:04.429643",
     "status": "completed"
    },
    "tags": []
   },
   "source": [
    "# 1.\n",
    "\n",
    "Complete the body of the following function according to its docstring.\n",
    "\n",
    "HINT: Python has a built-in function `round`."
   ]
  },
  {
   "cell_type": "code",
   "execution_count": 2,
   "id": "e357822d",
   "metadata": {
    "execution": {
     "iopub.execute_input": "2024-02-19T06:41:04.448202Z",
     "iopub.status.busy": "2024-02-19T06:41:04.447685Z",
     "iopub.status.idle": "2024-02-19T06:41:04.458889Z",
     "shell.execute_reply": "2024-02-19T06:41:04.457891Z"
    },
    "papermill": {
     "duration": 0.020416,
     "end_time": "2024-02-19T06:41:04.461135",
     "exception": false,
     "start_time": "2024-02-19T06:41:04.440719",
     "status": "completed"
    },
    "tags": []
   },
   "outputs": [
    {
     "data": {
      "application/javascript": [
       "parent.postMessage({\"jupyterEvent\": \"custom.exercise_interaction\", \"data\": {\"outcomeType\": 4, \"interactionType\": 1, \"questionType\": 2, \"questionId\": \"1_RoundFunctionProblem\", \"learnToolsVersion\": \"0.3.4\", \"valueTowardsCompletion\": 0.0, \"failureMessage\": \"\", \"exceptionClass\": \"\", \"trace\": \"\"}}, \"*\")"
      ],
      "text/plain": [
       "<IPython.core.display.Javascript object>"
      ]
     },
     "metadata": {},
     "output_type": "display_data"
    },
    {
     "data": {
      "text/markdown": [
       "<span style=\"color:#ccaa33\">Check:</span> When you've updated the starter code, `check()` will tell you whether your code is correct. "
      ],
      "text/plain": [
       "Check: When you've updated the starter code, `check()` will tell you whether your code is correct. "
      ]
     },
     "metadata": {},
     "output_type": "display_data"
    }
   ],
   "source": [
    "def round_to_two_places(num):\n",
    "    \"\"\"Return the given number rounded to two decimal places. \n",
    "    \n",
    "    >>> round_to_two_places(3.14159)\n",
    "    3.14\n",
    "    \"\"\"\n",
    "    # Replace this body with your own code.\n",
    "    # (\"pass\" is a keyword that does literally nothing. We used it as a placeholder\n",
    "    # because after we begin a code block, Python requires at least one line of code)\n",
    "    pass\n",
    "\n",
    "# Check your answer\n",
    "q1.check()"
   ]
  },
  {
   "cell_type": "code",
   "execution_count": 3,
   "id": "500f05c1",
   "metadata": {
    "execution": {
     "iopub.execute_input": "2024-02-19T06:41:04.475248Z",
     "iopub.status.busy": "2024-02-19T06:41:04.474625Z",
     "iopub.status.idle": "2024-02-19T06:41:04.478927Z",
     "shell.execute_reply": "2024-02-19T06:41:04.477884Z"
    },
    "papermill": {
     "duration": 0.013987,
     "end_time": "2024-02-19T06:41:04.481209",
     "exception": false,
     "start_time": "2024-02-19T06:41:04.467222",
     "status": "completed"
    },
    "tags": []
   },
   "outputs": [],
   "source": [
    "# Uncomment the following for a hint\n",
    "#q1.hint()\n",
    "# Or uncomment the following to peek at the solution\n",
    "#q1.solution()"
   ]
  },
  {
   "cell_type": "markdown",
   "id": "4f281dc5",
   "metadata": {
    "papermill": {
     "duration": 0.005716,
     "end_time": "2024-02-19T06:41:04.492839",
     "exception": false,
     "start_time": "2024-02-19T06:41:04.487123",
     "status": "completed"
    },
    "tags": []
   },
   "source": [
    "# 2.\n",
    "The help for `round` says that `ndigits` (the second argument) may be negative.\n",
    "What do you think will happen when it is? Try some examples in the following cell."
   ]
  },
  {
   "cell_type": "code",
   "execution_count": 4,
   "id": "6ef2375c",
   "metadata": {
    "execution": {
     "iopub.execute_input": "2024-02-19T06:41:04.506503Z",
     "iopub.status.busy": "2024-02-19T06:41:04.505724Z",
     "iopub.status.idle": "2024-02-19T06:41:04.510115Z",
     "shell.execute_reply": "2024-02-19T06:41:04.509315Z"
    },
    "papermill": {
     "duration": 0.014028,
     "end_time": "2024-02-19T06:41:04.512644",
     "exception": false,
     "start_time": "2024-02-19T06:41:04.498616",
     "status": "completed"
    },
    "tags": []
   },
   "outputs": [],
   "source": [
    "# Put your test code here"
   ]
  },
  {
   "cell_type": "markdown",
   "id": "a507e28a",
   "metadata": {
    "papermill": {
     "duration": 0.005847,
     "end_time": "2024-02-19T06:41:04.524450",
     "exception": false,
     "start_time": "2024-02-19T06:41:04.518603",
     "status": "completed"
    },
    "tags": []
   },
   "source": [
    "Can you think of a case where this would be useful?  Once you're ready, run the code cell below to see the answer and to receive credit for completing the problem."
   ]
  },
  {
   "cell_type": "code",
   "execution_count": 5,
   "id": "a9661bf9",
   "metadata": {
    "execution": {
     "iopub.execute_input": "2024-02-19T06:41:04.539642Z",
     "iopub.status.busy": "2024-02-19T06:41:04.538830Z",
     "iopub.status.idle": "2024-02-19T06:41:04.547603Z",
     "shell.execute_reply": "2024-02-19T06:41:04.546453Z"
    },
    "papermill": {
     "duration": 0.018623,
     "end_time": "2024-02-19T06:41:04.549751",
     "exception": false,
     "start_time": "2024-02-19T06:41:04.531128",
     "status": "completed"
    },
    "tags": []
   },
   "outputs": [
    {
     "data": {
      "application/javascript": [
       "parent.postMessage({\"jupyterEvent\": \"custom.exercise_interaction\", \"data\": {\"interactionType\": 3, \"questionType\": 4, \"questionId\": \"2_RoundNdigitsProblem\", \"learnToolsVersion\": \"0.3.4\", \"valueTowardsCompletion\": 0.0, \"failureMessage\": \"\", \"exceptionClass\": \"\", \"trace\": \"\", \"outcomeType\": 4}}, \"*\")"
      ],
      "text/plain": [
       "<IPython.core.display.Javascript object>"
      ]
     },
     "metadata": {},
     "output_type": "display_data"
    },
    {
     "data": {
      "text/markdown": [
       "<span style=\"color:#33cc99\">Solution:</span> As you've seen, `ndigits=-1` rounds to the nearest 10, `ndigits=-2` rounds to the nearest 100 and so on. Where might this be useful? Suppose we're dealing with large numbers:\n",
       "\n",
       "> The area of Finland is 338,424 km²  \n",
       "> The area of Greenland is 2,166,086 km²\n",
       "\n",
       "We probably don't care whether it's really 338,424, or 338,425, or 338,177. All those digits of accuracy are just distracting. We can chop them off by calling `round()` with `ndigits=-3`:\n",
       "\n",
       "> The area of Finland is 338,000 km²  \n",
       "> The area of Greenland is 2,166,000 km²\n",
       "\n",
       "(We'll talk about how we would get the commas later when we talk about string formatting :))\n"
      ],
      "text/plain": [
       "Solution: As you've seen, `ndigits=-1` rounds to the nearest 10, `ndigits=-2` rounds to the nearest 100 and so on. Where might this be useful? Suppose we're dealing with large numbers:\n",
       "\n",
       "> The area of Finland is 338,424 km²  \n",
       "> The area of Greenland is 2,166,086 km²\n",
       "\n",
       "We probably don't care whether it's really 338,424, or 338,425, or 338,177. All those digits of accuracy are just distracting. We can chop them off by calling `round()` with `ndigits=-3`:\n",
       "\n",
       "> The area of Finland is 338,000 km²  \n",
       "> The area of Greenland is 2,166,000 km²\n",
       "\n",
       "(We'll talk about how we would get the commas later when we talk about string formatting :))"
      ]
     },
     "metadata": {},
     "output_type": "display_data"
    }
   ],
   "source": [
    "# Check your answer (Run this code cell to receive credit!)\n",
    "q2.solution()"
   ]
  },
  {
   "cell_type": "markdown",
   "id": "866ad546",
   "metadata": {
    "papermill": {
     "duration": 0.006501,
     "end_time": "2024-02-19T06:41:04.563044",
     "exception": false,
     "start_time": "2024-02-19T06:41:04.556543",
     "status": "completed"
    },
    "tags": []
   },
   "source": [
    "# 3.\n",
    "\n",
    "In the previous exercise, the candy-sharing friends Alice, Bob and Carol tried to split candies evenly. For the sake of their friendship, any candies left over would be smashed. For example, if they collectively bring home 91 candies, they'll take 30 each and smash 1.\n",
    "\n",
    "Below is a simple function that will calculate the number of candies to smash for *any* number of total candies.\n",
    "\n",
    "Modify it so that it optionally takes a second argument representing the number of friends the candies are being split between. If no second argument is provided, it should assume 3 friends, as before.\n",
    "\n",
    "Update the docstring to reflect this new behaviour."
   ]
  },
  {
   "cell_type": "code",
   "execution_count": 6,
   "id": "ae550df9",
   "metadata": {
    "execution": {
     "iopub.execute_input": "2024-02-19T06:41:04.578294Z",
     "iopub.status.busy": "2024-02-19T06:41:04.577624Z",
     "iopub.status.idle": "2024-02-19T06:41:04.586889Z",
     "shell.execute_reply": "2024-02-19T06:41:04.585996Z"
    },
    "papermill": {
     "duration": 0.019315,
     "end_time": "2024-02-19T06:41:04.588900",
     "exception": false,
     "start_time": "2024-02-19T06:41:04.569585",
     "status": "completed"
    },
    "tags": []
   },
   "outputs": [
    {
     "data": {
      "application/javascript": [
       "parent.postMessage({\"jupyterEvent\": \"custom.exercise_interaction\", \"data\": {\"outcomeType\": 2, \"failureMessage\": \"`to_smash` should be callable with two arguments (e.g. `to_smash(10, 2)`\", \"interactionType\": 1, \"questionType\": 2, \"questionId\": \"3_CandySmashingFunctionProblem\", \"learnToolsVersion\": \"0.3.4\", \"valueTowardsCompletion\": 0.0, \"exceptionClass\": \"\", \"trace\": \"\"}}, \"*\")"
      ],
      "text/plain": [
       "<IPython.core.display.Javascript object>"
      ]
     },
     "metadata": {},
     "output_type": "display_data"
    },
    {
     "data": {
      "text/markdown": [
       "<span style=\"color:#cc3333\">Incorrect:</span> `to_smash` should be callable with two arguments (e.g. `to_smash(10, 2)`"
      ],
      "text/plain": [
       "Incorrect: `to_smash` should be callable with two arguments (e.g. `to_smash(10, 2)`"
      ]
     },
     "metadata": {},
     "output_type": "display_data"
    }
   ],
   "source": [
    "def to_smash(total_candies):\n",
    "    \"\"\"Return the number of leftover candies that must be smashed after distributing\n",
    "    the given number of candies evenly between 3 friends.\n",
    "    \n",
    "    >>> to_smash(91)\n",
    "    1\n",
    "    \"\"\"\n",
    "    return total_candies % 3\n",
    "\n",
    "# Check your answer\n",
    "q3.check()"
   ]
  },
  {
   "cell_type": "code",
   "execution_count": 7,
   "id": "3c301e40",
   "metadata": {
    "execution": {
     "iopub.execute_input": "2024-02-19T06:41:04.605016Z",
     "iopub.status.busy": "2024-02-19T06:41:04.604383Z",
     "iopub.status.idle": "2024-02-19T06:41:04.608575Z",
     "shell.execute_reply": "2024-02-19T06:41:04.607811Z"
    },
    "papermill": {
     "duration": 0.014774,
     "end_time": "2024-02-19T06:41:04.610600",
     "exception": false,
     "start_time": "2024-02-19T06:41:04.595826",
     "status": "completed"
    },
    "tags": []
   },
   "outputs": [],
   "source": [
    "#q3.hint()"
   ]
  },
  {
   "cell_type": "code",
   "execution_count": 8,
   "id": "1cadca65",
   "metadata": {
    "execution": {
     "iopub.execute_input": "2024-02-19T06:41:04.626825Z",
     "iopub.status.busy": "2024-02-19T06:41:04.626222Z",
     "iopub.status.idle": "2024-02-19T06:41:04.630400Z",
     "shell.execute_reply": "2024-02-19T06:41:04.629612Z"
    },
    "papermill": {
     "duration": 0.014769,
     "end_time": "2024-02-19T06:41:04.632546",
     "exception": false,
     "start_time": "2024-02-19T06:41:04.617777",
     "status": "completed"
    },
    "tags": []
   },
   "outputs": [],
   "source": [
    "#q3.solution()"
   ]
  },
  {
   "cell_type": "markdown",
   "id": "79dc2c32",
   "metadata": {
    "papermill": {
     "duration": 0.006705,
     "end_time": "2024-02-19T06:41:04.646267",
     "exception": false,
     "start_time": "2024-02-19T06:41:04.639562",
     "status": "completed"
    },
    "tags": []
   },
   "source": [
    "# 4. (Optional)\n",
    "\n",
    "It may not be fun, but reading and understanding error messages will be an important part of your Python career.\n",
    "\n",
    "Each code cell below contains some commented buggy code. For each cell...\n",
    "\n",
    "1. Read the code and predict what you think will happen when it's run.\n",
    "2. Then uncomment the code and run it to see what happens. (**Tip**: In the kernel editor, you can highlight several lines and press `ctrl`+`/` to toggle commenting.)\n",
    "3. Fix the code (so that it accomplishes its intended purpose without throwing an exception)\n",
    "\n",
    "<!-- TODO: should this be autochecked? Delta is probably pretty small. -->"
   ]
  },
  {
   "cell_type": "code",
   "execution_count": 9,
   "id": "8c564df5",
   "metadata": {
    "execution": {
     "iopub.execute_input": "2024-02-19T06:41:04.663012Z",
     "iopub.status.busy": "2024-02-19T06:41:04.662372Z",
     "iopub.status.idle": "2024-02-19T06:41:04.666470Z",
     "shell.execute_reply": "2024-02-19T06:41:04.665748Z"
    },
    "papermill": {
     "duration": 0.01524,
     "end_time": "2024-02-19T06:41:04.668489",
     "exception": false,
     "start_time": "2024-02-19T06:41:04.653249",
     "status": "completed"
    },
    "tags": []
   },
   "outputs": [],
   "source": [
    "# ruound_to_two_places(9.9999)"
   ]
  },
  {
   "cell_type": "code",
   "execution_count": 10,
   "id": "5ff33f81",
   "metadata": {
    "execution": {
     "iopub.execute_input": "2024-02-19T06:41:04.684393Z",
     "iopub.status.busy": "2024-02-19T06:41:04.683802Z",
     "iopub.status.idle": "2024-02-19T06:41:04.687717Z",
     "shell.execute_reply": "2024-02-19T06:41:04.687012Z"
    },
    "papermill": {
     "duration": 0.014206,
     "end_time": "2024-02-19T06:41:04.689717",
     "exception": false,
     "start_time": "2024-02-19T06:41:04.675511",
     "status": "completed"
    },
    "tags": []
   },
   "outputs": [],
   "source": [
    "# x = -10\n",
    "# y = 5\n",
    "# # Which of the two variables above has the smallest absolute value?\n",
    "# smallest_abs = min(abs(x, y))"
   ]
  },
  {
   "cell_type": "code",
   "execution_count": 11,
   "id": "e863a326",
   "metadata": {
    "execution": {
     "iopub.execute_input": "2024-02-19T06:41:04.705564Z",
     "iopub.status.busy": "2024-02-19T06:41:04.705002Z",
     "iopub.status.idle": "2024-02-19T06:41:04.708902Z",
     "shell.execute_reply": "2024-02-19T06:41:04.708241Z"
    },
    "papermill": {
     "duration": 0.013948,
     "end_time": "2024-02-19T06:41:04.710968",
     "exception": false,
     "start_time": "2024-02-19T06:41:04.697020",
     "status": "completed"
    },
    "tags": []
   },
   "outputs": [],
   "source": [
    "# def f(x):\n",
    "#     y = abs(x)\n",
    "# return y\n",
    "\n",
    "# print(f(5))"
   ]
  },
  {
   "cell_type": "markdown",
   "id": "86639fdb",
   "metadata": {
    "papermill": {
     "duration": 0.007103,
     "end_time": "2024-02-19T06:41:04.725435",
     "exception": false,
     "start_time": "2024-02-19T06:41:04.718332",
     "status": "completed"
    },
    "tags": []
   },
   "source": [
    "# Keep Going\n",
    "\n",
    "Nice job with the code. Next up, you'll learn about *conditionals*, which you'll need to **[write interesting programs](https://www.kaggle.com/colinmorris/booleans-and-conditionals)**. "
   ]
  },
  {
   "cell_type": "markdown",
   "id": "91c3b189",
   "metadata": {
    "papermill": {
     "duration": 0.00674,
     "end_time": "2024-02-19T06:41:04.739448",
     "exception": false,
     "start_time": "2024-02-19T06:41:04.732708",
     "status": "completed"
    },
    "tags": []
   },
   "source": [
    "---\n",
    "\n",
    "\n",
    "\n",
    "\n",
    "*Have questions or comments? Visit the [course discussion forum](https://www.kaggle.com/learn/python/discussion) to chat with other learners.*"
   ]
  }
 ],
 "metadata": {
  "kaggle": {
   "accelerator": "none",
   "dataSources": [],
   "isGpuEnabled": false,
   "isInternetEnabled": false,
   "language": "python",
   "sourceType": "notebook"
  },
  "kernelspec": {
   "display_name": "Python 3",
   "language": "python",
   "name": "python3"
  },
  "language_info": {
   "codemirror_mode": {
    "name": "ipython",
    "version": 3
   },
   "file_extension": ".py",
   "mimetype": "text/x-python",
   "name": "python",
   "nbconvert_exporter": "python",
   "pygments_lexer": "ipython3",
   "version": "3.10.13"
  },
  "learntools_metadata": {
   "lesson_index": 1,
   "type": "exercise"
  },
  "papermill": {
   "default_parameters": {},
   "duration": 4.606326,
   "end_time": "2024-02-19T06:41:05.165915",
   "environment_variables": {},
   "exception": null,
   "input_path": "__notebook__.ipynb",
   "output_path": "__notebook__.ipynb",
   "parameters": {},
   "start_time": "2024-02-19T06:41:00.559589",
   "version": "2.5.0"
  }
 },
 "nbformat": 4,
 "nbformat_minor": 5
}
