{
 "cells": [
  {
   "cell_type": "markdown",
   "id": "ffa0be8b",
   "metadata": {
    "papermill": {
     "duration": 0.011709,
     "end_time": "2024-02-19T08:43:46.662710",
     "exception": false,
     "start_time": "2024-02-19T08:43:46.651001",
     "status": "completed"
    },
    "tags": []
   },
   "source": [
    "**This notebook is an exercise in the [Python](https://www.kaggle.com/learn/python) course.  You can reference the tutorial at [this link](https://www.kaggle.com/colinmorris/booleans-and-conditionals).**\n",
    "\n",
    "---\n"
   ]
  },
  {
   "cell_type": "markdown",
   "id": "2516fee6",
   "metadata": {
    "papermill": {
     "duration": 0.010802,
     "end_time": "2024-02-19T08:43:46.684801",
     "exception": false,
     "start_time": "2024-02-19T08:43:46.673999",
     "status": "completed"
    },
    "tags": []
   },
   "source": [
    "In this exercise, you'll put to work what you have learned about booleans and conditionals.\n",
    "\n",
    "To get started, **run the setup code below** before writing your own code (and if you leave this notebook and come back later, don't forget to run the setup code again)."
   ]
  },
  {
   "cell_type": "code",
   "execution_count": 1,
   "id": "ea141324",
   "metadata": {
    "execution": {
     "iopub.execute_input": "2024-02-19T08:43:46.709319Z",
     "iopub.status.busy": "2024-02-19T08:43:46.708733Z",
     "iopub.status.idle": "2024-02-19T08:43:47.854430Z",
     "shell.execute_reply": "2024-02-19T08:43:47.852706Z"
    },
    "papermill": {
     "duration": 1.16145,
     "end_time": "2024-02-19T08:43:47.857228",
     "exception": false,
     "start_time": "2024-02-19T08:43:46.695778",
     "status": "completed"
    },
    "tags": []
   },
   "outputs": [
    {
     "name": "stdout",
     "output_type": "stream",
     "text": [
      "Setup complete.\n"
     ]
    }
   ],
   "source": [
    "from learntools.core import binder; binder.bind(globals())\n",
    "from learntools.python.ex3 import *\n",
    "print('Setup complete.')"
   ]
  },
  {
   "cell_type": "markdown",
   "id": "3f7d495d",
   "metadata": {
    "papermill": {
     "duration": 0.010316,
     "end_time": "2024-02-19T08:43:47.878430",
     "exception": false,
     "start_time": "2024-02-19T08:43:47.868114",
     "status": "completed"
    },
    "tags": []
   },
   "source": [
    "# 1.\n",
    "\n",
    "Many programming languages have [`sign`](https://en.wikipedia.org/wiki/Sign_function) available as a built-in function. Python doesn't, but we can define our own!\n",
    "\n",
    "In the cell below, define a function called `sign` which takes a numerical argument and returns -1 if it's negative, 1 if it's positive, and 0 if it's 0."
   ]
  },
  {
   "cell_type": "code",
   "execution_count": 2,
   "id": "98a48390",
   "metadata": {
    "execution": {
     "iopub.execute_input": "2024-02-19T08:43:47.902313Z",
     "iopub.status.busy": "2024-02-19T08:43:47.901663Z",
     "iopub.status.idle": "2024-02-19T08:43:47.912654Z",
     "shell.execute_reply": "2024-02-19T08:43:47.911821Z"
    },
    "papermill": {
     "duration": 0.026046,
     "end_time": "2024-02-19T08:43:47.915303",
     "exception": false,
     "start_time": "2024-02-19T08:43:47.889257",
     "status": "completed"
    },
    "tags": []
   },
   "outputs": [
    {
     "data": {
      "application/javascript": [
       "parent.postMessage({\"jupyterEvent\": \"custom.exercise_interaction\", \"data\": {\"outcomeType\": 4, \"interactionType\": 1, \"questionType\": 2, \"questionId\": \"1_SignFunctionProblem\", \"learnToolsVersion\": \"0.3.4\", \"valueTowardsCompletion\": 0.0, \"failureMessage\": \"\", \"exceptionClass\": \"\", \"trace\": \"\"}}, \"*\")"
      ],
      "text/plain": [
       "<IPython.core.display.Javascript object>"
      ]
     },
     "metadata": {},
     "output_type": "display_data"
    },
    {
     "data": {
      "text/markdown": [
       "<span style=\"color:#ccaa33\">Check:</span> When you've updated the starter code, `check()` will tell you whether your code is correct. Remember, you must create the following variable: `sign`"
      ],
      "text/plain": [
       "Check: When you've updated the starter code, `check()` will tell you whether your code is correct. Remember, you must create the following variable: `sign`"
      ]
     },
     "metadata": {},
     "output_type": "display_data"
    }
   ],
   "source": [
    "# Your code goes here. Define a function called 'sign'\n",
    "\n",
    "# Check your answer\n",
    "q1.check()"
   ]
  },
  {
   "cell_type": "code",
   "execution_count": 3,
   "id": "7e1727be",
   "metadata": {
    "execution": {
     "iopub.execute_input": "2024-02-19T08:43:47.941547Z",
     "iopub.status.busy": "2024-02-19T08:43:47.940805Z",
     "iopub.status.idle": "2024-02-19T08:43:47.945681Z",
     "shell.execute_reply": "2024-02-19T08:43:47.944301Z"
    },
    "papermill": {
     "duration": 0.020963,
     "end_time": "2024-02-19T08:43:47.948417",
     "exception": false,
     "start_time": "2024-02-19T08:43:47.927454",
     "status": "completed"
    },
    "tags": []
   },
   "outputs": [],
   "source": [
    "#q1.solution()"
   ]
  },
  {
   "cell_type": "markdown",
   "id": "4fdd75e3",
   "metadata": {
    "papermill": {
     "duration": 0.01118,
     "end_time": "2024-02-19T08:43:47.971144",
     "exception": false,
     "start_time": "2024-02-19T08:43:47.959964",
     "status": "completed"
    },
    "tags": []
   },
   "source": [
    "# 2.\n",
    "\n",
    "We've decided to add \"logging\" to our `to_smash` function from the previous exercise."
   ]
  },
  {
   "cell_type": "code",
   "execution_count": 4,
   "id": "eecb037a",
   "metadata": {
    "execution": {
     "iopub.execute_input": "2024-02-19T08:43:47.997701Z",
     "iopub.status.busy": "2024-02-19T08:43:47.997268Z",
     "iopub.status.idle": "2024-02-19T08:43:48.007373Z",
     "shell.execute_reply": "2024-02-19T08:43:48.006253Z"
    },
    "papermill": {
     "duration": 0.026081,
     "end_time": "2024-02-19T08:43:48.010102",
     "exception": false,
     "start_time": "2024-02-19T08:43:47.984021",
     "status": "completed"
    },
    "tags": []
   },
   "outputs": [
    {
     "name": "stdout",
     "output_type": "stream",
     "text": [
      "Splitting 91 candies\n"
     ]
    },
    {
     "data": {
      "text/plain": [
       "1"
      ]
     },
     "execution_count": 4,
     "metadata": {},
     "output_type": "execute_result"
    }
   ],
   "source": [
    "def to_smash(total_candies):\n",
    "    \"\"\"Return the number of leftover candies that must be smashed after distributing\n",
    "    the given number of candies evenly between 3 friends.\n",
    "    \n",
    "    >>> to_smash(91)\n",
    "    1\n",
    "    \"\"\"\n",
    "    print(\"Splitting\", total_candies, \"candies\")\n",
    "    return total_candies % 3\n",
    "\n",
    "to_smash(91)"
   ]
  },
  {
   "cell_type": "markdown",
   "id": "abde0302",
   "metadata": {
    "papermill": {
     "duration": 0.011527,
     "end_time": "2024-02-19T08:43:48.034893",
     "exception": false,
     "start_time": "2024-02-19T08:43:48.023366",
     "status": "completed"
    },
    "tags": []
   },
   "source": [
    "What happens if we call it with `total_candies = 1`?"
   ]
  },
  {
   "cell_type": "code",
   "execution_count": 5,
   "id": "9717d0a1",
   "metadata": {
    "execution": {
     "iopub.execute_input": "2024-02-19T08:43:48.061701Z",
     "iopub.status.busy": "2024-02-19T08:43:48.061290Z",
     "iopub.status.idle": "2024-02-19T08:43:48.069310Z",
     "shell.execute_reply": "2024-02-19T08:43:48.067638Z"
    },
    "papermill": {
     "duration": 0.024363,
     "end_time": "2024-02-19T08:43:48.072173",
     "exception": false,
     "start_time": "2024-02-19T08:43:48.047810",
     "status": "completed"
    },
    "tags": []
   },
   "outputs": [
    {
     "name": "stdout",
     "output_type": "stream",
     "text": [
      "Splitting 1 candies\n"
     ]
    },
    {
     "data": {
      "text/plain": [
       "1"
      ]
     },
     "execution_count": 5,
     "metadata": {},
     "output_type": "execute_result"
    }
   ],
   "source": [
    "to_smash(1)"
   ]
  },
  {
   "cell_type": "markdown",
   "id": "3bd082a9",
   "metadata": {
    "papermill": {
     "duration": 0.013125,
     "end_time": "2024-02-19T08:43:48.098035",
     "exception": false,
     "start_time": "2024-02-19T08:43:48.084910",
     "status": "completed"
    },
    "tags": []
   },
   "source": [
    "That isn't great grammar!\n",
    "\n",
    "Modify the definition in the cell below to correct the grammar of our print statement. (If there's only one candy, we should use the singular \"candy\" instead of the plural \"candies\")"
   ]
  },
  {
   "cell_type": "code",
   "execution_count": 6,
   "id": "d3468700",
   "metadata": {
    "execution": {
     "iopub.execute_input": "2024-02-19T08:43:48.125288Z",
     "iopub.status.busy": "2024-02-19T08:43:48.124843Z",
     "iopub.status.idle": "2024-02-19T08:43:48.134657Z",
     "shell.execute_reply": "2024-02-19T08:43:48.133076Z"
    },
    "papermill": {
     "duration": 0.026056,
     "end_time": "2024-02-19T08:43:48.137116",
     "exception": false,
     "start_time": "2024-02-19T08:43:48.111060",
     "status": "completed"
    },
    "tags": []
   },
   "outputs": [
    {
     "name": "stdout",
     "output_type": "stream",
     "text": [
      "Splitting 91 candies\n",
      "Splitting 1 candies\n"
     ]
    },
    {
     "data": {
      "text/plain": [
       "1"
      ]
     },
     "execution_count": 6,
     "metadata": {},
     "output_type": "execute_result"
    }
   ],
   "source": [
    "def to_smash(total_candies):\n",
    "    \"\"\"Return the number of leftover candies that must be smashed after distributing\n",
    "    the given number of candies evenly between 3 friends.\n",
    "    \n",
    "    >>> to_smash(91)\n",
    "    1\n",
    "    \"\"\"\n",
    "    print(\"Splitting\", total_candies, \"candies\")\n",
    "    return total_candies % 3\n",
    "\n",
    "to_smash(91)\n",
    "to_smash(1)"
   ]
  },
  {
   "cell_type": "markdown",
   "id": "3bca9cd2",
   "metadata": {
    "papermill": {
     "duration": 0.01255,
     "end_time": "2024-02-19T08:43:48.162952",
     "exception": false,
     "start_time": "2024-02-19T08:43:48.150402",
     "status": "completed"
    },
    "tags": []
   },
   "source": [
    "To get credit for completing this problem, and to see the official answer, run the code cell below."
   ]
  },
  {
   "cell_type": "code",
   "execution_count": 7,
   "id": "28752319",
   "metadata": {
    "execution": {
     "iopub.execute_input": "2024-02-19T08:43:48.190051Z",
     "iopub.status.busy": "2024-02-19T08:43:48.189650Z",
     "iopub.status.idle": "2024-02-19T08:43:48.199834Z",
     "shell.execute_reply": "2024-02-19T08:43:48.198489Z"
    },
    "papermill": {
     "duration": 0.026892,
     "end_time": "2024-02-19T08:43:48.202368",
     "exception": false,
     "start_time": "2024-02-19T08:43:48.175476",
     "status": "completed"
    },
    "tags": []
   },
   "outputs": [
    {
     "data": {
      "application/javascript": [
       "parent.postMessage({\"jupyterEvent\": \"custom.exercise_interaction\", \"data\": {\"interactionType\": 3, \"questionType\": 4, \"questionId\": \"2_PluralizationProblem\", \"learnToolsVersion\": \"0.3.4\", \"valueTowardsCompletion\": 0.0, \"failureMessage\": \"\", \"exceptionClass\": \"\", \"trace\": \"\", \"outcomeType\": 4}}, \"*\")"
      ],
      "text/plain": [
       "<IPython.core.display.Javascript object>"
      ]
     },
     "metadata": {},
     "output_type": "display_data"
    },
    {
     "data": {
      "text/markdown": [
       "<span style=\"color:#33cc99\">Solution:</span> A straightforward (and totally fine) solution is to replace the original `print` call with:\n",
       "\n",
       "```python\n",
       "if total_candies == 1:\n",
       "    print(\"Splitting 1 candy\")\n",
       "else:\n",
       "    print(\"Splitting\", total_candies, \"candies\")\n",
       "```\n",
       "\n",
       "Here's a slightly more succinct solution using a conditional expression:\n",
       "\n",
       "```python\n",
       "print(\"Splitting\", total_candies, \"candy\" if total_candies == 1 else \"candies\")\n",
       "```"
      ],
      "text/plain": [
       "Solution: A straightforward (and totally fine) solution is to replace the original `print` call with:\n",
       "\n",
       "```python\n",
       "if total_candies == 1:\n",
       "    print(\"Splitting 1 candy\")\n",
       "else:\n",
       "    print(\"Splitting\", total_candies, \"candies\")\n",
       "```\n",
       "\n",
       "Here's a slightly more succinct solution using a conditional expression:\n",
       "\n",
       "```python\n",
       "print(\"Splitting\", total_candies, \"candy\" if total_candies == 1 else \"candies\")\n",
       "```"
      ]
     },
     "metadata": {},
     "output_type": "display_data"
    }
   ],
   "source": [
    "# Check your answer (Run this code cell to receive credit!)\n",
    "q2.solution()"
   ]
  },
  {
   "cell_type": "markdown",
   "id": "8153d499",
   "metadata": {
    "papermill": {
     "duration": 0.013222,
     "end_time": "2024-02-19T08:43:48.228780",
     "exception": false,
     "start_time": "2024-02-19T08:43:48.215558",
     "status": "completed"
    },
    "tags": []
   },
   "source": [
    "# 3. <span title=\"A bit spicy\" style=\"color: darkgreen \">🌶️</span>\n",
    "\n",
    "In the tutorial, we talked about deciding whether we're prepared for the weather. I said that I'm safe from today's weather if...\n",
    "- I have an umbrella...\n",
    "- or if the rain isn't too heavy and I have a hood...\n",
    "- otherwise, I'm still fine unless it's raining *and* it's a workday\n",
    "\n",
    "The function below uses our first attempt at turning this logic into a Python expression. I claimed that there was a bug in that code. Can you find it?\n",
    "\n",
    "To prove that `prepared_for_weather` is buggy, come up with a set of inputs where either:\n",
    "- the function returns `False` (but should have returned `True`), or\n",
    "- the function returned `True` (but should have returned `False`).\n",
    "\n",
    "To get credit for completing this question, your code should return a <font color='#33cc33'>Correct</font> result."
   ]
  },
  {
   "cell_type": "code",
   "execution_count": 8,
   "id": "ee6c5a9f",
   "metadata": {
    "execution": {
     "iopub.execute_input": "2024-02-19T08:43:48.258345Z",
     "iopub.status.busy": "2024-02-19T08:43:48.257894Z",
     "iopub.status.idle": "2024-02-19T08:43:48.271498Z",
     "shell.execute_reply": "2024-02-19T08:43:48.270151Z"
    },
    "papermill": {
     "duration": 0.031275,
     "end_time": "2024-02-19T08:43:48.274293",
     "exception": false,
     "start_time": "2024-02-19T08:43:48.243018",
     "status": "completed"
    },
    "tags": []
   },
   "outputs": [
    {
     "name": "stdout",
     "output_type": "stream",
     "text": [
      "True\n"
     ]
    },
    {
     "data": {
      "application/javascript": [
       "parent.postMessage({\"jupyterEvent\": \"custom.exercise_interaction\", \"data\": {\"outcomeType\": 2, \"failureMessage\": \"Given `have_umbrella=True`, `rain_level=0.0`, `have_hood=True`, `is_workday=True`, `prepared_for_weather` returned `True`. But I think that's correct. (We want inputs that lead to an incorrect result from `prepared_for_weather`.)\", \"interactionType\": 1, \"questionType\": 1, \"questionId\": \"3_WeatherDebug\", \"learnToolsVersion\": \"0.3.4\", \"valueTowardsCompletion\": 0.0, \"exceptionClass\": \"\", \"trace\": \"\"}}, \"*\")"
      ],
      "text/plain": [
       "<IPython.core.display.Javascript object>"
      ]
     },
     "metadata": {},
     "output_type": "display_data"
    },
    {
     "data": {
      "text/markdown": [
       "<span style=\"color:#cc3333\">Incorrect:</span> Given `have_umbrella=True`, `rain_level=0.0`, `have_hood=True`, `is_workday=True`, `prepared_for_weather` returned `True`. But I think that's correct. (We want inputs that lead to an incorrect result from `prepared_for_weather`.)"
      ],
      "text/plain": [
       "Incorrect: Given `have_umbrella=True`, `rain_level=0.0`, `have_hood=True`, `is_workday=True`, `prepared_for_weather` returned `True`. But I think that's correct. (We want inputs that lead to an incorrect result from `prepared_for_weather`.)"
      ]
     },
     "metadata": {},
     "output_type": "display_data"
    }
   ],
   "source": [
    "def prepared_for_weather(have_umbrella, rain_level, have_hood, is_workday):\n",
    "    # Don't change this code. Our goal is just to find the bug, not fix it!\n",
    "    return have_umbrella or rain_level < 5 and have_hood or not rain_level > 0 and is_workday\n",
    "\n",
    "# Change the values of these inputs so they represent a case where prepared_for_weather\n",
    "# returns the wrong answer.\n",
    "have_umbrella = True\n",
    "rain_level = 0.0\n",
    "have_hood = True\n",
    "is_workday = True\n",
    "\n",
    "# Check what the function returns given the current values of the variables above\n",
    "actual = prepared_for_weather(have_umbrella, rain_level, have_hood, is_workday)\n",
    "print(actual)\n",
    "\n",
    "# Check your answer\n",
    "q3.check()"
   ]
  },
  {
   "cell_type": "code",
   "execution_count": 9,
   "id": "1ef37342",
   "metadata": {
    "execution": {
     "iopub.execute_input": "2024-02-19T08:43:48.303127Z",
     "iopub.status.busy": "2024-02-19T08:43:48.302712Z",
     "iopub.status.idle": "2024-02-19T08:43:48.308004Z",
     "shell.execute_reply": "2024-02-19T08:43:48.306733Z"
    },
    "papermill": {
     "duration": 0.022797,
     "end_time": "2024-02-19T08:43:48.310641",
     "exception": false,
     "start_time": "2024-02-19T08:43:48.287844",
     "status": "completed"
    },
    "tags": []
   },
   "outputs": [],
   "source": [
    "#q3.hint()\n",
    "#q3.solution()"
   ]
  },
  {
   "cell_type": "markdown",
   "id": "32690da3",
   "metadata": {
    "papermill": {
     "duration": 0.013364,
     "end_time": "2024-02-19T08:43:48.337434",
     "exception": false,
     "start_time": "2024-02-19T08:43:48.324070",
     "status": "completed"
    },
    "tags": []
   },
   "source": [
    "# 4.\n",
    "\n",
    "The function `is_negative` below is implemented correctly - it returns True if the given number is negative and False otherwise.\n",
    "\n",
    "However, it's more verbose than it needs to be. We can actually reduce the number of lines of code in this function by *75%* while keeping the same behaviour. \n",
    "\n",
    "See if you can come up with an equivalent body that uses just **one line** of code, and put it in the function `concise_is_negative`. (HINT: you don't even need Python's ternary syntax)"
   ]
  },
  {
   "cell_type": "code",
   "execution_count": 10,
   "id": "e6128b83",
   "metadata": {
    "execution": {
     "iopub.execute_input": "2024-02-19T08:43:48.367655Z",
     "iopub.status.busy": "2024-02-19T08:43:48.367255Z",
     "iopub.status.idle": "2024-02-19T08:43:48.377289Z",
     "shell.execute_reply": "2024-02-19T08:43:48.376059Z"
    },
    "papermill": {
     "duration": 0.027917,
     "end_time": "2024-02-19T08:43:48.379912",
     "exception": false,
     "start_time": "2024-02-19T08:43:48.351995",
     "status": "completed"
    },
    "tags": []
   },
   "outputs": [
    {
     "data": {
      "application/javascript": [
       "parent.postMessage({\"jupyterEvent\": \"custom.exercise_interaction\", \"data\": {\"outcomeType\": 4, \"interactionType\": 1, \"questionType\": 2, \"questionId\": \"4_ConciseIsNegative\", \"learnToolsVersion\": \"0.3.4\", \"valueTowardsCompletion\": 0.0, \"failureMessage\": \"\", \"exceptionClass\": \"\", \"trace\": \"\"}}, \"*\")"
      ],
      "text/plain": [
       "<IPython.core.display.Javascript object>"
      ]
     },
     "metadata": {},
     "output_type": "display_data"
    },
    {
     "data": {
      "text/markdown": [
       "<span style=\"color:#ccaa33\">Check:</span> When you've updated the starter code, `check()` will tell you whether your code is correct. "
      ],
      "text/plain": [
       "Check: When you've updated the starter code, `check()` will tell you whether your code is correct. "
      ]
     },
     "metadata": {},
     "output_type": "display_data"
    }
   ],
   "source": [
    "def is_negative(number):\n",
    "    if number < 0:\n",
    "        return True\n",
    "    else:\n",
    "        return False\n",
    "\n",
    "def concise_is_negative(number):\n",
    "    pass # Your code goes here (try to keep it to one line!)\n",
    "\n",
    "# Check your answer\n",
    "q4.check()"
   ]
  },
  {
   "cell_type": "code",
   "execution_count": 11,
   "id": "b5d2ed3c",
   "metadata": {
    "execution": {
     "iopub.execute_input": "2024-02-19T08:43:48.409317Z",
     "iopub.status.busy": "2024-02-19T08:43:48.408913Z",
     "iopub.status.idle": "2024-02-19T08:43:48.413316Z",
     "shell.execute_reply": "2024-02-19T08:43:48.412123Z"
    },
    "papermill": {
     "duration": 0.022002,
     "end_time": "2024-02-19T08:43:48.415688",
     "exception": false,
     "start_time": "2024-02-19T08:43:48.393686",
     "status": "completed"
    },
    "tags": []
   },
   "outputs": [],
   "source": [
    "#q4.hint()\n",
    "#q4.solution()"
   ]
  },
  {
   "cell_type": "markdown",
   "id": "a45080cf",
   "metadata": {
    "papermill": {
     "duration": 0.013493,
     "end_time": "2024-02-19T08:43:48.443318",
     "exception": false,
     "start_time": "2024-02-19T08:43:48.429825",
     "status": "completed"
    },
    "tags": []
   },
   "source": [
    "# 5a.\n",
    "\n",
    "The boolean variables `ketchup`, `mustard` and `onion` represent whether a customer wants a particular topping on their hot dog. We want to implement a number of boolean functions that correspond to some yes-or-no questions about the customer's order. For example:"
   ]
  },
  {
   "cell_type": "code",
   "execution_count": 12,
   "id": "2252004f",
   "metadata": {
    "execution": {
     "iopub.execute_input": "2024-02-19T08:43:48.473163Z",
     "iopub.status.busy": "2024-02-19T08:43:48.472751Z",
     "iopub.status.idle": "2024-02-19T08:43:48.479053Z",
     "shell.execute_reply": "2024-02-19T08:43:48.477684Z"
    },
    "papermill": {
     "duration": 0.024377,
     "end_time": "2024-02-19T08:43:48.481691",
     "exception": false,
     "start_time": "2024-02-19T08:43:48.457314",
     "status": "completed"
    },
    "tags": []
   },
   "outputs": [],
   "source": [
    "def onionless(ketchup, mustard, onion):\n",
    "    \"\"\"Return whether the customer doesn't want onions.\n",
    "    \"\"\"\n",
    "    return not onion"
   ]
  },
  {
   "cell_type": "code",
   "execution_count": 13,
   "id": "249b281a",
   "metadata": {
    "execution": {
     "iopub.execute_input": "2024-02-19T08:43:48.511726Z",
     "iopub.status.busy": "2024-02-19T08:43:48.511064Z",
     "iopub.status.idle": "2024-02-19T08:43:48.521549Z",
     "shell.execute_reply": "2024-02-19T08:43:48.520400Z"
    },
    "papermill": {
     "duration": 0.02885,
     "end_time": "2024-02-19T08:43:48.524589",
     "exception": false,
     "start_time": "2024-02-19T08:43:48.495739",
     "status": "completed"
    },
    "tags": []
   },
   "outputs": [
    {
     "data": {
      "application/javascript": [
       "parent.postMessage({\"jupyterEvent\": \"custom.exercise_interaction\", \"data\": {\"outcomeType\": 4, \"interactionType\": 1, \"questionType\": 2, \"questionId\": \"5.1_AllToppings\", \"learnToolsVersion\": \"0.3.4\", \"valueTowardsCompletion\": 0.0, \"failureMessage\": \"\", \"exceptionClass\": \"\", \"trace\": \"\"}}, \"*\")"
      ],
      "text/plain": [
       "<IPython.core.display.Javascript object>"
      ]
     },
     "metadata": {},
     "output_type": "display_data"
    },
    {
     "data": {
      "text/markdown": [
       "<span style=\"color:#ccaa33\">Check:</span> When you've updated the starter code, `check()` will tell you whether your code is correct. "
      ],
      "text/plain": [
       "Check: When you've updated the starter code, `check()` will tell you whether your code is correct. "
      ]
     },
     "metadata": {},
     "output_type": "display_data"
    }
   ],
   "source": [
    "def wants_all_toppings(ketchup, mustard, onion):\n",
    "    \"\"\"Return whether the customer wants \"the works\" (all 3 toppings)\n",
    "    \"\"\"\n",
    "    pass\n",
    "\n",
    "# Check your answer\n",
    "q5.a.check()"
   ]
  },
  {
   "cell_type": "code",
   "execution_count": 14,
   "id": "c85f9efe",
   "metadata": {
    "execution": {
     "iopub.execute_input": "2024-02-19T08:43:48.556030Z",
     "iopub.status.busy": "2024-02-19T08:43:48.555597Z",
     "iopub.status.idle": "2024-02-19T08:43:48.560914Z",
     "shell.execute_reply": "2024-02-19T08:43:48.559658Z"
    },
    "papermill": {
     "duration": 0.023838,
     "end_time": "2024-02-19T08:43:48.563306",
     "exception": false,
     "start_time": "2024-02-19T08:43:48.539468",
     "status": "completed"
    },
    "tags": []
   },
   "outputs": [],
   "source": [
    "#q5.a.hint()\n",
    "#q5.a.solution()"
   ]
  },
  {
   "cell_type": "markdown",
   "id": "4a724255",
   "metadata": {
    "papermill": {
     "duration": 0.014339,
     "end_time": "2024-02-19T08:43:48.592423",
     "exception": false,
     "start_time": "2024-02-19T08:43:48.578084",
     "status": "completed"
    },
    "tags": []
   },
   "source": [
    "# 5b.\n",
    "\n",
    "For the next function, fill in the body to match the English description in the docstring. "
   ]
  },
  {
   "cell_type": "code",
   "execution_count": 15,
   "id": "7172dddf",
   "metadata": {
    "execution": {
     "iopub.execute_input": "2024-02-19T08:43:48.623702Z",
     "iopub.status.busy": "2024-02-19T08:43:48.623304Z",
     "iopub.status.idle": "2024-02-19T08:43:48.633953Z",
     "shell.execute_reply": "2024-02-19T08:43:48.632308Z"
    },
    "papermill": {
     "duration": 0.029632,
     "end_time": "2024-02-19T08:43:48.636710",
     "exception": false,
     "start_time": "2024-02-19T08:43:48.607078",
     "status": "completed"
    },
    "tags": []
   },
   "outputs": [
    {
     "data": {
      "application/javascript": [
       "parent.postMessage({\"jupyterEvent\": \"custom.exercise_interaction\", \"data\": {\"outcomeType\": 4, \"interactionType\": 1, \"questionType\": 2, \"questionId\": \"5.2_PlainDog\", \"learnToolsVersion\": \"0.3.4\", \"valueTowardsCompletion\": 0.0, \"failureMessage\": \"\", \"exceptionClass\": \"\", \"trace\": \"\"}}, \"*\")"
      ],
      "text/plain": [
       "<IPython.core.display.Javascript object>"
      ]
     },
     "metadata": {},
     "output_type": "display_data"
    },
    {
     "data": {
      "text/markdown": [
       "<span style=\"color:#ccaa33\">Check:</span> When you've updated the starter code, `check()` will tell you whether your code is correct. "
      ],
      "text/plain": [
       "Check: When you've updated the starter code, `check()` will tell you whether your code is correct. "
      ]
     },
     "metadata": {},
     "output_type": "display_data"
    }
   ],
   "source": [
    "def wants_plain_hotdog(ketchup, mustard, onion):\n",
    "    \"\"\"Return whether the customer wants a plain hot dog with no toppings.\n",
    "    \"\"\"\n",
    "    pass\n",
    "\n",
    "# Check your answer\n",
    "q5.b.check()"
   ]
  },
  {
   "cell_type": "code",
   "execution_count": 16,
   "id": "2600161c",
   "metadata": {
    "execution": {
     "iopub.execute_input": "2024-02-19T08:43:48.669634Z",
     "iopub.status.busy": "2024-02-19T08:43:48.669146Z",
     "iopub.status.idle": "2024-02-19T08:43:48.674806Z",
     "shell.execute_reply": "2024-02-19T08:43:48.673426Z"
    },
    "papermill": {
     "duration": 0.025037,
     "end_time": "2024-02-19T08:43:48.677498",
     "exception": false,
     "start_time": "2024-02-19T08:43:48.652461",
     "status": "completed"
    },
    "tags": []
   },
   "outputs": [],
   "source": [
    "#q5.b.hint()\n",
    "#q5.b.solution()"
   ]
  },
  {
   "cell_type": "markdown",
   "id": "8d3a8864",
   "metadata": {
    "papermill": {
     "duration": 0.015243,
     "end_time": "2024-02-19T08:43:48.708057",
     "exception": false,
     "start_time": "2024-02-19T08:43:48.692814",
     "status": "completed"
    },
    "tags": []
   },
   "source": [
    "# 5c.\n",
    "\n",
    "You know what to do: for the next function, fill in the body to match the English description in the docstring."
   ]
  },
  {
   "cell_type": "code",
   "execution_count": 17,
   "id": "760792a1",
   "metadata": {
    "execution": {
     "iopub.execute_input": "2024-02-19T08:43:48.741509Z",
     "iopub.status.busy": "2024-02-19T08:43:48.741032Z",
     "iopub.status.idle": "2024-02-19T08:43:48.752834Z",
     "shell.execute_reply": "2024-02-19T08:43:48.751404Z"
    },
    "papermill": {
     "duration": 0.031322,
     "end_time": "2024-02-19T08:43:48.755403",
     "exception": false,
     "start_time": "2024-02-19T08:43:48.724081",
     "status": "completed"
    },
    "tags": []
   },
   "outputs": [
    {
     "data": {
      "application/javascript": [
       "parent.postMessage({\"jupyterEvent\": \"custom.exercise_interaction\", \"data\": {\"outcomeType\": 4, \"interactionType\": 1, \"questionType\": 2, \"questionId\": \"5.3_OneSauce\", \"learnToolsVersion\": \"0.3.4\", \"valueTowardsCompletion\": 0.0, \"failureMessage\": \"\", \"exceptionClass\": \"\", \"trace\": \"\"}}, \"*\")"
      ],
      "text/plain": [
       "<IPython.core.display.Javascript object>"
      ]
     },
     "metadata": {},
     "output_type": "display_data"
    },
    {
     "data": {
      "text/markdown": [
       "<span style=\"color:#ccaa33\">Check:</span> When you've updated the starter code, `check()` will tell you whether your code is correct. "
      ],
      "text/plain": [
       "Check: When you've updated the starter code, `check()` will tell you whether your code is correct. "
      ]
     },
     "metadata": {},
     "output_type": "display_data"
    }
   ],
   "source": [
    "def exactly_one_sauce(ketchup, mustard, onion):\n",
    "    \"\"\"Return whether the customer wants either ketchup or mustard, but not both.\n",
    "    (You may be familiar with this operation under the name \"exclusive or\")\n",
    "    \"\"\"\n",
    "    pass\n",
    "\n",
    "# Check your answer\n",
    "q5.c.check()"
   ]
  },
  {
   "cell_type": "code",
   "execution_count": 18,
   "id": "b4d89106",
   "metadata": {
    "execution": {
     "iopub.execute_input": "2024-02-19T08:43:48.788941Z",
     "iopub.status.busy": "2024-02-19T08:43:48.788502Z",
     "iopub.status.idle": "2024-02-19T08:43:48.794432Z",
     "shell.execute_reply": "2024-02-19T08:43:48.792563Z"
    },
    "papermill": {
     "duration": 0.026614,
     "end_time": "2024-02-19T08:43:48.797420",
     "exception": false,
     "start_time": "2024-02-19T08:43:48.770806",
     "status": "completed"
    },
    "tags": []
   },
   "outputs": [],
   "source": [
    "#q5.c.hint()\n",
    "#q5.c.solution()"
   ]
  },
  {
   "cell_type": "markdown",
   "id": "a748fe22",
   "metadata": {
    "papermill": {
     "duration": 0.0149,
     "end_time": "2024-02-19T08:43:48.827832",
     "exception": false,
     "start_time": "2024-02-19T08:43:48.812932",
     "status": "completed"
    },
    "tags": []
   },
   "source": [
    "# 6. <span title=\"A bit spicy\" style=\"color: darkgreen \">🌶️</span>\n",
    "\n",
    "We’ve seen that calling `bool()` on an integer returns `False` if it’s equal to 0 and `True` otherwise. What happens if we call `int()` on a bool? Try it out in the notebook cell below.\n",
    "\n",
    "Can you take advantage of this to write a succinct function that corresponds to the English sentence \"does the customer want exactly one topping?\"?"
   ]
  },
  {
   "cell_type": "code",
   "execution_count": 19,
   "id": "87f035e3",
   "metadata": {
    "execution": {
     "iopub.execute_input": "2024-02-19T08:43:48.861098Z",
     "iopub.status.busy": "2024-02-19T08:43:48.860719Z",
     "iopub.status.idle": "2024-02-19T08:43:48.869620Z",
     "shell.execute_reply": "2024-02-19T08:43:48.868557Z"
    },
    "papermill": {
     "duration": 0.029167,
     "end_time": "2024-02-19T08:43:48.872357",
     "exception": false,
     "start_time": "2024-02-19T08:43:48.843190",
     "status": "completed"
    },
    "tags": []
   },
   "outputs": [
    {
     "data": {
      "application/javascript": [
       "parent.postMessage({\"jupyterEvent\": \"custom.exercise_interaction\", \"data\": {\"outcomeType\": 4, \"interactionType\": 1, \"questionType\": 2, \"questionId\": \"6_OneTopping\", \"learnToolsVersion\": \"0.3.4\", \"valueTowardsCompletion\": 0.0, \"failureMessage\": \"\", \"exceptionClass\": \"\", \"trace\": \"\"}}, \"*\")"
      ],
      "text/plain": [
       "<IPython.core.display.Javascript object>"
      ]
     },
     "metadata": {},
     "output_type": "display_data"
    },
    {
     "data": {
      "text/markdown": [
       "<span style=\"color:#ccaa33\">Check:</span> When you've updated the starter code, `check()` will tell you whether your code is correct. "
      ],
      "text/plain": [
       "Check: When you've updated the starter code, `check()` will tell you whether your code is correct. "
      ]
     },
     "metadata": {},
     "output_type": "display_data"
    }
   ],
   "source": [
    "def exactly_one_topping(ketchup, mustard, onion):\n",
    "    \"\"\"Return whether the customer wants exactly one of the three available toppings\n",
    "    on their hot dog.\n",
    "    \"\"\"\n",
    "    pass\n",
    "\n",
    "# Check your answer\n",
    "q6.check()"
   ]
  },
  {
   "cell_type": "code",
   "execution_count": 20,
   "id": "abf8cbc2",
   "metadata": {
    "execution": {
     "iopub.execute_input": "2024-02-19T08:43:48.905329Z",
     "iopub.status.busy": "2024-02-19T08:43:48.904868Z",
     "iopub.status.idle": "2024-02-19T08:43:48.909851Z",
     "shell.execute_reply": "2024-02-19T08:43:48.908819Z"
    },
    "papermill": {
     "duration": 0.02418,
     "end_time": "2024-02-19T08:43:48.912072",
     "exception": false,
     "start_time": "2024-02-19T08:43:48.887892",
     "status": "completed"
    },
    "tags": []
   },
   "outputs": [],
   "source": [
    "#q6.hint()\n",
    "#q6.solution()"
   ]
  },
  {
   "cell_type": "markdown",
   "id": "716f08ec",
   "metadata": {
    "papermill": {
     "duration": 0.01545,
     "end_time": "2024-02-19T08:43:48.943843",
     "exception": false,
     "start_time": "2024-02-19T08:43:48.928393",
     "status": "completed"
    },
    "tags": []
   },
   "source": [
    "# 7. <span title=\"A bit spicy\" style=\"color: darkgreen \">🌶️</span> (Optional)\n",
    "\n",
    "In this problem we'll be working with a simplified version of [blackjack](https://en.wikipedia.org/wiki/Blackjack) (aka twenty-one). In this version there is one player (who you'll control) and a dealer. Play proceeds as follows:\n",
    "\n",
    "- The player is dealt two face-up cards. The dealer is dealt one face-up card.\n",
    "- The player may ask to be dealt another card ('hit') as many times as they wish. If the sum of their cards exceeds 21, they lose the round immediately.\n",
    "- The dealer then deals additional cards to himself until either:\n",
    "    - the sum of the dealer's cards exceeds 21, in which case the player wins the round\n",
    "    - the sum of the dealer's cards is greater than or equal to 17. If the player's total is greater than the dealer's, the player wins. Otherwise, the dealer wins (even in case of a tie).\n",
    "    \n",
    "When calculating the sum of cards, Jack, Queen, and King count for 10. Aces can count as 1 or 11 (when referring to a player's \"total\" above, we mean the largest total that can be made without exceeding 21. So e.g. A+8 = 19, A+8+8 = 17)\n",
    "\n",
    "For this problem, you'll write a function representing the player's decision-making strategy in this game. We've provided a very unintelligent implementation below:"
   ]
  },
  {
   "cell_type": "code",
   "execution_count": 21,
   "id": "acfca4d1",
   "metadata": {
    "execution": {
     "iopub.execute_input": "2024-02-19T08:43:48.978172Z",
     "iopub.status.busy": "2024-02-19T08:43:48.977737Z",
     "iopub.status.idle": "2024-02-19T08:43:48.984275Z",
     "shell.execute_reply": "2024-02-19T08:43:48.982827Z"
    },
    "papermill": {
     "duration": 0.026783,
     "end_time": "2024-02-19T08:43:48.986686",
     "exception": false,
     "start_time": "2024-02-19T08:43:48.959903",
     "status": "completed"
    },
    "tags": []
   },
   "outputs": [],
   "source": [
    "def should_hit(dealer_total, player_total, player_low_aces, player_high_aces):\n",
    "    \"\"\"Return True if the player should hit (request another card) given the current game\n",
    "    state, or False if the player should stay.\n",
    "    When calculating a hand's total value, we count aces as \"high\" (with value 11) if doing so\n",
    "    doesn't bring the total above 21, otherwise we count them as low (with value 1). \n",
    "    For example, if the player's hand is {A, A, A, 7}, we will count it as 11 + 1 + 1 + 7,\n",
    "    and therefore set player_total=20, player_low_aces=2, player_high_aces=1.\n",
    "    \"\"\"\n",
    "    return False"
   ]
  },
  {
   "cell_type": "markdown",
   "id": "c5c09cd7",
   "metadata": {
    "papermill": {
     "duration": 0.015562,
     "end_time": "2024-02-19T08:43:49.089723",
     "exception": false,
     "start_time": "2024-02-19T08:43:49.074161",
     "status": "completed"
    },
    "tags": []
   },
   "source": [
    "This very conservative agent *always* sticks with the hand of two cards that they're dealt.\n",
    "\n",
    "We'll be simulating games between your player agent and our own dealer agent by calling your function.\n",
    "\n",
    "Try running the function below to see an example of a simulated game:"
   ]
  },
  {
   "cell_type": "code",
   "execution_count": 22,
   "id": "7a0222b8",
   "metadata": {
    "execution": {
     "iopub.execute_input": "2024-02-19T08:43:49.123958Z",
     "iopub.status.busy": "2024-02-19T08:43:49.123560Z",
     "iopub.status.idle": "2024-02-19T08:43:49.129779Z",
     "shell.execute_reply": "2024-02-19T08:43:49.128308Z"
    },
    "papermill": {
     "duration": 0.026829,
     "end_time": "2024-02-19T08:43:49.132874",
     "exception": false,
     "start_time": "2024-02-19T08:43:49.106045",
     "status": "completed"
    },
    "tags": []
   },
   "outputs": [
    {
     "name": "stdout",
     "output_type": "stream",
     "text": [
      "Player starts with A and Q (total = 21)\n",
      "Dealer starts with 5\n",
      "\n",
      "__Player's turn__\n",
      "Player stays\n",
      "\n",
      "__Dealer's turn__\n",
      "Dealer hits and receives 9. (total = 14)\n",
      "Dealer hits and receives K. (total = 24)\n",
      "Dealer busts! Player wins.\n"
     ]
    }
   ],
   "source": [
    "q7.simulate_one_game()"
   ]
  },
  {
   "cell_type": "markdown",
   "id": "14ba12dd",
   "metadata": {
    "papermill": {
     "duration": 0.015679,
     "end_time": "2024-02-19T08:43:49.164963",
     "exception": false,
     "start_time": "2024-02-19T08:43:49.149284",
     "status": "completed"
    },
    "tags": []
   },
   "source": [
    "The real test of your agent's mettle is their average win rate over many games. Try calling the function below to simulate 50000 games of blackjack (it may take a couple seconds):"
   ]
  },
  {
   "cell_type": "code",
   "execution_count": 23,
   "id": "a25f0c2b",
   "metadata": {
    "execution": {
     "iopub.execute_input": "2024-02-19T08:43:49.199530Z",
     "iopub.status.busy": "2024-02-19T08:43:49.198971Z",
     "iopub.status.idle": "2024-02-19T08:43:51.372274Z",
     "shell.execute_reply": "2024-02-19T08:43:51.370778Z"
    },
    "papermill": {
     "duration": 2.195026,
     "end_time": "2024-02-19T08:43:51.376140",
     "exception": false,
     "start_time": "2024-02-19T08:43:49.181114",
     "status": "completed"
    },
    "tags": []
   },
   "outputs": [
    {
     "name": "stdout",
     "output_type": "stream",
     "text": [
      "Player won 18908 out of 50000 games (win rate = 37.8%)\n"
     ]
    }
   ],
   "source": [
    "q7.simulate(n_games=50000)"
   ]
  },
  {
   "cell_type": "markdown",
   "id": "20d76045",
   "metadata": {
    "papermill": {
     "duration": 0.016216,
     "end_time": "2024-02-19T08:43:51.415664",
     "exception": false,
     "start_time": "2024-02-19T08:43:51.399448",
     "status": "completed"
    },
    "tags": []
   },
   "source": [
    "Our dumb agent that completely ignores the game state still manages to win shockingly often!\n",
    "\n",
    "Try adding some more smarts to the `should_hit` function and see how it affects the results."
   ]
  },
  {
   "cell_type": "code",
   "execution_count": 24,
   "id": "69ac7a65",
   "metadata": {
    "execution": {
     "iopub.execute_input": "2024-02-19T08:43:51.451060Z",
     "iopub.status.busy": "2024-02-19T08:43:51.450572Z",
     "iopub.status.idle": "2024-02-19T08:43:53.663496Z",
     "shell.execute_reply": "2024-02-19T08:43:53.662317Z"
    },
    "papermill": {
     "duration": 2.233769,
     "end_time": "2024-02-19T08:43:53.666156",
     "exception": false,
     "start_time": "2024-02-19T08:43:51.432387",
     "status": "completed"
    },
    "tags": []
   },
   "outputs": [
    {
     "name": "stdout",
     "output_type": "stream",
     "text": [
      "Player won 19023 out of 50000 games (win rate = 38.0%)\n"
     ]
    }
   ],
   "source": [
    "def should_hit(dealer_total, player_total, player_low_aces, player_high_aces):\n",
    "    \"\"\"Return True if the player should hit (request another card) given the current game\n",
    "    state, or False if the player should stay.\n",
    "    When calculating a hand's total value, we count aces as \"high\" (with value 11) if doing so\n",
    "    doesn't bring the total above 21, otherwise we count them as low (with value 1). \n",
    "    For example, if the player's hand is {A, A, A, 7}, we will count it as 11 + 1 + 1 + 7,\n",
    "    and therefore set player_total=20, player_low_aces=2, player_high_aces=1.\n",
    "    \"\"\"\n",
    "    return False\n",
    "\n",
    "q7.simulate(n_games=50000)"
   ]
  },
  {
   "cell_type": "markdown",
   "id": "1a02065f",
   "metadata": {
    "papermill": {
     "duration": 0.016385,
     "end_time": "2024-02-19T08:43:53.699188",
     "exception": false,
     "start_time": "2024-02-19T08:43:53.682803",
     "status": "completed"
    },
    "tags": []
   },
   "source": [
    "# Keep Going\n",
    "\n",
    "Learn about **[lists and tuples](https://www.kaggle.com/colinmorris/lists)** to handle multiple items of data in a systematic way."
   ]
  },
  {
   "cell_type": "markdown",
   "id": "30af700d",
   "metadata": {
    "papermill": {
     "duration": 0.016172,
     "end_time": "2024-02-19T08:43:53.732071",
     "exception": false,
     "start_time": "2024-02-19T08:43:53.715899",
     "status": "completed"
    },
    "tags": []
   },
   "source": [
    "---\n",
    "\n",
    "\n",
    "\n",
    "\n",
    "*Have questions or comments? Visit the [course discussion forum](https://www.kaggle.com/learn/python/discussion) to chat with other learners.*"
   ]
  }
 ],
 "metadata": {
  "kaggle": {
   "accelerator": "none",
   "dataSources": [],
   "isGpuEnabled": false,
   "isInternetEnabled": false,
   "language": "python",
   "sourceType": "notebook"
  },
  "kernelspec": {
   "display_name": "Python 3",
   "language": "python",
   "name": "python3"
  },
  "language_info": {
   "codemirror_mode": {
    "name": "ipython",
    "version": 3
   },
   "file_extension": ".py",
   "mimetype": "text/x-python",
   "name": "python",
   "nbconvert_exporter": "python",
   "pygments_lexer": "ipython3",
   "version": "3.10.13"
  },
  "learntools_metadata": {
   "lesson_index": 2,
   "type": "exercise"
  },
  "papermill": {
   "default_parameters": {},
   "duration": 11.04186,
   "end_time": "2024-02-19T08:43:54.271647",
   "environment_variables": {},
   "exception": null,
   "input_path": "__notebook__.ipynb",
   "output_path": "__notebook__.ipynb",
   "parameters": {},
   "start_time": "2024-02-19T08:43:43.229787",
   "version": "2.5.0"
  }
 },
 "nbformat": 4,
 "nbformat_minor": 5
}
