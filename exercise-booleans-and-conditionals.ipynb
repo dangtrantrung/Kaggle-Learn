{
 "cells": [
  {
   "cell_type": "markdown",
   "id": "3e19132b",
   "metadata": {
    "papermill": {
     "duration": 0.009318,
     "end_time": "2024-02-20T07:22:38.595602",
     "exception": false,
     "start_time": "2024-02-20T07:22:38.586284",
     "status": "completed"
    },
    "tags": []
   },
   "source": [
    "**This notebook is an exercise in the [Python](https://www.kaggle.com/learn/python) course.  You can reference the tutorial at [this link](https://www.kaggle.com/colinmorris/booleans-and-conditionals).**\n",
    "\n",
    "---\n"
   ]
  },
  {
   "cell_type": "markdown",
   "id": "dfcc19a6",
   "metadata": {
    "papermill": {
     "duration": 0.008183,
     "end_time": "2024-02-20T07:22:38.612678",
     "exception": false,
     "start_time": "2024-02-20T07:22:38.604495",
     "status": "completed"
    },
    "tags": []
   },
   "source": [
    "In this exercise, you'll put to work what you have learned about booleans and conditionals.\n",
    "\n",
    "To get started, **run the setup code below** before writing your own code (and if you leave this notebook and come back later, don't forget to run the setup code again)."
   ]
  },
  {
   "cell_type": "code",
   "execution_count": 1,
   "id": "28dbee89",
   "metadata": {
    "execution": {
     "iopub.execute_input": "2024-02-20T07:22:38.632098Z",
     "iopub.status.busy": "2024-02-20T07:22:38.631734Z",
     "iopub.status.idle": "2024-02-20T07:22:39.541681Z",
     "shell.execute_reply": "2024-02-20T07:22:39.540364Z"
    },
    "papermill": {
     "duration": 0.92226,
     "end_time": "2024-02-20T07:22:39.544036",
     "exception": false,
     "start_time": "2024-02-20T07:22:38.621776",
     "status": "completed"
    },
    "tags": []
   },
   "outputs": [
    {
     "name": "stdout",
     "output_type": "stream",
     "text": [
      "Setup complete.\n"
     ]
    }
   ],
   "source": [
    "from learntools.core import binder; binder.bind(globals())\n",
    "from learntools.python.ex3 import *\n",
    "print('Setup complete.')"
   ]
  },
  {
   "cell_type": "markdown",
   "id": "c21ac5fa",
   "metadata": {
    "papermill": {
     "duration": 0.008351,
     "end_time": "2024-02-20T07:22:39.561099",
     "exception": false,
     "start_time": "2024-02-20T07:22:39.552748",
     "status": "completed"
    },
    "tags": []
   },
   "source": [
    "# 1.\n",
    "\n",
    "Many programming languages have [`sign`](https://en.wikipedia.org/wiki/Sign_function) available as a built-in function. Python doesn't, but we can define our own!\n",
    "\n",
    "In the cell below, define a function called `sign` which takes a numerical argument and returns -1 if it's negative, 1 if it's positive, and 0 if it's 0."
   ]
  },
  {
   "cell_type": "code",
   "execution_count": 2,
   "id": "0ab06ff8",
   "metadata": {
    "execution": {
     "iopub.execute_input": "2024-02-20T07:22:39.580403Z",
     "iopub.status.busy": "2024-02-20T07:22:39.579258Z",
     "iopub.status.idle": "2024-02-20T07:22:39.589293Z",
     "shell.execute_reply": "2024-02-20T07:22:39.588207Z"
    },
    "papermill": {
     "duration": 0.021695,
     "end_time": "2024-02-20T07:22:39.591293",
     "exception": false,
     "start_time": "2024-02-20T07:22:39.569598",
     "status": "completed"
    },
    "tags": []
   },
   "outputs": [
    {
     "data": {
      "application/javascript": [
       "parent.postMessage({\"jupyterEvent\": \"custom.exercise_interaction\", \"data\": {\"outcomeType\": 1, \"valueTowardsCompletion\": 0.2, \"interactionType\": 1, \"questionType\": 2, \"questionId\": \"1_SignFunctionProblem\", \"learnToolsVersion\": \"0.3.4\", \"failureMessage\": \"\", \"exceptionClass\": \"\", \"trace\": \"\"}}, \"*\")"
      ],
      "text/plain": [
       "<IPython.core.display.Javascript object>"
      ]
     },
     "metadata": {},
     "output_type": "display_data"
    },
    {
     "data": {
      "text/markdown": [
       "<span style=\"color:#33cc33\">Correct</span>"
      ],
      "text/plain": [
       "Correct"
      ]
     },
     "metadata": {},
     "output_type": "display_data"
    }
   ],
   "source": [
    "# Your code goes here. Define a function called 'sign'\n",
    "def sign(num):\n",
    "    if num<0:\n",
    "        return -1\n",
    "    elif num>0:\n",
    "        return 1\n",
    "    else:\n",
    "        return 0\n",
    "\n",
    "# Check your answer\n",
    "q1.check()"
   ]
  },
  {
   "cell_type": "code",
   "execution_count": 3,
   "id": "cb7b4b6a",
   "metadata": {
    "execution": {
     "iopub.execute_input": "2024-02-20T07:22:39.611803Z",
     "iopub.status.busy": "2024-02-20T07:22:39.611433Z",
     "iopub.status.idle": "2024-02-20T07:22:39.615456Z",
     "shell.execute_reply": "2024-02-20T07:22:39.614737Z"
    },
    "papermill": {
     "duration": 0.016786,
     "end_time": "2024-02-20T07:22:39.617258",
     "exception": false,
     "start_time": "2024-02-20T07:22:39.600472",
     "status": "completed"
    },
    "tags": []
   },
   "outputs": [],
   "source": [
    "#q1.solution()"
   ]
  },
  {
   "cell_type": "markdown",
   "id": "c643ac1b",
   "metadata": {
    "papermill": {
     "duration": 0.008705,
     "end_time": "2024-02-20T07:22:39.634795",
     "exception": false,
     "start_time": "2024-02-20T07:22:39.626090",
     "status": "completed"
    },
    "tags": []
   },
   "source": [
    "# 2.\n",
    "\n",
    "We've decided to add \"logging\" to our `to_smash` function from the previous exercise."
   ]
  },
  {
   "cell_type": "code",
   "execution_count": 4,
   "id": "81b1d0ac",
   "metadata": {
    "execution": {
     "iopub.execute_input": "2024-02-20T07:22:39.654779Z",
     "iopub.status.busy": "2024-02-20T07:22:39.653562Z",
     "iopub.status.idle": "2024-02-20T07:22:39.661935Z",
     "shell.execute_reply": "2024-02-20T07:22:39.661026Z"
    },
    "papermill": {
     "duration": 0.020339,
     "end_time": "2024-02-20T07:22:39.663966",
     "exception": false,
     "start_time": "2024-02-20T07:22:39.643627",
     "status": "completed"
    },
    "tags": []
   },
   "outputs": [
    {
     "name": "stdout",
     "output_type": "stream",
     "text": [
      "Splitting 91 candies\n"
     ]
    },
    {
     "data": {
      "text/plain": [
       "1"
      ]
     },
     "execution_count": 4,
     "metadata": {},
     "output_type": "execute_result"
    }
   ],
   "source": [
    "def to_smash(total_candies):\n",
    "    \"\"\"Return the number of leftover candies that must be smashed after distributing\n",
    "    the given number of candies evenly between 3 friends.\n",
    "    \n",
    "    >>> to_smash(91)\n",
    "    1\n",
    "    \"\"\"\n",
    "    print(\"Splitting\", total_candies, \"candies\")\n",
    "    return total_candies % 3\n",
    "\n",
    "to_smash(91)"
   ]
  },
  {
   "cell_type": "markdown",
   "id": "ccf7c055",
   "metadata": {
    "papermill": {
     "duration": 0.00866,
     "end_time": "2024-02-20T07:22:39.681656",
     "exception": false,
     "start_time": "2024-02-20T07:22:39.672996",
     "status": "completed"
    },
    "tags": []
   },
   "source": [
    "What happens if we call it with `total_candies = 1`?"
   ]
  },
  {
   "cell_type": "code",
   "execution_count": 5,
   "id": "f1d0f9d7",
   "metadata": {
    "execution": {
     "iopub.execute_input": "2024-02-20T07:22:39.701116Z",
     "iopub.status.busy": "2024-02-20T07:22:39.700713Z",
     "iopub.status.idle": "2024-02-20T07:22:39.708146Z",
     "shell.execute_reply": "2024-02-20T07:22:39.706895Z"
    },
    "papermill": {
     "duration": 0.020094,
     "end_time": "2024-02-20T07:22:39.710680",
     "exception": false,
     "start_time": "2024-02-20T07:22:39.690586",
     "status": "completed"
    },
    "tags": []
   },
   "outputs": [
    {
     "name": "stdout",
     "output_type": "stream",
     "text": [
      "Splitting 1 candies\n"
     ]
    },
    {
     "data": {
      "text/plain": [
       "1"
      ]
     },
     "execution_count": 5,
     "metadata": {},
     "output_type": "execute_result"
    }
   ],
   "source": [
    "to_smash(1)"
   ]
  },
  {
   "cell_type": "markdown",
   "id": "e23d0756",
   "metadata": {
    "papermill": {
     "duration": 0.009099,
     "end_time": "2024-02-20T07:22:39.729172",
     "exception": false,
     "start_time": "2024-02-20T07:22:39.720073",
     "status": "completed"
    },
    "tags": []
   },
   "source": [
    "That isn't great grammar!\n",
    "\n",
    "Modify the definition in the cell below to correct the grammar of our print statement. (If there's only one candy, we should use the singular \"candy\" instead of the plural \"candies\")"
   ]
  },
  {
   "cell_type": "code",
   "execution_count": 6,
   "id": "8475a852",
   "metadata": {
    "execution": {
     "iopub.execute_input": "2024-02-20T07:22:39.749443Z",
     "iopub.status.busy": "2024-02-20T07:22:39.748694Z",
     "iopub.status.idle": "2024-02-20T07:22:39.757188Z",
     "shell.execute_reply": "2024-02-20T07:22:39.756082Z"
    },
    "papermill": {
     "duration": 0.020652,
     "end_time": "2024-02-20T07:22:39.759161",
     "exception": false,
     "start_time": "2024-02-20T07:22:39.738509",
     "status": "completed"
    },
    "tags": []
   },
   "outputs": [
    {
     "name": "stdout",
     "output_type": "stream",
     "text": [
      "Splitting 91 candies\n",
      "Splitting 1 candy\n"
     ]
    },
    {
     "data": {
      "text/plain": [
       "1"
      ]
     },
     "execution_count": 6,
     "metadata": {},
     "output_type": "execute_result"
    }
   ],
   "source": [
    "def to_smash(total_candies):\n",
    "    \"\"\"Return the number of leftover candies that must be smashed after distributing\n",
    "    the given number of candies evenly between 3 friends.\n",
    "    \n",
    "    >>> to_smash(91)\n",
    "    1\n",
    "    \"\"\"\n",
    "    print(\"Splitting\", total_candies, \"candy\" if total_candies == 1 else \"candies\")\n",
    "    return total_candies % 3\n",
    "\n",
    "to_smash(91)\n",
    "to_smash(1)"
   ]
  },
  {
   "cell_type": "markdown",
   "id": "6979c132",
   "metadata": {
    "papermill": {
     "duration": 0.008965,
     "end_time": "2024-02-20T07:22:39.777539",
     "exception": false,
     "start_time": "2024-02-20T07:22:39.768574",
     "status": "completed"
    },
    "tags": []
   },
   "source": [
    "To get credit for completing this problem, and to see the official answer, run the code cell below."
   ]
  },
  {
   "cell_type": "code",
   "execution_count": 7,
   "id": "dfa202f7",
   "metadata": {
    "execution": {
     "iopub.execute_input": "2024-02-20T07:22:39.798228Z",
     "iopub.status.busy": "2024-02-20T07:22:39.797861Z",
     "iopub.status.idle": "2024-02-20T07:22:39.805793Z",
     "shell.execute_reply": "2024-02-20T07:22:39.804625Z"
    },
    "papermill": {
     "duration": 0.020964,
     "end_time": "2024-02-20T07:22:39.807833",
     "exception": false,
     "start_time": "2024-02-20T07:22:39.786869",
     "status": "completed"
    },
    "tags": []
   },
   "outputs": [
    {
     "data": {
      "application/javascript": [
       "parent.postMessage({\"jupyterEvent\": \"custom.exercise_interaction\", \"data\": {\"interactionType\": 3, \"questionType\": 4, \"questionId\": \"2_PluralizationProblem\", \"learnToolsVersion\": \"0.3.4\", \"valueTowardsCompletion\": 0.0, \"failureMessage\": \"\", \"exceptionClass\": \"\", \"trace\": \"\", \"outcomeType\": 4}}, \"*\")"
      ],
      "text/plain": [
       "<IPython.core.display.Javascript object>"
      ]
     },
     "metadata": {},
     "output_type": "display_data"
    },
    {
     "data": {
      "text/markdown": [
       "<span style=\"color:#33cc99\">Solution:</span> A straightforward (and totally fine) solution is to replace the original `print` call with:\n",
       "\n",
       "```python\n",
       "if total_candies == 1:\n",
       "    print(\"Splitting 1 candy\")\n",
       "else:\n",
       "    print(\"Splitting\", total_candies, \"candies\")\n",
       "```\n",
       "\n",
       "Here's a slightly more succinct solution using a conditional expression:\n",
       "\n",
       "```python\n",
       "print(\"Splitting\", total_candies, \"candy\" if total_candies == 1 else \"candies\")\n",
       "```"
      ],
      "text/plain": [
       "Solution: A straightforward (and totally fine) solution is to replace the original `print` call with:\n",
       "\n",
       "```python\n",
       "if total_candies == 1:\n",
       "    print(\"Splitting 1 candy\")\n",
       "else:\n",
       "    print(\"Splitting\", total_candies, \"candies\")\n",
       "```\n",
       "\n",
       "Here's a slightly more succinct solution using a conditional expression:\n",
       "\n",
       "```python\n",
       "print(\"Splitting\", total_candies, \"candy\" if total_candies == 1 else \"candies\")\n",
       "```"
      ]
     },
     "metadata": {},
     "output_type": "display_data"
    }
   ],
   "source": [
    "# Check your answer (Run this code cell to receive credit!)\n",
    "q2.solution()"
   ]
  },
  {
   "cell_type": "markdown",
   "id": "717d23ce",
   "metadata": {
    "papermill": {
     "duration": 0.009534,
     "end_time": "2024-02-20T07:22:39.827512",
     "exception": false,
     "start_time": "2024-02-20T07:22:39.817978",
     "status": "completed"
    },
    "tags": []
   },
   "source": [
    "# 3. <span title=\"A bit spicy\" style=\"color: darkgreen \">🌶️</span>\n",
    "\n",
    "In the tutorial, we talked about deciding whether we're prepared for the weather. I said that I'm safe from today's weather if...\n",
    "- I have an umbrella...\n",
    "- or if the rain isn't too heavy and I have a hood...\n",
    "- otherwise, I'm still fine unless it's raining *and* it's a workday\n",
    "\n",
    "The function below uses our first attempt at turning this logic into a Python expression. I claimed that there was a bug in that code. Can you find it?\n",
    "\n",
    "To prove that `prepared_for_weather` is buggy, come up with a set of inputs where either:\n",
    "- the function returns `False` (but should have returned `True`), or\n",
    "- the function returned `True` (but should have returned `False`).\n",
    "\n",
    "To get credit for completing this question, your code should return a <font color='#33cc33'>Correct</font> result."
   ]
  },
  {
   "cell_type": "code",
   "execution_count": 8,
   "id": "02d77608",
   "metadata": {
    "execution": {
     "iopub.execute_input": "2024-02-20T07:22:39.849284Z",
     "iopub.status.busy": "2024-02-20T07:22:39.848936Z",
     "iopub.status.idle": "2024-02-20T07:22:39.859928Z",
     "shell.execute_reply": "2024-02-20T07:22:39.858910Z"
    },
    "papermill": {
     "duration": 0.024671,
     "end_time": "2024-02-20T07:22:39.862075",
     "exception": false,
     "start_time": "2024-02-20T07:22:39.837404",
     "status": "completed"
    },
    "tags": []
   },
   "outputs": [
    {
     "name": "stdout",
     "output_type": "stream",
     "text": [
      "True\n"
     ]
    },
    {
     "data": {
      "application/javascript": [
       "parent.postMessage({\"jupyterEvent\": \"custom.exercise_interaction\", \"data\": {\"outcomeType\": 2, \"failureMessage\": \"Given `have_umbrella=True`, `rain_level=0.0`, `have_hood=True`, `is_workday=True`, `prepared_for_weather` returned `True`. But I think that's correct. (We want inputs that lead to an incorrect result from `prepared_for_weather`.)\", \"interactionType\": 1, \"questionType\": 1, \"questionId\": \"3_WeatherDebug\", \"learnToolsVersion\": \"0.3.4\", \"valueTowardsCompletion\": 0.0, \"exceptionClass\": \"\", \"trace\": \"\"}}, \"*\")"
      ],
      "text/plain": [
       "<IPython.core.display.Javascript object>"
      ]
     },
     "metadata": {},
     "output_type": "display_data"
    },
    {
     "data": {
      "text/markdown": [
       "<span style=\"color:#cc3333\">Incorrect:</span> Given `have_umbrella=True`, `rain_level=0.0`, `have_hood=True`, `is_workday=True`, `prepared_for_weather` returned `True`. But I think that's correct. (We want inputs that lead to an incorrect result from `prepared_for_weather`.)"
      ],
      "text/plain": [
       "Incorrect: Given `have_umbrella=True`, `rain_level=0.0`, `have_hood=True`, `is_workday=True`, `prepared_for_weather` returned `True`. But I think that's correct. (We want inputs that lead to an incorrect result from `prepared_for_weather`.)"
      ]
     },
     "metadata": {},
     "output_type": "display_data"
    }
   ],
   "source": [
    "def prepared_for_weather(have_umbrella, rain_level, have_hood, is_workday):\n",
    "    # Don't change this code. Our goal is just to find the bug, not fix it!\n",
    "    return have_umbrella or rain_level < 5 and have_hood or not rain_level > 0 and is_workday\n",
    "\n",
    "# Change the values of these inputs so they represent a case where prepared_for_weather\n",
    "# returns the wrong answer.\n",
    "have_umbrella = True\n",
    "rain_level = 0.0\n",
    "have_hood = True\n",
    "is_workday = True\n",
    "\n",
    "# Check what the function returns given the current values of the variables above\n",
    "actual = prepared_for_weather(have_umbrella, rain_level, have_hood, is_workday)\n",
    "print(actual)\n",
    "\n",
    "# Check your answer\n",
    "q3.check()"
   ]
  },
  {
   "cell_type": "code",
   "execution_count": 9,
   "id": "1a0258f0",
   "metadata": {
    "execution": {
     "iopub.execute_input": "2024-02-20T07:22:39.884801Z",
     "iopub.status.busy": "2024-02-20T07:22:39.884423Z",
     "iopub.status.idle": "2024-02-20T07:22:39.888454Z",
     "shell.execute_reply": "2024-02-20T07:22:39.887358Z"
    },
    "papermill": {
     "duration": 0.018183,
     "end_time": "2024-02-20T07:22:39.890517",
     "exception": false,
     "start_time": "2024-02-20T07:22:39.872334",
     "status": "completed"
    },
    "tags": []
   },
   "outputs": [],
   "source": [
    "#q3.hint()\n",
    "#q3.solution()"
   ]
  },
  {
   "cell_type": "markdown",
   "id": "4ab5d885",
   "metadata": {
    "papermill": {
     "duration": 0.009609,
     "end_time": "2024-02-20T07:22:39.910297",
     "exception": false,
     "start_time": "2024-02-20T07:22:39.900688",
     "status": "completed"
    },
    "tags": []
   },
   "source": [
    "# 4.\n",
    "\n",
    "The function `is_negative` below is implemented correctly - it returns True if the given number is negative and False otherwise.\n",
    "\n",
    "However, it's more verbose than it needs to be. We can actually reduce the number of lines of code in this function by *75%* while keeping the same behaviour. \n",
    "\n",
    "See if you can come up with an equivalent body that uses just **one line** of code, and put it in the function `concise_is_negative`. (HINT: you don't even need Python's ternary syntax)"
   ]
  },
  {
   "cell_type": "code",
   "execution_count": 10,
   "id": "760cb278",
   "metadata": {
    "execution": {
     "iopub.execute_input": "2024-02-20T07:22:39.932217Z",
     "iopub.status.busy": "2024-02-20T07:22:39.931782Z",
     "iopub.status.idle": "2024-02-20T07:22:39.941215Z",
     "shell.execute_reply": "2024-02-20T07:22:39.940171Z"
    },
    "papermill": {
     "duration": 0.022999,
     "end_time": "2024-02-20T07:22:39.943423",
     "exception": false,
     "start_time": "2024-02-20T07:22:39.920424",
     "status": "completed"
    },
    "tags": []
   },
   "outputs": [
    {
     "data": {
      "application/javascript": [
       "parent.postMessage({\"jupyterEvent\": \"custom.exercise_interaction\", \"data\": {\"outcomeType\": 1, \"valueTowardsCompletion\": 0.2, \"interactionType\": 1, \"questionType\": 2, \"questionId\": \"4_ConciseIsNegative\", \"learnToolsVersion\": \"0.3.4\", \"failureMessage\": \"\", \"exceptionClass\": \"\", \"trace\": \"\"}}, \"*\")"
      ],
      "text/plain": [
       "<IPython.core.display.Javascript object>"
      ]
     },
     "metadata": {},
     "output_type": "display_data"
    },
    {
     "data": {
      "text/markdown": [
       "<span style=\"color:#33cc33\">Correct</span>"
      ],
      "text/plain": [
       "Correct"
      ]
     },
     "metadata": {},
     "output_type": "display_data"
    }
   ],
   "source": [
    "def is_negative(number):\n",
    "    if number < 0:\n",
    "        return True\n",
    "    else:\n",
    "        return False\n",
    "\n",
    "def concise_is_negative(number):\n",
    "    return number<0\n",
    "\n",
    "# Check your answer\n",
    "q4.check()"
   ]
  },
  {
   "cell_type": "code",
   "execution_count": 11,
   "id": "7f467512",
   "metadata": {
    "execution": {
     "iopub.execute_input": "2024-02-20T07:22:39.965667Z",
     "iopub.status.busy": "2024-02-20T07:22:39.965309Z",
     "iopub.status.idle": "2024-02-20T07:22:39.971359Z",
     "shell.execute_reply": "2024-02-20T07:22:39.969010Z"
    },
    "papermill": {
     "duration": 0.020411,
     "end_time": "2024-02-20T07:22:39.974144",
     "exception": false,
     "start_time": "2024-02-20T07:22:39.953733",
     "status": "completed"
    },
    "tags": []
   },
   "outputs": [],
   "source": [
    "#q4.hint()\n",
    "#q4.solution()"
   ]
  },
  {
   "cell_type": "markdown",
   "id": "9bbcf97b",
   "metadata": {
    "papermill": {
     "duration": 0.00988,
     "end_time": "2024-02-20T07:22:39.994553",
     "exception": false,
     "start_time": "2024-02-20T07:22:39.984673",
     "status": "completed"
    },
    "tags": []
   },
   "source": [
    "# 5a.\n",
    "\n",
    "The boolean variables `ketchup`, `mustard` and `onion` represent whether a customer wants a particular topping on their hot dog. We want to implement a number of boolean functions that correspond to some yes-or-no questions about the customer's order. For example:"
   ]
  },
  {
   "cell_type": "code",
   "execution_count": 12,
   "id": "31e5b310",
   "metadata": {
    "execution": {
     "iopub.execute_input": "2024-02-20T07:22:40.017505Z",
     "iopub.status.busy": "2024-02-20T07:22:40.017113Z",
     "iopub.status.idle": "2024-02-20T07:22:40.021954Z",
     "shell.execute_reply": "2024-02-20T07:22:40.020781Z"
    },
    "papermill": {
     "duration": 0.019376,
     "end_time": "2024-02-20T07:22:40.024308",
     "exception": false,
     "start_time": "2024-02-20T07:22:40.004932",
     "status": "completed"
    },
    "tags": []
   },
   "outputs": [],
   "source": [
    "def onionless(ketchup, mustard, onion):\n",
    "    \"\"\"Return whether the customer doesn't want onions.\n",
    "    \"\"\"\n",
    "    return not onion"
   ]
  },
  {
   "cell_type": "code",
   "execution_count": 13,
   "id": "cad82951",
   "metadata": {
    "execution": {
     "iopub.execute_input": "2024-02-20T07:22:40.047503Z",
     "iopub.status.busy": "2024-02-20T07:22:40.047115Z",
     "iopub.status.idle": "2024-02-20T07:22:40.054714Z",
     "shell.execute_reply": "2024-02-20T07:22:40.053920Z"
    },
    "papermill": {
     "duration": 0.021359,
     "end_time": "2024-02-20T07:22:40.056699",
     "exception": false,
     "start_time": "2024-02-20T07:22:40.035340",
     "status": "completed"
    },
    "tags": []
   },
   "outputs": [
    {
     "data": {
      "application/javascript": [
       "parent.postMessage({\"jupyterEvent\": \"custom.exercise_interaction\", \"data\": {\"outcomeType\": 1, \"valueTowardsCompletion\": 0.2, \"interactionType\": 1, \"questionType\": 2, \"questionId\": \"5.1_AllToppings\", \"learnToolsVersion\": \"0.3.4\", \"failureMessage\": \"\", \"exceptionClass\": \"\", \"trace\": \"\"}}, \"*\")"
      ],
      "text/plain": [
       "<IPython.core.display.Javascript object>"
      ]
     },
     "metadata": {},
     "output_type": "display_data"
    },
    {
     "data": {
      "text/markdown": [
       "<span style=\"color:#33cc33\">Correct</span>"
      ],
      "text/plain": [
       "Correct"
      ]
     },
     "metadata": {},
     "output_type": "display_data"
    }
   ],
   "source": [
    "def wants_all_toppings(ketchup, mustard, onion):\n",
    "    \"\"\"Return whether the customer wants \"the works\" (all 3 toppings)\n",
    "    \"\"\"\n",
    "    return ketchup&mustard&onion\n",
    "\n",
    "# Check your answer\n",
    "q5.a.check()"
   ]
  },
  {
   "cell_type": "code",
   "execution_count": 14,
   "id": "235ca566",
   "metadata": {
    "execution": {
     "iopub.execute_input": "2024-02-20T07:22:40.080453Z",
     "iopub.status.busy": "2024-02-20T07:22:40.079784Z",
     "iopub.status.idle": "2024-02-20T07:22:40.083577Z",
     "shell.execute_reply": "2024-02-20T07:22:40.082748Z"
    },
    "papermill": {
     "duration": 0.018279,
     "end_time": "2024-02-20T07:22:40.085590",
     "exception": false,
     "start_time": "2024-02-20T07:22:40.067311",
     "status": "completed"
    },
    "tags": []
   },
   "outputs": [],
   "source": [
    "#q5.a.hint()\n",
    "#q5.a.solution()"
   ]
  },
  {
   "cell_type": "markdown",
   "id": "27e48182",
   "metadata": {
    "papermill": {
     "duration": 0.011032,
     "end_time": "2024-02-20T07:22:40.107416",
     "exception": false,
     "start_time": "2024-02-20T07:22:40.096384",
     "status": "completed"
    },
    "tags": []
   },
   "source": [
    "# 5b.\n",
    "\n",
    "For the next function, fill in the body to match the English description in the docstring. "
   ]
  },
  {
   "cell_type": "code",
   "execution_count": 15,
   "id": "5ed96299",
   "metadata": {
    "execution": {
     "iopub.execute_input": "2024-02-20T07:22:40.130961Z",
     "iopub.status.busy": "2024-02-20T07:22:40.130528Z",
     "iopub.status.idle": "2024-02-20T07:22:40.138877Z",
     "shell.execute_reply": "2024-02-20T07:22:40.138095Z"
    },
    "papermill": {
     "duration": 0.022504,
     "end_time": "2024-02-20T07:22:40.140998",
     "exception": false,
     "start_time": "2024-02-20T07:22:40.118494",
     "status": "completed"
    },
    "tags": []
   },
   "outputs": [
    {
     "data": {
      "application/javascript": [
       "parent.postMessage({\"jupyterEvent\": \"custom.exercise_interaction\", \"data\": {\"outcomeType\": 1, \"valueTowardsCompletion\": 0.2, \"interactionType\": 1, \"questionType\": 2, \"questionId\": \"5.2_PlainDog\", \"learnToolsVersion\": \"0.3.4\", \"failureMessage\": \"\", \"exceptionClass\": \"\", \"trace\": \"\"}}, \"*\")"
      ],
      "text/plain": [
       "<IPython.core.display.Javascript object>"
      ]
     },
     "metadata": {},
     "output_type": "display_data"
    },
    {
     "data": {
      "text/markdown": [
       "<span style=\"color:#33cc33\">Correct:</span> \n",
       "\n",
       "One solution looks like:\n",
       "```python\n",
       "return not ketchup and not mustard and not onion\n",
       "```\n",
       "\n",
       "We can also [\"factor out\" the nots](https://en.wikipedia.org/wiki/De_Morgan%27s_laws) to get:\n",
       "\n",
       "```python\n",
       "return not (ketchup or mustard or onion)\n",
       "```"
      ],
      "text/plain": [
       "Correct: \n",
       "\n",
       "One solution looks like:\n",
       "```python\n",
       "return not ketchup and not mustard and not onion\n",
       "```\n",
       "\n",
       "We can also [\"factor out\" the nots](https://en.wikipedia.org/wiki/De_Morgan%27s_laws) to get:\n",
       "\n",
       "```python\n",
       "return not (ketchup or mustard or onion)\n",
       "```"
      ]
     },
     "metadata": {},
     "output_type": "display_data"
    }
   ],
   "source": [
    "def wants_plain_hotdog(ketchup, mustard, onion):\n",
    "    \"\"\"Return whether the customer wants a plain hot dog with no toppings.\n",
    "    \"\"\"\n",
    "    return not (ketchup or mustard or onion)\n",
    "\n",
    "# Check your answer\n",
    "q5.b.check()"
   ]
  },
  {
   "cell_type": "code",
   "execution_count": 16,
   "id": "e454c49e",
   "metadata": {
    "execution": {
     "iopub.execute_input": "2024-02-20T07:22:40.164743Z",
     "iopub.status.busy": "2024-02-20T07:22:40.164056Z",
     "iopub.status.idle": "2024-02-20T07:22:40.167720Z",
     "shell.execute_reply": "2024-02-20T07:22:40.166916Z"
    },
    "papermill": {
     "duration": 0.017975,
     "end_time": "2024-02-20T07:22:40.169874",
     "exception": false,
     "start_time": "2024-02-20T07:22:40.151899",
     "status": "completed"
    },
    "tags": []
   },
   "outputs": [],
   "source": [
    "#q5.b.hint()\n",
    "#q5.b.solution()"
   ]
  },
  {
   "cell_type": "markdown",
   "id": "38ef7e5a",
   "metadata": {
    "papermill": {
     "duration": 0.010518,
     "end_time": "2024-02-20T07:22:40.191459",
     "exception": false,
     "start_time": "2024-02-20T07:22:40.180941",
     "status": "completed"
    },
    "tags": []
   },
   "source": [
    "# 5c.\n",
    "\n",
    "You know what to do: for the next function, fill in the body to match the English description in the docstring."
   ]
  },
  {
   "cell_type": "code",
   "execution_count": 17,
   "id": "1ca28e24",
   "metadata": {
    "execution": {
     "iopub.execute_input": "2024-02-20T07:22:40.215963Z",
     "iopub.status.busy": "2024-02-20T07:22:40.215109Z",
     "iopub.status.idle": "2024-02-20T07:22:40.223998Z",
     "shell.execute_reply": "2024-02-20T07:22:40.223121Z"
    },
    "papermill": {
     "duration": 0.023927,
     "end_time": "2024-02-20T07:22:40.226673",
     "exception": false,
     "start_time": "2024-02-20T07:22:40.202746",
     "status": "completed"
    },
    "tags": []
   },
   "outputs": [
    {
     "data": {
      "application/javascript": [
       "parent.postMessage({\"jupyterEvent\": \"custom.exercise_interaction\", \"data\": {\"outcomeType\": 1, \"valueTowardsCompletion\": 0.2, \"interactionType\": 1, \"questionType\": 2, \"questionId\": \"5.3_OneSauce\", \"learnToolsVersion\": \"0.3.4\", \"failureMessage\": \"\", \"exceptionClass\": \"\", \"trace\": \"\"}}, \"*\")"
      ],
      "text/plain": [
       "<IPython.core.display.Javascript object>"
      ]
     },
     "metadata": {},
     "output_type": "display_data"
    },
    {
     "data": {
      "text/markdown": [
       "<span style=\"color:#33cc33\">Correct</span>"
      ],
      "text/plain": [
       "Correct"
      ]
     },
     "metadata": {},
     "output_type": "display_data"
    }
   ],
   "source": [
    "def exactly_one_sauce(ketchup, mustard, onion):\n",
    "    \"\"\"Return whether the customer wants either ketchup or mustard, but not both.\n",
    "    (You may be familiar with this operation under the name \"exclusive or\")\n",
    "    \"\"\"\n",
    "    return ketchup + mustard  ==1\n",
    "\n",
    "# Check your answer\n",
    "q5.c.check()"
   ]
  },
  {
   "cell_type": "code",
   "execution_count": 18,
   "id": "0545e11a",
   "metadata": {
    "execution": {
     "iopub.execute_input": "2024-02-20T07:22:40.250978Z",
     "iopub.status.busy": "2024-02-20T07:22:40.250543Z",
     "iopub.status.idle": "2024-02-20T07:22:40.254779Z",
     "shell.execute_reply": "2024-02-20T07:22:40.253635Z"
    },
    "papermill": {
     "duration": 0.019486,
     "end_time": "2024-02-20T07:22:40.257396",
     "exception": false,
     "start_time": "2024-02-20T07:22:40.237910",
     "status": "completed"
    },
    "tags": []
   },
   "outputs": [],
   "source": [
    "#q5.c.hint()\n",
    "#q5.c.solution()"
   ]
  },
  {
   "cell_type": "markdown",
   "id": "12e6a343",
   "metadata": {
    "papermill": {
     "duration": 0.011272,
     "end_time": "2024-02-20T07:22:40.280353",
     "exception": false,
     "start_time": "2024-02-20T07:22:40.269081",
     "status": "completed"
    },
    "tags": []
   },
   "source": [
    "# 6. <span title=\"A bit spicy\" style=\"color: darkgreen \">🌶️</span>\n",
    "\n",
    "We’ve seen that calling `bool()` on an integer returns `False` if it’s equal to 0 and `True` otherwise. What happens if we call `int()` on a bool? Try it out in the notebook cell below.\n",
    "\n",
    "Can you take advantage of this to write a succinct function that corresponds to the English sentence \"does the customer want exactly one topping?\"?"
   ]
  },
  {
   "cell_type": "code",
   "execution_count": 19,
   "id": "5563c184",
   "metadata": {
    "execution": {
     "iopub.execute_input": "2024-02-20T07:22:40.304658Z",
     "iopub.status.busy": "2024-02-20T07:22:40.304292Z",
     "iopub.status.idle": "2024-02-20T07:22:40.314197Z",
     "shell.execute_reply": "2024-02-20T07:22:40.312916Z"
    },
    "papermill": {
     "duration": 0.024949,
     "end_time": "2024-02-20T07:22:40.316654",
     "exception": false,
     "start_time": "2024-02-20T07:22:40.291705",
     "status": "completed"
    },
    "tags": []
   },
   "outputs": [
    {
     "data": {
      "application/javascript": [
       "parent.postMessage({\"jupyterEvent\": \"custom.exercise_interaction\", \"data\": {\"outcomeType\": 1, \"valueTowardsCompletion\": 0.2, \"interactionType\": 1, \"questionType\": 2, \"questionId\": \"6_OneTopping\", \"learnToolsVersion\": \"0.3.4\", \"failureMessage\": \"\", \"exceptionClass\": \"\", \"trace\": \"\"}}, \"*\")"
      ],
      "text/plain": [
       "<IPython.core.display.Javascript object>"
      ]
     },
     "metadata": {},
     "output_type": "display_data"
    },
    {
     "data": {
      "text/markdown": [
       "<span style=\"color:#33cc33\">Correct:</span> \n",
       "\n",
       "This condition would be pretty complicated to express using just `and`, `or` and `not`, but using boolean-to-integer conversion gives us this short solution:\n",
       "```python\n",
       "return (int(ketchup) + int(mustard) + int(onion)) == 1\n",
       "```\n",
       "\n",
       "Fun fact: we don't technically need to call `int` on the arguments. Just by doing addition with booleans, Python implicitly does the integer conversion. So we could also write...\n",
       "\n",
       "```python\n",
       "return (ketchup + mustard + onion) == 1\n",
       "```"
      ],
      "text/plain": [
       "Correct: \n",
       "\n",
       "This condition would be pretty complicated to express using just `and`, `or` and `not`, but using boolean-to-integer conversion gives us this short solution:\n",
       "```python\n",
       "return (int(ketchup) + int(mustard) + int(onion)) == 1\n",
       "```\n",
       "\n",
       "Fun fact: we don't technically need to call `int` on the arguments. Just by doing addition with booleans, Python implicitly does the integer conversion. So we could also write...\n",
       "\n",
       "```python\n",
       "return (ketchup + mustard + onion) == 1\n",
       "```"
      ]
     },
     "metadata": {},
     "output_type": "display_data"
    }
   ],
   "source": [
    "def exactly_one_topping(ketchup, mustard, onion):\n",
    "    \"\"\"Return whether the customer wants exactly one of the three available toppings\n",
    "    on their hot dog.\n",
    "    \"\"\"\n",
    "    return ketchup + mustard +onion  ==1\n",
    "\n",
    "# Check your answer\n",
    "q6.check()"
   ]
  },
  {
   "cell_type": "code",
   "execution_count": 20,
   "id": "0042c4e4",
   "metadata": {
    "execution": {
     "iopub.execute_input": "2024-02-20T07:22:40.402364Z",
     "iopub.status.busy": "2024-02-20T07:22:40.401483Z",
     "iopub.status.idle": "2024-02-20T07:22:40.406259Z",
     "shell.execute_reply": "2024-02-20T07:22:40.405001Z"
    },
    "papermill": {
     "duration": 0.079994,
     "end_time": "2024-02-20T07:22:40.408745",
     "exception": false,
     "start_time": "2024-02-20T07:22:40.328751",
     "status": "completed"
    },
    "tags": []
   },
   "outputs": [],
   "source": [
    "#q6.hint()\n",
    "#q6.solution()"
   ]
  },
  {
   "cell_type": "markdown",
   "id": "77921886",
   "metadata": {
    "papermill": {
     "duration": 0.01132,
     "end_time": "2024-02-20T07:22:40.431865",
     "exception": false,
     "start_time": "2024-02-20T07:22:40.420545",
     "status": "completed"
    },
    "tags": []
   },
   "source": [
    "# 7. <span title=\"A bit spicy\" style=\"color: darkgreen \">🌶️</span> (Optional)\n",
    "\n",
    "In this problem we'll be working with a simplified version of [blackjack](https://en.wikipedia.org/wiki/Blackjack) (aka twenty-one). In this version there is one player (who you'll control) and a dealer. Play proceeds as follows:\n",
    "\n",
    "- The player is dealt two face-up cards. The dealer is dealt one face-up card.\n",
    "- The player may ask to be dealt another card ('hit') as many times as they wish. If the sum of their cards exceeds 21, they lose the round immediately.\n",
    "- The dealer then deals additional cards to himself until either:\n",
    "    - the sum of the dealer's cards exceeds 21, in which case the player wins the round\n",
    "    - the sum of the dealer's cards is greater than or equal to 17. If the player's total is greater than the dealer's, the player wins. Otherwise, the dealer wins (even in case of a tie).\n",
    "    \n",
    "When calculating the sum of cards, Jack, Queen, and King count for 10. Aces can count as 1 or 11 (when referring to a player's \"total\" above, we mean the largest total that can be made without exceeding 21. So e.g. A+8 = 19, A+8+8 = 17)\n",
    "\n",
    "For this problem, you'll write a function representing the player's decision-making strategy in this game. We've provided a very unintelligent implementation below:"
   ]
  },
  {
   "cell_type": "code",
   "execution_count": 21,
   "id": "87624edc",
   "metadata": {
    "execution": {
     "iopub.execute_input": "2024-02-20T07:22:40.457049Z",
     "iopub.status.busy": "2024-02-20T07:22:40.456676Z",
     "iopub.status.idle": "2024-02-20T07:22:40.461644Z",
     "shell.execute_reply": "2024-02-20T07:22:40.460428Z"
    },
    "papermill": {
     "duration": 0.019791,
     "end_time": "2024-02-20T07:22:40.463738",
     "exception": false,
     "start_time": "2024-02-20T07:22:40.443947",
     "status": "completed"
    },
    "tags": []
   },
   "outputs": [],
   "source": [
    "def should_hit(dealer_total, player_total, player_low_aces, player_high_aces):\n",
    "    \"\"\"Return True if the player should hit (request another card) given the current game\n",
    "    state, or False if the player should stay.\n",
    "    When calculating a hand's total value, we count aces as \"high\" (with value 11) if doing so\n",
    "    doesn't bring the total above 21, otherwise we count them as low (with value 1). \n",
    "    For example, if the player's hand is {A, A, A, 7}, we will count it as 11 + 1 + 1 + 7,\n",
    "    and therefore set player_total=20, player_low_aces=2, player_high_aces=1.\n",
    "    \"\"\"\n",
    "    return False"
   ]
  },
  {
   "cell_type": "markdown",
   "id": "f8fb240e",
   "metadata": {
    "papermill": {
     "duration": 0.011267,
     "end_time": "2024-02-20T07:22:40.486593",
     "exception": false,
     "start_time": "2024-02-20T07:22:40.475326",
     "status": "completed"
    },
    "tags": []
   },
   "source": [
    "This very conservative agent *always* sticks with the hand of two cards that they're dealt.\n",
    "\n",
    "We'll be simulating games between your player agent and our own dealer agent by calling your function.\n",
    "\n",
    "Try running the function below to see an example of a simulated game:"
   ]
  },
  {
   "cell_type": "code",
   "execution_count": 22,
   "id": "ab57db00",
   "metadata": {
    "execution": {
     "iopub.execute_input": "2024-02-20T07:22:40.511141Z",
     "iopub.status.busy": "2024-02-20T07:22:40.510733Z",
     "iopub.status.idle": "2024-02-20T07:22:40.516164Z",
     "shell.execute_reply": "2024-02-20T07:22:40.515128Z"
    },
    "papermill": {
     "duration": 0.020331,
     "end_time": "2024-02-20T07:22:40.518337",
     "exception": false,
     "start_time": "2024-02-20T07:22:40.498006",
     "status": "completed"
    },
    "tags": []
   },
   "outputs": [
    {
     "name": "stdout",
     "output_type": "stream",
     "text": [
      "Player starts with 5 and A (total = 16)\n",
      "Dealer starts with 3\n",
      "\n",
      "__Player's turn__\n",
      "Player stays\n",
      "\n",
      "__Dealer's turn__\n",
      "Dealer hits and receives 2. (total = 5)\n",
      "Dealer hits and receives 9. (total = 14)\n",
      "Dealer hits and receives 5. (total = 19)\n",
      "Dealer stands.\n",
      "Dealer wins. 19 >= 16\n"
     ]
    }
   ],
   "source": [
    "q7.simulate_one_game()"
   ]
  },
  {
   "cell_type": "markdown",
   "id": "b01e32f5",
   "metadata": {
    "papermill": {
     "duration": 0.011251,
     "end_time": "2024-02-20T07:22:40.541567",
     "exception": false,
     "start_time": "2024-02-20T07:22:40.530316",
     "status": "completed"
    },
    "tags": []
   },
   "source": [
    "The real test of your agent's mettle is their average win rate over many games. Try calling the function below to simulate 50000 games of blackjack (it may take a couple seconds):"
   ]
  },
  {
   "cell_type": "code",
   "execution_count": 23,
   "id": "0d8751f0",
   "metadata": {
    "execution": {
     "iopub.execute_input": "2024-02-20T07:22:40.565997Z",
     "iopub.status.busy": "2024-02-20T07:22:40.565559Z",
     "iopub.status.idle": "2024-02-20T07:22:41.950079Z",
     "shell.execute_reply": "2024-02-20T07:22:41.948943Z"
    },
    "papermill": {
     "duration": 1.399596,
     "end_time": "2024-02-20T07:22:41.952535",
     "exception": false,
     "start_time": "2024-02-20T07:22:40.552939",
     "status": "completed"
    },
    "tags": []
   },
   "outputs": [
    {
     "name": "stdout",
     "output_type": "stream",
     "text": [
      "Player won 19185 out of 50000 games (win rate = 38.4%)\n"
     ]
    }
   ],
   "source": [
    "q7.simulate(n_games=50000)"
   ]
  },
  {
   "cell_type": "markdown",
   "id": "19c44eb9",
   "metadata": {
    "papermill": {
     "duration": 0.011406,
     "end_time": "2024-02-20T07:22:41.975766",
     "exception": false,
     "start_time": "2024-02-20T07:22:41.964360",
     "status": "completed"
    },
    "tags": []
   },
   "source": [
    "Our dumb agent that completely ignores the game state still manages to win shockingly often!\n",
    "\n",
    "Try adding some more smarts to the `should_hit` function and see how it affects the results."
   ]
  },
  {
   "cell_type": "code",
   "execution_count": 24,
   "id": "825db3b1",
   "metadata": {
    "execution": {
     "iopub.execute_input": "2024-02-20T07:22:42.003887Z",
     "iopub.status.busy": "2024-02-20T07:22:42.003509Z",
     "iopub.status.idle": "2024-02-20T07:22:43.611283Z",
     "shell.execute_reply": "2024-02-20T07:22:43.610212Z"
    },
    "papermill": {
     "duration": 1.623773,
     "end_time": "2024-02-20T07:22:43.614009",
     "exception": false,
     "start_time": "2024-02-20T07:22:41.990236",
     "status": "completed"
    },
    "tags": []
   },
   "outputs": [
    {
     "name": "stdout",
     "output_type": "stream",
     "text": [
      "Player won 20782 out of 50000 games (win rate = 41.6%)\n"
     ]
    }
   ],
   "source": [
    "def should_hit(dealer_total, player_total, player_low_aces, player_high_aces):\n",
    "    \"\"\"Return True if the player should hit (request another card) given the current game\n",
    "    state, or False if the player should stay.\n",
    "    When calculating a hand's total value, we count aces as \"high\" (with value 11) if doing so\n",
    "    doesn't bring the total above 21, otherwise we count them as low (with value 1). \n",
    "    For example, if the player's hand is {A, A, A, 7}, we will count it as 11 + 1 + 1 + 7,\n",
    "    and therefore set player_total=20, player_low_aces=2, player_high_aces=1.\n",
    "   \"\"\"\n",
    "   \n",
    "    if (player_low_aces<=2) and ((player_total<14) or (player_total<dealer_total)):\n",
    "        return True\n",
    "    elif (player_high_aces==1) and ((player_total>=14) or (player_total>dealer_total)):\n",
    "        return False\n",
    "    elif (player_high_aces==1) and ((player_total<14) or (player_total<dealer_total)):\n",
    "        return False\n",
    "    elif (player_high_aces<1) and (player_low_aces<=3) and((player_total<14) or (player_total<dealer_total)):\n",
    "        return True\n",
    "    else:\n",
    "        return False\n",
    "    \n",
    "#     if (player_total < 14) and(player_total<dealer_total):\n",
    "#         return True\n",
    "#     elif (player_total > 14) and (player_total>dealer_total):\n",
    "#         return False\n",
    "#     else:\n",
    "#         return False\n",
    "    \n",
    "\n",
    "\n",
    "q7.simulate(n_games=50000)"
   ]
  },
  {
   "cell_type": "markdown",
   "id": "09da1784",
   "metadata": {
    "papermill": {
     "duration": 0.01259,
     "end_time": "2024-02-20T07:22:43.638315",
     "exception": false,
     "start_time": "2024-02-20T07:22:43.625725",
     "status": "completed"
    },
    "tags": []
   },
   "source": [
    "# Keep Going\n",
    "\n",
    "Learn about **[lists and tuples](https://www.kaggle.com/colinmorris/lists)** to handle multiple items of data in a systematic way."
   ]
  },
  {
   "cell_type": "markdown",
   "id": "cf05a00f",
   "metadata": {
    "papermill": {
     "duration": 0.011289,
     "end_time": "2024-02-20T07:22:43.661692",
     "exception": false,
     "start_time": "2024-02-20T07:22:43.650403",
     "status": "completed"
    },
    "tags": []
   },
   "source": [
    "---\n",
    "\n",
    "\n",
    "\n",
    "\n",
    "*Have questions or comments? Visit the [course discussion forum](https://www.kaggle.com/learn/python/discussion) to chat with other learners.*"
   ]
  }
 ],
 "metadata": {
  "kaggle": {
   "accelerator": "none",
   "dataSources": [],
   "isGpuEnabled": false,
   "isInternetEnabled": false,
   "language": "python",
   "sourceType": "notebook"
  },
  "kernelspec": {
   "display_name": "Python 3",
   "language": "python",
   "name": "python3"
  },
  "language_info": {
   "codemirror_mode": {
    "name": "ipython",
    "version": 3
   },
   "file_extension": ".py",
   "mimetype": "text/x-python",
   "name": "python",
   "nbconvert_exporter": "python",
   "pygments_lexer": "ipython3",
   "version": "3.10.13"
  },
  "learntools_metadata": {
   "lesson_index": 2,
   "type": "exercise"
  },
  "papermill": {
   "default_parameters": {},
   "duration": 8.528604,
   "end_time": "2024-02-20T07:22:44.094284",
   "environment_variables": {},
   "exception": null,
   "input_path": "__notebook__.ipynb",
   "output_path": "__notebook__.ipynb",
   "parameters": {},
   "start_time": "2024-02-20T07:22:35.565680",
   "version": "2.5.0"
  }
 },
 "nbformat": 4,
 "nbformat_minor": 5
}
