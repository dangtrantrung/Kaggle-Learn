{
 "cells": [
  {
   "cell_type": "markdown",
   "id": "190c483d",
   "metadata": {
    "papermill": {
     "duration": 0.014091,
     "end_time": "2024-02-24T05:46:44.486771",
     "exception": false,
     "start_time": "2024-02-24T05:46:44.472680",
     "status": "completed"
    },
    "tags": []
   },
   "source": [
    "**This notebook is an exercise in the [Python](https://www.kaggle.com/learn/python) course.  You can reference the tutorial at [this link](https://www.kaggle.com/colinmorris/booleans-and-conditionals).**\n",
    "\n",
    "---\n"
   ]
  },
  {
   "cell_type": "markdown",
   "id": "3e93afd4",
   "metadata": {
    "papermill": {
     "duration": 0.011595,
     "end_time": "2024-02-24T05:46:44.511738",
     "exception": false,
     "start_time": "2024-02-24T05:46:44.500143",
     "status": "completed"
    },
    "tags": []
   },
   "source": [
    "In this exercise, you'll put to work what you have learned about booleans and conditionals.\n",
    "\n",
    "To get started, **run the setup code below** before writing your own code (and if you leave this notebook and come back later, don't forget to run the setup code again)."
   ]
  },
  {
   "cell_type": "code",
   "execution_count": 1,
   "id": "b5261dfd",
   "metadata": {
    "execution": {
     "iopub.execute_input": "2024-02-24T05:46:44.538485Z",
     "iopub.status.busy": "2024-02-24T05:46:44.537292Z",
     "iopub.status.idle": "2024-02-24T05:46:45.484434Z",
     "shell.execute_reply": "2024-02-24T05:46:45.483058Z"
    },
    "papermill": {
     "duration": 0.963462,
     "end_time": "2024-02-24T05:46:45.487263",
     "exception": false,
     "start_time": "2024-02-24T05:46:44.523801",
     "status": "completed"
    },
    "tags": []
   },
   "outputs": [
    {
     "name": "stdout",
     "output_type": "stream",
     "text": [
      "Setup complete.\n"
     ]
    }
   ],
   "source": [
    "from learntools.core import binder; binder.bind(globals())\n",
    "from learntools.python.ex3 import *\n",
    "print('Setup complete.')"
   ]
  },
  {
   "cell_type": "markdown",
   "id": "2f00bc7d",
   "metadata": {
    "papermill": {
     "duration": 0.011837,
     "end_time": "2024-02-24T05:46:45.511462",
     "exception": false,
     "start_time": "2024-02-24T05:46:45.499625",
     "status": "completed"
    },
    "tags": []
   },
   "source": [
    "# 1.\n",
    "\n",
    "Many programming languages have [`sign`](https://en.wikipedia.org/wiki/Sign_function) available as a built-in function. Python doesn't, but we can define our own!\n",
    "\n",
    "In the cell below, define a function called `sign` which takes a numerical argument and returns -1 if it's negative, 1 if it's positive, and 0 if it's 0."
   ]
  },
  {
   "cell_type": "code",
   "execution_count": 2,
   "id": "35a037d7",
   "metadata": {
    "execution": {
     "iopub.execute_input": "2024-02-24T05:46:45.538066Z",
     "iopub.status.busy": "2024-02-24T05:46:45.537533Z",
     "iopub.status.idle": "2024-02-24T05:46:45.548838Z",
     "shell.execute_reply": "2024-02-24T05:46:45.547693Z"
    },
    "papermill": {
     "duration": 0.027599,
     "end_time": "2024-02-24T05:46:45.551435",
     "exception": false,
     "start_time": "2024-02-24T05:46:45.523836",
     "status": "completed"
    },
    "tags": []
   },
   "outputs": [
    {
     "data": {
      "application/javascript": [
       "parent.postMessage({\"jupyterEvent\": \"custom.exercise_interaction\", \"data\": {\"outcomeType\": 1, \"valueTowardsCompletion\": 0.2, \"interactionType\": 1, \"questionType\": 2, \"questionId\": \"1_SignFunctionProblem\", \"learnToolsVersion\": \"0.3.4\", \"failureMessage\": \"\", \"exceptionClass\": \"\", \"trace\": \"\"}}, \"*\")"
      ],
      "text/plain": [
       "<IPython.core.display.Javascript object>"
      ]
     },
     "metadata": {},
     "output_type": "display_data"
    },
    {
     "data": {
      "text/markdown": [
       "<span style=\"color:#33cc33\">Correct</span>"
      ],
      "text/plain": [
       "Correct"
      ]
     },
     "metadata": {},
     "output_type": "display_data"
    }
   ],
   "source": [
    "# Your code goes here. Define a function called 'sign'\n",
    "def sign(num):\n",
    "    if num<0:\n",
    "        return -1\n",
    "    elif num>0:\n",
    "        return 1\n",
    "    else:\n",
    "        return 0\n",
    "\n",
    "# Check your answer\n",
    "q1.check()"
   ]
  },
  {
   "cell_type": "code",
   "execution_count": 3,
   "id": "3d6c0e4f",
   "metadata": {
    "execution": {
     "iopub.execute_input": "2024-02-24T05:46:45.579604Z",
     "iopub.status.busy": "2024-02-24T05:46:45.579222Z",
     "iopub.status.idle": "2024-02-24T05:46:45.584095Z",
     "shell.execute_reply": "2024-02-24T05:46:45.582873Z"
    },
    "papermill": {
     "duration": 0.022216,
     "end_time": "2024-02-24T05:46:45.586299",
     "exception": false,
     "start_time": "2024-02-24T05:46:45.564083",
     "status": "completed"
    },
    "tags": []
   },
   "outputs": [],
   "source": [
    "#q1.solution()"
   ]
  },
  {
   "cell_type": "markdown",
   "id": "cf2f34e1",
   "metadata": {
    "papermill": {
     "duration": 0.01233,
     "end_time": "2024-02-24T05:46:45.611259",
     "exception": false,
     "start_time": "2024-02-24T05:46:45.598929",
     "status": "completed"
    },
    "tags": []
   },
   "source": [
    "# 2.\n",
    "\n",
    "We've decided to add \"logging\" to our `to_smash` function from the previous exercise."
   ]
  },
  {
   "cell_type": "code",
   "execution_count": 4,
   "id": "acd75077",
   "metadata": {
    "execution": {
     "iopub.execute_input": "2024-02-24T05:46:45.638517Z",
     "iopub.status.busy": "2024-02-24T05:46:45.637811Z",
     "iopub.status.idle": "2024-02-24T05:46:45.645710Z",
     "shell.execute_reply": "2024-02-24T05:46:45.644572Z"
    },
    "papermill": {
     "duration": 0.023999,
     "end_time": "2024-02-24T05:46:45.647933",
     "exception": false,
     "start_time": "2024-02-24T05:46:45.623934",
     "status": "completed"
    },
    "tags": []
   },
   "outputs": [
    {
     "name": "stdout",
     "output_type": "stream",
     "text": [
      "Splitting 91 candies\n"
     ]
    },
    {
     "data": {
      "text/plain": [
       "1"
      ]
     },
     "execution_count": 4,
     "metadata": {},
     "output_type": "execute_result"
    }
   ],
   "source": [
    "def to_smash(total_candies):\n",
    "    \"\"\"Return the number of leftover candies that must be smashed after distributing\n",
    "    the given number of candies evenly between 3 friends.\n",
    "    \n",
    "    >>> to_smash(91)\n",
    "    1\n",
    "    \"\"\"\n",
    "    print(\"Splitting\", total_candies, \"candies\")\n",
    "    return total_candies % 3\n",
    "\n",
    "to_smash(91)"
   ]
  },
  {
   "cell_type": "markdown",
   "id": "a046ccab",
   "metadata": {
    "papermill": {
     "duration": 0.012293,
     "end_time": "2024-02-24T05:46:45.672997",
     "exception": false,
     "start_time": "2024-02-24T05:46:45.660704",
     "status": "completed"
    },
    "tags": []
   },
   "source": [
    "What happens if we call it with `total_candies = 1`?"
   ]
  },
  {
   "cell_type": "code",
   "execution_count": 5,
   "id": "372f17ee",
   "metadata": {
    "execution": {
     "iopub.execute_input": "2024-02-24T05:46:45.701170Z",
     "iopub.status.busy": "2024-02-24T05:46:45.699933Z",
     "iopub.status.idle": "2024-02-24T05:46:45.708016Z",
     "shell.execute_reply": "2024-02-24T05:46:45.706980Z"
    },
    "papermill": {
     "duration": 0.0246,
     "end_time": "2024-02-24T05:46:45.710451",
     "exception": false,
     "start_time": "2024-02-24T05:46:45.685851",
     "status": "completed"
    },
    "tags": []
   },
   "outputs": [
    {
     "name": "stdout",
     "output_type": "stream",
     "text": [
      "Splitting 1 candies\n"
     ]
    },
    {
     "data": {
      "text/plain": [
       "1"
      ]
     },
     "execution_count": 5,
     "metadata": {},
     "output_type": "execute_result"
    }
   ],
   "source": [
    "to_smash(1)"
   ]
  },
  {
   "cell_type": "markdown",
   "id": "794f5778",
   "metadata": {
    "papermill": {
     "duration": 0.012596,
     "end_time": "2024-02-24T05:46:45.736138",
     "exception": false,
     "start_time": "2024-02-24T05:46:45.723542",
     "status": "completed"
    },
    "tags": []
   },
   "source": [
    "That isn't great grammar!\n",
    "\n",
    "Modify the definition in the cell below to correct the grammar of our print statement. (If there's only one candy, we should use the singular \"candy\" instead of the plural \"candies\")"
   ]
  },
  {
   "cell_type": "code",
   "execution_count": 6,
   "id": "749c432a",
   "metadata": {
    "execution": {
     "iopub.execute_input": "2024-02-24T05:46:45.763943Z",
     "iopub.status.busy": "2024-02-24T05:46:45.763208Z",
     "iopub.status.idle": "2024-02-24T05:46:45.773758Z",
     "shell.execute_reply": "2024-02-24T05:46:45.772709Z"
    },
    "papermill": {
     "duration": 0.027322,
     "end_time": "2024-02-24T05:46:45.776408",
     "exception": false,
     "start_time": "2024-02-24T05:46:45.749086",
     "status": "completed"
    },
    "tags": []
   },
   "outputs": [
    {
     "name": "stdout",
     "output_type": "stream",
     "text": [
      "Splitting 91 candies\n",
      "Splitting 1 candy\n"
     ]
    },
    {
     "data": {
      "application/javascript": [
       "parent.postMessage({\"jupyterEvent\": \"custom.exercise_interaction\", \"data\": {\"outcomeType\": 1, \"valueTowardsCompletion\": 0.2, \"interactionType\": 1, \"questionType\": 4, \"questionId\": \"2_PluralizationProblem\", \"learnToolsVersion\": \"0.3.4\", \"failureMessage\": \"\", \"exceptionClass\": \"\", \"trace\": \"\"}}, \"*\")"
      ],
      "text/plain": [
       "<IPython.core.display.Javascript object>"
      ]
     },
     "metadata": {},
     "output_type": "display_data"
    },
    {
     "data": {
      "text/markdown": [
       "<span style=\"color:#33cc33\">Correct:</span> \n",
       "\n",
       "A straightforward (and totally fine) solution is to replace the original `print` call with:\n",
       "\n",
       "```python\n",
       "if total_candies == 1:\n",
       "    print(\"Splitting 1 candy\")\n",
       "else:\n",
       "    print(\"Splitting\", total_candies, \"candies\")\n",
       "```\n",
       "\n",
       "Here's a slightly more succinct solution using a conditional expression:\n",
       "\n",
       "```python\n",
       "print(\"Splitting\", total_candies, \"candy\" if total_candies == 1 else \"candies\")\n",
       "```"
      ],
      "text/plain": [
       "Correct: \n",
       "\n",
       "A straightforward (and totally fine) solution is to replace the original `print` call with:\n",
       "\n",
       "```python\n",
       "if total_candies == 1:\n",
       "    print(\"Splitting 1 candy\")\n",
       "else:\n",
       "    print(\"Splitting\", total_candies, \"candies\")\n",
       "```\n",
       "\n",
       "Here's a slightly more succinct solution using a conditional expression:\n",
       "\n",
       "```python\n",
       "print(\"Splitting\", total_candies, \"candy\" if total_candies == 1 else \"candies\")\n",
       "```"
      ]
     },
     "metadata": {},
     "output_type": "display_data"
    }
   ],
   "source": [
    "def to_smash(total_candies):\n",
    "    \"\"\"Return the number of leftover candies that must be smashed after distributing\n",
    "    the given number of candies evenly between 3 friends.\n",
    "    \n",
    "    >>> to_smash(91)\n",
    "    1\n",
    "    \"\"\"\n",
    "    print(\"Splitting\", total_candies, \"candy\" if total_candies == 1 else \"candies\")\n",
    "    return total_candies % 3\n",
    "\n",
    "to_smash(91)\n",
    "to_smash(1)\n",
    "q2.check()"
   ]
  },
  {
   "cell_type": "markdown",
   "id": "91bfae26",
   "metadata": {
    "papermill": {
     "duration": 0.012994,
     "end_time": "2024-02-24T05:46:45.802683",
     "exception": false,
     "start_time": "2024-02-24T05:46:45.789689",
     "status": "completed"
    },
    "tags": []
   },
   "source": [
    "To get credit for completing this problem, and to see the official answer, run the code cell below."
   ]
  },
  {
   "cell_type": "code",
   "execution_count": 7,
   "id": "33dd4476",
   "metadata": {
    "execution": {
     "iopub.execute_input": "2024-02-24T05:46:45.831263Z",
     "iopub.status.busy": "2024-02-24T05:46:45.830859Z",
     "iopub.status.idle": "2024-02-24T05:46:45.840160Z",
     "shell.execute_reply": "2024-02-24T05:46:45.839083Z"
    },
    "papermill": {
     "duration": 0.026354,
     "end_time": "2024-02-24T05:46:45.842516",
     "exception": false,
     "start_time": "2024-02-24T05:46:45.816162",
     "status": "completed"
    },
    "tags": []
   },
   "outputs": [
    {
     "data": {
      "application/javascript": [
       "parent.postMessage({\"jupyterEvent\": \"custom.exercise_interaction\", \"data\": {\"interactionType\": 3, \"questionType\": 4, \"questionId\": \"2_PluralizationProblem\", \"learnToolsVersion\": \"0.3.4\", \"valueTowardsCompletion\": 0.0, \"failureMessage\": \"\", \"exceptionClass\": \"\", \"trace\": \"\", \"outcomeType\": 4}}, \"*\")"
      ],
      "text/plain": [
       "<IPython.core.display.Javascript object>"
      ]
     },
     "metadata": {},
     "output_type": "display_data"
    },
    {
     "data": {
      "text/markdown": [
       "<span style=\"color:#33cc99\">Solution:</span> A straightforward (and totally fine) solution is to replace the original `print` call with:\n",
       "\n",
       "```python\n",
       "if total_candies == 1:\n",
       "    print(\"Splitting 1 candy\")\n",
       "else:\n",
       "    print(\"Splitting\", total_candies, \"candies\")\n",
       "```\n",
       "\n",
       "Here's a slightly more succinct solution using a conditional expression:\n",
       "\n",
       "```python\n",
       "print(\"Splitting\", total_candies, \"candy\" if total_candies == 1 else \"candies\")\n",
       "```"
      ],
      "text/plain": [
       "Solution: A straightforward (and totally fine) solution is to replace the original `print` call with:\n",
       "\n",
       "```python\n",
       "if total_candies == 1:\n",
       "    print(\"Splitting 1 candy\")\n",
       "else:\n",
       "    print(\"Splitting\", total_candies, \"candies\")\n",
       "```\n",
       "\n",
       "Here's a slightly more succinct solution using a conditional expression:\n",
       "\n",
       "```python\n",
       "print(\"Splitting\", total_candies, \"candy\" if total_candies == 1 else \"candies\")\n",
       "```"
      ]
     },
     "metadata": {},
     "output_type": "display_data"
    }
   ],
   "source": [
    "# Check your answer (Run this code cell to receive credit!)\n",
    "q2.solution()"
   ]
  },
  {
   "cell_type": "markdown",
   "id": "a02cc5a2",
   "metadata": {
    "papermill": {
     "duration": 0.013279,
     "end_time": "2024-02-24T05:46:45.869544",
     "exception": false,
     "start_time": "2024-02-24T05:46:45.856265",
     "status": "completed"
    },
    "tags": []
   },
   "source": [
    "# 3. <span title=\"A bit spicy\" style=\"color: darkgreen \">🌶️</span>\n",
    "\n",
    "In the tutorial, we talked about deciding whether we're prepared for the weather. I said that I'm safe from today's weather if...\n",
    "- I have an umbrella...\n",
    "- or if the rain isn't too heavy and I have a hood...\n",
    "- otherwise, I'm still fine unless it's raining *and* it's a workday\n",
    "\n",
    "The function below uses our first attempt at turning this logic into a Python expression. I claimed that there was a bug in that code. Can you find it?\n",
    "\n",
    "To prove that `prepared_for_weather` is buggy, come up with a set of inputs where either:\n",
    "- the function returns `False` (but should have returned `True`), or\n",
    "- the function returned `True` (but should have returned `False`).\n",
    "\n",
    "To get credit for completing this question, your code should return a <font color='#33cc33'>Correct</font> result."
   ]
  },
  {
   "cell_type": "code",
   "execution_count": 8,
   "id": "28f239f0",
   "metadata": {
    "execution": {
     "iopub.execute_input": "2024-02-24T05:46:45.899008Z",
     "iopub.status.busy": "2024-02-24T05:46:45.898603Z",
     "iopub.status.idle": "2024-02-24T05:46:45.911713Z",
     "shell.execute_reply": "2024-02-24T05:46:45.910509Z"
    },
    "papermill": {
     "duration": 0.030729,
     "end_time": "2024-02-24T05:46:45.914134",
     "exception": false,
     "start_time": "2024-02-24T05:46:45.883405",
     "status": "completed"
    },
    "tags": []
   },
   "outputs": [
    {
     "name": "stdout",
     "output_type": "stream",
     "text": [
      "False\n"
     ]
    },
    {
     "data": {
      "application/javascript": [
       "parent.postMessage({\"jupyterEvent\": \"custom.exercise_interaction\", \"data\": {\"outcomeType\": 1, \"valueTowardsCompletion\": 0.2, \"interactionType\": 1, \"questionType\": 1, \"questionId\": \"3_WeatherDebug\", \"learnToolsVersion\": \"0.3.4\", \"failureMessage\": \"\", \"exceptionClass\": \"\", \"trace\": \"\"}}, \"*\")"
      ],
      "text/plain": [
       "<IPython.core.display.Javascript object>"
      ]
     },
     "metadata": {},
     "output_type": "display_data"
    },
    {
     "data": {
      "text/markdown": [
       "<span style=\"color:#33cc33\">Correct:</span> \n",
       "\n",
       "One example of a failing test case is:\n",
       "\n",
       "```python\n",
       "have_umbrella = False\n",
       "rain_level = 0.0\n",
       "have_hood = False\n",
       "is_workday = False\n",
       "```\n",
       "\n",
       "Clearly we're prepared for the weather in this case. It's not raining. Not only that, it's not a workday, so we don't even need to leave the house! But our function will return False on these inputs.\n",
       "\n",
       "The key problem is that Python implictly parenthesizes the last part as:\n",
       "\n",
       "```python\n",
       "(not (rain_level > 0)) and is_workday\n",
       "```\n",
       "\n",
       "Whereas what we were trying to express would look more like:\n",
       "\n",
       "```python\n",
       "not (rain_level > 0 and is_workday)\n",
       "```\n"
      ],
      "text/plain": [
       "Correct: \n",
       "\n",
       "One example of a failing test case is:\n",
       "\n",
       "```python\n",
       "have_umbrella = False\n",
       "rain_level = 0.0\n",
       "have_hood = False\n",
       "is_workday = False\n",
       "```\n",
       "\n",
       "Clearly we're prepared for the weather in this case. It's not raining. Not only that, it's not a workday, so we don't even need to leave the house! But our function will return False on these inputs.\n",
       "\n",
       "The key problem is that Python implictly parenthesizes the last part as:\n",
       "\n",
       "```python\n",
       "(not (rain_level > 0)) and is_workday\n",
       "```\n",
       "\n",
       "Whereas what we were trying to express would look more like:\n",
       "\n",
       "```python\n",
       "not (rain_level > 0 and is_workday)\n",
       "```"
      ]
     },
     "metadata": {},
     "output_type": "display_data"
    }
   ],
   "source": [
    "def prepared_for_weather(have_umbrella, rain_level, have_hood, is_workday):\n",
    "    # Don't change this code. Our goal is just to find the bug, not fix it!\n",
    "    return have_umbrella or rain_level < 5 and have_hood or not rain_level > 0 and is_workday\n",
    "\n",
    "# Change the values of these inputs so they represent a case where prepared_for_weather\n",
    "# returns the wrong answer.\n",
    "have_umbrella = False\n",
    "rain_level = 0.0\n",
    "have_hood = False\n",
    "is_workday = False\n",
    "\n",
    "# Check what the function returns given the current values of the variables above\n",
    "actual = prepared_for_weather(have_umbrella, rain_level, have_hood, is_workday)\n",
    "print(actual)\n",
    "\n",
    "# Check your answer\n",
    "q3.check()"
   ]
  },
  {
   "cell_type": "code",
   "execution_count": 9,
   "id": "16e60dad",
   "metadata": {
    "execution": {
     "iopub.execute_input": "2024-02-24T05:46:45.944752Z",
     "iopub.status.busy": "2024-02-24T05:46:45.943952Z",
     "iopub.status.idle": "2024-02-24T05:46:45.948238Z",
     "shell.execute_reply": "2024-02-24T05:46:45.947391Z"
    },
    "papermill": {
     "duration": 0.021798,
     "end_time": "2024-02-24T05:46:45.950253",
     "exception": false,
     "start_time": "2024-02-24T05:46:45.928455",
     "status": "completed"
    },
    "tags": []
   },
   "outputs": [],
   "source": [
    "#q3.hint()\n",
    "#q3.solution()"
   ]
  },
  {
   "cell_type": "markdown",
   "id": "a5b54b65",
   "metadata": {
    "papermill": {
     "duration": 0.013945,
     "end_time": "2024-02-24T05:46:45.978436",
     "exception": false,
     "start_time": "2024-02-24T05:46:45.964491",
     "status": "completed"
    },
    "tags": []
   },
   "source": [
    "# 4.\n",
    "\n",
    "The function `is_negative` below is implemented correctly - it returns True if the given number is negative and False otherwise.\n",
    "\n",
    "However, it's more verbose than it needs to be. We can actually reduce the number of lines of code in this function by *75%* while keeping the same behaviour. \n",
    "\n",
    "See if you can come up with an equivalent body that uses just **one line** of code, and put it in the function `concise_is_negative`. (HINT: you don't even need Python's ternary syntax)"
   ]
  },
  {
   "cell_type": "code",
   "execution_count": 10,
   "id": "984d0b7f",
   "metadata": {
    "execution": {
     "iopub.execute_input": "2024-02-24T05:46:46.008510Z",
     "iopub.status.busy": "2024-02-24T05:46:46.008118Z",
     "iopub.status.idle": "2024-02-24T05:46:46.017808Z",
     "shell.execute_reply": "2024-02-24T05:46:46.016773Z"
    },
    "papermill": {
     "duration": 0.027362,
     "end_time": "2024-02-24T05:46:46.020041",
     "exception": false,
     "start_time": "2024-02-24T05:46:45.992679",
     "status": "completed"
    },
    "tags": []
   },
   "outputs": [
    {
     "data": {
      "application/javascript": [
       "parent.postMessage({\"jupyterEvent\": \"custom.exercise_interaction\", \"data\": {\"outcomeType\": 1, \"valueTowardsCompletion\": 0.2, \"interactionType\": 1, \"questionType\": 2, \"questionId\": \"4_ConciseIsNegative\", \"learnToolsVersion\": \"0.3.4\", \"failureMessage\": \"\", \"exceptionClass\": \"\", \"trace\": \"\"}}, \"*\")"
      ],
      "text/plain": [
       "<IPython.core.display.Javascript object>"
      ]
     },
     "metadata": {},
     "output_type": "display_data"
    },
    {
     "data": {
      "text/markdown": [
       "<span style=\"color:#33cc33\">Correct</span>"
      ],
      "text/plain": [
       "Correct"
      ]
     },
     "metadata": {},
     "output_type": "display_data"
    }
   ],
   "source": [
    "def is_negative(number):\n",
    "    if number < 0:\n",
    "        return True\n",
    "    else:\n",
    "        return False\n",
    "\n",
    "def concise_is_negative(number):\n",
    "    return number<0\n",
    "\n",
    "# Check your answer\n",
    "q4.check()"
   ]
  },
  {
   "cell_type": "code",
   "execution_count": 11,
   "id": "6346a612",
   "metadata": {
    "execution": {
     "iopub.execute_input": "2024-02-24T05:46:46.050922Z",
     "iopub.status.busy": "2024-02-24T05:46:46.050510Z",
     "iopub.status.idle": "2024-02-24T05:46:46.054835Z",
     "shell.execute_reply": "2024-02-24T05:46:46.053708Z"
    },
    "papermill": {
     "duration": 0.022617,
     "end_time": "2024-02-24T05:46:46.057176",
     "exception": false,
     "start_time": "2024-02-24T05:46:46.034559",
     "status": "completed"
    },
    "tags": []
   },
   "outputs": [],
   "source": [
    "#q4.hint()\n",
    "#q4.solution()"
   ]
  },
  {
   "cell_type": "markdown",
   "id": "b82bb406",
   "metadata": {
    "papermill": {
     "duration": 0.014358,
     "end_time": "2024-02-24T05:46:46.086271",
     "exception": false,
     "start_time": "2024-02-24T05:46:46.071913",
     "status": "completed"
    },
    "tags": []
   },
   "source": [
    "# 5a.\n",
    "\n",
    "The boolean variables `ketchup`, `mustard` and `onion` represent whether a customer wants a particular topping on their hot dog. We want to implement a number of boolean functions that correspond to some yes-or-no questions about the customer's order. For example:"
   ]
  },
  {
   "cell_type": "code",
   "execution_count": 12,
   "id": "6ea87c29",
   "metadata": {
    "execution": {
     "iopub.execute_input": "2024-02-24T05:46:46.117200Z",
     "iopub.status.busy": "2024-02-24T05:46:46.116829Z",
     "iopub.status.idle": "2024-02-24T05:46:46.121729Z",
     "shell.execute_reply": "2024-02-24T05:46:46.120698Z"
    },
    "papermill": {
     "duration": 0.02316,
     "end_time": "2024-02-24T05:46:46.124038",
     "exception": false,
     "start_time": "2024-02-24T05:46:46.100878",
     "status": "completed"
    },
    "tags": []
   },
   "outputs": [],
   "source": [
    "def onionless(ketchup, mustard, onion):\n",
    "    \"\"\"Return whether the customer doesn't want onions.\n",
    "    \"\"\"\n",
    "    return not onion"
   ]
  },
  {
   "cell_type": "code",
   "execution_count": 13,
   "id": "66a4e03a",
   "metadata": {
    "execution": {
     "iopub.execute_input": "2024-02-24T05:46:46.155230Z",
     "iopub.status.busy": "2024-02-24T05:46:46.154859Z",
     "iopub.status.idle": "2024-02-24T05:46:46.163758Z",
     "shell.execute_reply": "2024-02-24T05:46:46.162676Z"
    },
    "papermill": {
     "duration": 0.027939,
     "end_time": "2024-02-24T05:46:46.166544",
     "exception": false,
     "start_time": "2024-02-24T05:46:46.138605",
     "status": "completed"
    },
    "tags": []
   },
   "outputs": [
    {
     "data": {
      "application/javascript": [
       "parent.postMessage({\"jupyterEvent\": \"custom.exercise_interaction\", \"data\": {\"outcomeType\": 1, \"valueTowardsCompletion\": 0.2, \"interactionType\": 1, \"questionType\": 2, \"questionId\": \"5.1_AllToppings\", \"learnToolsVersion\": \"0.3.4\", \"failureMessage\": \"\", \"exceptionClass\": \"\", \"trace\": \"\"}}, \"*\")"
      ],
      "text/plain": [
       "<IPython.core.display.Javascript object>"
      ]
     },
     "metadata": {},
     "output_type": "display_data"
    },
    {
     "data": {
      "text/markdown": [
       "<span style=\"color:#33cc33\">Correct</span>"
      ],
      "text/plain": [
       "Correct"
      ]
     },
     "metadata": {},
     "output_type": "display_data"
    }
   ],
   "source": [
    "def wants_all_toppings(ketchup, mustard, onion):\n",
    "    \"\"\"Return whether the customer wants \"the works\" (all 3 toppings)\n",
    "    \"\"\"\n",
    "    return ketchup&mustard&onion\n",
    "\n",
    "# Check your answer\n",
    "q5.a.check()"
   ]
  },
  {
   "cell_type": "code",
   "execution_count": 14,
   "id": "33d986fe",
   "metadata": {
    "execution": {
     "iopub.execute_input": "2024-02-24T05:46:46.198078Z",
     "iopub.status.busy": "2024-02-24T05:46:46.197672Z",
     "iopub.status.idle": "2024-02-24T05:46:46.202492Z",
     "shell.execute_reply": "2024-02-24T05:46:46.201362Z"
    },
    "papermill": {
     "duration": 0.023368,
     "end_time": "2024-02-24T05:46:46.204904",
     "exception": false,
     "start_time": "2024-02-24T05:46:46.181536",
     "status": "completed"
    },
    "tags": []
   },
   "outputs": [],
   "source": [
    "#q5.a.hint()\n",
    "#q5.a.solution()"
   ]
  },
  {
   "cell_type": "markdown",
   "id": "ebca051a",
   "metadata": {
    "papermill": {
     "duration": 0.014774,
     "end_time": "2024-02-24T05:46:46.235843",
     "exception": false,
     "start_time": "2024-02-24T05:46:46.221069",
     "status": "completed"
    },
    "tags": []
   },
   "source": [
    "# 5b.\n",
    "\n",
    "For the next function, fill in the body to match the English description in the docstring. "
   ]
  },
  {
   "cell_type": "code",
   "execution_count": 15,
   "id": "b085cd3a",
   "metadata": {
    "execution": {
     "iopub.execute_input": "2024-02-24T05:46:46.268047Z",
     "iopub.status.busy": "2024-02-24T05:46:46.267645Z",
     "iopub.status.idle": "2024-02-24T05:46:46.277296Z",
     "shell.execute_reply": "2024-02-24T05:46:46.276232Z"
    },
    "papermill": {
     "duration": 0.028233,
     "end_time": "2024-02-24T05:46:46.279444",
     "exception": false,
     "start_time": "2024-02-24T05:46:46.251211",
     "status": "completed"
    },
    "tags": []
   },
   "outputs": [
    {
     "data": {
      "application/javascript": [
       "parent.postMessage({\"jupyterEvent\": \"custom.exercise_interaction\", \"data\": {\"outcomeType\": 1, \"valueTowardsCompletion\": 0.2, \"interactionType\": 1, \"questionType\": 2, \"questionId\": \"5.2_PlainDog\", \"learnToolsVersion\": \"0.3.4\", \"failureMessage\": \"\", \"exceptionClass\": \"\", \"trace\": \"\"}}, \"*\")"
      ],
      "text/plain": [
       "<IPython.core.display.Javascript object>"
      ]
     },
     "metadata": {},
     "output_type": "display_data"
    },
    {
     "data": {
      "text/markdown": [
       "<span style=\"color:#33cc33\">Correct:</span> \n",
       "\n",
       "One solution looks like:\n",
       "```python\n",
       "return not ketchup and not mustard and not onion\n",
       "```\n",
       "\n",
       "We can also [\"factor out\" the nots](https://en.wikipedia.org/wiki/De_Morgan%27s_laws) to get:\n",
       "\n",
       "```python\n",
       "return not (ketchup or mustard or onion)\n",
       "```"
      ],
      "text/plain": [
       "Correct: \n",
       "\n",
       "One solution looks like:\n",
       "```python\n",
       "return not ketchup and not mustard and not onion\n",
       "```\n",
       "\n",
       "We can also [\"factor out\" the nots](https://en.wikipedia.org/wiki/De_Morgan%27s_laws) to get:\n",
       "\n",
       "```python\n",
       "return not (ketchup or mustard or onion)\n",
       "```"
      ]
     },
     "metadata": {},
     "output_type": "display_data"
    }
   ],
   "source": [
    "def wants_plain_hotdog(ketchup, mustard, onion):\n",
    "    \"\"\"Return whether the customer wants a plain hot dog with no toppings.\n",
    "    \"\"\"\n",
    "    return not (ketchup or mustard or onion)\n",
    "\n",
    "# Check your answer\n",
    "q5.b.check()"
   ]
  },
  {
   "cell_type": "code",
   "execution_count": 16,
   "id": "8b7b898c",
   "metadata": {
    "execution": {
     "iopub.execute_input": "2024-02-24T05:46:46.311512Z",
     "iopub.status.busy": "2024-02-24T05:46:46.311108Z",
     "iopub.status.idle": "2024-02-24T05:46:46.314738Z",
     "shell.execute_reply": "2024-02-24T05:46:46.313937Z"
    },
    "papermill": {
     "duration": 0.02239,
     "end_time": "2024-02-24T05:46:46.316945",
     "exception": false,
     "start_time": "2024-02-24T05:46:46.294555",
     "status": "completed"
    },
    "tags": []
   },
   "outputs": [],
   "source": [
    "#q5.b.hint()\n",
    "#q5.b.solution()"
   ]
  },
  {
   "cell_type": "markdown",
   "id": "31bfd6f1",
   "metadata": {
    "papermill": {
     "duration": 0.014875,
     "end_time": "2024-02-24T05:46:46.346974",
     "exception": false,
     "start_time": "2024-02-24T05:46:46.332099",
     "status": "completed"
    },
    "tags": []
   },
   "source": [
    "# 5c.\n",
    "\n",
    "You know what to do: for the next function, fill in the body to match the English description in the docstring."
   ]
  },
  {
   "cell_type": "code",
   "execution_count": 17,
   "id": "3624272b",
   "metadata": {
    "execution": {
     "iopub.execute_input": "2024-02-24T05:46:46.379305Z",
     "iopub.status.busy": "2024-02-24T05:46:46.378883Z",
     "iopub.status.idle": "2024-02-24T05:46:46.387858Z",
     "shell.execute_reply": "2024-02-24T05:46:46.387094Z"
    },
    "papermill": {
     "duration": 0.027584,
     "end_time": "2024-02-24T05:46:46.389924",
     "exception": false,
     "start_time": "2024-02-24T05:46:46.362340",
     "status": "completed"
    },
    "tags": []
   },
   "outputs": [
    {
     "data": {
      "application/javascript": [
       "parent.postMessage({\"jupyterEvent\": \"custom.exercise_interaction\", \"data\": {\"outcomeType\": 1, \"valueTowardsCompletion\": 0.2, \"interactionType\": 1, \"questionType\": 2, \"questionId\": \"5.3_OneSauce\", \"learnToolsVersion\": \"0.3.4\", \"failureMessage\": \"\", \"exceptionClass\": \"\", \"trace\": \"\"}}, \"*\")"
      ],
      "text/plain": [
       "<IPython.core.display.Javascript object>"
      ]
     },
     "metadata": {},
     "output_type": "display_data"
    },
    {
     "data": {
      "text/markdown": [
       "<span style=\"color:#33cc33\">Correct</span>"
      ],
      "text/plain": [
       "Correct"
      ]
     },
     "metadata": {},
     "output_type": "display_data"
    }
   ],
   "source": [
    "def exactly_one_sauce(ketchup, mustard, onion):\n",
    "    \"\"\"Return whether the customer wants either ketchup or mustard, but not both.\n",
    "    (You may be familiar with this operation under the name \"exclusive or\")\n",
    "    \"\"\"\n",
    "    return ketchup + mustard  ==1\n",
    "\n",
    "# Check your answer\n",
    "q5.c.check()"
   ]
  },
  {
   "cell_type": "code",
   "execution_count": 18,
   "id": "570905a5",
   "metadata": {
    "execution": {
     "iopub.execute_input": "2024-02-24T05:46:46.422756Z",
     "iopub.status.busy": "2024-02-24T05:46:46.422329Z",
     "iopub.status.idle": "2024-02-24T05:46:46.427135Z",
     "shell.execute_reply": "2024-02-24T05:46:46.425798Z"
    },
    "papermill": {
     "duration": 0.024001,
     "end_time": "2024-02-24T05:46:46.429441",
     "exception": false,
     "start_time": "2024-02-24T05:46:46.405440",
     "status": "completed"
    },
    "tags": []
   },
   "outputs": [],
   "source": [
    "#q5.c.hint()\n",
    "#q5.c.solution()"
   ]
  },
  {
   "cell_type": "markdown",
   "id": "d8336400",
   "metadata": {
    "papermill": {
     "duration": 0.015376,
     "end_time": "2024-02-24T05:46:46.460624",
     "exception": false,
     "start_time": "2024-02-24T05:46:46.445248",
     "status": "completed"
    },
    "tags": []
   },
   "source": [
    "# 6. <span title=\"A bit spicy\" style=\"color: darkgreen \">🌶️</span>\n",
    "\n",
    "We’ve seen that calling `bool()` on an integer returns `False` if it’s equal to 0 and `True` otherwise. What happens if we call `int()` on a bool? Try it out in the notebook cell below.\n",
    "\n",
    "Can you take advantage of this to write a succinct function that corresponds to the English sentence \"does the customer want exactly one topping?\"?"
   ]
  },
  {
   "cell_type": "code",
   "execution_count": 19,
   "id": "ef63b901",
   "metadata": {
    "execution": {
     "iopub.execute_input": "2024-02-24T05:46:46.493898Z",
     "iopub.status.busy": "2024-02-24T05:46:46.493478Z",
     "iopub.status.idle": "2024-02-24T05:46:46.502922Z",
     "shell.execute_reply": "2024-02-24T05:46:46.501974Z"
    },
    "papermill": {
     "duration": 0.02895,
     "end_time": "2024-02-24T05:46:46.505238",
     "exception": false,
     "start_time": "2024-02-24T05:46:46.476288",
     "status": "completed"
    },
    "tags": []
   },
   "outputs": [
    {
     "data": {
      "application/javascript": [
       "parent.postMessage({\"jupyterEvent\": \"custom.exercise_interaction\", \"data\": {\"outcomeType\": 1, \"valueTowardsCompletion\": 0.2, \"interactionType\": 1, \"questionType\": 2, \"questionId\": \"6_OneTopping\", \"learnToolsVersion\": \"0.3.4\", \"failureMessage\": \"\", \"exceptionClass\": \"\", \"trace\": \"\"}}, \"*\")"
      ],
      "text/plain": [
       "<IPython.core.display.Javascript object>"
      ]
     },
     "metadata": {},
     "output_type": "display_data"
    },
    {
     "data": {
      "text/markdown": [
       "<span style=\"color:#33cc33\">Correct:</span> \n",
       "\n",
       "This condition would be pretty complicated to express using just `and`, `or` and `not`, but using boolean-to-integer conversion gives us this short solution:\n",
       "```python\n",
       "return (int(ketchup) + int(mustard) + int(onion)) == 1\n",
       "```\n",
       "\n",
       "Fun fact: we don't technically need to call `int` on the arguments. Just by doing addition with booleans, Python implicitly does the integer conversion. So we could also write...\n",
       "\n",
       "```python\n",
       "return (ketchup + mustard + onion) == 1\n",
       "```"
      ],
      "text/plain": [
       "Correct: \n",
       "\n",
       "This condition would be pretty complicated to express using just `and`, `or` and `not`, but using boolean-to-integer conversion gives us this short solution:\n",
       "```python\n",
       "return (int(ketchup) + int(mustard) + int(onion)) == 1\n",
       "```\n",
       "\n",
       "Fun fact: we don't technically need to call `int` on the arguments. Just by doing addition with booleans, Python implicitly does the integer conversion. So we could also write...\n",
       "\n",
       "```python\n",
       "return (ketchup + mustard + onion) == 1\n",
       "```"
      ]
     },
     "metadata": {},
     "output_type": "display_data"
    }
   ],
   "source": [
    "def exactly_one_topping(ketchup, mustard, onion):\n",
    "    \"\"\"Return whether the customer wants exactly one of the three available toppings\n",
    "    on their hot dog.\n",
    "    \"\"\"\n",
    "    return ketchup + mustard +onion  ==1\n",
    "\n",
    "# Check your answer\n",
    "q6.check()"
   ]
  },
  {
   "cell_type": "code",
   "execution_count": 20,
   "id": "6565c375",
   "metadata": {
    "execution": {
     "iopub.execute_input": "2024-02-24T05:46:46.599775Z",
     "iopub.status.busy": "2024-02-24T05:46:46.599379Z",
     "iopub.status.idle": "2024-02-24T05:46:46.603614Z",
     "shell.execute_reply": "2024-02-24T05:46:46.602581Z"
    },
    "papermill": {
     "duration": 0.084449,
     "end_time": "2024-02-24T05:46:46.605929",
     "exception": false,
     "start_time": "2024-02-24T05:46:46.521480",
     "status": "completed"
    },
    "tags": []
   },
   "outputs": [],
   "source": [
    "#q6.hint()\n",
    "#q6.solution()"
   ]
  },
  {
   "cell_type": "markdown",
   "id": "8b2f9be2",
   "metadata": {
    "papermill": {
     "duration": 0.015957,
     "end_time": "2024-02-24T05:46:46.638459",
     "exception": false,
     "start_time": "2024-02-24T05:46:46.622502",
     "status": "completed"
    },
    "tags": []
   },
   "source": [
    "# 7. <span title=\"A bit spicy\" style=\"color: darkgreen \">🌶️</span> (Optional)\n",
    "\n",
    "In this problem we'll be working with a simplified version of [blackjack](https://en.wikipedia.org/wiki/Blackjack) (aka twenty-one). In this version there is one player (who you'll control) and a dealer. Play proceeds as follows:\n",
    "\n",
    "- The player is dealt two face-up cards. The dealer is dealt one face-up card.\n",
    "- The player may ask to be dealt another card ('hit') as many times as they wish. If the sum of their cards exceeds 21, they lose the round immediately.\n",
    "- The dealer then deals additional cards to himself until either:\n",
    "    - the sum of the dealer's cards exceeds 21, in which case the player wins the round\n",
    "    - the sum of the dealer's cards is greater than or equal to 17. If the player's total is greater than the dealer's, the player wins. Otherwise, the dealer wins (even in case of a tie).\n",
    "    \n",
    "When calculating the sum of cards, Jack, Queen, and King count for 10. Aces can count as 1 or 11 (when referring to a player's \"total\" above, we mean the largest total that can be made without exceeding 21. So e.g. A+8 = 19, A+8+8 = 17)\n",
    "\n",
    "For this problem, you'll write a function representing the player's decision-making strategy in this game. We've provided a very unintelligent implementation below:"
   ]
  },
  {
   "cell_type": "code",
   "execution_count": 21,
   "id": "48632614",
   "metadata": {
    "execution": {
     "iopub.execute_input": "2024-02-24T05:46:46.673910Z",
     "iopub.status.busy": "2024-02-24T05:46:46.673248Z",
     "iopub.status.idle": "2024-02-24T05:46:46.679036Z",
     "shell.execute_reply": "2024-02-24T05:46:46.677961Z"
    },
    "papermill": {
     "duration": 0.025693,
     "end_time": "2024-02-24T05:46:46.681186",
     "exception": false,
     "start_time": "2024-02-24T05:46:46.655493",
     "status": "completed"
    },
    "tags": []
   },
   "outputs": [],
   "source": [
    "def should_hit(dealer_total, player_total, player_low_aces, player_high_aces):\n",
    "    \"\"\"Return True if the player should hit (request another card) given the current game\n",
    "    state, or False if the player should stay.\n",
    "    When calculating a hand's total value, we count aces as \"high\" (with value 11) if doing so\n",
    "    doesn't bring the total above 21, otherwise we count them as low (with value 1). \n",
    "    For example, if the player's hand is {A, A, A, 7}, we will count it as 11 + 1 + 1 + 7,\n",
    "    and therefore set player_total=20, player_low_aces=2, player_high_aces=1.\n",
    "    \"\"\"\n",
    "    return False"
   ]
  },
  {
   "cell_type": "markdown",
   "id": "93df113f",
   "metadata": {
    "papermill": {
     "duration": 0.016053,
     "end_time": "2024-02-24T05:46:46.713545",
     "exception": false,
     "start_time": "2024-02-24T05:46:46.697492",
     "status": "completed"
    },
    "tags": []
   },
   "source": [
    "This very conservative agent *always* sticks with the hand of two cards that they're dealt.\n",
    "\n",
    "We'll be simulating games between your player agent and our own dealer agent by calling your function.\n",
    "\n",
    "Try running the function below to see an example of a simulated game:"
   ]
  },
  {
   "cell_type": "code",
   "execution_count": 22,
   "id": "b9e3464c",
   "metadata": {
    "execution": {
     "iopub.execute_input": "2024-02-24T05:46:46.747807Z",
     "iopub.status.busy": "2024-02-24T05:46:46.747384Z",
     "iopub.status.idle": "2024-02-24T05:46:46.753145Z",
     "shell.execute_reply": "2024-02-24T05:46:46.752020Z"
    },
    "papermill": {
     "duration": 0.026709,
     "end_time": "2024-02-24T05:46:46.756385",
     "exception": false,
     "start_time": "2024-02-24T05:46:46.729676",
     "status": "completed"
    },
    "tags": []
   },
   "outputs": [
    {
     "name": "stdout",
     "output_type": "stream",
     "text": [
      "Player starts with 7 and 7 (total = 14)\n",
      "Dealer starts with J\n",
      "\n",
      "__Player's turn__\n",
      "Player stays\n",
      "\n",
      "__Dealer's turn__\n",
      "Dealer hits and receives 3. (total = 13)\n",
      "Dealer hits and receives J. (total = 23)\n",
      "Dealer busts! Player wins.\n"
     ]
    }
   ],
   "source": [
    "q7.simulate_one_game()"
   ]
  },
  {
   "cell_type": "markdown",
   "id": "180b93b4",
   "metadata": {
    "papermill": {
     "duration": 0.015944,
     "end_time": "2024-02-24T05:46:46.788572",
     "exception": false,
     "start_time": "2024-02-24T05:46:46.772628",
     "status": "completed"
    },
    "tags": []
   },
   "source": [
    "The real test of your agent's mettle is their average win rate over many games. Try calling the function below to simulate 50000 games of blackjack (it may take a couple seconds):"
   ]
  },
  {
   "cell_type": "code",
   "execution_count": 23,
   "id": "34ed0064",
   "metadata": {
    "execution": {
     "iopub.execute_input": "2024-02-24T05:46:46.822945Z",
     "iopub.status.busy": "2024-02-24T05:46:46.822532Z",
     "iopub.status.idle": "2024-02-24T05:46:48.971055Z",
     "shell.execute_reply": "2024-02-24T05:46:48.969807Z"
    },
    "papermill": {
     "duration": 2.169086,
     "end_time": "2024-02-24T05:46:48.973944",
     "exception": false,
     "start_time": "2024-02-24T05:46:46.804858",
     "status": "completed"
    },
    "tags": []
   },
   "outputs": [
    {
     "name": "stdout",
     "output_type": "stream",
     "text": [
      "Player won 18915 out of 50000 games (win rate = 37.8%)\n"
     ]
    }
   ],
   "source": [
    "q7.simulate(n_games=50000)"
   ]
  },
  {
   "cell_type": "markdown",
   "id": "28cec432",
   "metadata": {
    "papermill": {
     "duration": 0.017502,
     "end_time": "2024-02-24T05:46:49.008611",
     "exception": false,
     "start_time": "2024-02-24T05:46:48.991109",
     "status": "completed"
    },
    "tags": []
   },
   "source": [
    "Our dumb agent that completely ignores the game state still manages to win shockingly often!\n",
    "\n",
    "Try adding some more smarts to the `should_hit` function and see how it affects the results."
   ]
  },
  {
   "cell_type": "code",
   "execution_count": 24,
   "id": "24fc9659",
   "metadata": {
    "execution": {
     "iopub.execute_input": "2024-02-24T05:46:49.044281Z",
     "iopub.status.busy": "2024-02-24T05:46:49.043920Z",
     "iopub.status.idle": "2024-02-24T05:46:51.474776Z",
     "shell.execute_reply": "2024-02-24T05:46:51.473467Z"
    },
    "papermill": {
     "duration": 2.451505,
     "end_time": "2024-02-24T05:46:51.477433",
     "exception": false,
     "start_time": "2024-02-24T05:46:49.025928",
     "status": "completed"
    },
    "tags": []
   },
   "outputs": [
    {
     "name": "stdout",
     "output_type": "stream",
     "text": [
      "Player won 20784 out of 50000 games (win rate = 41.6%)\n"
     ]
    },
    {
     "data": {
      "application/javascript": [
       "parent.postMessage({\"jupyterEvent\": \"custom.exercise_interaction\", \"data\": {\"outcomeType\": 3, \"failureMessage\": \"Sorry, no auto-checking available for this question.\", \"exceptionClass\": \"Uncheckable\", \"trace\": \"\", \"interactionType\": 1, \"questionType\": 2, \"questionId\": \"7_BlackJackProblem\", \"learnToolsVersion\": \"0.3.4\", \"valueTowardsCompletion\": 0.0}}, \"*\")"
      ],
      "text/plain": [
       "<IPython.core.display.Javascript object>"
      ]
     },
     "metadata": {},
     "output_type": "display_data"
    },
    {
     "data": {
      "text/markdown": [
       "<span style=\"color:#cc5533\">Sorry, no auto-checking available for this question.</span>"
      ],
      "text/plain": [
       "Sorry, no auto-checking available for this question."
      ]
     },
     "metadata": {},
     "output_type": "display_data"
    }
   ],
   "source": [
    "def should_hit(dealer_total, player_total, player_low_aces, player_high_aces):\n",
    "    \"\"\"Return True if the player should hit (request another card) given the current game\n",
    "    state, or False if the player should stay.\n",
    "    When calculating a hand's total value, we count aces as \"high\" (with value 11) if doing so\n",
    "    doesn't bring the total above 21, otherwise we count them as low (with value 1). \n",
    "    For example, if the player's hand is {A, A, A, 7}, we will count it as 11 + 1 + 1 + 7,\n",
    "    and therefore set player_total=20, player_low_aces=2, player_high_aces=1.\n",
    "   \"\"\"\n",
    "   \n",
    "    if (player_total<15) or (player_total<dealer_total):\n",
    "        return True\n",
    "    else:\n",
    "        return False\n",
    "    \n",
    "#     if (player_total < 14) and(player_total<dealer_total):\n",
    "#         return True\n",
    "#     elif (player_total > 14) and (player_total>dealer_total):\n",
    "#         return False\n",
    "#     else:\n",
    "#         return False\n",
    "    \n",
    "\n",
    "\n",
    "q7.simulate(n_games=50000)\n",
    "q7.check()"
   ]
  },
  {
   "cell_type": "markdown",
   "id": "60ed1854",
   "metadata": {
    "papermill": {
     "duration": 0.016678,
     "end_time": "2024-02-24T05:46:51.511161",
     "exception": false,
     "start_time": "2024-02-24T05:46:51.494483",
     "status": "completed"
    },
    "tags": []
   },
   "source": [
    "# Keep Going\n",
    "\n",
    "Learn about **[lists and tuples](https://www.kaggle.com/colinmorris/lists)** to handle multiple items of data in a systematic way."
   ]
  },
  {
   "cell_type": "markdown",
   "id": "36573107",
   "metadata": {
    "papermill": {
     "duration": 0.016636,
     "end_time": "2024-02-24T05:46:51.544604",
     "exception": false,
     "start_time": "2024-02-24T05:46:51.527968",
     "status": "completed"
    },
    "tags": []
   },
   "source": [
    "---\n",
    "\n",
    "\n",
    "\n",
    "\n",
    "*Have questions or comments? Visit the [course discussion forum](https://www.kaggle.com/learn/python/discussion) to chat with other learners.*"
   ]
  }
 ],
 "metadata": {
  "kaggle": {
   "accelerator": "none",
   "dataSources": [],
   "isGpuEnabled": false,
   "isInternetEnabled": false,
   "language": "python",
   "sourceType": "notebook"
  },
  "kernelspec": {
   "display_name": "Python 3",
   "language": "python",
   "name": "python3"
  },
  "language_info": {
   "codemirror_mode": {
    "name": "ipython",
    "version": 3
   },
   "file_extension": ".py",
   "mimetype": "text/x-python",
   "name": "python",
   "nbconvert_exporter": "python",
   "pygments_lexer": "ipython3",
   "version": "3.10.13"
  },
  "learntools_metadata": {
   "lesson_index": 2,
   "type": "exercise"
  },
  "papermill": {
   "default_parameters": {},
   "duration": 10.534936,
   "end_time": "2024-02-24T05:46:51.982167",
   "environment_variables": {},
   "exception": null,
   "input_path": "__notebook__.ipynb",
   "output_path": "__notebook__.ipynb",
   "parameters": {},
   "start_time": "2024-02-24T05:46:41.447231",
   "version": "2.5.0"
  }
 },
 "nbformat": 4,
 "nbformat_minor": 5
}
