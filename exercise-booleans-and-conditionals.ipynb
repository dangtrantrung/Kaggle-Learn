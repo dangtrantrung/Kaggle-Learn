{
 "cells": [
  {
   "cell_type": "markdown",
   "id": "8710fe99",
   "metadata": {
    "papermill": {
     "duration": 0.011832,
     "end_time": "2024-02-19T08:51:10.505850",
     "exception": false,
     "start_time": "2024-02-19T08:51:10.494018",
     "status": "completed"
    },
    "tags": []
   },
   "source": [
    "**This notebook is an exercise in the [Python](https://www.kaggle.com/learn/python) course.  You can reference the tutorial at [this link](https://www.kaggle.com/colinmorris/booleans-and-conditionals).**\n",
    "\n",
    "---\n"
   ]
  },
  {
   "cell_type": "markdown",
   "id": "b957050d",
   "metadata": {
    "papermill": {
     "duration": 0.010835,
     "end_time": "2024-02-19T08:51:10.528782",
     "exception": false,
     "start_time": "2024-02-19T08:51:10.517947",
     "status": "completed"
    },
    "tags": []
   },
   "source": [
    "In this exercise, you'll put to work what you have learned about booleans and conditionals.\n",
    "\n",
    "To get started, **run the setup code below** before writing your own code (and if you leave this notebook and come back later, don't forget to run the setup code again)."
   ]
  },
  {
   "cell_type": "code",
   "execution_count": 1,
   "id": "9ddf855c",
   "metadata": {
    "execution": {
     "iopub.execute_input": "2024-02-19T08:51:10.553716Z",
     "iopub.status.busy": "2024-02-19T08:51:10.552938Z",
     "iopub.status.idle": "2024-02-19T08:51:11.582955Z",
     "shell.execute_reply": "2024-02-19T08:51:11.581739Z"
    },
    "papermill": {
     "duration": 1.045733,
     "end_time": "2024-02-19T08:51:11.585826",
     "exception": false,
     "start_time": "2024-02-19T08:51:10.540093",
     "status": "completed"
    },
    "tags": []
   },
   "outputs": [
    {
     "name": "stdout",
     "output_type": "stream",
     "text": [
      "Setup complete.\n"
     ]
    }
   ],
   "source": [
    "from learntools.core import binder; binder.bind(globals())\n",
    "from learntools.python.ex3 import *\n",
    "print('Setup complete.')"
   ]
  },
  {
   "cell_type": "markdown",
   "id": "c8357f57",
   "metadata": {
    "papermill": {
     "duration": 0.011184,
     "end_time": "2024-02-19T08:51:11.608733",
     "exception": false,
     "start_time": "2024-02-19T08:51:11.597549",
     "status": "completed"
    },
    "tags": []
   },
   "source": [
    "# 1.\n",
    "\n",
    "Many programming languages have [`sign`](https://en.wikipedia.org/wiki/Sign_function) available as a built-in function. Python doesn't, but we can define our own!\n",
    "\n",
    "In the cell below, define a function called `sign` which takes a numerical argument and returns -1 if it's negative, 1 if it's positive, and 0 if it's 0."
   ]
  },
  {
   "cell_type": "code",
   "execution_count": 2,
   "id": "e50273d9",
   "metadata": {
    "execution": {
     "iopub.execute_input": "2024-02-19T08:51:11.634282Z",
     "iopub.status.busy": "2024-02-19T08:51:11.633333Z",
     "iopub.status.idle": "2024-02-19T08:51:11.644520Z",
     "shell.execute_reply": "2024-02-19T08:51:11.643677Z"
    },
    "papermill": {
     "duration": 0.026989,
     "end_time": "2024-02-19T08:51:11.647071",
     "exception": false,
     "start_time": "2024-02-19T08:51:11.620082",
     "status": "completed"
    },
    "tags": []
   },
   "outputs": [
    {
     "data": {
      "application/javascript": [
       "parent.postMessage({\"jupyterEvent\": \"custom.exercise_interaction\", \"data\": {\"outcomeType\": 1, \"valueTowardsCompletion\": 0.2, \"interactionType\": 1, \"questionType\": 2, \"questionId\": \"1_SignFunctionProblem\", \"learnToolsVersion\": \"0.3.4\", \"failureMessage\": \"\", \"exceptionClass\": \"\", \"trace\": \"\"}}, \"*\")"
      ],
      "text/plain": [
       "<IPython.core.display.Javascript object>"
      ]
     },
     "metadata": {},
     "output_type": "display_data"
    },
    {
     "data": {
      "text/markdown": [
       "<span style=\"color:#33cc33\">Correct</span>"
      ],
      "text/plain": [
       "Correct"
      ]
     },
     "metadata": {},
     "output_type": "display_data"
    }
   ],
   "source": [
    "# Your code goes here. Define a function called 'sign'\n",
    "def sign(num):\n",
    "    if num<0:\n",
    "        return -1\n",
    "    elif num>0:\n",
    "        return 1\n",
    "    else:\n",
    "        return 0\n",
    "\n",
    "# Check your answer\n",
    "q1.check()"
   ]
  },
  {
   "cell_type": "code",
   "execution_count": 3,
   "id": "5773df0b",
   "metadata": {
    "execution": {
     "iopub.execute_input": "2024-02-19T08:51:11.674454Z",
     "iopub.status.busy": "2024-02-19T08:51:11.673384Z",
     "iopub.status.idle": "2024-02-19T08:51:11.678243Z",
     "shell.execute_reply": "2024-02-19T08:51:11.677055Z"
    },
    "papermill": {
     "duration": 0.021423,
     "end_time": "2024-02-19T08:51:11.681332",
     "exception": false,
     "start_time": "2024-02-19T08:51:11.659909",
     "status": "completed"
    },
    "tags": []
   },
   "outputs": [],
   "source": [
    "#q1.solution()"
   ]
  },
  {
   "cell_type": "markdown",
   "id": "06473d38",
   "metadata": {
    "papermill": {
     "duration": 0.012766,
     "end_time": "2024-02-19T08:51:11.706292",
     "exception": false,
     "start_time": "2024-02-19T08:51:11.693526",
     "status": "completed"
    },
    "tags": []
   },
   "source": [
    "# 2.\n",
    "\n",
    "We've decided to add \"logging\" to our `to_smash` function from the previous exercise."
   ]
  },
  {
   "cell_type": "code",
   "execution_count": 4,
   "id": "4a40597a",
   "metadata": {
    "execution": {
     "iopub.execute_input": "2024-02-19T08:51:11.735414Z",
     "iopub.status.busy": "2024-02-19T08:51:11.734932Z",
     "iopub.status.idle": "2024-02-19T08:51:11.745444Z",
     "shell.execute_reply": "2024-02-19T08:51:11.744076Z"
    },
    "papermill": {
     "duration": 0.027905,
     "end_time": "2024-02-19T08:51:11.748859",
     "exception": false,
     "start_time": "2024-02-19T08:51:11.720954",
     "status": "completed"
    },
    "tags": []
   },
   "outputs": [
    {
     "name": "stdout",
     "output_type": "stream",
     "text": [
      "Splitting 91 candies\n"
     ]
    },
    {
     "data": {
      "text/plain": [
       "1"
      ]
     },
     "execution_count": 4,
     "metadata": {},
     "output_type": "execute_result"
    }
   ],
   "source": [
    "def to_smash(total_candies):\n",
    "    \"\"\"Return the number of leftover candies that must be smashed after distributing\n",
    "    the given number of candies evenly between 3 friends.\n",
    "    \n",
    "    >>> to_smash(91)\n",
    "    1\n",
    "    \"\"\"\n",
    "    print(\"Splitting\", total_candies, \"candies\")\n",
    "    return total_candies % 3\n",
    "\n",
    "to_smash(91)"
   ]
  },
  {
   "cell_type": "markdown",
   "id": "9b49bc6d",
   "metadata": {
    "papermill": {
     "duration": 0.012595,
     "end_time": "2024-02-19T08:51:11.774748",
     "exception": false,
     "start_time": "2024-02-19T08:51:11.762153",
     "status": "completed"
    },
    "tags": []
   },
   "source": [
    "What happens if we call it with `total_candies = 1`?"
   ]
  },
  {
   "cell_type": "code",
   "execution_count": 5,
   "id": "aca0b9a0",
   "metadata": {
    "execution": {
     "iopub.execute_input": "2024-02-19T08:51:11.802703Z",
     "iopub.status.busy": "2024-02-19T08:51:11.802216Z",
     "iopub.status.idle": "2024-02-19T08:51:11.810603Z",
     "shell.execute_reply": "2024-02-19T08:51:11.809393Z"
    },
    "papermill": {
     "duration": 0.025216,
     "end_time": "2024-02-19T08:51:11.813220",
     "exception": false,
     "start_time": "2024-02-19T08:51:11.788004",
     "status": "completed"
    },
    "tags": []
   },
   "outputs": [
    {
     "name": "stdout",
     "output_type": "stream",
     "text": [
      "Splitting 1 candies\n"
     ]
    },
    {
     "data": {
      "text/plain": [
       "1"
      ]
     },
     "execution_count": 5,
     "metadata": {},
     "output_type": "execute_result"
    }
   ],
   "source": [
    "to_smash(1)"
   ]
  },
  {
   "cell_type": "markdown",
   "id": "b3d8e8d8",
   "metadata": {
    "papermill": {
     "duration": 0.012105,
     "end_time": "2024-02-19T08:51:11.838037",
     "exception": false,
     "start_time": "2024-02-19T08:51:11.825932",
     "status": "completed"
    },
    "tags": []
   },
   "source": [
    "That isn't great grammar!\n",
    "\n",
    "Modify the definition in the cell below to correct the grammar of our print statement. (If there's only one candy, we should use the singular \"candy\" instead of the plural \"candies\")"
   ]
  },
  {
   "cell_type": "code",
   "execution_count": 6,
   "id": "21adebd0",
   "metadata": {
    "execution": {
     "iopub.execute_input": "2024-02-19T08:51:11.865455Z",
     "iopub.status.busy": "2024-02-19T08:51:11.864908Z",
     "iopub.status.idle": "2024-02-19T08:51:11.875747Z",
     "shell.execute_reply": "2024-02-19T08:51:11.874081Z"
    },
    "papermill": {
     "duration": 0.027164,
     "end_time": "2024-02-19T08:51:11.878186",
     "exception": false,
     "start_time": "2024-02-19T08:51:11.851022",
     "status": "completed"
    },
    "tags": []
   },
   "outputs": [
    {
     "name": "stdout",
     "output_type": "stream",
     "text": [
      "Splitting 91 candies\n",
      "Splitting 1 candy\n"
     ]
    },
    {
     "data": {
      "text/plain": [
       "1"
      ]
     },
     "execution_count": 6,
     "metadata": {},
     "output_type": "execute_result"
    }
   ],
   "source": [
    "def to_smash(total_candies):\n",
    "    \"\"\"Return the number of leftover candies that must be smashed after distributing\n",
    "    the given number of candies evenly between 3 friends.\n",
    "    \n",
    "    >>> to_smash(91)\n",
    "    1\n",
    "    \"\"\"\n",
    "    print(\"Splitting\", total_candies, \"candy\" if total_candies == 1 else \"candies\")\n",
    "    return total_candies % 3\n",
    "\n",
    "to_smash(91)\n",
    "to_smash(1)"
   ]
  },
  {
   "cell_type": "markdown",
   "id": "703295b0",
   "metadata": {
    "papermill": {
     "duration": 0.014166,
     "end_time": "2024-02-19T08:51:11.905151",
     "exception": false,
     "start_time": "2024-02-19T08:51:11.890985",
     "status": "completed"
    },
    "tags": []
   },
   "source": [
    "To get credit for completing this problem, and to see the official answer, run the code cell below."
   ]
  },
  {
   "cell_type": "code",
   "execution_count": 7,
   "id": "4c96864b",
   "metadata": {
    "execution": {
     "iopub.execute_input": "2024-02-19T08:51:11.934424Z",
     "iopub.status.busy": "2024-02-19T08:51:11.933919Z",
     "iopub.status.idle": "2024-02-19T08:51:11.943674Z",
     "shell.execute_reply": "2024-02-19T08:51:11.942690Z"
    },
    "papermill": {
     "duration": 0.027521,
     "end_time": "2024-02-19T08:51:11.946088",
     "exception": false,
     "start_time": "2024-02-19T08:51:11.918567",
     "status": "completed"
    },
    "tags": []
   },
   "outputs": [
    {
     "data": {
      "application/javascript": [
       "parent.postMessage({\"jupyterEvent\": \"custom.exercise_interaction\", \"data\": {\"interactionType\": 3, \"questionType\": 4, \"questionId\": \"2_PluralizationProblem\", \"learnToolsVersion\": \"0.3.4\", \"valueTowardsCompletion\": 0.0, \"failureMessage\": \"\", \"exceptionClass\": \"\", \"trace\": \"\", \"outcomeType\": 4}}, \"*\")"
      ],
      "text/plain": [
       "<IPython.core.display.Javascript object>"
      ]
     },
     "metadata": {},
     "output_type": "display_data"
    },
    {
     "data": {
      "text/markdown": [
       "<span style=\"color:#33cc99\">Solution:</span> A straightforward (and totally fine) solution is to replace the original `print` call with:\n",
       "\n",
       "```python\n",
       "if total_candies == 1:\n",
       "    print(\"Splitting 1 candy\")\n",
       "else:\n",
       "    print(\"Splitting\", total_candies, \"candies\")\n",
       "```\n",
       "\n",
       "Here's a slightly more succinct solution using a conditional expression:\n",
       "\n",
       "```python\n",
       "print(\"Splitting\", total_candies, \"candy\" if total_candies == 1 else \"candies\")\n",
       "```"
      ],
      "text/plain": [
       "Solution: A straightforward (and totally fine) solution is to replace the original `print` call with:\n",
       "\n",
       "```python\n",
       "if total_candies == 1:\n",
       "    print(\"Splitting 1 candy\")\n",
       "else:\n",
       "    print(\"Splitting\", total_candies, \"candies\")\n",
       "```\n",
       "\n",
       "Here's a slightly more succinct solution using a conditional expression:\n",
       "\n",
       "```python\n",
       "print(\"Splitting\", total_candies, \"candy\" if total_candies == 1 else \"candies\")\n",
       "```"
      ]
     },
     "metadata": {},
     "output_type": "display_data"
    }
   ],
   "source": [
    "# Check your answer (Run this code cell to receive credit!)\n",
    "q2.solution()"
   ]
  },
  {
   "cell_type": "markdown",
   "id": "cbbeff73",
   "metadata": {
    "papermill": {
     "duration": 0.013467,
     "end_time": "2024-02-19T08:51:11.973386",
     "exception": false,
     "start_time": "2024-02-19T08:51:11.959919",
     "status": "completed"
    },
    "tags": []
   },
   "source": [
    "# 3. <span title=\"A bit spicy\" style=\"color: darkgreen \">🌶️</span>\n",
    "\n",
    "In the tutorial, we talked about deciding whether we're prepared for the weather. I said that I'm safe from today's weather if...\n",
    "- I have an umbrella...\n",
    "- or if the rain isn't too heavy and I have a hood...\n",
    "- otherwise, I'm still fine unless it's raining *and* it's a workday\n",
    "\n",
    "The function below uses our first attempt at turning this logic into a Python expression. I claimed that there was a bug in that code. Can you find it?\n",
    "\n",
    "To prove that `prepared_for_weather` is buggy, come up with a set of inputs where either:\n",
    "- the function returns `False` (but should have returned `True`), or\n",
    "- the function returned `True` (but should have returned `False`).\n",
    "\n",
    "To get credit for completing this question, your code should return a <font color='#33cc33'>Correct</font> result."
   ]
  },
  {
   "cell_type": "code",
   "execution_count": 8,
   "id": "72c81878",
   "metadata": {
    "execution": {
     "iopub.execute_input": "2024-02-19T08:51:12.002909Z",
     "iopub.status.busy": "2024-02-19T08:51:12.002463Z",
     "iopub.status.idle": "2024-02-19T08:51:12.016586Z",
     "shell.execute_reply": "2024-02-19T08:51:12.015280Z"
    },
    "papermill": {
     "duration": 0.032399,
     "end_time": "2024-02-19T08:51:12.019192",
     "exception": false,
     "start_time": "2024-02-19T08:51:11.986793",
     "status": "completed"
    },
    "tags": []
   },
   "outputs": [
    {
     "name": "stdout",
     "output_type": "stream",
     "text": [
      "True\n"
     ]
    },
    {
     "data": {
      "application/javascript": [
       "parent.postMessage({\"jupyterEvent\": \"custom.exercise_interaction\", \"data\": {\"outcomeType\": 2, \"failureMessage\": \"Given `have_umbrella=True`, `rain_level=0.0`, `have_hood=True`, `is_workday=True`, `prepared_for_weather` returned `True`. But I think that's correct. (We want inputs that lead to an incorrect result from `prepared_for_weather`.)\", \"interactionType\": 1, \"questionType\": 1, \"questionId\": \"3_WeatherDebug\", \"learnToolsVersion\": \"0.3.4\", \"valueTowardsCompletion\": 0.0, \"exceptionClass\": \"\", \"trace\": \"\"}}, \"*\")"
      ],
      "text/plain": [
       "<IPython.core.display.Javascript object>"
      ]
     },
     "metadata": {},
     "output_type": "display_data"
    },
    {
     "data": {
      "text/markdown": [
       "<span style=\"color:#cc3333\">Incorrect:</span> Given `have_umbrella=True`, `rain_level=0.0`, `have_hood=True`, `is_workday=True`, `prepared_for_weather` returned `True`. But I think that's correct. (We want inputs that lead to an incorrect result from `prepared_for_weather`.)"
      ],
      "text/plain": [
       "Incorrect: Given `have_umbrella=True`, `rain_level=0.0`, `have_hood=True`, `is_workday=True`, `prepared_for_weather` returned `True`. But I think that's correct. (We want inputs that lead to an incorrect result from `prepared_for_weather`.)"
      ]
     },
     "metadata": {},
     "output_type": "display_data"
    }
   ],
   "source": [
    "def prepared_for_weather(have_umbrella, rain_level, have_hood, is_workday):\n",
    "    # Don't change this code. Our goal is just to find the bug, not fix it!\n",
    "    return have_umbrella or rain_level < 5 and have_hood or not rain_level > 0 and is_workday\n",
    "\n",
    "# Change the values of these inputs so they represent a case where prepared_for_weather\n",
    "# returns the wrong answer.\n",
    "have_umbrella = True\n",
    "rain_level = 0.0\n",
    "have_hood = True\n",
    "is_workday = True\n",
    "\n",
    "# Check what the function returns given the current values of the variables above\n",
    "actual = prepared_for_weather(have_umbrella, rain_level, have_hood, is_workday)\n",
    "print(actual)\n",
    "\n",
    "# Check your answer\n",
    "q3.check()"
   ]
  },
  {
   "cell_type": "code",
   "execution_count": 9,
   "id": "04d5f051",
   "metadata": {
    "execution": {
     "iopub.execute_input": "2024-02-19T08:51:12.051102Z",
     "iopub.status.busy": "2024-02-19T08:51:12.049787Z",
     "iopub.status.idle": "2024-02-19T08:51:12.054886Z",
     "shell.execute_reply": "2024-02-19T08:51:12.053996Z"
    },
    "papermill": {
     "duration": 0.022845,
     "end_time": "2024-02-19T08:51:12.057180",
     "exception": false,
     "start_time": "2024-02-19T08:51:12.034335",
     "status": "completed"
    },
    "tags": []
   },
   "outputs": [],
   "source": [
    "#q3.hint()\n",
    "#q3.solution()"
   ]
  },
  {
   "cell_type": "markdown",
   "id": "0a4bec1c",
   "metadata": {
    "papermill": {
     "duration": 0.01379,
     "end_time": "2024-02-19T08:51:12.085714",
     "exception": false,
     "start_time": "2024-02-19T08:51:12.071924",
     "status": "completed"
    },
    "tags": []
   },
   "source": [
    "# 4.\n",
    "\n",
    "The function `is_negative` below is implemented correctly - it returns True if the given number is negative and False otherwise.\n",
    "\n",
    "However, it's more verbose than it needs to be. We can actually reduce the number of lines of code in this function by *75%* while keeping the same behaviour. \n",
    "\n",
    "See if you can come up with an equivalent body that uses just **one line** of code, and put it in the function `concise_is_negative`. (HINT: you don't even need Python's ternary syntax)"
   ]
  },
  {
   "cell_type": "code",
   "execution_count": 10,
   "id": "c1f25f4f",
   "metadata": {
    "execution": {
     "iopub.execute_input": "2024-02-19T08:51:12.116981Z",
     "iopub.status.busy": "2024-02-19T08:51:12.116492Z",
     "iopub.status.idle": "2024-02-19T08:51:12.127815Z",
     "shell.execute_reply": "2024-02-19T08:51:12.126645Z"
    },
    "papermill": {
     "duration": 0.030662,
     "end_time": "2024-02-19T08:51:12.130679",
     "exception": false,
     "start_time": "2024-02-19T08:51:12.100017",
     "status": "completed"
    },
    "tags": []
   },
   "outputs": [
    {
     "data": {
      "application/javascript": [
       "parent.postMessage({\"jupyterEvent\": \"custom.exercise_interaction\", \"data\": {\"outcomeType\": 4, \"interactionType\": 1, \"questionType\": 2, \"questionId\": \"4_ConciseIsNegative\", \"learnToolsVersion\": \"0.3.4\", \"valueTowardsCompletion\": 0.0, \"failureMessage\": \"\", \"exceptionClass\": \"\", \"trace\": \"\"}}, \"*\")"
      ],
      "text/plain": [
       "<IPython.core.display.Javascript object>"
      ]
     },
     "metadata": {},
     "output_type": "display_data"
    },
    {
     "data": {
      "text/markdown": [
       "<span style=\"color:#ccaa33\">Check:</span> When you've updated the starter code, `check()` will tell you whether your code is correct. "
      ],
      "text/plain": [
       "Check: When you've updated the starter code, `check()` will tell you whether your code is correct. "
      ]
     },
     "metadata": {},
     "output_type": "display_data"
    }
   ],
   "source": [
    "def is_negative(number):\n",
    "    if number < 0:\n",
    "        return True\n",
    "    else:\n",
    "        return False\n",
    "\n",
    "def concise_is_negative(number):\n",
    "    pass # Your code goes here (try to keep it to one line!)\n",
    "\n",
    "# Check your answer\n",
    "q4.check()"
   ]
  },
  {
   "cell_type": "code",
   "execution_count": 11,
   "id": "fdfaf080",
   "metadata": {
    "execution": {
     "iopub.execute_input": "2024-02-19T08:51:12.162949Z",
     "iopub.status.busy": "2024-02-19T08:51:12.162045Z",
     "iopub.status.idle": "2024-02-19T08:51:12.166943Z",
     "shell.execute_reply": "2024-02-19T08:51:12.165744Z"
    },
    "papermill": {
     "duration": 0.023926,
     "end_time": "2024-02-19T08:51:12.169386",
     "exception": false,
     "start_time": "2024-02-19T08:51:12.145460",
     "status": "completed"
    },
    "tags": []
   },
   "outputs": [],
   "source": [
    "#q4.hint()\n",
    "#q4.solution()"
   ]
  },
  {
   "cell_type": "markdown",
   "id": "094c13c8",
   "metadata": {
    "papermill": {
     "duration": 0.014406,
     "end_time": "2024-02-19T08:51:12.198362",
     "exception": false,
     "start_time": "2024-02-19T08:51:12.183956",
     "status": "completed"
    },
    "tags": []
   },
   "source": [
    "# 5a.\n",
    "\n",
    "The boolean variables `ketchup`, `mustard` and `onion` represent whether a customer wants a particular topping on their hot dog. We want to implement a number of boolean functions that correspond to some yes-or-no questions about the customer's order. For example:"
   ]
  },
  {
   "cell_type": "code",
   "execution_count": 12,
   "id": "94aa1ed2",
   "metadata": {
    "execution": {
     "iopub.execute_input": "2024-02-19T08:51:12.230025Z",
     "iopub.status.busy": "2024-02-19T08:51:12.229576Z",
     "iopub.status.idle": "2024-02-19T08:51:12.235006Z",
     "shell.execute_reply": "2024-02-19T08:51:12.233710Z"
    },
    "papermill": {
     "duration": 0.024254,
     "end_time": "2024-02-19T08:51:12.237510",
     "exception": false,
     "start_time": "2024-02-19T08:51:12.213256",
     "status": "completed"
    },
    "tags": []
   },
   "outputs": [],
   "source": [
    "def onionless(ketchup, mustard, onion):\n",
    "    \"\"\"Return whether the customer doesn't want onions.\n",
    "    \"\"\"\n",
    "    return not onion"
   ]
  },
  {
   "cell_type": "code",
   "execution_count": 13,
   "id": "e7786678",
   "metadata": {
    "execution": {
     "iopub.execute_input": "2024-02-19T08:51:12.267818Z",
     "iopub.status.busy": "2024-02-19T08:51:12.267359Z",
     "iopub.status.idle": "2024-02-19T08:51:12.278098Z",
     "shell.execute_reply": "2024-02-19T08:51:12.276916Z"
    },
    "papermill": {
     "duration": 0.02862,
     "end_time": "2024-02-19T08:51:12.280379",
     "exception": false,
     "start_time": "2024-02-19T08:51:12.251759",
     "status": "completed"
    },
    "tags": []
   },
   "outputs": [
    {
     "data": {
      "application/javascript": [
       "parent.postMessage({\"jupyterEvent\": \"custom.exercise_interaction\", \"data\": {\"outcomeType\": 4, \"interactionType\": 1, \"questionType\": 2, \"questionId\": \"5.1_AllToppings\", \"learnToolsVersion\": \"0.3.4\", \"valueTowardsCompletion\": 0.0, \"failureMessage\": \"\", \"exceptionClass\": \"\", \"trace\": \"\"}}, \"*\")"
      ],
      "text/plain": [
       "<IPython.core.display.Javascript object>"
      ]
     },
     "metadata": {},
     "output_type": "display_data"
    },
    {
     "data": {
      "text/markdown": [
       "<span style=\"color:#ccaa33\">Check:</span> When you've updated the starter code, `check()` will tell you whether your code is correct. "
      ],
      "text/plain": [
       "Check: When you've updated the starter code, `check()` will tell you whether your code is correct. "
      ]
     },
     "metadata": {},
     "output_type": "display_data"
    }
   ],
   "source": [
    "def wants_all_toppings(ketchup, mustard, onion):\n",
    "    \"\"\"Return whether the customer wants \"the works\" (all 3 toppings)\n",
    "    \"\"\"\n",
    "    pass\n",
    "\n",
    "# Check your answer\n",
    "q5.a.check()"
   ]
  },
  {
   "cell_type": "code",
   "execution_count": 14,
   "id": "1ec5c559",
   "metadata": {
    "execution": {
     "iopub.execute_input": "2024-02-19T08:51:12.311835Z",
     "iopub.status.busy": "2024-02-19T08:51:12.310980Z",
     "iopub.status.idle": "2024-02-19T08:51:12.316285Z",
     "shell.execute_reply": "2024-02-19T08:51:12.314993Z"
    },
    "papermill": {
     "duration": 0.023414,
     "end_time": "2024-02-19T08:51:12.318498",
     "exception": false,
     "start_time": "2024-02-19T08:51:12.295084",
     "status": "completed"
    },
    "tags": []
   },
   "outputs": [],
   "source": [
    "#q5.a.hint()\n",
    "#q5.a.solution()"
   ]
  },
  {
   "cell_type": "markdown",
   "id": "03b07ef3",
   "metadata": {
    "papermill": {
     "duration": 0.014083,
     "end_time": "2024-02-19T08:51:12.347266",
     "exception": false,
     "start_time": "2024-02-19T08:51:12.333183",
     "status": "completed"
    },
    "tags": []
   },
   "source": [
    "# 5b.\n",
    "\n",
    "For the next function, fill in the body to match the English description in the docstring. "
   ]
  },
  {
   "cell_type": "code",
   "execution_count": 15,
   "id": "4185d8fa",
   "metadata": {
    "execution": {
     "iopub.execute_input": "2024-02-19T08:51:12.379511Z",
     "iopub.status.busy": "2024-02-19T08:51:12.378282Z",
     "iopub.status.idle": "2024-02-19T08:51:12.388239Z",
     "shell.execute_reply": "2024-02-19T08:51:12.387379Z"
    },
    "papermill": {
     "duration": 0.028533,
     "end_time": "2024-02-19T08:51:12.390468",
     "exception": false,
     "start_time": "2024-02-19T08:51:12.361935",
     "status": "completed"
    },
    "tags": []
   },
   "outputs": [
    {
     "data": {
      "application/javascript": [
       "parent.postMessage({\"jupyterEvent\": \"custom.exercise_interaction\", \"data\": {\"outcomeType\": 4, \"interactionType\": 1, \"questionType\": 2, \"questionId\": \"5.2_PlainDog\", \"learnToolsVersion\": \"0.3.4\", \"valueTowardsCompletion\": 0.0, \"failureMessage\": \"\", \"exceptionClass\": \"\", \"trace\": \"\"}}, \"*\")"
      ],
      "text/plain": [
       "<IPython.core.display.Javascript object>"
      ]
     },
     "metadata": {},
     "output_type": "display_data"
    },
    {
     "data": {
      "text/markdown": [
       "<span style=\"color:#ccaa33\">Check:</span> When you've updated the starter code, `check()` will tell you whether your code is correct. "
      ],
      "text/plain": [
       "Check: When you've updated the starter code, `check()` will tell you whether your code is correct. "
      ]
     },
     "metadata": {},
     "output_type": "display_data"
    }
   ],
   "source": [
    "def wants_plain_hotdog(ketchup, mustard, onion):\n",
    "    \"\"\"Return whether the customer wants a plain hot dog with no toppings.\n",
    "    \"\"\"\n",
    "    pass\n",
    "\n",
    "# Check your answer\n",
    "q5.b.check()"
   ]
  },
  {
   "cell_type": "code",
   "execution_count": 16,
   "id": "9c7723ff",
   "metadata": {
    "execution": {
     "iopub.execute_input": "2024-02-19T08:51:12.422863Z",
     "iopub.status.busy": "2024-02-19T08:51:12.422334Z",
     "iopub.status.idle": "2024-02-19T08:51:12.428109Z",
     "shell.execute_reply": "2024-02-19T08:51:12.426448Z"
    },
    "papermill": {
     "duration": 0.025403,
     "end_time": "2024-02-19T08:51:12.430899",
     "exception": false,
     "start_time": "2024-02-19T08:51:12.405496",
     "status": "completed"
    },
    "tags": []
   },
   "outputs": [],
   "source": [
    "#q5.b.hint()\n",
    "#q5.b.solution()"
   ]
  },
  {
   "cell_type": "markdown",
   "id": "b2a98546",
   "metadata": {
    "papermill": {
     "duration": 0.014741,
     "end_time": "2024-02-19T08:51:12.461989",
     "exception": false,
     "start_time": "2024-02-19T08:51:12.447248",
     "status": "completed"
    },
    "tags": []
   },
   "source": [
    "# 5c.\n",
    "\n",
    "You know what to do: for the next function, fill in the body to match the English description in the docstring."
   ]
  },
  {
   "cell_type": "code",
   "execution_count": 17,
   "id": "857e65ee",
   "metadata": {
    "execution": {
     "iopub.execute_input": "2024-02-19T08:51:12.494683Z",
     "iopub.status.busy": "2024-02-19T08:51:12.494168Z",
     "iopub.status.idle": "2024-02-19T08:51:12.504890Z",
     "shell.execute_reply": "2024-02-19T08:51:12.503836Z"
    },
    "papermill": {
     "duration": 0.030059,
     "end_time": "2024-02-19T08:51:12.507480",
     "exception": false,
     "start_time": "2024-02-19T08:51:12.477421",
     "status": "completed"
    },
    "tags": []
   },
   "outputs": [
    {
     "data": {
      "application/javascript": [
       "parent.postMessage({\"jupyterEvent\": \"custom.exercise_interaction\", \"data\": {\"outcomeType\": 4, \"interactionType\": 1, \"questionType\": 2, \"questionId\": \"5.3_OneSauce\", \"learnToolsVersion\": \"0.3.4\", \"valueTowardsCompletion\": 0.0, \"failureMessage\": \"\", \"exceptionClass\": \"\", \"trace\": \"\"}}, \"*\")"
      ],
      "text/plain": [
       "<IPython.core.display.Javascript object>"
      ]
     },
     "metadata": {},
     "output_type": "display_data"
    },
    {
     "data": {
      "text/markdown": [
       "<span style=\"color:#ccaa33\">Check:</span> When you've updated the starter code, `check()` will tell you whether your code is correct. "
      ],
      "text/plain": [
       "Check: When you've updated the starter code, `check()` will tell you whether your code is correct. "
      ]
     },
     "metadata": {},
     "output_type": "display_data"
    }
   ],
   "source": [
    "def exactly_one_sauce(ketchup, mustard, onion):\n",
    "    \"\"\"Return whether the customer wants either ketchup or mustard, but not both.\n",
    "    (You may be familiar with this operation under the name \"exclusive or\")\n",
    "    \"\"\"\n",
    "    pass\n",
    "\n",
    "# Check your answer\n",
    "q5.c.check()"
   ]
  },
  {
   "cell_type": "code",
   "execution_count": 18,
   "id": "30370e7b",
   "metadata": {
    "execution": {
     "iopub.execute_input": "2024-02-19T08:51:12.541115Z",
     "iopub.status.busy": "2024-02-19T08:51:12.540583Z",
     "iopub.status.idle": "2024-02-19T08:51:12.546540Z",
     "shell.execute_reply": "2024-02-19T08:51:12.544900Z"
    },
    "papermill": {
     "duration": 0.026366,
     "end_time": "2024-02-19T08:51:12.549409",
     "exception": false,
     "start_time": "2024-02-19T08:51:12.523043",
     "status": "completed"
    },
    "tags": []
   },
   "outputs": [],
   "source": [
    "#q5.c.hint()\n",
    "#q5.c.solution()"
   ]
  },
  {
   "cell_type": "markdown",
   "id": "8e4ef1b2",
   "metadata": {
    "papermill": {
     "duration": 0.015728,
     "end_time": "2024-02-19T08:51:12.581645",
     "exception": false,
     "start_time": "2024-02-19T08:51:12.565917",
     "status": "completed"
    },
    "tags": []
   },
   "source": [
    "# 6. <span title=\"A bit spicy\" style=\"color: darkgreen \">🌶️</span>\n",
    "\n",
    "We’ve seen that calling `bool()` on an integer returns `False` if it’s equal to 0 and `True` otherwise. What happens if we call `int()` on a bool? Try it out in the notebook cell below.\n",
    "\n",
    "Can you take advantage of this to write a succinct function that corresponds to the English sentence \"does the customer want exactly one topping?\"?"
   ]
  },
  {
   "cell_type": "code",
   "execution_count": 19,
   "id": "42858e05",
   "metadata": {
    "execution": {
     "iopub.execute_input": "2024-02-19T08:51:12.615536Z",
     "iopub.status.busy": "2024-02-19T08:51:12.614482Z",
     "iopub.status.idle": "2024-02-19T08:51:12.624090Z",
     "shell.execute_reply": "2024-02-19T08:51:12.623227Z"
    },
    "papermill": {
     "duration": 0.028952,
     "end_time": "2024-02-19T08:51:12.626292",
     "exception": false,
     "start_time": "2024-02-19T08:51:12.597340",
     "status": "completed"
    },
    "tags": []
   },
   "outputs": [
    {
     "data": {
      "application/javascript": [
       "parent.postMessage({\"jupyterEvent\": \"custom.exercise_interaction\", \"data\": {\"outcomeType\": 4, \"interactionType\": 1, \"questionType\": 2, \"questionId\": \"6_OneTopping\", \"learnToolsVersion\": \"0.3.4\", \"valueTowardsCompletion\": 0.0, \"failureMessage\": \"\", \"exceptionClass\": \"\", \"trace\": \"\"}}, \"*\")"
      ],
      "text/plain": [
       "<IPython.core.display.Javascript object>"
      ]
     },
     "metadata": {},
     "output_type": "display_data"
    },
    {
     "data": {
      "text/markdown": [
       "<span style=\"color:#ccaa33\">Check:</span> When you've updated the starter code, `check()` will tell you whether your code is correct. "
      ],
      "text/plain": [
       "Check: When you've updated the starter code, `check()` will tell you whether your code is correct. "
      ]
     },
     "metadata": {},
     "output_type": "display_data"
    }
   ],
   "source": [
    "def exactly_one_topping(ketchup, mustard, onion):\n",
    "    \"\"\"Return whether the customer wants exactly one of the three available toppings\n",
    "    on their hot dog.\n",
    "    \"\"\"\n",
    "    pass\n",
    "\n",
    "# Check your answer\n",
    "q6.check()"
   ]
  },
  {
   "cell_type": "code",
   "execution_count": 20,
   "id": "31b83b41",
   "metadata": {
    "execution": {
     "iopub.execute_input": "2024-02-19T08:51:12.661858Z",
     "iopub.status.busy": "2024-02-19T08:51:12.661359Z",
     "iopub.status.idle": "2024-02-19T08:51:12.667304Z",
     "shell.execute_reply": "2024-02-19T08:51:12.665907Z"
    },
    "papermill": {
     "duration": 0.027017,
     "end_time": "2024-02-19T08:51:12.670242",
     "exception": false,
     "start_time": "2024-02-19T08:51:12.643225",
     "status": "completed"
    },
    "tags": []
   },
   "outputs": [],
   "source": [
    "#q6.hint()\n",
    "#q6.solution()"
   ]
  },
  {
   "cell_type": "markdown",
   "id": "662ca997",
   "metadata": {
    "papermill": {
     "duration": 0.015729,
     "end_time": "2024-02-19T08:51:12.702299",
     "exception": false,
     "start_time": "2024-02-19T08:51:12.686570",
     "status": "completed"
    },
    "tags": []
   },
   "source": [
    "# 7. <span title=\"A bit spicy\" style=\"color: darkgreen \">🌶️</span> (Optional)\n",
    "\n",
    "In this problem we'll be working with a simplified version of [blackjack](https://en.wikipedia.org/wiki/Blackjack) (aka twenty-one). In this version there is one player (who you'll control) and a dealer. Play proceeds as follows:\n",
    "\n",
    "- The player is dealt two face-up cards. The dealer is dealt one face-up card.\n",
    "- The player may ask to be dealt another card ('hit') as many times as they wish. If the sum of their cards exceeds 21, they lose the round immediately.\n",
    "- The dealer then deals additional cards to himself until either:\n",
    "    - the sum of the dealer's cards exceeds 21, in which case the player wins the round\n",
    "    - the sum of the dealer's cards is greater than or equal to 17. If the player's total is greater than the dealer's, the player wins. Otherwise, the dealer wins (even in case of a tie).\n",
    "    \n",
    "When calculating the sum of cards, Jack, Queen, and King count for 10. Aces can count as 1 or 11 (when referring to a player's \"total\" above, we mean the largest total that can be made without exceeding 21. So e.g. A+8 = 19, A+8+8 = 17)\n",
    "\n",
    "For this problem, you'll write a function representing the player's decision-making strategy in this game. We've provided a very unintelligent implementation below:"
   ]
  },
  {
   "cell_type": "code",
   "execution_count": 21,
   "id": "59e1b584",
   "metadata": {
    "execution": {
     "iopub.execute_input": "2024-02-19T08:51:12.736525Z",
     "iopub.status.busy": "2024-02-19T08:51:12.736080Z",
     "iopub.status.idle": "2024-02-19T08:51:12.742953Z",
     "shell.execute_reply": "2024-02-19T08:51:12.741710Z"
    },
    "papermill": {
     "duration": 0.027228,
     "end_time": "2024-02-19T08:51:12.745626",
     "exception": false,
     "start_time": "2024-02-19T08:51:12.718398",
     "status": "completed"
    },
    "tags": []
   },
   "outputs": [],
   "source": [
    "def should_hit(dealer_total, player_total, player_low_aces, player_high_aces):\n",
    "    \"\"\"Return True if the player should hit (request another card) given the current game\n",
    "    state, or False if the player should stay.\n",
    "    When calculating a hand's total value, we count aces as \"high\" (with value 11) if doing so\n",
    "    doesn't bring the total above 21, otherwise we count them as low (with value 1). \n",
    "    For example, if the player's hand is {A, A, A, 7}, we will count it as 11 + 1 + 1 + 7,\n",
    "    and therefore set player_total=20, player_low_aces=2, player_high_aces=1.\n",
    "    \"\"\"\n",
    "    return False"
   ]
  },
  {
   "cell_type": "markdown",
   "id": "b100f500",
   "metadata": {
    "papermill": {
     "duration": 0.017062,
     "end_time": "2024-02-19T08:51:12.867156",
     "exception": false,
     "start_time": "2024-02-19T08:51:12.850094",
     "status": "completed"
    },
    "tags": []
   },
   "source": [
    "This very conservative agent *always* sticks with the hand of two cards that they're dealt.\n",
    "\n",
    "We'll be simulating games between your player agent and our own dealer agent by calling your function.\n",
    "\n",
    "Try running the function below to see an example of a simulated game:"
   ]
  },
  {
   "cell_type": "code",
   "execution_count": 22,
   "id": "9ed9d1e4",
   "metadata": {
    "execution": {
     "iopub.execute_input": "2024-02-19T08:51:12.903119Z",
     "iopub.status.busy": "2024-02-19T08:51:12.902383Z",
     "iopub.status.idle": "2024-02-19T08:51:12.909256Z",
     "shell.execute_reply": "2024-02-19T08:51:12.907999Z"
    },
    "papermill": {
     "duration": 0.028031,
     "end_time": "2024-02-19T08:51:12.912056",
     "exception": false,
     "start_time": "2024-02-19T08:51:12.884025",
     "status": "completed"
    },
    "tags": []
   },
   "outputs": [
    {
     "name": "stdout",
     "output_type": "stream",
     "text": [
      "Player starts with 9 and 10 (total = 19)\n",
      "Dealer starts with J\n",
      "\n",
      "__Player's turn__\n",
      "Player stays\n",
      "\n",
      "__Dealer's turn__\n",
      "Dealer hits and receives A. (total = 21)\n",
      "Dealer stands.\n",
      "Dealer wins. 21 >= 19\n"
     ]
    }
   ],
   "source": [
    "q7.simulate_one_game()"
   ]
  },
  {
   "cell_type": "markdown",
   "id": "71c46d02",
   "metadata": {
    "papermill": {
     "duration": 0.016331,
     "end_time": "2024-02-19T08:51:12.945554",
     "exception": false,
     "start_time": "2024-02-19T08:51:12.929223",
     "status": "completed"
    },
    "tags": []
   },
   "source": [
    "The real test of your agent's mettle is their average win rate over many games. Try calling the function below to simulate 50000 games of blackjack (it may take a couple seconds):"
   ]
  },
  {
   "cell_type": "code",
   "execution_count": 23,
   "id": "6f493820",
   "metadata": {
    "execution": {
     "iopub.execute_input": "2024-02-19T08:51:12.980604Z",
     "iopub.status.busy": "2024-02-19T08:51:12.980138Z",
     "iopub.status.idle": "2024-02-19T08:51:15.206071Z",
     "shell.execute_reply": "2024-02-19T08:51:15.203731Z"
    },
    "papermill": {
     "duration": 2.247885,
     "end_time": "2024-02-19T08:51:15.210008",
     "exception": false,
     "start_time": "2024-02-19T08:51:12.962123",
     "status": "completed"
    },
    "tags": []
   },
   "outputs": [
    {
     "name": "stdout",
     "output_type": "stream",
     "text": [
      "Player won 19141 out of 50000 games (win rate = 38.3%)\n"
     ]
    }
   ],
   "source": [
    "q7.simulate(n_games=50000)"
   ]
  },
  {
   "cell_type": "markdown",
   "id": "12ddaa4d",
   "metadata": {
    "papermill": {
     "duration": 0.023746,
     "end_time": "2024-02-19T08:51:15.259590",
     "exception": false,
     "start_time": "2024-02-19T08:51:15.235844",
     "status": "completed"
    },
    "tags": []
   },
   "source": [
    "Our dumb agent that completely ignores the game state still manages to win shockingly often!\n",
    "\n",
    "Try adding some more smarts to the `should_hit` function and see how it affects the results."
   ]
  },
  {
   "cell_type": "code",
   "execution_count": 24,
   "id": "d19c48f3",
   "metadata": {
    "execution": {
     "iopub.execute_input": "2024-02-19T08:51:15.302933Z",
     "iopub.status.busy": "2024-02-19T08:51:15.302077Z",
     "iopub.status.idle": "2024-02-19T08:51:17.513324Z",
     "shell.execute_reply": "2024-02-19T08:51:17.511933Z"
    },
    "papermill": {
     "duration": 2.235343,
     "end_time": "2024-02-19T08:51:17.516253",
     "exception": false,
     "start_time": "2024-02-19T08:51:15.280910",
     "status": "completed"
    },
    "tags": []
   },
   "outputs": [
    {
     "name": "stdout",
     "output_type": "stream",
     "text": [
      "Player won 18974 out of 50000 games (win rate = 37.9%)\n"
     ]
    }
   ],
   "source": [
    "def should_hit(dealer_total, player_total, player_low_aces, player_high_aces):\n",
    "    \"\"\"Return True if the player should hit (request another card) given the current game\n",
    "    state, or False if the player should stay.\n",
    "    When calculating a hand's total value, we count aces as \"high\" (with value 11) if doing so\n",
    "    doesn't bring the total above 21, otherwise we count them as low (with value 1). \n",
    "    For example, if the player's hand is {A, A, A, 7}, we will count it as 11 + 1 + 1 + 7,\n",
    "    and therefore set player_total=20, player_low_aces=2, player_high_aces=1.\n",
    "    \"\"\"\n",
    "    return False\n",
    "\n",
    "q7.simulate(n_games=50000)"
   ]
  },
  {
   "cell_type": "markdown",
   "id": "4faaf6a3",
   "metadata": {
    "papermill": {
     "duration": 0.016819,
     "end_time": "2024-02-19T08:51:17.550751",
     "exception": false,
     "start_time": "2024-02-19T08:51:17.533932",
     "status": "completed"
    },
    "tags": []
   },
   "source": [
    "# Keep Going\n",
    "\n",
    "Learn about **[lists and tuples](https://www.kaggle.com/colinmorris/lists)** to handle multiple items of data in a systematic way."
   ]
  },
  {
   "cell_type": "markdown",
   "id": "83807c3a",
   "metadata": {
    "papermill": {
     "duration": 0.017199,
     "end_time": "2024-02-19T08:51:17.586207",
     "exception": false,
     "start_time": "2024-02-19T08:51:17.569008",
     "status": "completed"
    },
    "tags": []
   },
   "source": [
    "---\n",
    "\n",
    "\n",
    "\n",
    "\n",
    "*Have questions or comments? Visit the [course discussion forum](https://www.kaggle.com/learn/python/discussion) to chat with other learners.*"
   ]
  }
 ],
 "metadata": {
  "kaggle": {
   "accelerator": "none",
   "dataSources": [],
   "isGpuEnabled": false,
   "isInternetEnabled": false,
   "language": "python",
   "sourceType": "notebook"
  },
  "kernelspec": {
   "display_name": "Python 3",
   "language": "python",
   "name": "python3"
  },
  "language_info": {
   "codemirror_mode": {
    "name": "ipython",
    "version": 3
   },
   "file_extension": ".py",
   "mimetype": "text/x-python",
   "name": "python",
   "nbconvert_exporter": "python",
   "pygments_lexer": "ipython3",
   "version": "3.10.13"
  },
  "learntools_metadata": {
   "lesson_index": 2,
   "type": "exercise"
  },
  "papermill": {
   "default_parameters": {},
   "duration": 11.150221,
   "end_time": "2024-02-19T08:51:18.226441",
   "environment_variables": {},
   "exception": null,
   "input_path": "__notebook__.ipynb",
   "output_path": "__notebook__.ipynb",
   "parameters": {},
   "start_time": "2024-02-19T08:51:07.076220",
   "version": "2.5.0"
  }
 },
 "nbformat": 4,
 "nbformat_minor": 5
}
