{
 "cells": [
  {
   "cell_type": "markdown",
   "id": "9d2c9dfe",
   "metadata": {
    "papermill": {
     "duration": 0.012504,
     "end_time": "2024-02-20T07:19:33.667905",
     "exception": false,
     "start_time": "2024-02-20T07:19:33.655401",
     "status": "completed"
    },
    "tags": []
   },
   "source": [
    "**This notebook is an exercise in the [Python](https://www.kaggle.com/learn/python) course.  You can reference the tutorial at [this link](https://www.kaggle.com/colinmorris/booleans-and-conditionals).**\n",
    "\n",
    "---\n"
   ]
  },
  {
   "cell_type": "markdown",
   "id": "0ceb54a1",
   "metadata": {
    "papermill": {
     "duration": 0.011589,
     "end_time": "2024-02-20T07:19:33.691635",
     "exception": false,
     "start_time": "2024-02-20T07:19:33.680046",
     "status": "completed"
    },
    "tags": []
   },
   "source": [
    "In this exercise, you'll put to work what you have learned about booleans and conditionals.\n",
    "\n",
    "To get started, **run the setup code below** before writing your own code (and if you leave this notebook and come back later, don't forget to run the setup code again)."
   ]
  },
  {
   "cell_type": "code",
   "execution_count": 1,
   "id": "5b61f24a",
   "metadata": {
    "execution": {
     "iopub.execute_input": "2024-02-20T07:19:33.717523Z",
     "iopub.status.busy": "2024-02-20T07:19:33.717153Z",
     "iopub.status.idle": "2024-02-20T07:19:34.663504Z",
     "shell.execute_reply": "2024-02-20T07:19:34.662093Z"
    },
    "papermill": {
     "duration": 0.962945,
     "end_time": "2024-02-20T07:19:34.666592",
     "exception": false,
     "start_time": "2024-02-20T07:19:33.703647",
     "status": "completed"
    },
    "tags": []
   },
   "outputs": [
    {
     "name": "stdout",
     "output_type": "stream",
     "text": [
      "Setup complete.\n"
     ]
    }
   ],
   "source": [
    "from learntools.core import binder; binder.bind(globals())\n",
    "from learntools.python.ex3 import *\n",
    "print('Setup complete.')"
   ]
  },
  {
   "cell_type": "markdown",
   "id": "6582510b",
   "metadata": {
    "papermill": {
     "duration": 0.012439,
     "end_time": "2024-02-20T07:19:34.691695",
     "exception": false,
     "start_time": "2024-02-20T07:19:34.679256",
     "status": "completed"
    },
    "tags": []
   },
   "source": [
    "# 1.\n",
    "\n",
    "Many programming languages have [`sign`](https://en.wikipedia.org/wiki/Sign_function) available as a built-in function. Python doesn't, but we can define our own!\n",
    "\n",
    "In the cell below, define a function called `sign` which takes a numerical argument and returns -1 if it's negative, 1 if it's positive, and 0 if it's 0."
   ]
  },
  {
   "cell_type": "code",
   "execution_count": 2,
   "id": "4692e79d",
   "metadata": {
    "execution": {
     "iopub.execute_input": "2024-02-20T07:19:34.719209Z",
     "iopub.status.busy": "2024-02-20T07:19:34.718351Z",
     "iopub.status.idle": "2024-02-20T07:19:34.728626Z",
     "shell.execute_reply": "2024-02-20T07:19:34.727494Z"
    },
    "papermill": {
     "duration": 0.027367,
     "end_time": "2024-02-20T07:19:34.731549",
     "exception": false,
     "start_time": "2024-02-20T07:19:34.704182",
     "status": "completed"
    },
    "tags": []
   },
   "outputs": [
    {
     "data": {
      "application/javascript": [
       "parent.postMessage({\"jupyterEvent\": \"custom.exercise_interaction\", \"data\": {\"outcomeType\": 1, \"valueTowardsCompletion\": 0.2, \"interactionType\": 1, \"questionType\": 2, \"questionId\": \"1_SignFunctionProblem\", \"learnToolsVersion\": \"0.3.4\", \"failureMessage\": \"\", \"exceptionClass\": \"\", \"trace\": \"\"}}, \"*\")"
      ],
      "text/plain": [
       "<IPython.core.display.Javascript object>"
      ]
     },
     "metadata": {},
     "output_type": "display_data"
    },
    {
     "data": {
      "text/markdown": [
       "<span style=\"color:#33cc33\">Correct</span>"
      ],
      "text/plain": [
       "Correct"
      ]
     },
     "metadata": {},
     "output_type": "display_data"
    }
   ],
   "source": [
    "# Your code goes here. Define a function called 'sign'\n",
    "def sign(num):\n",
    "    if num<0:\n",
    "        return -1\n",
    "    elif num>0:\n",
    "        return 1\n",
    "    else:\n",
    "        return 0\n",
    "\n",
    "# Check your answer\n",
    "q1.check()"
   ]
  },
  {
   "cell_type": "code",
   "execution_count": 3,
   "id": "606f4b00",
   "metadata": {
    "execution": {
     "iopub.execute_input": "2024-02-20T07:19:34.761893Z",
     "iopub.status.busy": "2024-02-20T07:19:34.761465Z",
     "iopub.status.idle": "2024-02-20T07:19:34.766288Z",
     "shell.execute_reply": "2024-02-20T07:19:34.765096Z"
    },
    "papermill": {
     "duration": 0.024643,
     "end_time": "2024-02-20T07:19:34.769370",
     "exception": false,
     "start_time": "2024-02-20T07:19:34.744727",
     "status": "completed"
    },
    "tags": []
   },
   "outputs": [],
   "source": [
    "#q1.solution()"
   ]
  },
  {
   "cell_type": "markdown",
   "id": "ae06ec88",
   "metadata": {
    "papermill": {
     "duration": 0.012251,
     "end_time": "2024-02-20T07:19:34.795057",
     "exception": false,
     "start_time": "2024-02-20T07:19:34.782806",
     "status": "completed"
    },
    "tags": []
   },
   "source": [
    "# 2.\n",
    "\n",
    "We've decided to add \"logging\" to our `to_smash` function from the previous exercise."
   ]
  },
  {
   "cell_type": "code",
   "execution_count": 4,
   "id": "d21110d2",
   "metadata": {
    "execution": {
     "iopub.execute_input": "2024-02-20T07:19:34.823693Z",
     "iopub.status.busy": "2024-02-20T07:19:34.823303Z",
     "iopub.status.idle": "2024-02-20T07:19:34.832429Z",
     "shell.execute_reply": "2024-02-20T07:19:34.831289Z"
    },
    "papermill": {
     "duration": 0.026599,
     "end_time": "2024-02-20T07:19:34.835215",
     "exception": false,
     "start_time": "2024-02-20T07:19:34.808616",
     "status": "completed"
    },
    "tags": []
   },
   "outputs": [
    {
     "name": "stdout",
     "output_type": "stream",
     "text": [
      "Splitting 91 candies\n"
     ]
    },
    {
     "data": {
      "text/plain": [
       "1"
      ]
     },
     "execution_count": 4,
     "metadata": {},
     "output_type": "execute_result"
    }
   ],
   "source": [
    "def to_smash(total_candies):\n",
    "    \"\"\"Return the number of leftover candies that must be smashed after distributing\n",
    "    the given number of candies evenly between 3 friends.\n",
    "    \n",
    "    >>> to_smash(91)\n",
    "    1\n",
    "    \"\"\"\n",
    "    print(\"Splitting\", total_candies, \"candies\")\n",
    "    return total_candies % 3\n",
    "\n",
    "to_smash(91)"
   ]
  },
  {
   "cell_type": "markdown",
   "id": "f5c8ecc2",
   "metadata": {
    "papermill": {
     "duration": 0.012533,
     "end_time": "2024-02-20T07:19:34.860771",
     "exception": false,
     "start_time": "2024-02-20T07:19:34.848238",
     "status": "completed"
    },
    "tags": []
   },
   "source": [
    "What happens if we call it with `total_candies = 1`?"
   ]
  },
  {
   "cell_type": "code",
   "execution_count": 5,
   "id": "e3d4032e",
   "metadata": {
    "execution": {
     "iopub.execute_input": "2024-02-20T07:19:34.894294Z",
     "iopub.status.busy": "2024-02-20T07:19:34.893376Z",
     "iopub.status.idle": "2024-02-20T07:19:34.903168Z",
     "shell.execute_reply": "2024-02-20T07:19:34.901994Z"
    },
    "papermill": {
     "duration": 0.029754,
     "end_time": "2024-02-20T07:19:34.906518",
     "exception": false,
     "start_time": "2024-02-20T07:19:34.876764",
     "status": "completed"
    },
    "tags": []
   },
   "outputs": [
    {
     "name": "stdout",
     "output_type": "stream",
     "text": [
      "Splitting 1 candies\n"
     ]
    },
    {
     "data": {
      "text/plain": [
       "1"
      ]
     },
     "execution_count": 5,
     "metadata": {},
     "output_type": "execute_result"
    }
   ],
   "source": [
    "to_smash(1)"
   ]
  },
  {
   "cell_type": "markdown",
   "id": "b4fe1003",
   "metadata": {
    "papermill": {
     "duration": 0.013193,
     "end_time": "2024-02-20T07:19:34.936926",
     "exception": false,
     "start_time": "2024-02-20T07:19:34.923733",
     "status": "completed"
    },
    "tags": []
   },
   "source": [
    "That isn't great grammar!\n",
    "\n",
    "Modify the definition in the cell below to correct the grammar of our print statement. (If there's only one candy, we should use the singular \"candy\" instead of the plural \"candies\")"
   ]
  },
  {
   "cell_type": "code",
   "execution_count": 6,
   "id": "06b35610",
   "metadata": {
    "execution": {
     "iopub.execute_input": "2024-02-20T07:19:34.970445Z",
     "iopub.status.busy": "2024-02-20T07:19:34.969079Z",
     "iopub.status.idle": "2024-02-20T07:19:34.980246Z",
     "shell.execute_reply": "2024-02-20T07:19:34.979208Z"
    },
    "papermill": {
     "duration": 0.029534,
     "end_time": "2024-02-20T07:19:34.982492",
     "exception": false,
     "start_time": "2024-02-20T07:19:34.952958",
     "status": "completed"
    },
    "tags": []
   },
   "outputs": [
    {
     "name": "stdout",
     "output_type": "stream",
     "text": [
      "Splitting 91 candies\n",
      "Splitting 1 candy\n"
     ]
    },
    {
     "data": {
      "text/plain": [
       "1"
      ]
     },
     "execution_count": 6,
     "metadata": {},
     "output_type": "execute_result"
    }
   ],
   "source": [
    "def to_smash(total_candies):\n",
    "    \"\"\"Return the number of leftover candies that must be smashed after distributing\n",
    "    the given number of candies evenly between 3 friends.\n",
    "    \n",
    "    >>> to_smash(91)\n",
    "    1\n",
    "    \"\"\"\n",
    "    print(\"Splitting\", total_candies, \"candy\" if total_candies == 1 else \"candies\")\n",
    "    return total_candies % 3\n",
    "\n",
    "to_smash(91)\n",
    "to_smash(1)"
   ]
  },
  {
   "cell_type": "markdown",
   "id": "d9ad3665",
   "metadata": {
    "papermill": {
     "duration": 0.012971,
     "end_time": "2024-02-20T07:19:35.010567",
     "exception": false,
     "start_time": "2024-02-20T07:19:34.997596",
     "status": "completed"
    },
    "tags": []
   },
   "source": [
    "To get credit for completing this problem, and to see the official answer, run the code cell below."
   ]
  },
  {
   "cell_type": "code",
   "execution_count": 7,
   "id": "b7f19335",
   "metadata": {
    "execution": {
     "iopub.execute_input": "2024-02-20T07:19:35.041449Z",
     "iopub.status.busy": "2024-02-20T07:19:35.040203Z",
     "iopub.status.idle": "2024-02-20T07:19:35.050122Z",
     "shell.execute_reply": "2024-02-20T07:19:35.049087Z"
    },
    "papermill": {
     "duration": 0.027691,
     "end_time": "2024-02-20T07:19:35.052390",
     "exception": false,
     "start_time": "2024-02-20T07:19:35.024699",
     "status": "completed"
    },
    "tags": []
   },
   "outputs": [
    {
     "data": {
      "application/javascript": [
       "parent.postMessage({\"jupyterEvent\": \"custom.exercise_interaction\", \"data\": {\"interactionType\": 3, \"questionType\": 4, \"questionId\": \"2_PluralizationProblem\", \"learnToolsVersion\": \"0.3.4\", \"valueTowardsCompletion\": 0.0, \"failureMessage\": \"\", \"exceptionClass\": \"\", \"trace\": \"\", \"outcomeType\": 4}}, \"*\")"
      ],
      "text/plain": [
       "<IPython.core.display.Javascript object>"
      ]
     },
     "metadata": {},
     "output_type": "display_data"
    },
    {
     "data": {
      "text/markdown": [
       "<span style=\"color:#33cc99\">Solution:</span> A straightforward (and totally fine) solution is to replace the original `print` call with:\n",
       "\n",
       "```python\n",
       "if total_candies == 1:\n",
       "    print(\"Splitting 1 candy\")\n",
       "else:\n",
       "    print(\"Splitting\", total_candies, \"candies\")\n",
       "```\n",
       "\n",
       "Here's a slightly more succinct solution using a conditional expression:\n",
       "\n",
       "```python\n",
       "print(\"Splitting\", total_candies, \"candy\" if total_candies == 1 else \"candies\")\n",
       "```"
      ],
      "text/plain": [
       "Solution: A straightforward (and totally fine) solution is to replace the original `print` call with:\n",
       "\n",
       "```python\n",
       "if total_candies == 1:\n",
       "    print(\"Splitting 1 candy\")\n",
       "else:\n",
       "    print(\"Splitting\", total_candies, \"candies\")\n",
       "```\n",
       "\n",
       "Here's a slightly more succinct solution using a conditional expression:\n",
       "\n",
       "```python\n",
       "print(\"Splitting\", total_candies, \"candy\" if total_candies == 1 else \"candies\")\n",
       "```"
      ]
     },
     "metadata": {},
     "output_type": "display_data"
    }
   ],
   "source": [
    "# Check your answer (Run this code cell to receive credit!)\n",
    "q2.solution()"
   ]
  },
  {
   "cell_type": "markdown",
   "id": "5119ede0",
   "metadata": {
    "papermill": {
     "duration": 0.015429,
     "end_time": "2024-02-20T07:19:35.085478",
     "exception": false,
     "start_time": "2024-02-20T07:19:35.070049",
     "status": "completed"
    },
    "tags": []
   },
   "source": [
    "# 3. <span title=\"A bit spicy\" style=\"color: darkgreen \">🌶️</span>\n",
    "\n",
    "In the tutorial, we talked about deciding whether we're prepared for the weather. I said that I'm safe from today's weather if...\n",
    "- I have an umbrella...\n",
    "- or if the rain isn't too heavy and I have a hood...\n",
    "- otherwise, I'm still fine unless it's raining *and* it's a workday\n",
    "\n",
    "The function below uses our first attempt at turning this logic into a Python expression. I claimed that there was a bug in that code. Can you find it?\n",
    "\n",
    "To prove that `prepared_for_weather` is buggy, come up with a set of inputs where either:\n",
    "- the function returns `False` (but should have returned `True`), or\n",
    "- the function returned `True` (but should have returned `False`).\n",
    "\n",
    "To get credit for completing this question, your code should return a <font color='#33cc33'>Correct</font> result."
   ]
  },
  {
   "cell_type": "code",
   "execution_count": 8,
   "id": "c0417417",
   "metadata": {
    "execution": {
     "iopub.execute_input": "2024-02-20T07:19:35.116406Z",
     "iopub.status.busy": "2024-02-20T07:19:35.115605Z",
     "iopub.status.idle": "2024-02-20T07:19:35.128582Z",
     "shell.execute_reply": "2024-02-20T07:19:35.127447Z"
    },
    "papermill": {
     "duration": 0.03093,
     "end_time": "2024-02-20T07:19:35.130828",
     "exception": false,
     "start_time": "2024-02-20T07:19:35.099898",
     "status": "completed"
    },
    "tags": []
   },
   "outputs": [
    {
     "name": "stdout",
     "output_type": "stream",
     "text": [
      "True\n"
     ]
    },
    {
     "data": {
      "application/javascript": [
       "parent.postMessage({\"jupyterEvent\": \"custom.exercise_interaction\", \"data\": {\"outcomeType\": 2, \"failureMessage\": \"Given `have_umbrella=True`, `rain_level=0.0`, `have_hood=True`, `is_workday=True`, `prepared_for_weather` returned `True`. But I think that's correct. (We want inputs that lead to an incorrect result from `prepared_for_weather`.)\", \"interactionType\": 1, \"questionType\": 1, \"questionId\": \"3_WeatherDebug\", \"learnToolsVersion\": \"0.3.4\", \"valueTowardsCompletion\": 0.0, \"exceptionClass\": \"\", \"trace\": \"\"}}, \"*\")"
      ],
      "text/plain": [
       "<IPython.core.display.Javascript object>"
      ]
     },
     "metadata": {},
     "output_type": "display_data"
    },
    {
     "data": {
      "text/markdown": [
       "<span style=\"color:#cc3333\">Incorrect:</span> Given `have_umbrella=True`, `rain_level=0.0`, `have_hood=True`, `is_workday=True`, `prepared_for_weather` returned `True`. But I think that's correct. (We want inputs that lead to an incorrect result from `prepared_for_weather`.)"
      ],
      "text/plain": [
       "Incorrect: Given `have_umbrella=True`, `rain_level=0.0`, `have_hood=True`, `is_workday=True`, `prepared_for_weather` returned `True`. But I think that's correct. (We want inputs that lead to an incorrect result from `prepared_for_weather`.)"
      ]
     },
     "metadata": {},
     "output_type": "display_data"
    }
   ],
   "source": [
    "def prepared_for_weather(have_umbrella, rain_level, have_hood, is_workday):\n",
    "    # Don't change this code. Our goal is just to find the bug, not fix it!\n",
    "    return have_umbrella or rain_level < 5 and have_hood or not rain_level > 0 and is_workday\n",
    "\n",
    "# Change the values of these inputs so they represent a case where prepared_for_weather\n",
    "# returns the wrong answer.\n",
    "have_umbrella = True\n",
    "rain_level = 0.0\n",
    "have_hood = True\n",
    "is_workday = True\n",
    "\n",
    "# Check what the function returns given the current values of the variables above\n",
    "actual = prepared_for_weather(have_umbrella, rain_level, have_hood, is_workday)\n",
    "print(actual)\n",
    "\n",
    "# Check your answer\n",
    "q3.check()"
   ]
  },
  {
   "cell_type": "code",
   "execution_count": 9,
   "id": "89da9972",
   "metadata": {
    "execution": {
     "iopub.execute_input": "2024-02-20T07:19:35.161891Z",
     "iopub.status.busy": "2024-02-20T07:19:35.160878Z",
     "iopub.status.idle": "2024-02-20T07:19:35.165962Z",
     "shell.execute_reply": "2024-02-20T07:19:35.164733Z"
    },
    "papermill": {
     "duration": 0.023404,
     "end_time": "2024-02-20T07:19:35.168681",
     "exception": false,
     "start_time": "2024-02-20T07:19:35.145277",
     "status": "completed"
    },
    "tags": []
   },
   "outputs": [],
   "source": [
    "#q3.hint()\n",
    "#q3.solution()"
   ]
  },
  {
   "cell_type": "markdown",
   "id": "d3b81bf5",
   "metadata": {
    "papermill": {
     "duration": 0.01497,
     "end_time": "2024-02-20T07:19:35.203614",
     "exception": false,
     "start_time": "2024-02-20T07:19:35.188644",
     "status": "completed"
    },
    "tags": []
   },
   "source": [
    "# 4.\n",
    "\n",
    "The function `is_negative` below is implemented correctly - it returns True if the given number is negative and False otherwise.\n",
    "\n",
    "However, it's more verbose than it needs to be. We can actually reduce the number of lines of code in this function by *75%* while keeping the same behaviour. \n",
    "\n",
    "See if you can come up with an equivalent body that uses just **one line** of code, and put it in the function `concise_is_negative`. (HINT: you don't even need Python's ternary syntax)"
   ]
  },
  {
   "cell_type": "code",
   "execution_count": 10,
   "id": "91e106b9",
   "metadata": {
    "execution": {
     "iopub.execute_input": "2024-02-20T07:19:35.234201Z",
     "iopub.status.busy": "2024-02-20T07:19:35.233400Z",
     "iopub.status.idle": "2024-02-20T07:19:35.247008Z",
     "shell.execute_reply": "2024-02-20T07:19:35.245975Z"
    },
    "papermill": {
     "duration": 0.0315,
     "end_time": "2024-02-20T07:19:35.249317",
     "exception": false,
     "start_time": "2024-02-20T07:19:35.217817",
     "status": "completed"
    },
    "tags": []
   },
   "outputs": [
    {
     "data": {
      "application/javascript": [
       "parent.postMessage({\"jupyterEvent\": \"custom.exercise_interaction\", \"data\": {\"outcomeType\": 1, \"valueTowardsCompletion\": 0.2, \"interactionType\": 1, \"questionType\": 2, \"questionId\": \"4_ConciseIsNegative\", \"learnToolsVersion\": \"0.3.4\", \"failureMessage\": \"\", \"exceptionClass\": \"\", \"trace\": \"\"}}, \"*\")"
      ],
      "text/plain": [
       "<IPython.core.display.Javascript object>"
      ]
     },
     "metadata": {},
     "output_type": "display_data"
    },
    {
     "data": {
      "text/markdown": [
       "<span style=\"color:#33cc33\">Correct</span>"
      ],
      "text/plain": [
       "Correct"
      ]
     },
     "metadata": {},
     "output_type": "display_data"
    }
   ],
   "source": [
    "def is_negative(number):\n",
    "    if number < 0:\n",
    "        return True\n",
    "    else:\n",
    "        return False\n",
    "\n",
    "def concise_is_negative(number):\n",
    "    return number<0\n",
    "\n",
    "# Check your answer\n",
    "q4.check()"
   ]
  },
  {
   "cell_type": "code",
   "execution_count": 11,
   "id": "c1b4fe5e",
   "metadata": {
    "execution": {
     "iopub.execute_input": "2024-02-20T07:19:35.281128Z",
     "iopub.status.busy": "2024-02-20T07:19:35.280240Z",
     "iopub.status.idle": "2024-02-20T07:19:35.284899Z",
     "shell.execute_reply": "2024-02-20T07:19:35.283903Z"
    },
    "papermill": {
     "duration": 0.02335,
     "end_time": "2024-02-20T07:19:35.287239",
     "exception": false,
     "start_time": "2024-02-20T07:19:35.263889",
     "status": "completed"
    },
    "tags": []
   },
   "outputs": [],
   "source": [
    "#q4.hint()\n",
    "#q4.solution()"
   ]
  },
  {
   "cell_type": "markdown",
   "id": "3f9dbf29",
   "metadata": {
    "papermill": {
     "duration": 0.015244,
     "end_time": "2024-02-20T07:19:35.317048",
     "exception": false,
     "start_time": "2024-02-20T07:19:35.301804",
     "status": "completed"
    },
    "tags": []
   },
   "source": [
    "# 5a.\n",
    "\n",
    "The boolean variables `ketchup`, `mustard` and `onion` represent whether a customer wants a particular topping on their hot dog. We want to implement a number of boolean functions that correspond to some yes-or-no questions about the customer's order. For example:"
   ]
  },
  {
   "cell_type": "code",
   "execution_count": 12,
   "id": "696a13a0",
   "metadata": {
    "execution": {
     "iopub.execute_input": "2024-02-20T07:19:35.355773Z",
     "iopub.status.busy": "2024-02-20T07:19:35.354883Z",
     "iopub.status.idle": "2024-02-20T07:19:35.360397Z",
     "shell.execute_reply": "2024-02-20T07:19:35.359288Z"
    },
    "papermill": {
     "duration": 0.025936,
     "end_time": "2024-02-20T07:19:35.362771",
     "exception": false,
     "start_time": "2024-02-20T07:19:35.336835",
     "status": "completed"
    },
    "tags": []
   },
   "outputs": [],
   "source": [
    "def onionless(ketchup, mustard, onion):\n",
    "    \"\"\"Return whether the customer doesn't want onions.\n",
    "    \"\"\"\n",
    "    return not onion"
   ]
  },
  {
   "cell_type": "code",
   "execution_count": 13,
   "id": "20752ec5",
   "metadata": {
    "execution": {
     "iopub.execute_input": "2024-02-20T07:19:35.394076Z",
     "iopub.status.busy": "2024-02-20T07:19:35.393579Z",
     "iopub.status.idle": "2024-02-20T07:19:35.404116Z",
     "shell.execute_reply": "2024-02-20T07:19:35.402958Z"
    },
    "papermill": {
     "duration": 0.028883,
     "end_time": "2024-02-20T07:19:35.406451",
     "exception": false,
     "start_time": "2024-02-20T07:19:35.377568",
     "status": "completed"
    },
    "tags": []
   },
   "outputs": [
    {
     "data": {
      "application/javascript": [
       "parent.postMessage({\"jupyterEvent\": \"custom.exercise_interaction\", \"data\": {\"outcomeType\": 1, \"valueTowardsCompletion\": 0.2, \"interactionType\": 1, \"questionType\": 2, \"questionId\": \"5.1_AllToppings\", \"learnToolsVersion\": \"0.3.4\", \"failureMessage\": \"\", \"exceptionClass\": \"\", \"trace\": \"\"}}, \"*\")"
      ],
      "text/plain": [
       "<IPython.core.display.Javascript object>"
      ]
     },
     "metadata": {},
     "output_type": "display_data"
    },
    {
     "data": {
      "text/markdown": [
       "<span style=\"color:#33cc33\">Correct</span>"
      ],
      "text/plain": [
       "Correct"
      ]
     },
     "metadata": {},
     "output_type": "display_data"
    }
   ],
   "source": [
    "def wants_all_toppings(ketchup, mustard, onion):\n",
    "    \"\"\"Return whether the customer wants \"the works\" (all 3 toppings)\n",
    "    \"\"\"\n",
    "    return ketchup&mustard&onion\n",
    "\n",
    "# Check your answer\n",
    "q5.a.check()"
   ]
  },
  {
   "cell_type": "code",
   "execution_count": 14,
   "id": "96730f1e",
   "metadata": {
    "execution": {
     "iopub.execute_input": "2024-02-20T07:19:35.438238Z",
     "iopub.status.busy": "2024-02-20T07:19:35.437226Z",
     "iopub.status.idle": "2024-02-20T07:19:35.441990Z",
     "shell.execute_reply": "2024-02-20T07:19:35.441165Z"
    },
    "papermill": {
     "duration": 0.023169,
     "end_time": "2024-02-20T07:19:35.444262",
     "exception": false,
     "start_time": "2024-02-20T07:19:35.421093",
     "status": "completed"
    },
    "tags": []
   },
   "outputs": [],
   "source": [
    "#q5.a.hint()\n",
    "#q5.a.solution()"
   ]
  },
  {
   "cell_type": "markdown",
   "id": "b996a9b2",
   "metadata": {
    "papermill": {
     "duration": 0.014421,
     "end_time": "2024-02-20T07:19:35.473615",
     "exception": false,
     "start_time": "2024-02-20T07:19:35.459194",
     "status": "completed"
    },
    "tags": []
   },
   "source": [
    "# 5b.\n",
    "\n",
    "For the next function, fill in the body to match the English description in the docstring. "
   ]
  },
  {
   "cell_type": "code",
   "execution_count": 15,
   "id": "4402bd6a",
   "metadata": {
    "execution": {
     "iopub.execute_input": "2024-02-20T07:19:35.505404Z",
     "iopub.status.busy": "2024-02-20T07:19:35.504560Z",
     "iopub.status.idle": "2024-02-20T07:19:35.514897Z",
     "shell.execute_reply": "2024-02-20T07:19:35.513878Z"
    },
    "papermill": {
     "duration": 0.031743,
     "end_time": "2024-02-20T07:19:35.519992",
     "exception": false,
     "start_time": "2024-02-20T07:19:35.488249",
     "status": "completed"
    },
    "tags": []
   },
   "outputs": [
    {
     "data": {
      "application/javascript": [
       "parent.postMessage({\"jupyterEvent\": \"custom.exercise_interaction\", \"data\": {\"outcomeType\": 1, \"valueTowardsCompletion\": 0.2, \"interactionType\": 1, \"questionType\": 2, \"questionId\": \"5.2_PlainDog\", \"learnToolsVersion\": \"0.3.4\", \"failureMessage\": \"\", \"exceptionClass\": \"\", \"trace\": \"\"}}, \"*\")"
      ],
      "text/plain": [
       "<IPython.core.display.Javascript object>"
      ]
     },
     "metadata": {},
     "output_type": "display_data"
    },
    {
     "data": {
      "text/markdown": [
       "<span style=\"color:#33cc33\">Correct:</span> \n",
       "\n",
       "One solution looks like:\n",
       "```python\n",
       "return not ketchup and not mustard and not onion\n",
       "```\n",
       "\n",
       "We can also [\"factor out\" the nots](https://en.wikipedia.org/wiki/De_Morgan%27s_laws) to get:\n",
       "\n",
       "```python\n",
       "return not (ketchup or mustard or onion)\n",
       "```"
      ],
      "text/plain": [
       "Correct: \n",
       "\n",
       "One solution looks like:\n",
       "```python\n",
       "return not ketchup and not mustard and not onion\n",
       "```\n",
       "\n",
       "We can also [\"factor out\" the nots](https://en.wikipedia.org/wiki/De_Morgan%27s_laws) to get:\n",
       "\n",
       "```python\n",
       "return not (ketchup or mustard or onion)\n",
       "```"
      ]
     },
     "metadata": {},
     "output_type": "display_data"
    }
   ],
   "source": [
    "def wants_plain_hotdog(ketchup, mustard, onion):\n",
    "    \"\"\"Return whether the customer wants a plain hot dog with no toppings.\n",
    "    \"\"\"\n",
    "    return not (ketchup or mustard or onion)\n",
    "\n",
    "# Check your answer\n",
    "q5.b.check()"
   ]
  },
  {
   "cell_type": "code",
   "execution_count": 16,
   "id": "a8689e12",
   "metadata": {
    "execution": {
     "iopub.execute_input": "2024-02-20T07:19:35.552573Z",
     "iopub.status.busy": "2024-02-20T07:19:35.551941Z",
     "iopub.status.idle": "2024-02-20T07:19:35.556982Z",
     "shell.execute_reply": "2024-02-20T07:19:35.555748Z"
    },
    "papermill": {
     "duration": 0.023746,
     "end_time": "2024-02-20T07:19:35.559344",
     "exception": false,
     "start_time": "2024-02-20T07:19:35.535598",
     "status": "completed"
    },
    "tags": []
   },
   "outputs": [],
   "source": [
    "#q5.b.hint()\n",
    "#q5.b.solution()"
   ]
  },
  {
   "cell_type": "markdown",
   "id": "eb383fe9",
   "metadata": {
    "papermill": {
     "duration": 0.015111,
     "end_time": "2024-02-20T07:19:35.589612",
     "exception": false,
     "start_time": "2024-02-20T07:19:35.574501",
     "status": "completed"
    },
    "tags": []
   },
   "source": [
    "# 5c.\n",
    "\n",
    "You know what to do: for the next function, fill in the body to match the English description in the docstring."
   ]
  },
  {
   "cell_type": "code",
   "execution_count": 17,
   "id": "fe23b1d1",
   "metadata": {
    "execution": {
     "iopub.execute_input": "2024-02-20T07:19:35.622727Z",
     "iopub.status.busy": "2024-02-20T07:19:35.621927Z",
     "iopub.status.idle": "2024-02-20T07:19:35.632609Z",
     "shell.execute_reply": "2024-02-20T07:19:35.631432Z"
    },
    "papermill": {
     "duration": 0.030077,
     "end_time": "2024-02-20T07:19:35.634973",
     "exception": false,
     "start_time": "2024-02-20T07:19:35.604896",
     "status": "completed"
    },
    "tags": []
   },
   "outputs": [
    {
     "data": {
      "application/javascript": [
       "parent.postMessage({\"jupyterEvent\": \"custom.exercise_interaction\", \"data\": {\"outcomeType\": 1, \"valueTowardsCompletion\": 0.2, \"interactionType\": 1, \"questionType\": 2, \"questionId\": \"5.3_OneSauce\", \"learnToolsVersion\": \"0.3.4\", \"failureMessage\": \"\", \"exceptionClass\": \"\", \"trace\": \"\"}}, \"*\")"
      ],
      "text/plain": [
       "<IPython.core.display.Javascript object>"
      ]
     },
     "metadata": {},
     "output_type": "display_data"
    },
    {
     "data": {
      "text/markdown": [
       "<span style=\"color:#33cc33\">Correct</span>"
      ],
      "text/plain": [
       "Correct"
      ]
     },
     "metadata": {},
     "output_type": "display_data"
    }
   ],
   "source": [
    "def exactly_one_sauce(ketchup, mustard, onion):\n",
    "    \"\"\"Return whether the customer wants either ketchup or mustard, but not both.\n",
    "    (You may be familiar with this operation under the name \"exclusive or\")\n",
    "    \"\"\"\n",
    "    return ketchup + mustard  ==1\n",
    "\n",
    "# Check your answer\n",
    "q5.c.check()"
   ]
  },
  {
   "cell_type": "code",
   "execution_count": 18,
   "id": "6808f18b",
   "metadata": {
    "execution": {
     "iopub.execute_input": "2024-02-20T07:19:35.669987Z",
     "iopub.status.busy": "2024-02-20T07:19:35.669180Z",
     "iopub.status.idle": "2024-02-20T07:19:35.674222Z",
     "shell.execute_reply": "2024-02-20T07:19:35.673341Z"
    },
    "papermill": {
     "duration": 0.025368,
     "end_time": "2024-02-20T07:19:35.676744",
     "exception": false,
     "start_time": "2024-02-20T07:19:35.651376",
     "status": "completed"
    },
    "tags": []
   },
   "outputs": [],
   "source": [
    "#q5.c.hint()\n",
    "#q5.c.solution()"
   ]
  },
  {
   "cell_type": "markdown",
   "id": "51ef100a",
   "metadata": {
    "papermill": {
     "duration": 0.016499,
     "end_time": "2024-02-20T07:19:35.709336",
     "exception": false,
     "start_time": "2024-02-20T07:19:35.692837",
     "status": "completed"
    },
    "tags": []
   },
   "source": [
    "# 6. <span title=\"A bit spicy\" style=\"color: darkgreen \">🌶️</span>\n",
    "\n",
    "We’ve seen that calling `bool()` on an integer returns `False` if it’s equal to 0 and `True` otherwise. What happens if we call `int()` on a bool? Try it out in the notebook cell below.\n",
    "\n",
    "Can you take advantage of this to write a succinct function that corresponds to the English sentence \"does the customer want exactly one topping?\"?"
   ]
  },
  {
   "cell_type": "code",
   "execution_count": 19,
   "id": "1af58e90",
   "metadata": {
    "execution": {
     "iopub.execute_input": "2024-02-20T07:19:35.744375Z",
     "iopub.status.busy": "2024-02-20T07:19:35.743946Z",
     "iopub.status.idle": "2024-02-20T07:19:35.754076Z",
     "shell.execute_reply": "2024-02-20T07:19:35.752951Z"
    },
    "papermill": {
     "duration": 0.029637,
     "end_time": "2024-02-20T07:19:35.756360",
     "exception": false,
     "start_time": "2024-02-20T07:19:35.726723",
     "status": "completed"
    },
    "tags": []
   },
   "outputs": [
    {
     "data": {
      "application/javascript": [
       "parent.postMessage({\"jupyterEvent\": \"custom.exercise_interaction\", \"data\": {\"outcomeType\": 1, \"valueTowardsCompletion\": 0.2, \"interactionType\": 1, \"questionType\": 2, \"questionId\": \"6_OneTopping\", \"learnToolsVersion\": \"0.3.4\", \"failureMessage\": \"\", \"exceptionClass\": \"\", \"trace\": \"\"}}, \"*\")"
      ],
      "text/plain": [
       "<IPython.core.display.Javascript object>"
      ]
     },
     "metadata": {},
     "output_type": "display_data"
    },
    {
     "data": {
      "text/markdown": [
       "<span style=\"color:#33cc33\">Correct:</span> \n",
       "\n",
       "This condition would be pretty complicated to express using just `and`, `or` and `not`, but using boolean-to-integer conversion gives us this short solution:\n",
       "```python\n",
       "return (int(ketchup) + int(mustard) + int(onion)) == 1\n",
       "```\n",
       "\n",
       "Fun fact: we don't technically need to call `int` on the arguments. Just by doing addition with booleans, Python implicitly does the integer conversion. So we could also write...\n",
       "\n",
       "```python\n",
       "return (ketchup + mustard + onion) == 1\n",
       "```"
      ],
      "text/plain": [
       "Correct: \n",
       "\n",
       "This condition would be pretty complicated to express using just `and`, `or` and `not`, but using boolean-to-integer conversion gives us this short solution:\n",
       "```python\n",
       "return (int(ketchup) + int(mustard) + int(onion)) == 1\n",
       "```\n",
       "\n",
       "Fun fact: we don't technically need to call `int` on the arguments. Just by doing addition with booleans, Python implicitly does the integer conversion. So we could also write...\n",
       "\n",
       "```python\n",
       "return (ketchup + mustard + onion) == 1\n",
       "```"
      ]
     },
     "metadata": {},
     "output_type": "display_data"
    }
   ],
   "source": [
    "def exactly_one_topping(ketchup, mustard, onion):\n",
    "    \"\"\"Return whether the customer wants exactly one of the three available toppings\n",
    "    on their hot dog.\n",
    "    \"\"\"\n",
    "    return ketchup + mustard +onion  ==1\n",
    "\n",
    "# Check your answer\n",
    "q6.check()"
   ]
  },
  {
   "cell_type": "code",
   "execution_count": 20,
   "id": "5050fc56",
   "metadata": {
    "execution": {
     "iopub.execute_input": "2024-02-20T07:19:35.854139Z",
     "iopub.status.busy": "2024-02-20T07:19:35.853485Z",
     "iopub.status.idle": "2024-02-20T07:19:35.857686Z",
     "shell.execute_reply": "2024-02-20T07:19:35.856890Z"
    },
    "papermill": {
     "duration": 0.087384,
     "end_time": "2024-02-20T07:19:35.859872",
     "exception": false,
     "start_time": "2024-02-20T07:19:35.772488",
     "status": "completed"
    },
    "tags": []
   },
   "outputs": [],
   "source": [
    "#q6.hint()\n",
    "#q6.solution()"
   ]
  },
  {
   "cell_type": "markdown",
   "id": "99d4b6f1",
   "metadata": {
    "papermill": {
     "duration": 0.016328,
     "end_time": "2024-02-20T07:19:35.893573",
     "exception": false,
     "start_time": "2024-02-20T07:19:35.877245",
     "status": "completed"
    },
    "tags": []
   },
   "source": [
    "# 7. <span title=\"A bit spicy\" style=\"color: darkgreen \">🌶️</span> (Optional)\n",
    "\n",
    "In this problem we'll be working with a simplified version of [blackjack](https://en.wikipedia.org/wiki/Blackjack) (aka twenty-one). In this version there is one player (who you'll control) and a dealer. Play proceeds as follows:\n",
    "\n",
    "- The player is dealt two face-up cards. The dealer is dealt one face-up card.\n",
    "- The player may ask to be dealt another card ('hit') as many times as they wish. If the sum of their cards exceeds 21, they lose the round immediately.\n",
    "- The dealer then deals additional cards to himself until either:\n",
    "    - the sum of the dealer's cards exceeds 21, in which case the player wins the round\n",
    "    - the sum of the dealer's cards is greater than or equal to 17. If the player's total is greater than the dealer's, the player wins. Otherwise, the dealer wins (even in case of a tie).\n",
    "    \n",
    "When calculating the sum of cards, Jack, Queen, and King count for 10. Aces can count as 1 or 11 (when referring to a player's \"total\" above, we mean the largest total that can be made without exceeding 21. So e.g. A+8 = 19, A+8+8 = 17)\n",
    "\n",
    "For this problem, you'll write a function representing the player's decision-making strategy in this game. We've provided a very unintelligent implementation below:"
   ]
  },
  {
   "cell_type": "code",
   "execution_count": 21,
   "id": "742d8405",
   "metadata": {
    "execution": {
     "iopub.execute_input": "2024-02-20T07:19:35.928724Z",
     "iopub.status.busy": "2024-02-20T07:19:35.928037Z",
     "iopub.status.idle": "2024-02-20T07:19:35.933645Z",
     "shell.execute_reply": "2024-02-20T07:19:35.932867Z"
    },
    "papermill": {
     "duration": 0.026076,
     "end_time": "2024-02-20T07:19:35.935942",
     "exception": false,
     "start_time": "2024-02-20T07:19:35.909866",
     "status": "completed"
    },
    "tags": []
   },
   "outputs": [],
   "source": [
    "def should_hit(dealer_total, player_total, player_low_aces, player_high_aces):\n",
    "    \"\"\"Return True if the player should hit (request another card) given the current game\n",
    "    state, or False if the player should stay.\n",
    "    When calculating a hand's total value, we count aces as \"high\" (with value 11) if doing so\n",
    "    doesn't bring the total above 21, otherwise we count them as low (with value 1). \n",
    "    For example, if the player's hand is {A, A, A, 7}, we will count it as 11 + 1 + 1 + 7,\n",
    "    and therefore set player_total=20, player_low_aces=2, player_high_aces=1.\n",
    "    \"\"\"\n",
    "    return False"
   ]
  },
  {
   "cell_type": "markdown",
   "id": "56d75bd5",
   "metadata": {
    "papermill": {
     "duration": 0.01628,
     "end_time": "2024-02-20T07:19:35.968602",
     "exception": false,
     "start_time": "2024-02-20T07:19:35.952322",
     "status": "completed"
    },
    "tags": []
   },
   "source": [
    "This very conservative agent *always* sticks with the hand of two cards that they're dealt.\n",
    "\n",
    "We'll be simulating games between your player agent and our own dealer agent by calling your function.\n",
    "\n",
    "Try running the function below to see an example of a simulated game:"
   ]
  },
  {
   "cell_type": "code",
   "execution_count": 22,
   "id": "d62235a0",
   "metadata": {
    "execution": {
     "iopub.execute_input": "2024-02-20T07:19:36.003237Z",
     "iopub.status.busy": "2024-02-20T07:19:36.002711Z",
     "iopub.status.idle": "2024-02-20T07:19:36.009691Z",
     "shell.execute_reply": "2024-02-20T07:19:36.008631Z"
    },
    "papermill": {
     "duration": 0.02749,
     "end_time": "2024-02-20T07:19:36.012275",
     "exception": false,
     "start_time": "2024-02-20T07:19:35.984785",
     "status": "completed"
    },
    "tags": []
   },
   "outputs": [
    {
     "name": "stdout",
     "output_type": "stream",
     "text": [
      "Player starts with 4 and 7 (total = 11)\n",
      "Dealer starts with 9\n",
      "\n",
      "__Player's turn__\n",
      "Player stays\n",
      "\n",
      "__Dealer's turn__\n",
      "Dealer hits and receives 6. (total = 15)\n",
      "Dealer hits and receives A. (total = 16)\n",
      "Dealer hits and receives 3. (total = 19)\n",
      "Dealer stands.\n",
      "Dealer wins. 19 >= 11\n"
     ]
    }
   ],
   "source": [
    "q7.simulate_one_game()"
   ]
  },
  {
   "cell_type": "markdown",
   "id": "5f29bf56",
   "metadata": {
    "papermill": {
     "duration": 0.016646,
     "end_time": "2024-02-20T07:19:36.045499",
     "exception": false,
     "start_time": "2024-02-20T07:19:36.028853",
     "status": "completed"
    },
    "tags": []
   },
   "source": [
    "The real test of your agent's mettle is their average win rate over many games. Try calling the function below to simulate 50000 games of blackjack (it may take a couple seconds):"
   ]
  },
  {
   "cell_type": "code",
   "execution_count": 23,
   "id": "9944601a",
   "metadata": {
    "execution": {
     "iopub.execute_input": "2024-02-20T07:19:36.082441Z",
     "iopub.status.busy": "2024-02-20T07:19:36.081413Z",
     "iopub.status.idle": "2024-02-20T07:19:38.220246Z",
     "shell.execute_reply": "2024-02-20T07:19:38.218972Z"
    },
    "papermill": {
     "duration": 2.158736,
     "end_time": "2024-02-20T07:19:38.222864",
     "exception": false,
     "start_time": "2024-02-20T07:19:36.064128",
     "status": "completed"
    },
    "tags": []
   },
   "outputs": [
    {
     "name": "stdout",
     "output_type": "stream",
     "text": [
      "Player won 18955 out of 50000 games (win rate = 37.9%)\n"
     ]
    }
   ],
   "source": [
    "q7.simulate(n_games=50000)"
   ]
  },
  {
   "cell_type": "markdown",
   "id": "22b2e9ab",
   "metadata": {
    "papermill": {
     "duration": 0.015846,
     "end_time": "2024-02-20T07:19:38.254988",
     "exception": false,
     "start_time": "2024-02-20T07:19:38.239142",
     "status": "completed"
    },
    "tags": []
   },
   "source": [
    "Our dumb agent that completely ignores the game state still manages to win shockingly often!\n",
    "\n",
    "Try adding some more smarts to the `should_hit` function and see how it affects the results."
   ]
  },
  {
   "cell_type": "code",
   "execution_count": 24,
   "id": "6224c5e2",
   "metadata": {
    "execution": {
     "iopub.execute_input": "2024-02-20T07:19:38.289792Z",
     "iopub.status.busy": "2024-02-20T07:19:38.289416Z",
     "iopub.status.idle": "2024-02-20T07:19:40.573886Z",
     "shell.execute_reply": "2024-02-20T07:19:40.572828Z"
    },
    "papermill": {
     "duration": 2.305431,
     "end_time": "2024-02-20T07:19:40.576723",
     "exception": false,
     "start_time": "2024-02-20T07:19:38.271292",
     "status": "completed"
    },
    "tags": []
   },
   "outputs": [
    {
     "name": "stdout",
     "output_type": "stream",
     "text": [
      "Player won 19278 out of 50000 games (win rate = 38.6%)\n"
     ]
    }
   ],
   "source": [
    "def should_hit(dealer_total, player_total, player_low_aces, player_high_aces):\n",
    "    \"\"\"Return True if the player should hit (request another card) given the current game\n",
    "    state, or False if the player should stay.\n",
    "    When calculating a hand's total value, we count aces as \"high\" (with value 11) if doing so\n",
    "    doesn't bring the total above 21, otherwise we count them as low (with value 1). \n",
    "    For example, if the player's hand is {A, A, A, 7}, we will count it as 11 + 1 + 1 + 7,\n",
    "    and therefore set player_total=20, player_low_aces=2, player_high_aces=1.\n",
    "   \n",
    "   \n",
    "#     if (player_low_aces<=2) and ((player_total<17) or (player_total<dealer_total)):\n",
    "#         return True\n",
    "#     elif (player_high_aces==1) and ((player_total>=17) or (player_total>dealer_total)):\n",
    "#         return False\n",
    "#     elif (player_high_aces==1) and ((player_total<17) or (player_total<dealer_total)):\n",
    "#         return False\n",
    "#     elif (player_high_aces<1) and (player_low_aces<=3) and((player_total<17) or (player_total<dealer_total)):\n",
    "#         return True\n",
    "#     else:\n",
    "#         return False\n",
    "       \"\"\"\n",
    "    if (player_total < 14) and(player_total<dealer_total):\n",
    "        return True\n",
    "    elif (player_total > 14) and (player_total>dealer_total):\n",
    "        return False\n",
    "    else:\n",
    "        return False\n",
    "    \n",
    "\n",
    "\n",
    "q7.simulate(n_games=50000)"
   ]
  },
  {
   "cell_type": "markdown",
   "id": "9177ccda",
   "metadata": {
    "papermill": {
     "duration": 0.016324,
     "end_time": "2024-02-20T07:19:40.609828",
     "exception": false,
     "start_time": "2024-02-20T07:19:40.593504",
     "status": "completed"
    },
    "tags": []
   },
   "source": [
    "# Keep Going\n",
    "\n",
    "Learn about **[lists and tuples](https://www.kaggle.com/colinmorris/lists)** to handle multiple items of data in a systematic way."
   ]
  },
  {
   "cell_type": "markdown",
   "id": "4817a8d3",
   "metadata": {
    "papermill": {
     "duration": 0.016286,
     "end_time": "2024-02-20T07:19:40.643114",
     "exception": false,
     "start_time": "2024-02-20T07:19:40.626828",
     "status": "completed"
    },
    "tags": []
   },
   "source": [
    "---\n",
    "\n",
    "\n",
    "\n",
    "\n",
    "*Have questions or comments? Visit the [course discussion forum](https://www.kaggle.com/learn/python/discussion) to chat with other learners.*"
   ]
  }
 ],
 "metadata": {
  "kaggle": {
   "accelerator": "none",
   "dataSources": [],
   "isGpuEnabled": false,
   "isInternetEnabled": false,
   "language": "python",
   "sourceType": "notebook"
  },
  "kernelspec": {
   "display_name": "Python 3",
   "language": "python",
   "name": "python3"
  },
  "language_info": {
   "codemirror_mode": {
    "name": "ipython",
    "version": 3
   },
   "file_extension": ".py",
   "mimetype": "text/x-python",
   "name": "python",
   "nbconvert_exporter": "python",
   "pygments_lexer": "ipython3",
   "version": "3.10.13"
  },
  "learntools_metadata": {
   "lesson_index": 2,
   "type": "exercise"
  },
  "papermill": {
   "default_parameters": {},
   "duration": 10.88948,
   "end_time": "2024-02-20T07:19:41.182221",
   "environment_variables": {},
   "exception": null,
   "input_path": "__notebook__.ipynb",
   "output_path": "__notebook__.ipynb",
   "parameters": {},
   "start_time": "2024-02-20T07:19:30.292741",
   "version": "2.5.0"
  }
 },
 "nbformat": 4,
 "nbformat_minor": 5
}
