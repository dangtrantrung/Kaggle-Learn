{
 "cells": [
  {
   "cell_type": "markdown",
   "id": "b23da84e",
   "metadata": {
    "papermill": {
     "duration": 0.007254,
     "end_time": "2024-02-20T09:10:06.546075",
     "exception": false,
     "start_time": "2024-02-20T09:10:06.538821",
     "status": "completed"
    },
    "tags": []
   },
   "source": [
    "**This notebook is an exercise in the [Python](https://www.kaggle.com/learn/python) course.  You can reference the tutorial at [this link](https://www.kaggle.com/colinmorris/lists).**\n",
    "\n",
    "---\n"
   ]
  },
  {
   "cell_type": "markdown",
   "id": "4e26bc0b",
   "metadata": {
    "papermill": {
     "duration": 0.005901,
     "end_time": "2024-02-20T09:10:06.558402",
     "exception": false,
     "start_time": "2024-02-20T09:10:06.552501",
     "status": "completed"
    },
    "tags": []
   },
   "source": [
    "Things get more interesting with lists. You'll apply your new knowledge to solve the questions below. Remember to run the following cell first."
   ]
  },
  {
   "cell_type": "code",
   "execution_count": 1,
   "id": "855b316d",
   "metadata": {
    "execution": {
     "iopub.execute_input": "2024-02-20T09:10:06.573037Z",
     "iopub.status.busy": "2024-02-20T09:10:06.572297Z",
     "iopub.status.idle": "2024-02-20T09:10:07.532160Z",
     "shell.execute_reply": "2024-02-20T09:10:07.531047Z"
    },
    "papermill": {
     "duration": 0.970065,
     "end_time": "2024-02-20T09:10:07.534952",
     "exception": false,
     "start_time": "2024-02-20T09:10:06.564887",
     "status": "completed"
    },
    "tags": []
   },
   "outputs": [
    {
     "name": "stdout",
     "output_type": "stream",
     "text": [
      "Setup complete.\n"
     ]
    }
   ],
   "source": [
    "from learntools.core import binder; binder.bind(globals())\n",
    "from learntools.python.ex4 import *\n",
    "print('Setup complete.')"
   ]
  },
  {
   "cell_type": "markdown",
   "id": "9d4077c9",
   "metadata": {
    "papermill": {
     "duration": 0.005932,
     "end_time": "2024-02-20T09:10:07.547457",
     "exception": false,
     "start_time": "2024-02-20T09:10:07.541525",
     "status": "completed"
    },
    "tags": []
   },
   "source": [
    "# 1.\n",
    "\n",
    "Complete the function below according to its docstring."
   ]
  },
  {
   "cell_type": "code",
   "execution_count": 2,
   "id": "ed996c27",
   "metadata": {
    "execution": {
     "iopub.execute_input": "2024-02-20T09:10:07.561649Z",
     "iopub.status.busy": "2024-02-20T09:10:07.561159Z",
     "iopub.status.idle": "2024-02-20T09:10:07.570871Z",
     "shell.execute_reply": "2024-02-20T09:10:07.570073Z"
    },
    "papermill": {
     "duration": 0.019378,
     "end_time": "2024-02-20T09:10:07.572891",
     "exception": false,
     "start_time": "2024-02-20T09:10:07.553513",
     "status": "completed"
    },
    "tags": []
   },
   "outputs": [
    {
     "data": {
      "application/javascript": [
       "parent.postMessage({\"jupyterEvent\": \"custom.exercise_interaction\", \"data\": {\"outcomeType\": 1, \"valueTowardsCompletion\": 0.2, \"interactionType\": 1, \"questionType\": 2, \"questionId\": \"1_SelectSecondItem\", \"learnToolsVersion\": \"0.3.4\", \"failureMessage\": \"\", \"exceptionClass\": \"\", \"trace\": \"\"}}, \"*\")"
      ],
      "text/plain": [
       "<IPython.core.display.Javascript object>"
      ]
     },
     "metadata": {},
     "output_type": "display_data"
    },
    {
     "data": {
      "text/markdown": [
       "<span style=\"color:#33cc33\">Correct</span>"
      ],
      "text/plain": [
       "Correct"
      ]
     },
     "metadata": {},
     "output_type": "display_data"
    }
   ],
   "source": [
    "def select_second(L):\n",
    "    \"\"\"Return the second element of the given list. If the list has no second\n",
    "    element, return None.\n",
    "    \"\"\"\n",
    "    if len(L)>1:\n",
    "        return L[1]\n",
    "\n",
    "\n",
    "# Check your answer\n",
    "q1.check()"
   ]
  },
  {
   "cell_type": "code",
   "execution_count": 3,
   "id": "de77a58c",
   "metadata": {
    "collapsed": true,
    "execution": {
     "iopub.execute_input": "2024-02-20T09:10:07.587542Z",
     "iopub.status.busy": "2024-02-20T09:10:07.586982Z",
     "iopub.status.idle": "2024-02-20T09:10:07.591350Z",
     "shell.execute_reply": "2024-02-20T09:10:07.590251Z"
    },
    "jupyter": {
     "outputs_hidden": true
    },
    "papermill": {
     "duration": 0.014523,
     "end_time": "2024-02-20T09:10:07.593777",
     "exception": false,
     "start_time": "2024-02-20T09:10:07.579254",
     "status": "completed"
    },
    "tags": []
   },
   "outputs": [],
   "source": [
    "#q1.hint()\n",
    "#q1.solution()"
   ]
  },
  {
   "cell_type": "markdown",
   "id": "21b8242a",
   "metadata": {
    "papermill": {
     "duration": 0.006327,
     "end_time": "2024-02-20T09:10:07.606742",
     "exception": false,
     "start_time": "2024-02-20T09:10:07.600415",
     "status": "completed"
    },
    "tags": []
   },
   "source": [
    "# 2.\n",
    "\n",
    "You are analyzing sports teams.  Members of each team are stored in a list. The Coach is the first name in the list, the captain is the second name in the list, and other players are listed after that. \n",
    "These lists are stored in another list, which starts with the best team and proceeds through the list to the worst team last.  Complete the function below to select the **captain** of the worst team."
   ]
  },
  {
   "cell_type": "code",
   "execution_count": 4,
   "id": "e3061540",
   "metadata": {
    "execution": {
     "iopub.execute_input": "2024-02-20T09:10:07.622480Z",
     "iopub.status.busy": "2024-02-20T09:10:07.621876Z",
     "iopub.status.idle": "2024-02-20T09:10:07.630386Z",
     "shell.execute_reply": "2024-02-20T09:10:07.629583Z"
    },
    "papermill": {
     "duration": 0.018963,
     "end_time": "2024-02-20T09:10:07.632447",
     "exception": false,
     "start_time": "2024-02-20T09:10:07.613484",
     "status": "completed"
    },
    "tags": []
   },
   "outputs": [
    {
     "data": {
      "application/javascript": [
       "parent.postMessage({\"jupyterEvent\": \"custom.exercise_interaction\", \"data\": {\"outcomeType\": 1, \"valueTowardsCompletion\": 0.2, \"interactionType\": 1, \"questionType\": 2, \"questionId\": \"2_LosingTeamCaptain\", \"learnToolsVersion\": \"0.3.4\", \"failureMessage\": \"\", \"exceptionClass\": \"\", \"trace\": \"\"}}, \"*\")"
      ],
      "text/plain": [
       "<IPython.core.display.Javascript object>"
      ]
     },
     "metadata": {},
     "output_type": "display_data"
    },
    {
     "data": {
      "text/markdown": [
       "<span style=\"color:#33cc33\">Correct</span>"
      ],
      "text/plain": [
       "Correct"
      ]
     },
     "metadata": {},
     "output_type": "display_data"
    }
   ],
   "source": [
    "def losing_team_captain(teams):\n",
    "    \"\"\"Given a list of teams, where each team is a list of names, return the 2nd player (captain)\n",
    "    from the last listed team\n",
    "    \"\"\"\n",
    "    return teams[-1][1]\n",
    "    \n",
    "\n",
    "# Check your answer\n",
    "q2.check()"
   ]
  },
  {
   "cell_type": "code",
   "execution_count": 5,
   "id": "1e278737",
   "metadata": {
    "collapsed": true,
    "execution": {
     "iopub.execute_input": "2024-02-20T09:10:07.649336Z",
     "iopub.status.busy": "2024-02-20T09:10:07.648875Z",
     "iopub.status.idle": "2024-02-20T09:10:07.653391Z",
     "shell.execute_reply": "2024-02-20T09:10:07.652236Z"
    },
    "jupyter": {
     "outputs_hidden": true
    },
    "papermill": {
     "duration": 0.016387,
     "end_time": "2024-02-20T09:10:07.655953",
     "exception": false,
     "start_time": "2024-02-20T09:10:07.639566",
     "status": "completed"
    },
    "tags": []
   },
   "outputs": [],
   "source": [
    "#q2.hint()\n",
    "#q2.solution()"
   ]
  },
  {
   "cell_type": "markdown",
   "id": "74dd3e16",
   "metadata": {
    "papermill": {
     "duration": 0.008091,
     "end_time": "2024-02-20T09:10:07.670998",
     "exception": false,
     "start_time": "2024-02-20T09:10:07.662907",
     "status": "completed"
    },
    "tags": []
   },
   "source": [
    "# 3.\n",
    "\n",
    "The next iteration of Mario Kart will feature an extra-infuriating new item, the *Purple Shell*. When used, it warps the last place racer into first place and the first place racer into last place. Complete the function below to implement the Purple Shell's effect."
   ]
  },
  {
   "cell_type": "code",
   "execution_count": 6,
   "id": "12cf8409",
   "metadata": {
    "execution": {
     "iopub.execute_input": "2024-02-20T09:10:07.686454Z",
     "iopub.status.busy": "2024-02-20T09:10:07.686056Z",
     "iopub.status.idle": "2024-02-20T09:10:07.695278Z",
     "shell.execute_reply": "2024-02-20T09:10:07.694219Z"
    },
    "papermill": {
     "duration": 0.020027,
     "end_time": "2024-02-20T09:10:07.697943",
     "exception": false,
     "start_time": "2024-02-20T09:10:07.677916",
     "status": "completed"
    },
    "tags": []
   },
   "outputs": [
    {
     "data": {
      "application/javascript": [
       "parent.postMessage({\"jupyterEvent\": \"custom.exercise_interaction\", \"data\": {\"outcomeType\": 4, \"interactionType\": 1, \"questionType\": 2, \"questionId\": \"3_PurpleShell\", \"learnToolsVersion\": \"0.3.4\", \"valueTowardsCompletion\": 0.0, \"failureMessage\": \"\", \"exceptionClass\": \"\", \"trace\": \"\"}}, \"*\")"
      ],
      "text/plain": [
       "<IPython.core.display.Javascript object>"
      ]
     },
     "metadata": {},
     "output_type": "display_data"
    },
    {
     "data": {
      "text/markdown": [
       "<span style=\"color:#ccaa33\">Check:</span> When you've updated the starter code, `check()` will tell you whether your code is correct. "
      ],
      "text/plain": [
       "Check: When you've updated the starter code, `check()` will tell you whether your code is correct. "
      ]
     },
     "metadata": {},
     "output_type": "display_data"
    }
   ],
   "source": [
    "def purple_shell(racers):\n",
    "    \"\"\"Given a list of racers, set the first place racer (at the front of the list) to last\n",
    "    place and vice versa.\n",
    "    \n",
    "    >>> r = [\"Mario\", \"Bowser\", \"Luigi\"]\n",
    "    >>> purple_shell(r)\n",
    "    >>> r\n",
    "    [\"Luigi\", \"Bowser\", \"Mario\"]\n",
    "    \"\"\"\n",
    "    pass\n",
    "\n",
    "# Check your answer\n",
    "q3.check()"
   ]
  },
  {
   "cell_type": "code",
   "execution_count": 7,
   "id": "a5e6dca7",
   "metadata": {
    "collapsed": true,
    "execution": {
     "iopub.execute_input": "2024-02-20T09:10:07.714469Z",
     "iopub.status.busy": "2024-02-20T09:10:07.714110Z",
     "iopub.status.idle": "2024-02-20T09:10:07.719001Z",
     "shell.execute_reply": "2024-02-20T09:10:07.717465Z"
    },
    "jupyter": {
     "outputs_hidden": true
    },
    "papermill": {
     "duration": 0.016373,
     "end_time": "2024-02-20T09:10:07.721729",
     "exception": false,
     "start_time": "2024-02-20T09:10:07.705356",
     "status": "completed"
    },
    "tags": []
   },
   "outputs": [],
   "source": [
    "#q3.hint()\n",
    "#q3.solution()"
   ]
  },
  {
   "cell_type": "markdown",
   "id": "931fb44e",
   "metadata": {
    "papermill": {
     "duration": 0.007043,
     "end_time": "2024-02-20T09:10:07.736283",
     "exception": false,
     "start_time": "2024-02-20T09:10:07.729240",
     "status": "completed"
    },
    "tags": []
   },
   "source": [
    "# 4.\n",
    "\n",
    "What are the lengths of the following lists? Fill in the variable `lengths` with your predictions. (Try to make a prediction for each list *without* just calling `len()` on it.)"
   ]
  },
  {
   "cell_type": "code",
   "execution_count": 8,
   "id": "8f98ee3d",
   "metadata": {
    "execution": {
     "iopub.execute_input": "2024-02-20T09:10:07.753458Z",
     "iopub.status.busy": "2024-02-20T09:10:07.753067Z",
     "iopub.status.idle": "2024-02-20T09:10:07.762758Z",
     "shell.execute_reply": "2024-02-20T09:10:07.761736Z"
    },
    "papermill": {
     "duration": 0.02171,
     "end_time": "2024-02-20T09:10:07.765271",
     "exception": false,
     "start_time": "2024-02-20T09:10:07.743561",
     "status": "completed"
    },
    "tags": []
   },
   "outputs": [
    {
     "data": {
      "application/javascript": [
       "parent.postMessage({\"jupyterEvent\": \"custom.exercise_interaction\", \"data\": {\"outcomeType\": 4, \"interactionType\": 1, \"questionType\": 1, \"questionId\": \"4_UnderstandLen\", \"learnToolsVersion\": \"0.3.4\", \"valueTowardsCompletion\": 0.0, \"failureMessage\": \"\", \"exceptionClass\": \"\", \"trace\": \"\"}}, \"*\")"
      ],
      "text/plain": [
       "<IPython.core.display.Javascript object>"
      ]
     },
     "metadata": {},
     "output_type": "display_data"
    },
    {
     "data": {
      "text/markdown": [
       "<span style=\"color:#ccaa33\">Check:</span> When you've updated the starter code, `check()` will tell you whether your code is correct. You need to update the code that creates variable `lengths`"
      ],
      "text/plain": [
       "Check: When you've updated the starter code, `check()` will tell you whether your code is correct. You need to update the code that creates variable `lengths`"
      ]
     },
     "metadata": {},
     "output_type": "display_data"
    }
   ],
   "source": [
    "a = [1, 2, 3]\n",
    "b = [1, [2, 3]]\n",
    "c = []\n",
    "d = [1, 2, 3][1:]\n",
    "\n",
    "# Put your predictions in the list below. Lengths should contain 4 numbers, the\n",
    "# first being the length of a, the second being the length of b and so on.\n",
    "lengths = []\n",
    "\n",
    "# Check your answer\n",
    "q4.check()"
   ]
  },
  {
   "cell_type": "code",
   "execution_count": 9,
   "id": "cf935065",
   "metadata": {
    "collapsed": true,
    "execution": {
     "iopub.execute_input": "2024-02-20T09:10:07.782705Z",
     "iopub.status.busy": "2024-02-20T09:10:07.782342Z",
     "iopub.status.idle": "2024-02-20T09:10:07.786857Z",
     "shell.execute_reply": "2024-02-20T09:10:07.785733Z"
    },
    "jupyter": {
     "outputs_hidden": true
    },
    "papermill": {
     "duration": 0.016106,
     "end_time": "2024-02-20T09:10:07.789216",
     "exception": false,
     "start_time": "2024-02-20T09:10:07.773110",
     "status": "completed"
    },
    "tags": []
   },
   "outputs": [],
   "source": [
    "# line below provides some explanation\n",
    "#q4.solution()"
   ]
  },
  {
   "cell_type": "markdown",
   "id": "0d1f2851",
   "metadata": {
    "papermill": {
     "duration": 0.007539,
     "end_time": "2024-02-20T09:10:07.804619",
     "exception": false,
     "start_time": "2024-02-20T09:10:07.797080",
     "status": "completed"
    },
    "tags": []
   },
   "source": [
    "# 5. <span title=\"A bit spicy\" style=\"color: darkgreen \">🌶️</span>\n",
    "\n",
    "We're using lists to record people who attended our party and what order they arrived in. For example, the following list represents a party with 7 guests, in which Adela showed up first and Ford was the last to arrive:\n",
    "\n",
    "    party_attendees = ['Adela', 'Fleda', 'Owen', 'May', 'Mona', 'Gilbert', 'Ford']\n",
    "\n",
    "A guest is considered 'fashionably late' if they arrived after at least half of the party's guests. However, they must not be the very last guest (that's taking it too far). In the above example, Mona and Gilbert are the only guests who were fashionably late.\n",
    "\n",
    "Complete the function below which takes a list of party attendees as well as a person, and tells us whether that person is fashionably late."
   ]
  },
  {
   "cell_type": "code",
   "execution_count": 10,
   "id": "10818240",
   "metadata": {
    "execution": {
     "iopub.execute_input": "2024-02-20T09:10:07.821942Z",
     "iopub.status.busy": "2024-02-20T09:10:07.821535Z",
     "iopub.status.idle": "2024-02-20T09:10:07.830894Z",
     "shell.execute_reply": "2024-02-20T09:10:07.829819Z"
    },
    "papermill": {
     "duration": 0.020937,
     "end_time": "2024-02-20T09:10:07.833413",
     "exception": false,
     "start_time": "2024-02-20T09:10:07.812476",
     "status": "completed"
    },
    "tags": []
   },
   "outputs": [
    {
     "data": {
      "application/javascript": [
       "parent.postMessage({\"jupyterEvent\": \"custom.exercise_interaction\", \"data\": {\"outcomeType\": 4, \"interactionType\": 1, \"questionType\": 2, \"questionId\": \"5_FashionablyLate\", \"learnToolsVersion\": \"0.3.4\", \"valueTowardsCompletion\": 0.0, \"failureMessage\": \"\", \"exceptionClass\": \"\", \"trace\": \"\"}}, \"*\")"
      ],
      "text/plain": [
       "<IPython.core.display.Javascript object>"
      ]
     },
     "metadata": {},
     "output_type": "display_data"
    },
    {
     "data": {
      "text/markdown": [
       "<span style=\"color:#ccaa33\">Check:</span> When you've updated the starter code, `check()` will tell you whether your code is correct. "
      ],
      "text/plain": [
       "Check: When you've updated the starter code, `check()` will tell you whether your code is correct. "
      ]
     },
     "metadata": {},
     "output_type": "display_data"
    }
   ],
   "source": [
    "def fashionably_late(arrivals, name):\n",
    "    \"\"\"Given an ordered list of arrivals to the party and a name, return whether the guest with that\n",
    "    name was fashionably late.\n",
    "    \"\"\"\n",
    "    pass\n",
    "\n",
    "# Check your answer\n",
    "q5.check()"
   ]
  },
  {
   "cell_type": "code",
   "execution_count": 11,
   "id": "a3267df0",
   "metadata": {
    "collapsed": true,
    "execution": {
     "iopub.execute_input": "2024-02-20T09:10:07.852452Z",
     "iopub.status.busy": "2024-02-20T09:10:07.852065Z",
     "iopub.status.idle": "2024-02-20T09:10:07.856045Z",
     "shell.execute_reply": "2024-02-20T09:10:07.855265Z"
    },
    "jupyter": {
     "outputs_hidden": true
    },
    "papermill": {
     "duration": 0.016425,
     "end_time": "2024-02-20T09:10:07.858133",
     "exception": false,
     "start_time": "2024-02-20T09:10:07.841708",
     "status": "completed"
    },
    "tags": []
   },
   "outputs": [],
   "source": [
    "#q5.hint()\n",
    "#q5.solution()"
   ]
  },
  {
   "cell_type": "markdown",
   "id": "a9cce632",
   "metadata": {
    "papermill": {
     "duration": 0.008126,
     "end_time": "2024-02-20T09:10:07.874538",
     "exception": false,
     "start_time": "2024-02-20T09:10:07.866412",
     "status": "completed"
    },
    "tags": []
   },
   "source": [
    "# Keep Going\n",
    "\n",
    "That's it for lists and tuples! Now you have the baseline knowledge to **[learn about loops](https://www.kaggle.com/colinmorris/loops-and-list-comprehensions)**, which is where lists and tuples get really interesting. "
   ]
  },
  {
   "cell_type": "markdown",
   "id": "d7521f83",
   "metadata": {
    "papermill": {
     "duration": 0.007901,
     "end_time": "2024-02-20T09:10:07.890622",
     "exception": false,
     "start_time": "2024-02-20T09:10:07.882721",
     "status": "completed"
    },
    "tags": []
   },
   "source": [
    "---\n",
    "\n",
    "\n",
    "\n",
    "\n",
    "*Have questions or comments? Visit the [course discussion forum](https://www.kaggle.com/learn/python/discussion) to chat with other learners.*"
   ]
  }
 ],
 "metadata": {
  "kaggle": {
   "accelerator": "none",
   "dataSources": [],
   "isGpuEnabled": false,
   "isInternetEnabled": false,
   "language": "python",
   "sourceType": "notebook"
  },
  "kernelspec": {
   "display_name": "Python 3",
   "language": "python",
   "name": "python3"
  },
  "language_info": {
   "codemirror_mode": {
    "name": "ipython",
    "version": 3
   },
   "file_extension": ".py",
   "mimetype": "text/x-python",
   "name": "python",
   "nbconvert_exporter": "python",
   "pygments_lexer": "ipython3",
   "version": "3.10.13"
  },
  "learntools_metadata": {
   "lesson_index": 3,
   "type": "exercise"
  },
  "papermill": {
   "default_parameters": {},
   "duration": 4.820897,
   "end_time": "2024-02-20T09:10:08.319342",
   "environment_variables": {},
   "exception": null,
   "input_path": "__notebook__.ipynb",
   "output_path": "__notebook__.ipynb",
   "parameters": {},
   "start_time": "2024-02-20T09:10:03.498445",
   "version": "2.5.0"
  }
 },
 "nbformat": 4,
 "nbformat_minor": 5
}
