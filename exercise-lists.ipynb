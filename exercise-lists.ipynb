{
 "cells": [
  {
   "cell_type": "markdown",
   "id": "f424baba",
   "metadata": {
    "papermill": {
     "duration": 0.007556,
     "end_time": "2024-02-21T02:00:13.351491",
     "exception": false,
     "start_time": "2024-02-21T02:00:13.343935",
     "status": "completed"
    },
    "tags": []
   },
   "source": [
    "**This notebook is an exercise in the [Python](https://www.kaggle.com/learn/python) course.  You can reference the tutorial at [this link](https://www.kaggle.com/colinmorris/lists).**\n",
    "\n",
    "---\n"
   ]
  },
  {
   "cell_type": "markdown",
   "id": "2b8b58d0",
   "metadata": {
    "papermill": {
     "duration": 0.006588,
     "end_time": "2024-02-21T02:00:13.365211",
     "exception": false,
     "start_time": "2024-02-21T02:00:13.358623",
     "status": "completed"
    },
    "tags": []
   },
   "source": [
    "Things get more interesting with lists. You'll apply your new knowledge to solve the questions below. Remember to run the following cell first."
   ]
  },
  {
   "cell_type": "code",
   "execution_count": 1,
   "id": "47f13d35",
   "metadata": {
    "execution": {
     "iopub.execute_input": "2024-02-21T02:00:13.381788Z",
     "iopub.status.busy": "2024-02-21T02:00:13.381355Z",
     "iopub.status.idle": "2024-02-21T02:00:14.440677Z",
     "shell.execute_reply": "2024-02-21T02:00:14.439144Z"
    },
    "papermill": {
     "duration": 1.071394,
     "end_time": "2024-02-21T02:00:14.443525",
     "exception": false,
     "start_time": "2024-02-21T02:00:13.372131",
     "status": "completed"
    },
    "tags": []
   },
   "outputs": [
    {
     "name": "stdout",
     "output_type": "stream",
     "text": [
      "Setup complete.\n"
     ]
    }
   ],
   "source": [
    "from learntools.core import binder; binder.bind(globals())\n",
    "from learntools.python.ex4 import *\n",
    "print('Setup complete.')"
   ]
  },
  {
   "cell_type": "markdown",
   "id": "37ae3c12",
   "metadata": {
    "papermill": {
     "duration": 0.007197,
     "end_time": "2024-02-21T02:00:14.458466",
     "exception": false,
     "start_time": "2024-02-21T02:00:14.451269",
     "status": "completed"
    },
    "tags": []
   },
   "source": [
    "# 1.\n",
    "\n",
    "Complete the function below according to its docstring."
   ]
  },
  {
   "cell_type": "code",
   "execution_count": 2,
   "id": "b374e201",
   "metadata": {
    "execution": {
     "iopub.execute_input": "2024-02-21T02:00:14.474994Z",
     "iopub.status.busy": "2024-02-21T02:00:14.474426Z",
     "iopub.status.idle": "2024-02-21T02:00:14.485098Z",
     "shell.execute_reply": "2024-02-21T02:00:14.484264Z"
    },
    "papermill": {
     "duration": 0.021471,
     "end_time": "2024-02-21T02:00:14.487290",
     "exception": false,
     "start_time": "2024-02-21T02:00:14.465819",
     "status": "completed"
    },
    "tags": []
   },
   "outputs": [
    {
     "data": {
      "application/javascript": [
       "parent.postMessage({\"jupyterEvent\": \"custom.exercise_interaction\", \"data\": {\"outcomeType\": 1, \"valueTowardsCompletion\": 0.2, \"interactionType\": 1, \"questionType\": 2, \"questionId\": \"1_SelectSecondItem\", \"learnToolsVersion\": \"0.3.4\", \"failureMessage\": \"\", \"exceptionClass\": \"\", \"trace\": \"\"}}, \"*\")"
      ],
      "text/plain": [
       "<IPython.core.display.Javascript object>"
      ]
     },
     "metadata": {},
     "output_type": "display_data"
    },
    {
     "data": {
      "text/markdown": [
       "<span style=\"color:#33cc33\">Correct</span>"
      ],
      "text/plain": [
       "Correct"
      ]
     },
     "metadata": {},
     "output_type": "display_data"
    }
   ],
   "source": [
    "def select_second(L):\n",
    "    \"\"\"Return the second element of the given list. If the list has no second\n",
    "    element, return None.\n",
    "    \"\"\"\n",
    "    if len(L)>1:\n",
    "        return L[1]\n",
    "\n",
    "\n",
    "# Check your answer\n",
    "q1.check()"
   ]
  },
  {
   "cell_type": "code",
   "execution_count": 3,
   "id": "ae1eba59",
   "metadata": {
    "execution": {
     "iopub.execute_input": "2024-02-21T02:00:14.504605Z",
     "iopub.status.busy": "2024-02-21T02:00:14.503854Z",
     "iopub.status.idle": "2024-02-21T02:00:14.507971Z",
     "shell.execute_reply": "2024-02-21T02:00:14.506959Z"
    },
    "papermill": {
     "duration": 0.015747,
     "end_time": "2024-02-21T02:00:14.510609",
     "exception": false,
     "start_time": "2024-02-21T02:00:14.494862",
     "status": "completed"
    },
    "tags": []
   },
   "outputs": [],
   "source": [
    "#q1.hint()\n",
    "#q1.solution()"
   ]
  },
  {
   "cell_type": "markdown",
   "id": "04874fba",
   "metadata": {
    "papermill": {
     "duration": 0.007171,
     "end_time": "2024-02-21T02:00:14.525335",
     "exception": false,
     "start_time": "2024-02-21T02:00:14.518164",
     "status": "completed"
    },
    "tags": []
   },
   "source": [
    "# 2.\n",
    "\n",
    "You are analyzing sports teams.  Members of each team are stored in a list. The Coach is the first name in the list, the captain is the second name in the list, and other players are listed after that. \n",
    "These lists are stored in another list, which starts with the best team and proceeds through the list to the worst team last.  Complete the function below to select the **captain** of the worst team."
   ]
  },
  {
   "cell_type": "code",
   "execution_count": 4,
   "id": "97f9594b",
   "metadata": {
    "execution": {
     "iopub.execute_input": "2024-02-21T02:00:14.543229Z",
     "iopub.status.busy": "2024-02-21T02:00:14.542411Z",
     "iopub.status.idle": "2024-02-21T02:00:14.552140Z",
     "shell.execute_reply": "2024-02-21T02:00:14.550971Z"
    },
    "papermill": {
     "duration": 0.021854,
     "end_time": "2024-02-21T02:00:14.554782",
     "exception": false,
     "start_time": "2024-02-21T02:00:14.532928",
     "status": "completed"
    },
    "tags": []
   },
   "outputs": [
    {
     "data": {
      "application/javascript": [
       "parent.postMessage({\"jupyterEvent\": \"custom.exercise_interaction\", \"data\": {\"outcomeType\": 1, \"valueTowardsCompletion\": 0.2, \"interactionType\": 1, \"questionType\": 2, \"questionId\": \"2_LosingTeamCaptain\", \"learnToolsVersion\": \"0.3.4\", \"failureMessage\": \"\", \"exceptionClass\": \"\", \"trace\": \"\"}}, \"*\")"
      ],
      "text/plain": [
       "<IPython.core.display.Javascript object>"
      ]
     },
     "metadata": {},
     "output_type": "display_data"
    },
    {
     "data": {
      "text/markdown": [
       "<span style=\"color:#33cc33\">Correct</span>"
      ],
      "text/plain": [
       "Correct"
      ]
     },
     "metadata": {},
     "output_type": "display_data"
    }
   ],
   "source": [
    "def losing_team_captain(teams):\n",
    "    \"\"\"Given a list of teams, where each team is a list of names, return the 2nd player (captain)\n",
    "    from the last listed team\n",
    "    \"\"\"\n",
    "    return teams[-1][1]\n",
    "    \n",
    "\n",
    "# Check your answer\n",
    "q2.check()"
   ]
  },
  {
   "cell_type": "code",
   "execution_count": 5,
   "id": "6c5163d1",
   "metadata": {
    "execution": {
     "iopub.execute_input": "2024-02-21T02:00:14.572334Z",
     "iopub.status.busy": "2024-02-21T02:00:14.571914Z",
     "iopub.status.idle": "2024-02-21T02:00:14.576817Z",
     "shell.execute_reply": "2024-02-21T02:00:14.575588Z"
    },
    "papermill": {
     "duration": 0.016369,
     "end_time": "2024-02-21T02:00:14.579150",
     "exception": false,
     "start_time": "2024-02-21T02:00:14.562781",
     "status": "completed"
    },
    "tags": []
   },
   "outputs": [],
   "source": [
    "#q2.hint()\n",
    "#q2.solution()"
   ]
  },
  {
   "cell_type": "markdown",
   "id": "dd79cb13",
   "metadata": {
    "papermill": {
     "duration": 0.007798,
     "end_time": "2024-02-21T02:00:14.594704",
     "exception": false,
     "start_time": "2024-02-21T02:00:14.586906",
     "status": "completed"
    },
    "tags": []
   },
   "source": [
    "# 3.\n",
    "\n",
    "The next iteration of Mario Kart will feature an extra-infuriating new item, the *Purple Shell*. When used, it warps the last place racer into first place and the first place racer into last place. Complete the function below to implement the Purple Shell's effect."
   ]
  },
  {
   "cell_type": "code",
   "execution_count": 6,
   "id": "97095912",
   "metadata": {
    "execution": {
     "iopub.execute_input": "2024-02-21T02:00:14.612124Z",
     "iopub.status.busy": "2024-02-21T02:00:14.611415Z",
     "iopub.status.idle": "2024-02-21T02:00:14.621947Z",
     "shell.execute_reply": "2024-02-21T02:00:14.621147Z"
    },
    "papermill": {
     "duration": 0.021513,
     "end_time": "2024-02-21T02:00:14.623959",
     "exception": false,
     "start_time": "2024-02-21T02:00:14.602446",
     "status": "completed"
    },
    "tags": []
   },
   "outputs": [
    {
     "data": {
      "application/javascript": [
       "parent.postMessage({\"jupyterEvent\": \"custom.exercise_interaction\", \"data\": {\"outcomeType\": 1, \"valueTowardsCompletion\": 0.2, \"interactionType\": 1, \"questionType\": 2, \"questionId\": \"3_PurpleShell\", \"learnToolsVersion\": \"0.3.4\", \"failureMessage\": \"\", \"exceptionClass\": \"\", \"trace\": \"\"}}, \"*\")"
      ],
      "text/plain": [
       "<IPython.core.display.Javascript object>"
      ]
     },
     "metadata": {},
     "output_type": "display_data"
    },
    {
     "data": {
      "text/markdown": [
       "<span style=\"color:#33cc33\">Correct</span>"
      ],
      "text/plain": [
       "Correct"
      ]
     },
     "metadata": {},
     "output_type": "display_data"
    }
   ],
   "source": [
    "def purple_shell(racers):\n",
    "    \"\"\"Given a list of racers, set the first place racer (at the front of the list) to last\n",
    "    place and vice versa.\n",
    "    \n",
    "    >>> r = [\"Mario\", \"Bowser\", \"Luigi\"]\n",
    "    >>> purple_shell(r)\n",
    "    >>> r\n",
    "    [\"Luigi\", \"Bowser\", \"Mario\"]\n",
    "    \"\"\"\n",
    "    if len(racers)>1:\n",
    "        temp=racers[0]\n",
    "        racers[0]=racers[-1]\n",
    "        racers[-1]=temp\n",
    "        \n",
    "                    \n",
    "       \n",
    "\n",
    "# Check your answer\n",
    "q3.check()"
   ]
  },
  {
   "cell_type": "code",
   "execution_count": 7,
   "id": "2b5ad86c",
   "metadata": {
    "execution": {
     "iopub.execute_input": "2024-02-21T02:00:14.643510Z",
     "iopub.status.busy": "2024-02-21T02:00:14.642282Z",
     "iopub.status.idle": "2024-02-21T02:00:14.650946Z",
     "shell.execute_reply": "2024-02-21T02:00:14.650054Z"
    },
    "papermill": {
     "duration": 0.020215,
     "end_time": "2024-02-21T02:00:14.653170",
     "exception": false,
     "start_time": "2024-02-21T02:00:14.632955",
     "status": "completed"
    },
    "tags": []
   },
   "outputs": [
    {
     "data": {
      "application/javascript": [
       "parent.postMessage({\"jupyterEvent\": \"custom.exercise_interaction\", \"data\": {\"interactionType\": 3, \"questionType\": 2, \"questionId\": \"3_PurpleShell\", \"learnToolsVersion\": \"0.3.4\", \"valueTowardsCompletion\": 0.0, \"failureMessage\": \"\", \"exceptionClass\": \"\", \"trace\": \"\", \"outcomeType\": 4}}, \"*\")"
      ],
      "text/plain": [
       "<IPython.core.display.Javascript object>"
      ]
     },
     "metadata": {},
     "output_type": "display_data"
    },
    {
     "data": {
      "text/markdown": [
       "<span style=\"color:#33cc99\">Solution:</span> \n",
       "```python\n",
       "def purple_shell(racers):\n",
       "    # One slick way to do the swap is x[0], x[-1] = x[-1], x[0].\n",
       "    temp = racers[0]\n",
       "    racers[0] = racers[-1]\n",
       "    racers[-1] = temp\n",
       "```"
      ],
      "text/plain": [
       "Solution: \n",
       "```python\n",
       "def purple_shell(racers):\n",
       "    # One slick way to do the swap is x[0], x[-1] = x[-1], x[0].\n",
       "    temp = racers[0]\n",
       "    racers[0] = racers[-1]\n",
       "    racers[-1] = temp\n",
       "```"
      ]
     },
     "metadata": {},
     "output_type": "display_data"
    }
   ],
   "source": [
    "r = [\"Mario\", \"Bowser\", \"Luigi\"]\n",
    "purple_shell(r)\n",
    "r\n",
    "q3.solution()"
   ]
  },
  {
   "cell_type": "markdown",
   "id": "45db8f29",
   "metadata": {
    "jupyter": {
     "outputs_hidden": true
    },
    "papermill": {
     "duration": 0.008213,
     "end_time": "2024-02-21T02:00:14.670271",
     "exception": false,
     "start_time": "2024-02-21T02:00:14.662058",
     "status": "completed"
    },
    "tags": []
   },
   "source": [
    "#q3.hint()\n",
    "#q3.solution()"
   ]
  },
  {
   "cell_type": "code",
   "execution_count": 8,
   "id": "94379eb4",
   "metadata": {
    "execution": {
     "iopub.execute_input": "2024-02-21T02:00:14.690124Z",
     "iopub.status.busy": "2024-02-21T02:00:14.689017Z",
     "iopub.status.idle": "2024-02-21T02:00:14.697395Z",
     "shell.execute_reply": "2024-02-21T02:00:14.696314Z"
    },
    "papermill": {
     "duration": 0.02121,
     "end_time": "2024-02-21T02:00:14.699965",
     "exception": false,
     "start_time": "2024-02-21T02:00:14.678755",
     "status": "completed"
    },
    "tags": []
   },
   "outputs": [
    {
     "data": {
      "application/javascript": [
       "parent.postMessage({\"jupyterEvent\": \"custom.exercise_interaction\", \"data\": {\"interactionType\": 2, \"questionType\": 2, \"questionId\": \"3_PurpleShell\", \"learnToolsVersion\": \"0.3.4\", \"valueTowardsCompletion\": 0.0, \"failureMessage\": \"\", \"exceptionClass\": \"\", \"trace\": \"\", \"outcomeType\": 4}}, \"*\")"
      ],
      "text/plain": [
       "<IPython.core.display.Javascript object>"
      ]
     },
     "metadata": {},
     "output_type": "display_data"
    },
    {
     "data": {
      "text/markdown": [
       "<span style=\"color:#3366cc\">Hint:</span> Your function should change the list it receives, but not return anything\n",
       "\n",
       "To swap the list elements, think back to the code you used in the very first exercise to swap two variables."
      ],
      "text/plain": [
       "Hint: Your function should change the list it receives, but not return anything\n",
       "\n",
       "To swap the list elements, think back to the code you used in the very first exercise to swap two variables."
      ]
     },
     "metadata": {},
     "output_type": "display_data"
    }
   ],
   "source": [
    "q3.hint()"
   ]
  },
  {
   "cell_type": "markdown",
   "id": "bc034aa6",
   "metadata": {
    "papermill": {
     "duration": 0.008596,
     "end_time": "2024-02-21T02:00:14.717407",
     "exception": false,
     "start_time": "2024-02-21T02:00:14.708811",
     "status": "completed"
    },
    "tags": []
   },
   "source": [
    "# 4.\n",
    "\n",
    "What are the lengths of the following lists? Fill in the variable `lengths` with your predictions. (Try to make a prediction for each list *without* just calling `len()` on it.)"
   ]
  },
  {
   "cell_type": "code",
   "execution_count": 9,
   "id": "ec4b6bc3",
   "metadata": {
    "execution": {
     "iopub.execute_input": "2024-02-21T02:00:14.737364Z",
     "iopub.status.busy": "2024-02-21T02:00:14.736696Z",
     "iopub.status.idle": "2024-02-21T02:00:14.747113Z",
     "shell.execute_reply": "2024-02-21T02:00:14.745998Z"
    },
    "papermill": {
     "duration": 0.023173,
     "end_time": "2024-02-21T02:00:14.749411",
     "exception": false,
     "start_time": "2024-02-21T02:00:14.726238",
     "status": "completed"
    },
    "tags": []
   },
   "outputs": [
    {
     "data": {
      "application/javascript": [
       "parent.postMessage({\"jupyterEvent\": \"custom.exercise_interaction\", \"data\": {\"outcomeType\": 1, \"valueTowardsCompletion\": 0.2, \"interactionType\": 1, \"questionType\": 1, \"questionId\": \"4_UnderstandLen\", \"learnToolsVersion\": \"0.3.4\", \"failureMessage\": \"\", \"exceptionClass\": \"\", \"trace\": \"\"}}, \"*\")"
      ],
      "text/plain": [
       "<IPython.core.display.Javascript object>"
      ]
     },
     "metadata": {},
     "output_type": "display_data"
    },
    {
     "data": {
      "text/markdown": [
       "<span style=\"color:#33cc33\">Correct:</span> \n",
       "\n",
       "\n",
       "- a: There are three items in this list. Nothing tricky yet.\n",
       "- b: The list `[2, 3]` counts as a single item. It has one item before it. So we have 2 items in the list\n",
       "- c: The empty list has 0 items\n",
       "- d: The expression is the same as the list `[2, 3]`, which has length 2."
      ],
      "text/plain": [
       "Correct: \n",
       "\n",
       "\n",
       "- a: There are three items in this list. Nothing tricky yet.\n",
       "- b: The list `[2, 3]` counts as a single item. It has one item before it. So we have 2 items in the list\n",
       "- c: The empty list has 0 items\n",
       "- d: The expression is the same as the list `[2, 3]`, which has length 2."
      ]
     },
     "metadata": {},
     "output_type": "display_data"
    }
   ],
   "source": [
    "a = [1, 2, 3]\n",
    "b = [1, [2, 3]]\n",
    "c = []\n",
    "d = [1, 2, 3][1:]\n",
    "\n",
    "# Put your predictions in the list below. Lengths should contain 4 numbers, the\n",
    "# first being the length of a, the second being the length of b and so on.\n",
    "lengths = [3,2,0,2]\n",
    "\n",
    "# Check your answer\n",
    "q4.check()"
   ]
  },
  {
   "cell_type": "code",
   "execution_count": 10,
   "id": "6ae628b2",
   "metadata": {
    "execution": {
     "iopub.execute_input": "2024-02-21T02:00:14.770020Z",
     "iopub.status.busy": "2024-02-21T02:00:14.769605Z",
     "iopub.status.idle": "2024-02-21T02:00:14.774034Z",
     "shell.execute_reply": "2024-02-21T02:00:14.772669Z"
    },
    "papermill": {
     "duration": 0.017777,
     "end_time": "2024-02-21T02:00:14.776503",
     "exception": false,
     "start_time": "2024-02-21T02:00:14.758726",
     "status": "completed"
    },
    "tags": []
   },
   "outputs": [],
   "source": [
    "# line below provides some explanation\n",
    "#q4.solution()"
   ]
  },
  {
   "cell_type": "markdown",
   "id": "c194dd76",
   "metadata": {
    "papermill": {
     "duration": 0.008911,
     "end_time": "2024-02-21T02:00:14.794809",
     "exception": false,
     "start_time": "2024-02-21T02:00:14.785898",
     "status": "completed"
    },
    "tags": []
   },
   "source": [
    "# 5. <span title=\"A bit spicy\" style=\"color: darkgreen \">🌶️</span>\n",
    "\n",
    "We're using lists to record people who attended our party and what order they arrived in. For example, the following list represents a party with 7 guests, in which Adela showed up first and Ford was the last to arrive:\n",
    "\n",
    "    party_attendees = ['Adela', 'Fleda', 'Owen', 'May', 'Mona', 'Gilbert', 'Ford']\n",
    "\n",
    "A guest is considered 'fashionably late' if they arrived after at least half of the party's guests. However, they must not be the very last guest (that's taking it too far). In the above example, Mona and Gilbert are the only guests who were fashionably late.\n",
    "\n",
    "Complete the function below which takes a list of party attendees as well as a person, and tells us whether that person is fashionably late."
   ]
  },
  {
   "cell_type": "code",
   "execution_count": 11,
   "id": "c906a5bf",
   "metadata": {
    "execution": {
     "iopub.execute_input": "2024-02-21T02:00:14.815242Z",
     "iopub.status.busy": "2024-02-21T02:00:14.814868Z",
     "iopub.status.idle": "2024-02-21T02:00:14.824598Z",
     "shell.execute_reply": "2024-02-21T02:00:14.823807Z"
    },
    "papermill": {
     "duration": 0.022826,
     "end_time": "2024-02-21T02:00:14.826975",
     "exception": false,
     "start_time": "2024-02-21T02:00:14.804149",
     "status": "completed"
    },
    "tags": []
   },
   "outputs": [
    {
     "data": {
      "application/javascript": [
       "parent.postMessage({\"jupyterEvent\": \"custom.exercise_interaction\", \"data\": {\"outcomeType\": 1, \"valueTowardsCompletion\": 0.2, \"interactionType\": 1, \"questionType\": 2, \"questionId\": \"5_FashionablyLate\", \"learnToolsVersion\": \"0.3.4\", \"failureMessage\": \"\", \"exceptionClass\": \"\", \"trace\": \"\"}}, \"*\")"
      ],
      "text/plain": [
       "<IPython.core.display.Javascript object>"
      ]
     },
     "metadata": {},
     "output_type": "display_data"
    },
    {
     "data": {
      "text/markdown": [
       "<span style=\"color:#33cc33\">Correct</span>"
      ],
      "text/plain": [
       "Correct"
      ]
     },
     "metadata": {},
     "output_type": "display_data"
    }
   ],
   "source": [
    "def fashionably_late(arrivals, name):\n",
    "    \"\"\"Given an ordered list of arrivals to the party and a name, return whether the guest with that\n",
    "    name was fashionably late.\n",
    "    \"\"\"\n",
    "    x=arrivals.index(name)\n",
    "    if (x>=len(arrivals)/2)and ((x!=len(arrivals)-1)):\n",
    "        return True\n",
    "    else:\n",
    "        return False\n",
    "\n",
    "# Check your answer\n",
    "q5.check()"
   ]
  },
  {
   "cell_type": "code",
   "execution_count": 12,
   "id": "6bdc23d6",
   "metadata": {
    "execution": {
     "iopub.execute_input": "2024-02-21T02:00:14.848487Z",
     "iopub.status.busy": "2024-02-21T02:00:14.847309Z",
     "iopub.status.idle": "2024-02-21T02:00:14.852179Z",
     "shell.execute_reply": "2024-02-21T02:00:14.851239Z"
    },
    "papermill": {
     "duration": 0.017885,
     "end_time": "2024-02-21T02:00:14.854346",
     "exception": false,
     "start_time": "2024-02-21T02:00:14.836461",
     "status": "completed"
    },
    "tags": []
   },
   "outputs": [],
   "source": [
    "#q5.hint()\n",
    "#q5.solution()"
   ]
  },
  {
   "cell_type": "markdown",
   "id": "5136e1f6",
   "metadata": {
    "papermill": {
     "duration": 0.009112,
     "end_time": "2024-02-21T02:00:14.873187",
     "exception": false,
     "start_time": "2024-02-21T02:00:14.864075",
     "status": "completed"
    },
    "tags": []
   },
   "source": [
    "# Keep Going\n",
    "\n",
    "That's it for lists and tuples! Now you have the baseline knowledge to **[learn about loops](https://www.kaggle.com/colinmorris/loops-and-list-comprehensions)**, which is where lists and tuples get really interesting. "
   ]
  },
  {
   "cell_type": "markdown",
   "id": "9a23b680",
   "metadata": {
    "papermill": {
     "duration": 0.009089,
     "end_time": "2024-02-21T02:00:14.891658",
     "exception": false,
     "start_time": "2024-02-21T02:00:14.882569",
     "status": "completed"
    },
    "tags": []
   },
   "source": [
    "---\n",
    "\n",
    "\n",
    "\n",
    "\n",
    "*Have questions or comments? Visit the [course discussion forum](https://www.kaggle.com/learn/python/discussion) to chat with other learners.*"
   ]
  }
 ],
 "metadata": {
  "kaggle": {
   "accelerator": "none",
   "dataSources": [],
   "isGpuEnabled": false,
   "isInternetEnabled": false,
   "language": "python",
   "sourceType": "notebook"
  },
  "kernelspec": {
   "display_name": "Python 3",
   "language": "python",
   "name": "python3"
  },
  "language_info": {
   "codemirror_mode": {
    "name": "ipython",
    "version": 3
   },
   "file_extension": ".py",
   "mimetype": "text/x-python",
   "name": "python",
   "nbconvert_exporter": "python",
   "pygments_lexer": "ipython3",
   "version": "3.10.13"
  },
  "learntools_metadata": {
   "lesson_index": 3,
   "type": "exercise"
  },
  "papermill": {
   "default_parameters": {},
   "duration": 5.390322,
   "end_time": "2024-02-21T02:00:15.422120",
   "environment_variables": {},
   "exception": null,
   "input_path": "__notebook__.ipynb",
   "output_path": "__notebook__.ipynb",
   "parameters": {},
   "start_time": "2024-02-21T02:00:10.031798",
   "version": "2.5.0"
  }
 },
 "nbformat": 4,
 "nbformat_minor": 5
}
