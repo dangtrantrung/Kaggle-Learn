{
 "cells": [
  {
   "cell_type": "markdown",
   "id": "f890fd58",
   "metadata": {
    "papermill": {
     "duration": 0.006344,
     "end_time": "2024-02-21T03:56:42.665473",
     "exception": false,
     "start_time": "2024-02-21T03:56:42.659129",
     "status": "completed"
    },
    "tags": []
   },
   "source": [
    "**This notebook is an exercise in the [Python](https://www.kaggle.com/learn/python) course.  You can reference the tutorial at [this link](https://www.kaggle.com/colinmorris/loops-and-list-comprehensions).**\n",
    "\n",
    "---\n"
   ]
  },
  {
   "cell_type": "markdown",
   "id": "15b7f407",
   "metadata": {
    "papermill": {
     "duration": 0.005241,
     "end_time": "2024-02-21T03:56:42.676426",
     "exception": false,
     "start_time": "2024-02-21T03:56:42.671185",
     "status": "completed"
    },
    "tags": []
   },
   "source": [
    "With all you've learned, you can start writing much more interesting programs. See if you can solve the problems below.\n",
    "\n",
    "As always, run the setup code below before working on the questions."
   ]
  },
  {
   "cell_type": "code",
   "execution_count": 1,
   "id": "10e48a21",
   "metadata": {
    "execution": {
     "iopub.execute_input": "2024-02-21T03:56:42.689909Z",
     "iopub.status.busy": "2024-02-21T03:56:42.689203Z",
     "iopub.status.idle": "2024-02-21T03:56:43.558914Z",
     "shell.execute_reply": "2024-02-21T03:56:43.557215Z"
    },
    "papermill": {
     "duration": 0.880426,
     "end_time": "2024-02-21T03:56:43.562436",
     "exception": false,
     "start_time": "2024-02-21T03:56:42.682010",
     "status": "completed"
    },
    "tags": []
   },
   "outputs": [
    {
     "name": "stdout",
     "output_type": "stream",
     "text": [
      "Setup complete.\n"
     ]
    }
   ],
   "source": [
    "from learntools.core import binder; binder.bind(globals())\n",
    "from learntools.python.ex5 import *\n",
    "print('Setup complete.')"
   ]
  },
  {
   "cell_type": "markdown",
   "id": "443243dd",
   "metadata": {
    "papermill": {
     "duration": 0.005443,
     "end_time": "2024-02-21T03:56:43.573972",
     "exception": false,
     "start_time": "2024-02-21T03:56:43.568529",
     "status": "completed"
    },
    "tags": []
   },
   "source": [
    "# 1.\n",
    "\n",
    "Have you ever felt debugging involved a bit of luck? The following program has a bug. Try to identify the bug and fix it."
   ]
  },
  {
   "cell_type": "code",
   "execution_count": 2,
   "id": "0b2ce80d",
   "metadata": {
    "execution": {
     "iopub.execute_input": "2024-02-21T03:56:43.587477Z",
     "iopub.status.busy": "2024-02-21T03:56:43.586984Z",
     "iopub.status.idle": "2024-02-21T03:56:43.592590Z",
     "shell.execute_reply": "2024-02-21T03:56:43.591520Z"
    },
    "papermill": {
     "duration": 0.014605,
     "end_time": "2024-02-21T03:56:43.594642",
     "exception": false,
     "start_time": "2024-02-21T03:56:43.580037",
     "status": "completed"
    },
    "tags": []
   },
   "outputs": [],
   "source": [
    "def has_lucky_number(nums):\n",
    "    \"\"\"Return whether the given list of numbers is lucky. A lucky list contains\n",
    "    at least one number divisible by 7.\n",
    "    \"\"\"\n",
    "    for num in nums:\n",
    "        if num % 7 == 0:\n",
    "            return True\n",
    "        else:\n",
    "            return False"
   ]
  },
  {
   "cell_type": "markdown",
   "id": "16a900f7",
   "metadata": {
    "papermill": {
     "duration": 0.005324,
     "end_time": "2024-02-21T03:56:43.605651",
     "exception": false,
     "start_time": "2024-02-21T03:56:43.600327",
     "status": "completed"
    },
    "tags": []
   },
   "source": [
    "Try to identify the bug and fix it in the cell below:"
   ]
  },
  {
   "cell_type": "code",
   "execution_count": 3,
   "id": "06199b60",
   "metadata": {
    "execution": {
     "iopub.execute_input": "2024-02-21T03:56:43.618964Z",
     "iopub.status.busy": "2024-02-21T03:56:43.618271Z",
     "iopub.status.idle": "2024-02-21T03:56:43.628145Z",
     "shell.execute_reply": "2024-02-21T03:56:43.626991Z"
    },
    "papermill": {
     "duration": 0.019409,
     "end_time": "2024-02-21T03:56:43.630569",
     "exception": false,
     "start_time": "2024-02-21T03:56:43.611160",
     "status": "completed"
    },
    "tags": []
   },
   "outputs": [
    {
     "data": {
      "application/javascript": [
       "parent.postMessage({\"jupyterEvent\": \"custom.exercise_interaction\", \"data\": {\"outcomeType\": 1, \"valueTowardsCompletion\": 0.25, \"interactionType\": 1, \"questionType\": 2, \"questionId\": \"1_EarlyExitDebugging\", \"learnToolsVersion\": \"0.3.4\", \"failureMessage\": \"\", \"exceptionClass\": \"\", \"trace\": \"\"}}, \"*\")"
      ],
      "text/plain": [
       "<IPython.core.display.Javascript object>"
      ]
     },
     "metadata": {},
     "output_type": "display_data"
    },
    {
     "data": {
      "text/markdown": [
       "<span style=\"color:#33cc33\">Correct:</span> \n",
       "\n",
       "Remember that `return` causes a function to exit immediately. So our original implementation always ran for just one iteration. We can only return `False` if we've looked at every element of the list (and confirmed that none of them are lucky). Though we can return early if the answer is `True`:\n",
       "\n",
       "```python\n",
       "def has_lucky_number(nums):\n",
       "    for num in nums:\n",
       "        if num % 7 == 0:\n",
       "            return True\n",
       "    # We've exhausted the list without finding a lucky number\n",
       "    return False\n",
       "```\n",
       "\n",
       "Here's a one-line version using a list comprehension with Python's `any` function (you can read about what it does by calling `help(any)`):\n",
       "\n",
       "```python\n",
       "def has_lucky_number(nums):\n",
       "    return any([num % 7 == 0 for num in nums])\n",
       "```\n"
      ],
      "text/plain": [
       "Correct: \n",
       "\n",
       "Remember that `return` causes a function to exit immediately. So our original implementation always ran for just one iteration. We can only return `False` if we've looked at every element of the list (and confirmed that none of them are lucky). Though we can return early if the answer is `True`:\n",
       "\n",
       "```python\n",
       "def has_lucky_number(nums):\n",
       "    for num in nums:\n",
       "        if num % 7 == 0:\n",
       "            return True\n",
       "    # We've exhausted the list without finding a lucky number\n",
       "    return False\n",
       "```\n",
       "\n",
       "Here's a one-line version using a list comprehension with Python's `any` function (you can read about what it does by calling `help(any)`):\n",
       "\n",
       "```python\n",
       "def has_lucky_number(nums):\n",
       "    return any([num % 7 == 0 for num in nums])\n",
       "```"
      ]
     },
     "metadata": {},
     "output_type": "display_data"
    }
   ],
   "source": [
    "def has_lucky_number(nums):\n",
    "    \"\"\"Return whether the given list of numbers is lucky. A lucky list contains\n",
    "    at least one number divisible by 7.\n",
    "    \"\"\"\n",
    "    for num in nums:\n",
    "        if num % 7 == 0:\n",
    "            return True\n",
    "                     \n",
    "    return False\n",
    "       \n",
    "   \n",
    "# Check your answer\n",
    "q1.check()"
   ]
  },
  {
   "cell_type": "code",
   "execution_count": 4,
   "id": "151fb308",
   "metadata": {
    "execution": {
     "iopub.execute_input": "2024-02-21T03:56:43.644360Z",
     "iopub.status.busy": "2024-02-21T03:56:43.643661Z",
     "iopub.status.idle": "2024-02-21T03:56:43.652272Z",
     "shell.execute_reply": "2024-02-21T03:56:43.651255Z"
    },
    "papermill": {
     "duration": 0.017729,
     "end_time": "2024-02-21T03:56:43.654244",
     "exception": false,
     "start_time": "2024-02-21T03:56:43.636515",
     "status": "completed"
    },
    "tags": []
   },
   "outputs": [
    {
     "data": {
      "application/javascript": [
       "parent.postMessage({\"jupyterEvent\": \"custom.exercise_interaction\", \"data\": {\"interactionType\": 3, \"questionType\": 2, \"questionId\": \"1_EarlyExitDebugging\", \"learnToolsVersion\": \"0.3.4\", \"valueTowardsCompletion\": 0.0, \"failureMessage\": \"\", \"exceptionClass\": \"\", \"trace\": \"\", \"outcomeType\": 4}}, \"*\")"
      ],
      "text/plain": [
       "<IPython.core.display.Javascript object>"
      ]
     },
     "metadata": {},
     "output_type": "display_data"
    },
    {
     "data": {
      "text/markdown": [
       "<span style=\"color:#33cc99\">Solution:</span> Remember that `return` causes a function to exit immediately. So our original implementation always ran for just one iteration. We can only return `False` if we've looked at every element of the list (and confirmed that none of them are lucky). Though we can return early if the answer is `True`:\n",
       "\n",
       "```python\n",
       "def has_lucky_number(nums):\n",
       "    for num in nums:\n",
       "        if num % 7 == 0:\n",
       "            return True\n",
       "    # We've exhausted the list without finding a lucky number\n",
       "    return False\n",
       "```\n",
       "\n",
       "Here's a one-line version using a list comprehension with Python's `any` function (you can read about what it does by calling `help(any)`):\n",
       "\n",
       "```python\n",
       "def has_lucky_number(nums):\n",
       "    return any([num % 7 == 0 for num in nums])\n",
       "```\n"
      ],
      "text/plain": [
       "Solution: Remember that `return` causes a function to exit immediately. So our original implementation always ran for just one iteration. We can only return `False` if we've looked at every element of the list (and confirmed that none of them are lucky). Though we can return early if the answer is `True`:\n",
       "\n",
       "```python\n",
       "def has_lucky_number(nums):\n",
       "    for num in nums:\n",
       "        if num % 7 == 0:\n",
       "            return True\n",
       "    # We've exhausted the list without finding a lucky number\n",
       "    return False\n",
       "```\n",
       "\n",
       "Here's a one-line version using a list comprehension with Python's `any` function (you can read about what it does by calling `help(any)`):\n",
       "\n",
       "```python\n",
       "def has_lucky_number(nums):\n",
       "    return any([num % 7 == 0 for num in nums])\n",
       "```"
      ]
     },
     "metadata": {},
     "output_type": "display_data"
    }
   ],
   "source": [
    "#q1.hint()\n",
    "q1.solution()"
   ]
  },
  {
   "cell_type": "markdown",
   "id": "21e622f0",
   "metadata": {
    "papermill": {
     "duration": 0.005843,
     "end_time": "2024-02-21T03:56:43.666225",
     "exception": false,
     "start_time": "2024-02-21T03:56:43.660382",
     "status": "completed"
    },
    "tags": []
   },
   "source": [
    "# 2.\n",
    "Look at the Python expression below. What do you think we'll get when we run it? When you've made your prediction, uncomment the code and run the cell to see if you were right."
   ]
  },
  {
   "cell_type": "code",
   "execution_count": 5,
   "id": "5e887f16",
   "metadata": {
    "execution": {
     "iopub.execute_input": "2024-02-21T03:56:43.680436Z",
     "iopub.status.busy": "2024-02-21T03:56:43.679640Z",
     "iopub.status.idle": "2024-02-21T03:56:43.684451Z",
     "shell.execute_reply": "2024-02-21T03:56:43.683300Z"
    },
    "papermill": {
     "duration": 0.014244,
     "end_time": "2024-02-21T03:56:43.686514",
     "exception": false,
     "start_time": "2024-02-21T03:56:43.672270",
     "status": "completed"
    },
    "tags": []
   },
   "outputs": [],
   "source": [
    "#[1, 2, 3, 4] > 2"
   ]
  },
  {
   "cell_type": "markdown",
   "id": "768d3e12",
   "metadata": {
    "papermill": {
     "duration": 0.006006,
     "end_time": "2024-02-21T03:56:43.698704",
     "exception": false,
     "start_time": "2024-02-21T03:56:43.692698",
     "status": "completed"
    },
    "tags": []
   },
   "source": [
    "R and Python have some libraries (like numpy and pandas) compare each element of the list to 2 (i.e. do an 'element-wise' comparison) and give us a list of booleans like `[False, False, True, True]`. \n",
    "\n",
    "Implement a function that reproduces this behaviour, returning a list of booleans corresponding to whether the corresponding element is greater than n."
   ]
  },
  {
   "cell_type": "code",
   "execution_count": 6,
   "id": "4b6d311d",
   "metadata": {
    "execution": {
     "iopub.execute_input": "2024-02-21T03:56:43.713928Z",
     "iopub.status.busy": "2024-02-21T03:56:43.713304Z",
     "iopub.status.idle": "2024-02-21T03:56:43.722461Z",
     "shell.execute_reply": "2024-02-21T03:56:43.721517Z"
    },
    "papermill": {
     "duration": 0.019597,
     "end_time": "2024-02-21T03:56:43.724399",
     "exception": false,
     "start_time": "2024-02-21T03:56:43.704802",
     "status": "completed"
    },
    "tags": []
   },
   "outputs": [
    {
     "data": {
      "application/javascript": [
       "parent.postMessage({\"jupyterEvent\": \"custom.exercise_interaction\", \"data\": {\"outcomeType\": 1, \"valueTowardsCompletion\": 0.25, \"interactionType\": 1, \"questionType\": 2, \"questionId\": \"2_ElementWiseComparison\", \"learnToolsVersion\": \"0.3.4\", \"failureMessage\": \"\", \"exceptionClass\": \"\", \"trace\": \"\"}}, \"*\")"
      ],
      "text/plain": [
       "<IPython.core.display.Javascript object>"
      ]
     },
     "metadata": {},
     "output_type": "display_data"
    },
    {
     "data": {
      "text/markdown": [
       "<span style=\"color:#33cc33\">Correct:</span> \n",
       "\n",
       "Here's one solution:\n",
       "```python\n",
       "def elementwise_greater_than(L, thresh):\n",
       "    res = []\n",
       "    for ele in L:\n",
       "        res.append(ele > thresh)\n",
       "    return res\n",
       "```\n",
       "\n",
       "And here's the list comprehension version:\n",
       "```python\n",
       "def elementwise_greater_than(L, thresh):\n",
       "    return [ele > thresh for ele in L]\n",
       "```\n"
      ],
      "text/plain": [
       "Correct: \n",
       "\n",
       "Here's one solution:\n",
       "```python\n",
       "def elementwise_greater_than(L, thresh):\n",
       "    res = []\n",
       "    for ele in L:\n",
       "        res.append(ele > thresh)\n",
       "    return res\n",
       "```\n",
       "\n",
       "And here's the list comprehension version:\n",
       "```python\n",
       "def elementwise_greater_than(L, thresh):\n",
       "    return [ele > thresh for ele in L]\n",
       "```"
      ]
     },
     "metadata": {},
     "output_type": "display_data"
    }
   ],
   "source": [
    "def elementwise_greater_than(L, thresh):\n",
    "    \"\"\"Return a list with the same length as L, where the value at index i is \n",
    "    True if L[i] is greater than thresh, and False otherwise.\n",
    "    \n",
    "    >>> elementwise_greater_than([1, 2, 3, 4], 2)\n",
    "    [False, False, True, True]\n",
    "    \"\"\"\n",
    "    return [num>thresh for num in L]\n",
    "\n",
    "# Check your answer\n",
    "q2.check()"
   ]
  },
  {
   "cell_type": "code",
   "execution_count": 7,
   "id": "0921818a",
   "metadata": {
    "execution": {
     "iopub.execute_input": "2024-02-21T03:56:43.739401Z",
     "iopub.status.busy": "2024-02-21T03:56:43.738814Z",
     "iopub.status.idle": "2024-02-21T03:56:43.743007Z",
     "shell.execute_reply": "2024-02-21T03:56:43.742167Z"
    },
    "papermill": {
     "duration": 0.014127,
     "end_time": "2024-02-21T03:56:43.745055",
     "exception": false,
     "start_time": "2024-02-21T03:56:43.730928",
     "status": "completed"
    },
    "tags": []
   },
   "outputs": [],
   "source": [
    "#q2.solution()"
   ]
  },
  {
   "cell_type": "markdown",
   "id": "7bf8be7a",
   "metadata": {
    "papermill": {
     "duration": 0.006424,
     "end_time": "2024-02-21T03:56:43.758143",
     "exception": false,
     "start_time": "2024-02-21T03:56:43.751719",
     "status": "completed"
    },
    "tags": []
   },
   "source": [
    "# 3.\n",
    "\n",
    "Complete the body of the function below according to its docstring."
   ]
  },
  {
   "cell_type": "code",
   "execution_count": 8,
   "id": "b2123a62",
   "metadata": {
    "execution": {
     "iopub.execute_input": "2024-02-21T03:56:43.773239Z",
     "iopub.status.busy": "2024-02-21T03:56:43.772649Z",
     "iopub.status.idle": "2024-02-21T03:56:43.781942Z",
     "shell.execute_reply": "2024-02-21T03:56:43.780913Z"
    },
    "papermill": {
     "duration": 0.019072,
     "end_time": "2024-02-21T03:56:43.783919",
     "exception": false,
     "start_time": "2024-02-21T03:56:43.764847",
     "status": "completed"
    },
    "tags": []
   },
   "outputs": [
    {
     "data": {
      "application/javascript": [
       "parent.postMessage({\"jupyterEvent\": \"custom.exercise_interaction\", \"data\": {\"outcomeType\": 1, \"valueTowardsCompletion\": 0.25, \"interactionType\": 1, \"questionType\": 2, \"questionId\": \"3_BoringMenu\", \"learnToolsVersion\": \"0.3.4\", \"failureMessage\": \"\", \"exceptionClass\": \"\", \"trace\": \"\"}}, \"*\")"
      ],
      "text/plain": [
       "<IPython.core.display.Javascript object>"
      ]
     },
     "metadata": {},
     "output_type": "display_data"
    },
    {
     "data": {
      "text/markdown": [
       "<span style=\"color:#33cc33\">Correct:</span> \n",
       "\n",
       "\n",
       "\n",
       "```python\n",
       "def menu_is_boring(meals):\n",
       "    # Iterate over all indices of the list, except the last one\n",
       "    for i in range(len(meals)-1):\n",
       "        if meals[i] == meals[i+1]:\n",
       "            return True\n",
       "    return False\n",
       "```\n",
       "\n",
       "The key to our solution is the call to `range`. `range(len(meals))` would give us all the indices of `meals`. If we had used that range, the last iteration of the loop would be comparing the last element to the element after it, which is... `IndexError`! `range(len(meals)-1)` gives us all the indices except the index of the last element.\n",
       "\n",
       "But don't we need to check if `meals` is empty? Turns out that `range(0) == range(-1)` - they're both empty. So if `meals` has length 0 or 1, we just won't do any iterations of our for loop.\n"
      ],
      "text/plain": [
       "Correct: \n",
       "\n",
       "\n",
       "\n",
       "```python\n",
       "def menu_is_boring(meals):\n",
       "    # Iterate over all indices of the list, except the last one\n",
       "    for i in range(len(meals)-1):\n",
       "        if meals[i] == meals[i+1]:\n",
       "            return True\n",
       "    return False\n",
       "```\n",
       "\n",
       "The key to our solution is the call to `range`. `range(len(meals))` would give us all the indices of `meals`. If we had used that range, the last iteration of the loop would be comparing the last element to the element after it, which is... `IndexError`! `range(len(meals)-1)` gives us all the indices except the index of the last element.\n",
       "\n",
       "But don't we need to check if `meals` is empty? Turns out that `range(0) == range(-1)` - they're both empty. So if `meals` has length 0 or 1, we just won't do any iterations of our for loop."
      ]
     },
     "metadata": {},
     "output_type": "display_data"
    }
   ],
   "source": [
    "def menu_is_boring(meals):\n",
    "    \"\"\"Given a list of meals served over some period of time, return True if the\n",
    "    same meal has ever been served two days in a row, and False otherwise.\n",
    "    \"\"\"\n",
    "    for i in range(len(meals)-1):\n",
    "        \n",
    "        if meals[i]==meals[i+1]:\n",
    "            return True\n",
    "    return False\n",
    "\n",
    "# Check your answer\n",
    "q3.check()"
   ]
  },
  {
   "cell_type": "code",
   "execution_count": 9,
   "id": "c8e52ac5",
   "metadata": {
    "execution": {
     "iopub.execute_input": "2024-02-21T03:56:43.799430Z",
     "iopub.status.busy": "2024-02-21T03:56:43.798849Z",
     "iopub.status.idle": "2024-02-21T03:56:43.803089Z",
     "shell.execute_reply": "2024-02-21T03:56:43.802085Z"
    },
    "papermill": {
     "duration": 0.014517,
     "end_time": "2024-02-21T03:56:43.805168",
     "exception": false,
     "start_time": "2024-02-21T03:56:43.790651",
     "status": "completed"
    },
    "tags": []
   },
   "outputs": [],
   "source": [
    "#q3.hint()\n",
    "#q3.solution()"
   ]
  },
  {
   "cell_type": "markdown",
   "id": "086da6f6",
   "metadata": {
    "papermill": {
     "duration": 0.00693,
     "end_time": "2024-02-21T03:56:43.819243",
     "exception": false,
     "start_time": "2024-02-21T03:56:43.812313",
     "status": "completed"
    },
    "tags": []
   },
   "source": [
    "# 4. <span title=\"A bit spicy\" style=\"color: darkgreen \">🌶️</span>\n",
    "\n",
    "Next to the Blackjack table, the Python Challenge Casino has a slot machine. You can get a result from the slot machine by calling `play_slot_machine()`. The number it returns is your winnings in dollars. Usually it returns 0.  But sometimes you'll get lucky and get a big payday. Try running it below:"
   ]
  },
  {
   "cell_type": "code",
   "execution_count": 10,
   "id": "36c7ea50",
   "metadata": {
    "execution": {
     "iopub.execute_input": "2024-02-21T03:56:43.835232Z",
     "iopub.status.busy": "2024-02-21T03:56:43.834367Z",
     "iopub.status.idle": "2024-02-21T03:56:43.840422Z",
     "shell.execute_reply": "2024-02-21T03:56:43.839518Z"
    },
    "papermill": {
     "duration": 0.016277,
     "end_time": "2024-02-21T03:56:43.842455",
     "exception": false,
     "start_time": "2024-02-21T03:56:43.826178",
     "status": "completed"
    },
    "tags": []
   },
   "outputs": [
    {
     "data": {
      "text/plain": [
       "1.5"
      ]
     },
     "execution_count": 10,
     "metadata": {},
     "output_type": "execute_result"
    }
   ],
   "source": [
    "play_slot_machine()"
   ]
  },
  {
   "cell_type": "markdown",
   "id": "8770b407",
   "metadata": {
    "papermill": {
     "duration": 0.006592,
     "end_time": "2024-02-21T03:56:43.856332",
     "exception": false,
     "start_time": "2024-02-21T03:56:43.849740",
     "status": "completed"
    },
    "tags": []
   },
   "source": [
    "By the way, did we mention that each play costs $1? Don't worry, we'll send you the bill later.\n",
    "\n",
    "On average, how much money can you expect to gain (or lose) every time you play the machine?  The casino keeps it a secret, but you can estimate the average value of each pull using a technique called the **Monte Carlo method**. To estimate the average outcome, we simulate the scenario many times, and return the average result.\n",
    "\n",
    "Complete the following function to calculate the average value per play of the slot machine."
   ]
  },
  {
   "cell_type": "code",
   "execution_count": 11,
   "id": "c02a2309",
   "metadata": {
    "execution": {
     "iopub.execute_input": "2024-02-21T03:56:43.872283Z",
     "iopub.status.busy": "2024-02-21T03:56:43.871694Z",
     "iopub.status.idle": "2024-02-21T03:56:43.876191Z",
     "shell.execute_reply": "2024-02-21T03:56:43.875452Z"
    },
    "papermill": {
     "duration": 0.014897,
     "end_time": "2024-02-21T03:56:43.878071",
     "exception": false,
     "start_time": "2024-02-21T03:56:43.863174",
     "status": "completed"
    },
    "tags": []
   },
   "outputs": [],
   "source": [
    "def estimate_average_slot_payout(n_runs):\n",
    "    \"\"\"Run the slot machine n_runs times and return the average net profit per run.\n",
    "    Example calls (note that return value is nondeterministic!):\n",
    "    >>> estimate_average_slot_payout(1)\n",
    "    -1\n",
    "    >>> estimate_average_slot_payout(1)\n",
    "    0.5\n",
    "    \"\"\"\n",
    "    net_profit=0\n",
    "    for i in range(n_runs):\n",
    "        profit_per_run=play_slot_machine()\n",
    "        net_profit+=profit_per_run\n",
    "    return net_profit/n_runs"
   ]
  },
  {
   "cell_type": "code",
   "execution_count": 12,
   "id": "9634c793",
   "metadata": {
    "execution": {
     "iopub.execute_input": "2024-02-21T03:56:43.894046Z",
     "iopub.status.busy": "2024-02-21T03:56:43.893343Z",
     "iopub.status.idle": "2024-02-21T03:57:00.692028Z",
     "shell.execute_reply": "2024-02-21T03:57:00.690851Z"
    },
    "papermill": {
     "duration": 16.809378,
     "end_time": "2024-02-21T03:57:00.694306",
     "exception": false,
     "start_time": "2024-02-21T03:56:43.884928",
     "status": "completed"
    },
    "tags": []
   },
   "outputs": [
    {
     "data": {
      "text/plain": [
       "1.02412084"
      ]
     },
     "execution_count": 12,
     "metadata": {},
     "output_type": "execute_result"
    }
   ],
   "source": [
    "def estimate_average_slot_payout(n_runs):\n",
    "    \"\"\"Run the slot machine n_runs times and return the average net profit per run.\n",
    "    Example calls (note that return value is nondeterministic!):\n",
    "    >>> estimate_average_slot_payout(1)\n",
    "    -1\n",
    "    >>> estimate_average_slot_payout(1)\n",
    "    0.5\n",
    "    \"\"\"\n",
    "    net_profit=[play_slot_machine() for i in range(n_runs)]         \n",
    "       \n",
    "    return sum(net_profit)/n_runs\n",
    "estimate_average_slot_payout(50000000)"
   ]
  },
  {
   "cell_type": "markdown",
   "id": "7dc240be",
   "metadata": {
    "papermill": {
     "duration": 0.006701,
     "end_time": "2024-02-21T03:57:00.708175",
     "exception": false,
     "start_time": "2024-02-21T03:57:00.701474",
     "status": "completed"
    },
    "tags": []
   },
   "source": [
    "When you think you know the expected value per spin, run the code cell below to view the solution and get credit for answering the question."
   ]
  },
  {
   "cell_type": "code",
   "execution_count": 13,
   "id": "9f17a33a",
   "metadata": {
    "execution": {
     "iopub.execute_input": "2024-02-21T03:57:00.723608Z",
     "iopub.status.busy": "2024-02-21T03:57:00.723225Z",
     "iopub.status.idle": "2024-02-21T03:57:00.731717Z",
     "shell.execute_reply": "2024-02-21T03:57:00.730622Z"
    },
    "papermill": {
     "duration": 0.018905,
     "end_time": "2024-02-21T03:57:00.733933",
     "exception": false,
     "start_time": "2024-02-21T03:57:00.715028",
     "status": "completed"
    },
    "tags": []
   },
   "outputs": [
    {
     "data": {
      "application/javascript": [
       "parent.postMessage({\"jupyterEvent\": \"custom.exercise_interaction\", \"data\": {\"interactionType\": 3, \"questionType\": 4, \"questionId\": \"4_ExpectedSlotsPayout\", \"learnToolsVersion\": \"0.3.4\", \"valueTowardsCompletion\": 0.0, \"failureMessage\": \"\", \"exceptionClass\": \"\", \"trace\": \"\", \"outcomeType\": 4}}, \"*\")"
      ],
      "text/plain": [
       "<IPython.core.display.Javascript object>"
      ]
     },
     "metadata": {},
     "output_type": "display_data"
    },
    {
     "data": {
      "text/markdown": [
       "<span style=\"color:#33cc99\">Solution:</span> \n",
       "    \n",
       "The exact expected value of one pull of the slot machine is 0.025 - i.e. a little more than 2 cents.  See?  Not every game in the Python Challenge Casino is rigged against the player!\n",
       "\n",
       "In order to get this answer, you'll need to implement the `estimate_average_slot_payout(n_runs)` function to simulate pulling the slot machine `n_runs` times.  It should return the payout averaged over those `n_runs`.\n",
       "\n",
       "Then, once the function is defined, in order to estimate the average slot payout, we need only call the function.\n",
       "\n",
       "Because of the high variance of the outcome (there are some very rare high payout results that significantly affect the average) you might need to run your function with a very high value of `n_runs` to get a stable answer close to the true expectation.  For instance, you might use a value for `n_runs` of 1000000.\n",
       "\n",
       "Here's an example for how the function could look:\n",
       "```python\n",
       "def estimate_average_slot_payout(n_runs):\n",
       "    # Play slot machine n_runs times, calculate payout of each\n",
       "    payouts = [play_slot_machine()-1 for i in range(n_runs)]\n",
       "    # Calculate the average value\n",
       "    avg_payout = sum(payouts) / n_runs\n",
       "    return avg_payout\n",
       "    \n",
       "estimate_average_slot_payout(10000000)\n",
       "\n",
       "```\n",
       "\n",
       "This should return an answer close to 0.025!\n",
       "            \n"
      ],
      "text/plain": [
       "Solution: \n",
       "    \n",
       "The exact expected value of one pull of the slot machine is 0.025 - i.e. a little more than 2 cents.  See?  Not every game in the Python Challenge Casino is rigged against the player!\n",
       "\n",
       "In order to get this answer, you'll need to implement the `estimate_average_slot_payout(n_runs)` function to simulate pulling the slot machine `n_runs` times.  It should return the payout averaged over those `n_runs`.\n",
       "\n",
       "Then, once the function is defined, in order to estimate the average slot payout, we need only call the function.\n",
       "\n",
       "Because of the high variance of the outcome (there are some very rare high payout results that significantly affect the average) you might need to run your function with a very high value of `n_runs` to get a stable answer close to the true expectation.  For instance, you might use a value for `n_runs` of 1000000.\n",
       "\n",
       "Here's an example for how the function could look:\n",
       "```python\n",
       "def estimate_average_slot_payout(n_runs):\n",
       "    # Play slot machine n_runs times, calculate payout of each\n",
       "    payouts = [play_slot_machine()-1 for i in range(n_runs)]\n",
       "    # Calculate the average value\n",
       "    avg_payout = sum(payouts) / n_runs\n",
       "    return avg_payout\n",
       "    \n",
       "estimate_average_slot_payout(10000000)\n",
       "\n",
       "```\n",
       "\n",
       "This should return an answer close to 0.025!\n",
       "            "
      ]
     },
     "metadata": {},
     "output_type": "display_data"
    }
   ],
   "source": [
    "# Check your answer (Run this code cell to receive credit!)\n",
    "q4.solution()"
   ]
  },
  {
   "cell_type": "markdown",
   "id": "7d06ea38",
   "metadata": {
    "papermill": {
     "duration": 0.00708,
     "end_time": "2024-02-21T03:57:00.748414",
     "exception": false,
     "start_time": "2024-02-21T03:57:00.741334",
     "status": "completed"
    },
    "tags": []
   },
   "source": [
    "# Keep Going\n",
    "\n",
    "Many programmers report that dictionaries are their favorite data structure. You'll get to **[learn about them](https://www.kaggle.com/colinmorris/strings-and-dictionaries)** (as well as strings) in the next lesson."
   ]
  },
  {
   "cell_type": "markdown",
   "id": "5d2b22ef",
   "metadata": {
    "papermill": {
     "duration": 0.00695,
     "end_time": "2024-02-21T03:57:00.762540",
     "exception": false,
     "start_time": "2024-02-21T03:57:00.755590",
     "status": "completed"
    },
    "tags": []
   },
   "source": [
    "---\n",
    "\n",
    "\n",
    "\n",
    "\n",
    "*Have questions or comments? Visit the [course discussion forum](https://www.kaggle.com/learn/python/discussion) to chat with other learners.*"
   ]
  }
 ],
 "metadata": {
  "kaggle": {
   "accelerator": "none",
   "dataSources": [],
   "isGpuEnabled": false,
   "isInternetEnabled": false,
   "language": "python",
   "sourceType": "notebook"
  },
  "kernelspec": {
   "display_name": "Python 3",
   "language": "python",
   "name": "python3"
  },
  "language_info": {
   "codemirror_mode": {
    "name": "ipython",
    "version": 3
   },
   "file_extension": ".py",
   "mimetype": "text/x-python",
   "name": "python",
   "nbconvert_exporter": "python",
   "pygments_lexer": "ipython3",
   "version": "3.10.13"
  },
  "learntools_metadata": {
   "lesson_index": 4,
   "type": "exercise"
  },
  "papermill": {
   "default_parameters": {},
   "duration": 21.338828,
   "end_time": "2024-02-21T03:57:01.190050",
   "environment_variables": {},
   "exception": null,
   "input_path": "__notebook__.ipynb",
   "output_path": "__notebook__.ipynb",
   "parameters": {},
   "start_time": "2024-02-21T03:56:39.851222",
   "version": "2.5.0"
  }
 },
 "nbformat": 4,
 "nbformat_minor": 5
}
