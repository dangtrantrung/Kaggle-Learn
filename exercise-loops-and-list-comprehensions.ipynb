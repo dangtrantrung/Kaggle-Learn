{
 "cells": [
  {
   "cell_type": "markdown",
   "id": "ec5b6617",
   "metadata": {
    "papermill": {
     "duration": 0.008369,
     "end_time": "2024-02-21T03:50:37.638962",
     "exception": false,
     "start_time": "2024-02-21T03:50:37.630593",
     "status": "completed"
    },
    "tags": []
   },
   "source": [
    "**This notebook is an exercise in the [Python](https://www.kaggle.com/learn/python) course.  You can reference the tutorial at [this link](https://www.kaggle.com/colinmorris/loops-and-list-comprehensions).**\n",
    "\n",
    "---\n"
   ]
  },
  {
   "cell_type": "markdown",
   "id": "7462e4d4",
   "metadata": {
    "papermill": {
     "duration": 0.007413,
     "end_time": "2024-02-21T03:50:37.654219",
     "exception": false,
     "start_time": "2024-02-21T03:50:37.646806",
     "status": "completed"
    },
    "tags": []
   },
   "source": [
    "With all you've learned, you can start writing much more interesting programs. See if you can solve the problems below.\n",
    "\n",
    "As always, run the setup code below before working on the questions."
   ]
  },
  {
   "cell_type": "code",
   "execution_count": 1,
   "id": "be6ac6ba",
   "metadata": {
    "execution": {
     "iopub.execute_input": "2024-02-21T03:50:37.672521Z",
     "iopub.status.busy": "2024-02-21T03:50:37.671626Z",
     "iopub.status.idle": "2024-02-21T03:50:38.866088Z",
     "shell.execute_reply": "2024-02-21T03:50:38.863973Z"
    },
    "papermill": {
     "duration": 1.207835,
     "end_time": "2024-02-21T03:50:38.869802",
     "exception": false,
     "start_time": "2024-02-21T03:50:37.661967",
     "status": "completed"
    },
    "tags": []
   },
   "outputs": [
    {
     "name": "stdout",
     "output_type": "stream",
     "text": [
      "Setup complete.\n"
     ]
    }
   ],
   "source": [
    "from learntools.core import binder; binder.bind(globals())\n",
    "from learntools.python.ex5 import *\n",
    "print('Setup complete.')"
   ]
  },
  {
   "cell_type": "markdown",
   "id": "8aa1f243",
   "metadata": {
    "papermill": {
     "duration": 0.008083,
     "end_time": "2024-02-21T03:50:38.886368",
     "exception": false,
     "start_time": "2024-02-21T03:50:38.878285",
     "status": "completed"
    },
    "tags": []
   },
   "source": [
    "# 1.\n",
    "\n",
    "Have you ever felt debugging involved a bit of luck? The following program has a bug. Try to identify the bug and fix it."
   ]
  },
  {
   "cell_type": "code",
   "execution_count": 2,
   "id": "c8858cf3",
   "metadata": {
    "execution": {
     "iopub.execute_input": "2024-02-21T03:50:38.905163Z",
     "iopub.status.busy": "2024-02-21T03:50:38.904501Z",
     "iopub.status.idle": "2024-02-21T03:50:38.912835Z",
     "shell.execute_reply": "2024-02-21T03:50:38.911155Z"
    },
    "papermill": {
     "duration": 0.020531,
     "end_time": "2024-02-21T03:50:38.915226",
     "exception": false,
     "start_time": "2024-02-21T03:50:38.894695",
     "status": "completed"
    },
    "tags": []
   },
   "outputs": [],
   "source": [
    "def has_lucky_number(nums):\n",
    "    \"\"\"Return whether the given list of numbers is lucky. A lucky list contains\n",
    "    at least one number divisible by 7.\n",
    "    \"\"\"\n",
    "    for num in nums:\n",
    "        if num % 7 == 0:\n",
    "            return True\n",
    "        else:\n",
    "            return False"
   ]
  },
  {
   "cell_type": "markdown",
   "id": "4ce9b1cc",
   "metadata": {
    "papermill": {
     "duration": 0.008234,
     "end_time": "2024-02-21T03:50:38.931968",
     "exception": false,
     "start_time": "2024-02-21T03:50:38.923734",
     "status": "completed"
    },
    "tags": []
   },
   "source": [
    "Try to identify the bug and fix it in the cell below:"
   ]
  },
  {
   "cell_type": "code",
   "execution_count": 3,
   "id": "0296eb04",
   "metadata": {
    "execution": {
     "iopub.execute_input": "2024-02-21T03:50:38.951562Z",
     "iopub.status.busy": "2024-02-21T03:50:38.950043Z",
     "iopub.status.idle": "2024-02-21T03:50:38.965678Z",
     "shell.execute_reply": "2024-02-21T03:50:38.964315Z"
    },
    "papermill": {
     "duration": 0.027787,
     "end_time": "2024-02-21T03:50:38.968254",
     "exception": false,
     "start_time": "2024-02-21T03:50:38.940467",
     "status": "completed"
    },
    "tags": []
   },
   "outputs": [
    {
     "data": {
      "application/javascript": [
       "parent.postMessage({\"jupyterEvent\": \"custom.exercise_interaction\", \"data\": {\"outcomeType\": 1, \"valueTowardsCompletion\": 0.25, \"interactionType\": 1, \"questionType\": 2, \"questionId\": \"1_EarlyExitDebugging\", \"learnToolsVersion\": \"0.3.4\", \"failureMessage\": \"\", \"exceptionClass\": \"\", \"trace\": \"\"}}, \"*\")"
      ],
      "text/plain": [
       "<IPython.core.display.Javascript object>"
      ]
     },
     "metadata": {},
     "output_type": "display_data"
    },
    {
     "data": {
      "text/markdown": [
       "<span style=\"color:#33cc33\">Correct:</span> \n",
       "\n",
       "Remember that `return` causes a function to exit immediately. So our original implementation always ran for just one iteration. We can only return `False` if we've looked at every element of the list (and confirmed that none of them are lucky). Though we can return early if the answer is `True`:\n",
       "\n",
       "```python\n",
       "def has_lucky_number(nums):\n",
       "    for num in nums:\n",
       "        if num % 7 == 0:\n",
       "            return True\n",
       "    # We've exhausted the list without finding a lucky number\n",
       "    return False\n",
       "```\n",
       "\n",
       "Here's a one-line version using a list comprehension with Python's `any` function (you can read about what it does by calling `help(any)`):\n",
       "\n",
       "```python\n",
       "def has_lucky_number(nums):\n",
       "    return any([num % 7 == 0 for num in nums])\n",
       "```\n"
      ],
      "text/plain": [
       "Correct: \n",
       "\n",
       "Remember that `return` causes a function to exit immediately. So our original implementation always ran for just one iteration. We can only return `False` if we've looked at every element of the list (and confirmed that none of them are lucky). Though we can return early if the answer is `True`:\n",
       "\n",
       "```python\n",
       "def has_lucky_number(nums):\n",
       "    for num in nums:\n",
       "        if num % 7 == 0:\n",
       "            return True\n",
       "    # We've exhausted the list without finding a lucky number\n",
       "    return False\n",
       "```\n",
       "\n",
       "Here's a one-line version using a list comprehension with Python's `any` function (you can read about what it does by calling `help(any)`):\n",
       "\n",
       "```python\n",
       "def has_lucky_number(nums):\n",
       "    return any([num % 7 == 0 for num in nums])\n",
       "```"
      ]
     },
     "metadata": {},
     "output_type": "display_data"
    }
   ],
   "source": [
    "def has_lucky_number(nums):\n",
    "    \"\"\"Return whether the given list of numbers is lucky. A lucky list contains\n",
    "    at least one number divisible by 7.\n",
    "    \"\"\"\n",
    "    for num in nums:\n",
    "        if num % 7 == 0:\n",
    "            return True\n",
    "                     \n",
    "    return False\n",
    "       \n",
    "   \n",
    "# Check your answer\n",
    "q1.check()"
   ]
  },
  {
   "cell_type": "code",
   "execution_count": 4,
   "id": "bc644206",
   "metadata": {
    "execution": {
     "iopub.execute_input": "2024-02-21T03:50:38.986963Z",
     "iopub.status.busy": "2024-02-21T03:50:38.986374Z",
     "iopub.status.idle": "2024-02-21T03:50:38.998566Z",
     "shell.execute_reply": "2024-02-21T03:50:38.997276Z"
    },
    "papermill": {
     "duration": 0.024596,
     "end_time": "2024-02-21T03:50:39.001058",
     "exception": false,
     "start_time": "2024-02-21T03:50:38.976462",
     "status": "completed"
    },
    "tags": []
   },
   "outputs": [
    {
     "data": {
      "application/javascript": [
       "parent.postMessage({\"jupyterEvent\": \"custom.exercise_interaction\", \"data\": {\"interactionType\": 3, \"questionType\": 2, \"questionId\": \"1_EarlyExitDebugging\", \"learnToolsVersion\": \"0.3.4\", \"valueTowardsCompletion\": 0.0, \"failureMessage\": \"\", \"exceptionClass\": \"\", \"trace\": \"\", \"outcomeType\": 4}}, \"*\")"
      ],
      "text/plain": [
       "<IPython.core.display.Javascript object>"
      ]
     },
     "metadata": {},
     "output_type": "display_data"
    },
    {
     "data": {
      "text/markdown": [
       "<span style=\"color:#33cc99\">Solution:</span> Remember that `return` causes a function to exit immediately. So our original implementation always ran for just one iteration. We can only return `False` if we've looked at every element of the list (and confirmed that none of them are lucky). Though we can return early if the answer is `True`:\n",
       "\n",
       "```python\n",
       "def has_lucky_number(nums):\n",
       "    for num in nums:\n",
       "        if num % 7 == 0:\n",
       "            return True\n",
       "    # We've exhausted the list without finding a lucky number\n",
       "    return False\n",
       "```\n",
       "\n",
       "Here's a one-line version using a list comprehension with Python's `any` function (you can read about what it does by calling `help(any)`):\n",
       "\n",
       "```python\n",
       "def has_lucky_number(nums):\n",
       "    return any([num % 7 == 0 for num in nums])\n",
       "```\n"
      ],
      "text/plain": [
       "Solution: Remember that `return` causes a function to exit immediately. So our original implementation always ran for just one iteration. We can only return `False` if we've looked at every element of the list (and confirmed that none of them are lucky). Though we can return early if the answer is `True`:\n",
       "\n",
       "```python\n",
       "def has_lucky_number(nums):\n",
       "    for num in nums:\n",
       "        if num % 7 == 0:\n",
       "            return True\n",
       "    # We've exhausted the list without finding a lucky number\n",
       "    return False\n",
       "```\n",
       "\n",
       "Here's a one-line version using a list comprehension with Python's `any` function (you can read about what it does by calling `help(any)`):\n",
       "\n",
       "```python\n",
       "def has_lucky_number(nums):\n",
       "    return any([num % 7 == 0 for num in nums])\n",
       "```"
      ]
     },
     "metadata": {},
     "output_type": "display_data"
    }
   ],
   "source": [
    "#q1.hint()\n",
    "q1.solution()"
   ]
  },
  {
   "cell_type": "markdown",
   "id": "44aa1c19",
   "metadata": {
    "papermill": {
     "duration": 0.008404,
     "end_time": "2024-02-21T03:50:39.019293",
     "exception": false,
     "start_time": "2024-02-21T03:50:39.010889",
     "status": "completed"
    },
    "tags": []
   },
   "source": [
    "# 2.\n",
    "Look at the Python expression below. What do you think we'll get when we run it? When you've made your prediction, uncomment the code and run the cell to see if you were right."
   ]
  },
  {
   "cell_type": "code",
   "execution_count": 5,
   "id": "deb178cc",
   "metadata": {
    "execution": {
     "iopub.execute_input": "2024-02-21T03:50:39.038597Z",
     "iopub.status.busy": "2024-02-21T03:50:39.038168Z",
     "iopub.status.idle": "2024-02-21T03:50:39.044105Z",
     "shell.execute_reply": "2024-02-21T03:50:39.042588Z"
    },
    "papermill": {
     "duration": 0.019044,
     "end_time": "2024-02-21T03:50:39.047083",
     "exception": false,
     "start_time": "2024-02-21T03:50:39.028039",
     "status": "completed"
    },
    "tags": []
   },
   "outputs": [],
   "source": [
    "#[1, 2, 3, 4] > 2"
   ]
  },
  {
   "cell_type": "markdown",
   "id": "94877663",
   "metadata": {
    "papermill": {
     "duration": 0.008938,
     "end_time": "2024-02-21T03:50:39.064840",
     "exception": false,
     "start_time": "2024-02-21T03:50:39.055902",
     "status": "completed"
    },
    "tags": []
   },
   "source": [
    "R and Python have some libraries (like numpy and pandas) compare each element of the list to 2 (i.e. do an 'element-wise' comparison) and give us a list of booleans like `[False, False, True, True]`. \n",
    "\n",
    "Implement a function that reproduces this behaviour, returning a list of booleans corresponding to whether the corresponding element is greater than n."
   ]
  },
  {
   "cell_type": "code",
   "execution_count": 6,
   "id": "23ca9539",
   "metadata": {
    "execution": {
     "iopub.execute_input": "2024-02-21T03:50:39.085551Z",
     "iopub.status.busy": "2024-02-21T03:50:39.085130Z",
     "iopub.status.idle": "2024-02-21T03:50:39.094859Z",
     "shell.execute_reply": "2024-02-21T03:50:39.093971Z"
    },
    "papermill": {
     "duration": 0.023277,
     "end_time": "2024-02-21T03:50:39.096937",
     "exception": false,
     "start_time": "2024-02-21T03:50:39.073660",
     "status": "completed"
    },
    "tags": []
   },
   "outputs": [
    {
     "data": {
      "application/javascript": [
       "parent.postMessage({\"jupyterEvent\": \"custom.exercise_interaction\", \"data\": {\"outcomeType\": 1, \"valueTowardsCompletion\": 0.25, \"interactionType\": 1, \"questionType\": 2, \"questionId\": \"2_ElementWiseComparison\", \"learnToolsVersion\": \"0.3.4\", \"failureMessage\": \"\", \"exceptionClass\": \"\", \"trace\": \"\"}}, \"*\")"
      ],
      "text/plain": [
       "<IPython.core.display.Javascript object>"
      ]
     },
     "metadata": {},
     "output_type": "display_data"
    },
    {
     "data": {
      "text/markdown": [
       "<span style=\"color:#33cc33\">Correct:</span> \n",
       "\n",
       "Here's one solution:\n",
       "```python\n",
       "def elementwise_greater_than(L, thresh):\n",
       "    res = []\n",
       "    for ele in L:\n",
       "        res.append(ele > thresh)\n",
       "    return res\n",
       "```\n",
       "\n",
       "And here's the list comprehension version:\n",
       "```python\n",
       "def elementwise_greater_than(L, thresh):\n",
       "    return [ele > thresh for ele in L]\n",
       "```\n"
      ],
      "text/plain": [
       "Correct: \n",
       "\n",
       "Here's one solution:\n",
       "```python\n",
       "def elementwise_greater_than(L, thresh):\n",
       "    res = []\n",
       "    for ele in L:\n",
       "        res.append(ele > thresh)\n",
       "    return res\n",
       "```\n",
       "\n",
       "And here's the list comprehension version:\n",
       "```python\n",
       "def elementwise_greater_than(L, thresh):\n",
       "    return [ele > thresh for ele in L]\n",
       "```"
      ]
     },
     "metadata": {},
     "output_type": "display_data"
    }
   ],
   "source": [
    "def elementwise_greater_than(L, thresh):\n",
    "    \"\"\"Return a list with the same length as L, where the value at index i is \n",
    "    True if L[i] is greater than thresh, and False otherwise.\n",
    "    \n",
    "    >>> elementwise_greater_than([1, 2, 3, 4], 2)\n",
    "    [False, False, True, True]\n",
    "    \"\"\"\n",
    "    return [num>thresh for num in L]\n",
    "\n",
    "# Check your answer\n",
    "q2.check()"
   ]
  },
  {
   "cell_type": "code",
   "execution_count": 7,
   "id": "3608fe31",
   "metadata": {
    "execution": {
     "iopub.execute_input": "2024-02-21T03:50:39.117353Z",
     "iopub.status.busy": "2024-02-21T03:50:39.116919Z",
     "iopub.status.idle": "2024-02-21T03:50:39.122017Z",
     "shell.execute_reply": "2024-02-21T03:50:39.120652Z"
    },
    "papermill": {
     "duration": 0.018804,
     "end_time": "2024-02-21T03:50:39.124784",
     "exception": false,
     "start_time": "2024-02-21T03:50:39.105980",
     "status": "completed"
    },
    "tags": []
   },
   "outputs": [],
   "source": [
    "#q2.solution()"
   ]
  },
  {
   "cell_type": "markdown",
   "id": "06dde797",
   "metadata": {
    "papermill": {
     "duration": 0.008839,
     "end_time": "2024-02-21T03:50:39.143365",
     "exception": false,
     "start_time": "2024-02-21T03:50:39.134526",
     "status": "completed"
    },
    "tags": []
   },
   "source": [
    "# 3.\n",
    "\n",
    "Complete the body of the function below according to its docstring."
   ]
  },
  {
   "cell_type": "code",
   "execution_count": 8,
   "id": "bbc3ff75",
   "metadata": {
    "execution": {
     "iopub.execute_input": "2024-02-21T03:50:39.165434Z",
     "iopub.status.busy": "2024-02-21T03:50:39.164957Z",
     "iopub.status.idle": "2024-02-21T03:50:39.176785Z",
     "shell.execute_reply": "2024-02-21T03:50:39.175403Z"
    },
    "papermill": {
     "duration": 0.02596,
     "end_time": "2024-02-21T03:50:39.179402",
     "exception": false,
     "start_time": "2024-02-21T03:50:39.153442",
     "status": "completed"
    },
    "tags": []
   },
   "outputs": [
    {
     "data": {
      "application/javascript": [
       "parent.postMessage({\"jupyterEvent\": \"custom.exercise_interaction\", \"data\": {\"outcomeType\": 1, \"valueTowardsCompletion\": 0.25, \"interactionType\": 1, \"questionType\": 2, \"questionId\": \"3_BoringMenu\", \"learnToolsVersion\": \"0.3.4\", \"failureMessage\": \"\", \"exceptionClass\": \"\", \"trace\": \"\"}}, \"*\")"
      ],
      "text/plain": [
       "<IPython.core.display.Javascript object>"
      ]
     },
     "metadata": {},
     "output_type": "display_data"
    },
    {
     "data": {
      "text/markdown": [
       "<span style=\"color:#33cc33\">Correct:</span> \n",
       "\n",
       "\n",
       "\n",
       "```python\n",
       "def menu_is_boring(meals):\n",
       "    # Iterate over all indices of the list, except the last one\n",
       "    for i in range(len(meals)-1):\n",
       "        if meals[i] == meals[i+1]:\n",
       "            return True\n",
       "    return False\n",
       "```\n",
       "\n",
       "The key to our solution is the call to `range`. `range(len(meals))` would give us all the indices of `meals`. If we had used that range, the last iteration of the loop would be comparing the last element to the element after it, which is... `IndexError`! `range(len(meals)-1)` gives us all the indices except the index of the last element.\n",
       "\n",
       "But don't we need to check if `meals` is empty? Turns out that `range(0) == range(-1)` - they're both empty. So if `meals` has length 0 or 1, we just won't do any iterations of our for loop.\n"
      ],
      "text/plain": [
       "Correct: \n",
       "\n",
       "\n",
       "\n",
       "```python\n",
       "def menu_is_boring(meals):\n",
       "    # Iterate over all indices of the list, except the last one\n",
       "    for i in range(len(meals)-1):\n",
       "        if meals[i] == meals[i+1]:\n",
       "            return True\n",
       "    return False\n",
       "```\n",
       "\n",
       "The key to our solution is the call to `range`. `range(len(meals))` would give us all the indices of `meals`. If we had used that range, the last iteration of the loop would be comparing the last element to the element after it, which is... `IndexError`! `range(len(meals)-1)` gives us all the indices except the index of the last element.\n",
       "\n",
       "But don't we need to check if `meals` is empty? Turns out that `range(0) == range(-1)` - they're both empty. So if `meals` has length 0 or 1, we just won't do any iterations of our for loop."
      ]
     },
     "metadata": {},
     "output_type": "display_data"
    }
   ],
   "source": [
    "def menu_is_boring(meals):\n",
    "    \"\"\"Given a list of meals served over some period of time, return True if the\n",
    "    same meal has ever been served two days in a row, and False otherwise.\n",
    "    \"\"\"\n",
    "    for i in range(len(meals)-1):\n",
    "        \n",
    "        if meals[i]==meals[i+1]:\n",
    "            return True\n",
    "    return False\n",
    "\n",
    "# Check your answer\n",
    "q3.check()"
   ]
  },
  {
   "cell_type": "code",
   "execution_count": 9,
   "id": "e937d3cd",
   "metadata": {
    "execution": {
     "iopub.execute_input": "2024-02-21T03:50:39.202153Z",
     "iopub.status.busy": "2024-02-21T03:50:39.201305Z",
     "iopub.status.idle": "2024-02-21T03:50:39.206586Z",
     "shell.execute_reply": "2024-02-21T03:50:39.204988Z"
    },
    "papermill": {
     "duration": 0.020289,
     "end_time": "2024-02-21T03:50:39.209743",
     "exception": false,
     "start_time": "2024-02-21T03:50:39.189454",
     "status": "completed"
    },
    "tags": []
   },
   "outputs": [],
   "source": [
    "#q3.hint()\n",
    "#q3.solution()"
   ]
  },
  {
   "cell_type": "markdown",
   "id": "a9f40175",
   "metadata": {
    "papermill": {
     "duration": 0.009547,
     "end_time": "2024-02-21T03:50:39.229020",
     "exception": false,
     "start_time": "2024-02-21T03:50:39.219473",
     "status": "completed"
    },
    "tags": []
   },
   "source": [
    "# 4. <span title=\"A bit spicy\" style=\"color: darkgreen \">🌶️</span>\n",
    "\n",
    "Next to the Blackjack table, the Python Challenge Casino has a slot machine. You can get a result from the slot machine by calling `play_slot_machine()`. The number it returns is your winnings in dollars. Usually it returns 0.  But sometimes you'll get lucky and get a big payday. Try running it below:"
   ]
  },
  {
   "cell_type": "code",
   "execution_count": 10,
   "id": "75c3eb50",
   "metadata": {
    "execution": {
     "iopub.execute_input": "2024-02-21T03:50:39.251990Z",
     "iopub.status.busy": "2024-02-21T03:50:39.250521Z",
     "iopub.status.idle": "2024-02-21T03:50:39.259713Z",
     "shell.execute_reply": "2024-02-21T03:50:39.258139Z"
    },
    "papermill": {
     "duration": 0.023163,
     "end_time": "2024-02-21T03:50:39.262264",
     "exception": false,
     "start_time": "2024-02-21T03:50:39.239101",
     "status": "completed"
    },
    "tags": []
   },
   "outputs": [
    {
     "data": {
      "text/plain": [
       "0"
      ]
     },
     "execution_count": 10,
     "metadata": {},
     "output_type": "execute_result"
    }
   ],
   "source": [
    "play_slot_machine()"
   ]
  },
  {
   "cell_type": "markdown",
   "id": "db933a77",
   "metadata": {
    "papermill": {
     "duration": 0.009386,
     "end_time": "2024-02-21T03:50:39.281533",
     "exception": false,
     "start_time": "2024-02-21T03:50:39.272147",
     "status": "completed"
    },
    "tags": []
   },
   "source": [
    "By the way, did we mention that each play costs $1? Don't worry, we'll send you the bill later.\n",
    "\n",
    "On average, how much money can you expect to gain (or lose) every time you play the machine?  The casino keeps it a secret, but you can estimate the average value of each pull using a technique called the **Monte Carlo method**. To estimate the average outcome, we simulate the scenario many times, and return the average result.\n",
    "\n",
    "Complete the following function to calculate the average value per play of the slot machine."
   ]
  },
  {
   "cell_type": "code",
   "execution_count": 11,
   "id": "d9e0bd63",
   "metadata": {
    "execution": {
     "iopub.execute_input": "2024-02-21T03:50:39.304256Z",
     "iopub.status.busy": "2024-02-21T03:50:39.303792Z",
     "iopub.status.idle": "2024-02-21T03:50:39.311193Z",
     "shell.execute_reply": "2024-02-21T03:50:39.309574Z"
    },
    "papermill": {
     "duration": 0.022811,
     "end_time": "2024-02-21T03:50:39.314082",
     "exception": false,
     "start_time": "2024-02-21T03:50:39.291271",
     "status": "completed"
    },
    "tags": []
   },
   "outputs": [],
   "source": [
    "def estimate_average_slot_payout(n_runs):\n",
    "    \"\"\"Run the slot machine n_runs times and return the average net profit per run.\n",
    "    Example calls (note that return value is nondeterministic!):\n",
    "    >>> estimate_average_slot_payout(1)\n",
    "    -1\n",
    "    >>> estimate_average_slot_payout(1)\n",
    "    0.5\n",
    "    \"\"\"\n",
    "    net_profit=0\n",
    "    for i in range(n_runs):\n",
    "        profit_per_run=play_slot_machine()\n",
    "        net_profit+=profit_per_run\n",
    "    return net_profit/n_runs"
   ]
  },
  {
   "cell_type": "code",
   "execution_count": 12,
   "id": "737545b5",
   "metadata": {
    "execution": {
     "iopub.execute_input": "2024-02-21T03:50:39.335748Z",
     "iopub.status.busy": "2024-02-21T03:50:39.335249Z",
     "iopub.status.idle": "2024-02-21T03:51:05.623586Z",
     "shell.execute_reply": "2024-02-21T03:51:05.622703Z"
    },
    "papermill": {
     "duration": 26.301791,
     "end_time": "2024-02-21T03:51:05.625737",
     "exception": false,
     "start_time": "2024-02-21T03:50:39.323946",
     "status": "completed"
    },
    "tags": []
   },
   "outputs": [
    {
     "data": {
      "text/plain": [
       "1.02438272"
      ]
     },
     "execution_count": 12,
     "metadata": {},
     "output_type": "execute_result"
    }
   ],
   "source": [
    "def estimate_average_slot_payout(n_runs):\n",
    "    \"\"\"Run the slot machine n_runs times and return the average net profit per run.\n",
    "    Example calls (note that return value is nondeterministic!):\n",
    "    >>> estimate_average_slot_payout(1)\n",
    "    -1\n",
    "    >>> estimate_average_slot_payout(1)\n",
    "    0.5\n",
    "    \"\"\"\n",
    "    net_profit=0\n",
    "    for i in range(n_runs):\n",
    "        profit_per_run=play_slot_machine()\n",
    "        net_profit+=profit_per_run\n",
    "    return net_profit/n_runs\n",
    "estimate_average_slot_payout(50000000)"
   ]
  },
  {
   "cell_type": "markdown",
   "id": "eebfb8f6",
   "metadata": {
    "papermill": {
     "duration": 0.009764,
     "end_time": "2024-02-21T03:51:05.645544",
     "exception": false,
     "start_time": "2024-02-21T03:51:05.635780",
     "status": "completed"
    },
    "tags": []
   },
   "source": [
    "When you think you know the expected value per spin, run the code cell below to view the solution and get credit for answering the question."
   ]
  },
  {
   "cell_type": "code",
   "execution_count": 13,
   "id": "d4ed40dd",
   "metadata": {
    "execution": {
     "iopub.execute_input": "2024-02-21T03:51:05.668057Z",
     "iopub.status.busy": "2024-02-21T03:51:05.666625Z",
     "iopub.status.idle": "2024-02-21T03:51:05.676733Z",
     "shell.execute_reply": "2024-02-21T03:51:05.675319Z"
    },
    "papermill": {
     "duration": 0.024214,
     "end_time": "2024-02-21T03:51:05.679736",
     "exception": false,
     "start_time": "2024-02-21T03:51:05.655522",
     "status": "completed"
    },
    "tags": []
   },
   "outputs": [
    {
     "data": {
      "application/javascript": [
       "parent.postMessage({\"jupyterEvent\": \"custom.exercise_interaction\", \"data\": {\"interactionType\": 3, \"questionType\": 4, \"questionId\": \"4_ExpectedSlotsPayout\", \"learnToolsVersion\": \"0.3.4\", \"valueTowardsCompletion\": 0.0, \"failureMessage\": \"\", \"exceptionClass\": \"\", \"trace\": \"\", \"outcomeType\": 4}}, \"*\")"
      ],
      "text/plain": [
       "<IPython.core.display.Javascript object>"
      ]
     },
     "metadata": {},
     "output_type": "display_data"
    },
    {
     "data": {
      "text/markdown": [
       "<span style=\"color:#33cc99\">Solution:</span> \n",
       "    \n",
       "The exact expected value of one pull of the slot machine is 0.025 - i.e. a little more than 2 cents.  See?  Not every game in the Python Challenge Casino is rigged against the player!\n",
       "\n",
       "In order to get this answer, you'll need to implement the `estimate_average_slot_payout(n_runs)` function to simulate pulling the slot machine `n_runs` times.  It should return the payout averaged over those `n_runs`.\n",
       "\n",
       "Then, once the function is defined, in order to estimate the average slot payout, we need only call the function.\n",
       "\n",
       "Because of the high variance of the outcome (there are some very rare high payout results that significantly affect the average) you might need to run your function with a very high value of `n_runs` to get a stable answer close to the true expectation.  For instance, you might use a value for `n_runs` of 1000000.\n",
       "\n",
       "Here's an example for how the function could look:\n",
       "```python\n",
       "def estimate_average_slot_payout(n_runs):\n",
       "    # Play slot machine n_runs times, calculate payout of each\n",
       "    payouts = [play_slot_machine()-1 for i in range(n_runs)]\n",
       "    # Calculate the average value\n",
       "    avg_payout = sum(payouts) / n_runs\n",
       "    return avg_payout\n",
       "    \n",
       "estimate_average_slot_payout(10000000)\n",
       "\n",
       "```\n",
       "\n",
       "This should return an answer close to 0.025!\n",
       "            \n"
      ],
      "text/plain": [
       "Solution: \n",
       "    \n",
       "The exact expected value of one pull of the slot machine is 0.025 - i.e. a little more than 2 cents.  See?  Not every game in the Python Challenge Casino is rigged against the player!\n",
       "\n",
       "In order to get this answer, you'll need to implement the `estimate_average_slot_payout(n_runs)` function to simulate pulling the slot machine `n_runs` times.  It should return the payout averaged over those `n_runs`.\n",
       "\n",
       "Then, once the function is defined, in order to estimate the average slot payout, we need only call the function.\n",
       "\n",
       "Because of the high variance of the outcome (there are some very rare high payout results that significantly affect the average) you might need to run your function with a very high value of `n_runs` to get a stable answer close to the true expectation.  For instance, you might use a value for `n_runs` of 1000000.\n",
       "\n",
       "Here's an example for how the function could look:\n",
       "```python\n",
       "def estimate_average_slot_payout(n_runs):\n",
       "    # Play slot machine n_runs times, calculate payout of each\n",
       "    payouts = [play_slot_machine()-1 for i in range(n_runs)]\n",
       "    # Calculate the average value\n",
       "    avg_payout = sum(payouts) / n_runs\n",
       "    return avg_payout\n",
       "    \n",
       "estimate_average_slot_payout(10000000)\n",
       "\n",
       "```\n",
       "\n",
       "This should return an answer close to 0.025!\n",
       "            "
      ]
     },
     "metadata": {},
     "output_type": "display_data"
    }
   ],
   "source": [
    "# Check your answer (Run this code cell to receive credit!)\n",
    "q4.solution()"
   ]
  },
  {
   "cell_type": "markdown",
   "id": "aa704565",
   "metadata": {
    "papermill": {
     "duration": 0.010191,
     "end_time": "2024-02-21T03:51:05.700690",
     "exception": false,
     "start_time": "2024-02-21T03:51:05.690499",
     "status": "completed"
    },
    "tags": []
   },
   "source": [
    "# Keep Going\n",
    "\n",
    "Many programmers report that dictionaries are their favorite data structure. You'll get to **[learn about them](https://www.kaggle.com/colinmorris/strings-and-dictionaries)** (as well as strings) in the next lesson."
   ]
  },
  {
   "cell_type": "markdown",
   "id": "87bfdae3",
   "metadata": {
    "papermill": {
     "duration": 0.009993,
     "end_time": "2024-02-21T03:51:05.721054",
     "exception": false,
     "start_time": "2024-02-21T03:51:05.711061",
     "status": "completed"
    },
    "tags": []
   },
   "source": [
    "---\n",
    "\n",
    "\n",
    "\n",
    "\n",
    "*Have questions or comments? Visit the [course discussion forum](https://www.kaggle.com/learn/python/discussion) to chat with other learners.*"
   ]
  }
 ],
 "metadata": {
  "kaggle": {
   "accelerator": "none",
   "dataSources": [],
   "isGpuEnabled": false,
   "isInternetEnabled": false,
   "language": "python",
   "sourceType": "notebook"
  },
  "kernelspec": {
   "display_name": "Python 3",
   "language": "python",
   "name": "python3"
  },
  "language_info": {
   "codemirror_mode": {
    "name": "ipython",
    "version": 3
   },
   "file_extension": ".py",
   "mimetype": "text/x-python",
   "name": "python",
   "nbconvert_exporter": "python",
   "pygments_lexer": "ipython3",
   "version": "3.10.13"
  },
  "learntools_metadata": {
   "lesson_index": 4,
   "type": "exercise"
  },
  "papermill": {
   "default_parameters": {},
   "duration": 32.565439,
   "end_time": "2024-02-21T03:51:06.454443",
   "environment_variables": {},
   "exception": null,
   "input_path": "__notebook__.ipynb",
   "output_path": "__notebook__.ipynb",
   "parameters": {},
   "start_time": "2024-02-21T03:50:33.889004",
   "version": "2.5.0"
  }
 },
 "nbformat": 4,
 "nbformat_minor": 5
}
