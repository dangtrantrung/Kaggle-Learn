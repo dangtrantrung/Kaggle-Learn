{
 "cells": [
  {
   "cell_type": "markdown",
   "id": "23a3da2a",
   "metadata": {
    "papermill": {
     "duration": 0.005761,
     "end_time": "2024-02-25T05:55:44.241961",
     "exception": false,
     "start_time": "2024-02-25T05:55:44.236200",
     "status": "completed"
    },
    "tags": []
   },
   "source": [
    "**This notebook is an exercise in the [Introduction to Machine Learning](https://www.kaggle.com/learn/intro-to-machine-learning) course.  You can reference the tutorial at [this link](https://www.kaggle.com/dansbecker/model-validation).**\n",
    "\n",
    "---\n"
   ]
  },
  {
   "cell_type": "markdown",
   "id": "4bd92701",
   "metadata": {
    "papermill": {
     "duration": 0.004047,
     "end_time": "2024-02-25T05:55:44.250984",
     "exception": false,
     "start_time": "2024-02-25T05:55:44.246937",
     "status": "completed"
    },
    "tags": []
   },
   "source": [
    "## Recap\n",
    "You've built a model. In this exercise you will test how good your model is.\n",
    "\n",
    "Run the cell below to set up your coding environment where the previous exercise left off."
   ]
  },
  {
   "cell_type": "code",
   "execution_count": 1,
   "id": "a776241b",
   "metadata": {
    "execution": {
     "iopub.execute_input": "2024-02-25T05:55:44.263630Z",
     "iopub.status.busy": "2024-02-25T05:55:44.263108Z",
     "iopub.status.idle": "2024-02-25T05:55:47.253803Z",
     "shell.execute_reply": "2024-02-25T05:55:47.252429Z"
    },
    "papermill": {
     "duration": 3.000398,
     "end_time": "2024-02-25T05:55:47.256188",
     "exception": false,
     "start_time": "2024-02-25T05:55:44.255790",
     "status": "completed"
    },
    "tags": []
   },
   "outputs": [
    {
     "name": "stdout",
     "output_type": "stream",
     "text": [
      "First in-sample predictions: [208500. 181500. 223500. 140000. 250000.]\n",
      "Actual target values for those homes: [208500, 181500, 223500, 140000, 250000]\n",
      "Setup Complete\n"
     ]
    }
   ],
   "source": [
    "# Code you have previously used to load data\n",
    "import pandas as pd\n",
    "from sklearn.tree import DecisionTreeRegressor\n",
    "\n",
    "# Path of the file to read\n",
    "iowa_file_path = '../input/home-data-for-ml-course/train.csv'\n",
    "\n",
    "home_data = pd.read_csv(iowa_file_path)\n",
    "y = home_data.SalePrice\n",
    "feature_columns = ['LotArea', 'YearBuilt', '1stFlrSF', '2ndFlrSF', 'FullBath', 'BedroomAbvGr', 'TotRmsAbvGrd']\n",
    "X = home_data[feature_columns]\n",
    "\n",
    "# Specify Model\n",
    "iowa_model = DecisionTreeRegressor()\n",
    "# Fit Model\n",
    "iowa_model.fit(X, y)\n",
    "\n",
    "print(\"First in-sample predictions:\", iowa_model.predict(X.head()))\n",
    "print(\"Actual target values for those homes:\", y.head().tolist())\n",
    "\n",
    "# Set up code checking\n",
    "from learntools.core import binder\n",
    "binder.bind(globals())\n",
    "from learntools.machine_learning.ex4 import *\n",
    "print(\"Setup Complete\")"
   ]
  },
  {
   "cell_type": "markdown",
   "id": "6c90b3a9",
   "metadata": {
    "papermill": {
     "duration": 0.004899,
     "end_time": "2024-02-25T05:55:47.266997",
     "exception": false,
     "start_time": "2024-02-25T05:55:47.262098",
     "status": "completed"
    },
    "tags": []
   },
   "source": [
    "# Exercises\n",
    "\n",
    "## Step 1: Split Your Data\n",
    "Use the `train_test_split` function to split up your data.\n",
    "\n",
    "Give it the argument `random_state=1` so the `check` functions know what to expect when verifying your code.\n",
    "\n",
    "Recall, your features are loaded in the DataFrame **X** and your target is loaded in **y**.\n"
   ]
  },
  {
   "cell_type": "code",
   "execution_count": 2,
   "id": "61c640af",
   "metadata": {
    "execution": {
     "iopub.execute_input": "2024-02-25T05:55:47.278455Z",
     "iopub.status.busy": "2024-02-25T05:55:47.278003Z",
     "iopub.status.idle": "2024-02-25T05:55:47.306477Z",
     "shell.execute_reply": "2024-02-25T05:55:47.303974Z"
    },
    "papermill": {
     "duration": 0.04018,
     "end_time": "2024-02-25T05:55:47.311812",
     "exception": false,
     "start_time": "2024-02-25T05:55:47.271632",
     "status": "completed"
    },
    "tags": []
   },
   "outputs": [
    {
     "data": {
      "application/javascript": [
       "parent.postMessage({\"jupyterEvent\": \"custom.exercise_interaction\", \"data\": {\"outcomeType\": 1, \"valueTowardsCompletion\": 0.25, \"interactionType\": 1, \"questionType\": 2, \"questionId\": \"1_SplitData\", \"learnToolsVersion\": \"0.3.4\", \"failureMessage\": \"\", \"exceptionClass\": \"\", \"trace\": \"\"}}, \"*\")"
      ],
      "text/plain": [
       "<IPython.core.display.Javascript object>"
      ]
     },
     "metadata": {},
     "output_type": "display_data"
    },
    {
     "data": {
      "text/markdown": [
       "<span style=\"color:#33cc33\">Correct</span>"
      ],
      "text/plain": [
       "Correct"
      ]
     },
     "metadata": {},
     "output_type": "display_data"
    }
   ],
   "source": [
    "# Import the train_test_split function and uncomment\n",
    "from sklearn.model_selection import train_test_split\n",
    "\n",
    "# fill in and uncomment\n",
    "train_X, val_X, train_y, val_y = train_test_split(X,y,random_state=1)\n",
    "\n",
    "# Check your answer\n",
    "step_1.check()"
   ]
  },
  {
   "cell_type": "code",
   "execution_count": 3,
   "id": "4e015a7e",
   "metadata": {
    "execution": {
     "iopub.execute_input": "2024-02-25T05:55:47.331202Z",
     "iopub.status.busy": "2024-02-25T05:55:47.330379Z",
     "iopub.status.idle": "2024-02-25T05:55:47.339049Z",
     "shell.execute_reply": "2024-02-25T05:55:47.336499Z"
    },
    "papermill": {
     "duration": 0.024227,
     "end_time": "2024-02-25T05:55:47.342898",
     "exception": false,
     "start_time": "2024-02-25T05:55:47.318671",
     "status": "completed"
    },
    "tags": []
   },
   "outputs": [],
   "source": [
    "# The lines below will show you a hint or the solution.\n",
    "# step_1.hint() \n",
    "# step_1.solution()\n"
   ]
  },
  {
   "cell_type": "markdown",
   "id": "93b7639e",
   "metadata": {
    "papermill": {
     "duration": 0.005906,
     "end_time": "2024-02-25T05:55:47.357969",
     "exception": false,
     "start_time": "2024-02-25T05:55:47.352063",
     "status": "completed"
    },
    "tags": []
   },
   "source": [
    "## Step 2: Specify and Fit the Model\n",
    "\n",
    "Create a `DecisionTreeRegressor` model and fit it to the relevant data.\n",
    "Set `random_state` to 1 again when creating the model."
   ]
  },
  {
   "cell_type": "code",
   "execution_count": 4,
   "id": "362c2818",
   "metadata": {
    "execution": {
     "iopub.execute_input": "2024-02-25T05:55:47.370684Z",
     "iopub.status.busy": "2024-02-25T05:55:47.370072Z",
     "iopub.status.idle": "2024-02-25T05:55:47.503773Z",
     "shell.execute_reply": "2024-02-25T05:55:47.502192Z"
    },
    "papermill": {
     "duration": 0.14278,
     "end_time": "2024-02-25T05:55:47.506134",
     "exception": false,
     "start_time": "2024-02-25T05:55:47.363354",
     "status": "completed"
    },
    "tags": []
   },
   "outputs": [
    {
     "name": "stdout",
     "output_type": "stream",
     "text": [
      "[186500. 184000. 130000.  92000. 164500. 220000. 335000. 144152. 215000.\n",
      " 262000.]\n",
      "[186500. 184000. 130000.  92000. 164500. 220000. 335000. 144152. 215000.\n",
      " 262000.]\n"
     ]
    },
    {
     "data": {
      "application/javascript": [
       "parent.postMessage({\"jupyterEvent\": \"custom.exercise_interaction\", \"data\": {\"outcomeType\": 1, \"valueTowardsCompletion\": 0.25, \"interactionType\": 1, \"questionType\": 2, \"questionId\": \"2_FitModelWithTrain\", \"learnToolsVersion\": \"0.3.4\", \"failureMessage\": \"\", \"exceptionClass\": \"\", \"trace\": \"\"}}, \"*\")"
      ],
      "text/plain": [
       "<IPython.core.display.Javascript object>"
      ]
     },
     "metadata": {},
     "output_type": "display_data"
    },
    {
     "data": {
      "text/markdown": [
       "<span style=\"color:#33cc33\">Correct</span>"
      ],
      "text/plain": [
       "Correct"
      ]
     },
     "metadata": {},
     "output_type": "display_data"
    }
   ],
   "source": [
    "# You imported DecisionTreeRegressor in your last exercise\n",
    "# and that code has been copied to the setup code above. So, no need to\n",
    "# import it again\n",
    "\n",
    "# Specify the model\n",
    "iowa_model = DecisionTreeRegressor(random_state=1)\n",
    "\n",
    "# Fit iowa_model with the training data.\n",
    "iowa_model.fit(train_X,train_y)\n",
    "\n",
    "# Check your answer\n",
    "step_2.check()"
   ]
  },
  {
   "cell_type": "code",
   "execution_count": 5,
   "id": "125a00b2",
   "metadata": {
    "execution": {
     "iopub.execute_input": "2024-02-25T05:55:47.520433Z",
     "iopub.status.busy": "2024-02-25T05:55:47.519758Z",
     "iopub.status.idle": "2024-02-25T05:55:47.525452Z",
     "shell.execute_reply": "2024-02-25T05:55:47.524326Z"
    },
    "papermill": {
     "duration": 0.016223,
     "end_time": "2024-02-25T05:55:47.527564",
     "exception": false,
     "start_time": "2024-02-25T05:55:47.511341",
     "status": "completed"
    },
    "tags": []
   },
   "outputs": [],
   "source": [
    "# step_2.hint()\n",
    "# step_2.solution()"
   ]
  },
  {
   "cell_type": "markdown",
   "id": "7dd5b70b",
   "metadata": {
    "papermill": {
     "duration": 0.006322,
     "end_time": "2024-02-25T05:55:47.539358",
     "exception": false,
     "start_time": "2024-02-25T05:55:47.533036",
     "status": "completed"
    },
    "tags": []
   },
   "source": [
    "## Step 3: Make Predictions with Validation data\n"
   ]
  },
  {
   "cell_type": "code",
   "execution_count": 6,
   "id": "ab5ec8c3",
   "metadata": {
    "execution": {
     "iopub.execute_input": "2024-02-25T05:55:47.552822Z",
     "iopub.status.busy": "2024-02-25T05:55:47.552467Z",
     "iopub.status.idle": "2024-02-25T05:55:47.566765Z",
     "shell.execute_reply": "2024-02-25T05:55:47.565616Z"
    },
    "papermill": {
     "duration": 0.023277,
     "end_time": "2024-02-25T05:55:47.568919",
     "exception": false,
     "start_time": "2024-02-25T05:55:47.545642",
     "status": "completed"
    },
    "tags": []
   },
   "outputs": [
    {
     "data": {
      "application/javascript": [
       "parent.postMessage({\"jupyterEvent\": \"custom.exercise_interaction\", \"data\": {\"outcomeType\": 1, \"valueTowardsCompletion\": 0.25, \"interactionType\": 1, \"questionType\": 2, \"questionId\": \"3_ValPreds\", \"learnToolsVersion\": \"0.3.4\", \"failureMessage\": \"\", \"exceptionClass\": \"\", \"trace\": \"\"}}, \"*\")"
      ],
      "text/plain": [
       "<IPython.core.display.Javascript object>"
      ]
     },
     "metadata": {},
     "output_type": "display_data"
    },
    {
     "data": {
      "text/markdown": [
       "<span style=\"color:#33cc33\">Correct</span>"
      ],
      "text/plain": [
       "Correct"
      ]
     },
     "metadata": {},
     "output_type": "display_data"
    }
   ],
   "source": [
    "# Predict with all validation observations\n",
    "val_predictions = iowa_model.predict(val_X)\n",
    "\n",
    "# Check your answer\n",
    "step_3.check()"
   ]
  },
  {
   "cell_type": "code",
   "execution_count": 7,
   "id": "a3686872",
   "metadata": {
    "execution": {
     "iopub.execute_input": "2024-02-25T05:55:47.583255Z",
     "iopub.status.busy": "2024-02-25T05:55:47.582610Z",
     "iopub.status.idle": "2024-02-25T05:55:47.587158Z",
     "shell.execute_reply": "2024-02-25T05:55:47.586133Z"
    },
    "papermill": {
     "duration": 0.015102,
     "end_time": "2024-02-25T05:55:47.589482",
     "exception": false,
     "start_time": "2024-02-25T05:55:47.574380",
     "status": "completed"
    },
    "tags": []
   },
   "outputs": [],
   "source": [
    "# step_3.hint()\n",
    "# step_3.solution()"
   ]
  },
  {
   "cell_type": "markdown",
   "id": "2d30a845",
   "metadata": {
    "papermill": {
     "duration": 0.005852,
     "end_time": "2024-02-25T05:55:47.601374",
     "exception": false,
     "start_time": "2024-02-25T05:55:47.595522",
     "status": "completed"
    },
    "tags": []
   },
   "source": [
    "Inspect your predictions and actual values from validation data."
   ]
  },
  {
   "cell_type": "code",
   "execution_count": 8,
   "id": "f683c19d",
   "metadata": {
    "execution": {
     "iopub.execute_input": "2024-02-25T05:55:47.614686Z",
     "iopub.status.busy": "2024-02-25T05:55:47.614321Z",
     "iopub.status.idle": "2024-02-25T05:55:47.620715Z",
     "shell.execute_reply": "2024-02-25T05:55:47.619691Z"
    },
    "papermill": {
     "duration": 0.015945,
     "end_time": "2024-02-25T05:55:47.622849",
     "exception": false,
     "start_time": "2024-02-25T05:55:47.606904",
     "status": "completed"
    },
    "tags": []
   },
   "outputs": [
    {
     "name": "stdout",
     "output_type": "stream",
     "text": [
      "[186500. 184000. 130000.  92000. 164500.]\n",
      "258     231500\n",
      "267     179500\n",
      "288     122000\n",
      "649      84500\n",
      "1233    142000\n",
      "Name: SalePrice, dtype: int64\n"
     ]
    }
   ],
   "source": [
    "# print the top few validation predictions\n",
    "print(val_predictions[:5])\n",
    "# print the top few actual prices from validation data\n",
    "print(val_y.head())"
   ]
  },
  {
   "cell_type": "markdown",
   "id": "b4b7f399",
   "metadata": {
    "papermill": {
     "duration": 0.005142,
     "end_time": "2024-02-25T05:55:47.633562",
     "exception": false,
     "start_time": "2024-02-25T05:55:47.628420",
     "status": "completed"
    },
    "tags": []
   },
   "source": [
    "What do you notice that is different from what you saw with in-sample predictions (which are printed after the top code cell in this page).\n",
    "\n",
    "Do you remember why validation predictions differ from in-sample (or training) predictions? This is an important idea from the last lesson.\n",
    "\n",
    "## Step 4: Calculate the Mean Absolute Error in Validation Data\n"
   ]
  },
  {
   "cell_type": "code",
   "execution_count": 9,
   "id": "2ba3b6bb",
   "metadata": {
    "execution": {
     "iopub.execute_input": "2024-02-25T05:55:47.651116Z",
     "iopub.status.busy": "2024-02-25T05:55:47.650263Z",
     "iopub.status.idle": "2024-02-25T05:55:47.665096Z",
     "shell.execute_reply": "2024-02-25T05:55:47.663635Z"
    },
    "papermill": {
     "duration": 0.024577,
     "end_time": "2024-02-25T05:55:47.667431",
     "exception": false,
     "start_time": "2024-02-25T05:55:47.642854",
     "status": "completed"
    },
    "tags": []
   },
   "outputs": [
    {
     "name": "stdout",
     "output_type": "stream",
     "text": [
      "29652.931506849316\n",
      "val_mae:  29653\n",
      "MEAN of SALE Price in VALIDATION_TARGET: 176726\n",
      "258     231500\n",
      "267     179500\n",
      "288     122000\n",
      "649      84500\n",
      "1233    142000\n",
      "Name: SalePrice, dtype: int64\n",
      "MAE =  17%\n"
     ]
    },
    {
     "data": {
      "application/javascript": [
       "parent.postMessage({\"jupyterEvent\": \"custom.exercise_interaction\", \"data\": {\"outcomeType\": 1, \"valueTowardsCompletion\": 0.25, \"interactionType\": 1, \"questionType\": 1, \"questionId\": \"4_MAE\", \"learnToolsVersion\": \"0.3.4\", \"failureMessage\": \"\", \"exceptionClass\": \"\", \"trace\": \"\"}}, \"*\")"
      ],
      "text/plain": [
       "<IPython.core.display.Javascript object>"
      ]
     },
     "metadata": {},
     "output_type": "display_data"
    },
    {
     "data": {
      "text/markdown": [
       "<span style=\"color:#33cc33\">Correct</span>"
      ],
      "text/plain": [
       "Correct"
      ]
     },
     "metadata": {},
     "output_type": "display_data"
    }
   ],
   "source": [
    "from sklearn.metrics import mean_absolute_error\n",
    "val_mae = mean_absolute_error(val_predictions,val_y)\n",
    "\n",
    "# uncomment following line to see the validation_mae\n",
    "print(val_mae)\n",
    "print(f'val_mae: {val_mae: .0f}')\n",
    "print(f'MEAN of SALE Price in VALIDATION_TARGET: {round(val_y.mean())}')\n",
    "print(val_y[:5])\n",
    "print(f'MAE = {(val_mae/val_y.mean())*100: .0f}%')\n",
    "\n",
    "# Check your answer\n",
    "step_4.check()"
   ]
  },
  {
   "cell_type": "code",
   "execution_count": 10,
   "id": "245d4f4a",
   "metadata": {
    "execution": {
     "iopub.execute_input": "2024-02-25T05:55:47.682599Z",
     "iopub.status.busy": "2024-02-25T05:55:47.682131Z",
     "iopub.status.idle": "2024-02-25T05:55:47.686933Z",
     "shell.execute_reply": "2024-02-25T05:55:47.685764Z"
    },
    "papermill": {
     "duration": 0.01543,
     "end_time": "2024-02-25T05:55:47.688883",
     "exception": false,
     "start_time": "2024-02-25T05:55:47.673453",
     "status": "completed"
    },
    "tags": []
   },
   "outputs": [],
   "source": [
    "# step_4.hint()\n",
    "# step_4.solution()"
   ]
  },
  {
   "cell_type": "markdown",
   "id": "36a3fd19",
   "metadata": {
    "papermill": {
     "duration": 0.006225,
     "end_time": "2024-02-25T05:55:47.701130",
     "exception": false,
     "start_time": "2024-02-25T05:55:47.694905",
     "status": "completed"
    },
    "tags": []
   },
   "source": [
    "Is that MAE good?  There isn't a general rule for what values are good that applies across applications. But you'll see how to use (and improve) this number in the next step.\n",
    "\n",
    "# Keep Going\n",
    "\n",
    "You are ready for **[Underfitting and Overfitting](https://www.kaggle.com/dansbecker/underfitting-and-overfitting).**\n"
   ]
  },
  {
   "cell_type": "markdown",
   "id": "f134b217",
   "metadata": {
    "papermill": {
     "duration": 0.005763,
     "end_time": "2024-02-25T05:55:47.713593",
     "exception": false,
     "start_time": "2024-02-25T05:55:47.707830",
     "status": "completed"
    },
    "tags": []
   },
   "source": [
    "---\n",
    "\n",
    "\n",
    "\n",
    "\n",
    "*Have questions or comments? Visit the [course discussion forum](https://www.kaggle.com/learn/intro-to-machine-learning/discussion) to chat with other learners.*"
   ]
  }
 ],
 "metadata": {
  "kaggle": {
   "accelerator": "none",
   "dataSources": [
    {
     "databundleVersionId": 111096,
     "sourceId": 10211,
     "sourceType": "competition"
    },
    {
     "datasetId": 11167,
     "sourceId": 15520,
     "sourceType": "datasetVersion"
    },
    {
     "datasetId": 2709,
     "sourceId": 38454,
     "sourceType": "datasetVersion"
    }
   ],
   "isGpuEnabled": false,
   "isInternetEnabled": false,
   "language": "python",
   "sourceType": "notebook"
  },
  "kernelspec": {
   "display_name": "Python 3",
   "language": "python",
   "name": "python3"
  },
  "language_info": {
   "codemirror_mode": {
    "name": "ipython",
    "version": 3
   },
   "file_extension": ".py",
   "mimetype": "text/x-python",
   "name": "python",
   "nbconvert_exporter": "python",
   "pygments_lexer": "ipython3",
   "version": "3.10.13"
  },
  "papermill": {
   "default_parameters": {},
   "duration": 7.195686,
   "end_time": "2024-02-25T05:55:48.442530",
   "environment_variables": {},
   "exception": null,
   "input_path": "__notebook__.ipynb",
   "output_path": "__notebook__.ipynb",
   "parameters": {},
   "start_time": "2024-02-25T05:55:41.246844",
   "version": "2.5.0"
  }
 },
 "nbformat": 4,
 "nbformat_minor": 5
}
