{
 "cells": [
  {
   "cell_type": "markdown",
   "id": "b28fa58b",
   "metadata": {
    "papermill": {
     "duration": 0.008059,
     "end_time": "2024-02-21T06:54:20.139718",
     "exception": false,
     "start_time": "2024-02-21T06:54:20.131659",
     "status": "completed"
    },
    "tags": []
   },
   "source": [
    "**This notebook is an exercise in the [Python](https://www.kaggle.com/learn/python) course.  You can reference the tutorial at [this link](https://www.kaggle.com/colinmorris/strings-and-dictionaries).**\n",
    "\n",
    "---\n"
   ]
  },
  {
   "cell_type": "markdown",
   "id": "9d9023b3",
   "metadata": {
    "papermill": {
     "duration": 0.006851,
     "end_time": "2024-02-21T06:54:20.153923",
     "exception": false,
     "start_time": "2024-02-21T06:54:20.147072",
     "status": "completed"
    },
    "tags": []
   },
   "source": [
    "You are almost done with the course. Nice job!\n",
    "\n",
    "We have a couple more interesting problems for you before you go. \n",
    "\n",
    "As always, run the setup code below before working on the questions."
   ]
  },
  {
   "cell_type": "code",
   "execution_count": 1,
   "id": "cdc10395",
   "metadata": {
    "execution": {
     "iopub.execute_input": "2024-02-21T06:54:20.172458Z",
     "iopub.status.busy": "2024-02-21T06:54:20.171950Z",
     "iopub.status.idle": "2024-02-21T06:54:21.142448Z",
     "shell.execute_reply": "2024-02-21T06:54:21.140436Z"
    },
    "papermill": {
     "duration": 0.983432,
     "end_time": "2024-02-21T06:54:21.146056",
     "exception": false,
     "start_time": "2024-02-21T06:54:20.162624",
     "status": "completed"
    },
    "tags": []
   },
   "outputs": [
    {
     "name": "stdout",
     "output_type": "stream",
     "text": [
      "Setup complete.\n"
     ]
    }
   ],
   "source": [
    "from learntools.core import binder; binder.bind(globals())\n",
    "from learntools.python.ex6 import *\n",
    "print('Setup complete.')"
   ]
  },
  {
   "cell_type": "markdown",
   "id": "33abacc4",
   "metadata": {
    "papermill": {
     "duration": 0.006899,
     "end_time": "2024-02-21T06:54:21.160568",
     "exception": false,
     "start_time": "2024-02-21T06:54:21.153669",
     "status": "completed"
    },
    "tags": []
   },
   "source": [
    "Let's start with a string lightning round to warm up. What are the lengths of the strings below?\n",
    "\n",
    "For each of the five strings below, predict what `len()` would return when passed that string. Use the variable `length` to record your answer, then run the cell to check whether you were right.  \n",
    "\n",
    "# 0a."
   ]
  },
  {
   "cell_type": "code",
   "execution_count": 2,
   "id": "79fcb9bb",
   "metadata": {
    "execution": {
     "iopub.execute_input": "2024-02-21T06:54:21.177892Z",
     "iopub.status.busy": "2024-02-21T06:54:21.176787Z",
     "iopub.status.idle": "2024-02-21T06:54:21.187779Z",
     "shell.execute_reply": "2024-02-21T06:54:21.186807Z"
    },
    "papermill": {
     "duration": 0.02237,
     "end_time": "2024-02-21T06:54:21.190162",
     "exception": false,
     "start_time": "2024-02-21T06:54:21.167792",
     "status": "completed"
    },
    "tags": []
   },
   "outputs": [
    {
     "name": "stdout",
     "output_type": "stream",
     "text": [
      "9\n"
     ]
    },
    {
     "data": {
      "application/javascript": [
       "parent.postMessage({\"jupyterEvent\": \"custom.exercise_interaction\", \"data\": {\"outcomeType\": 2, \"failureMessage\": \"Incorrect value for `length`: `9`\", \"interactionType\": 1, \"questionType\": 1, \"questionId\": \"0.1_ZA\", \"learnToolsVersion\": \"0.3.4\", \"valueTowardsCompletion\": 0.0, \"exceptionClass\": \"\", \"trace\": \"\"}}, \"*\")"
      ],
      "text/plain": [
       "<IPython.core.display.Javascript object>"
      ]
     },
     "metadata": {},
     "output_type": "display_data"
    },
    {
     "data": {
      "text/markdown": [
       "<span style=\"color:#cc3333\">Incorrect:</span> Incorrect value for `length`: `9`"
      ],
      "text/plain": [
       "Incorrect: Incorrect value for `length`: `9`"
      ]
     },
     "metadata": {},
     "output_type": "display_data"
    }
   ],
   "source": [
    "a = \"sfddfss12\"\n",
    "length =9\n",
    "print(len(a))\n",
    "q0.a.check()"
   ]
  },
  {
   "cell_type": "markdown",
   "id": "d0d4915f",
   "metadata": {
    "papermill": {
     "duration": 0.008007,
     "end_time": "2024-02-21T06:54:21.205851",
     "exception": false,
     "start_time": "2024-02-21T06:54:21.197844",
     "status": "completed"
    },
    "tags": []
   },
   "source": [
    "# 0b."
   ]
  },
  {
   "cell_type": "code",
   "execution_count": 3,
   "id": "57761b99",
   "metadata": {
    "execution": {
     "iopub.execute_input": "2024-02-21T06:54:21.224135Z",
     "iopub.status.busy": "2024-02-21T06:54:21.223778Z",
     "iopub.status.idle": "2024-02-21T06:54:21.232951Z",
     "shell.execute_reply": "2024-02-21T06:54:21.231897Z"
    },
    "papermill": {
     "duration": 0.021009,
     "end_time": "2024-02-21T06:54:21.235382",
     "exception": false,
     "start_time": "2024-02-21T06:54:21.214373",
     "status": "completed"
    },
    "tags": []
   },
   "outputs": [
    {
     "data": {
      "application/javascript": [
       "parent.postMessage({\"jupyterEvent\": \"custom.exercise_interaction\", \"data\": {\"outcomeType\": 1, \"valueTowardsCompletion\": 0.3333333333333333, \"interactionType\": 1, \"questionType\": 1, \"questionId\": \"0.2_ZB\", \"learnToolsVersion\": \"0.3.4\", \"failureMessage\": \"\", \"exceptionClass\": \"\", \"trace\": \"\"}}, \"*\")"
      ],
      "text/plain": [
       "<IPython.core.display.Javascript object>"
      ]
     },
     "metadata": {},
     "output_type": "display_data"
    },
    {
     "data": {
      "text/markdown": [
       "<span style=\"color:#33cc33\">Correct:</span> \n",
       "\n",
       "Keep in mind Python includes spaces (and punctuation) when counting string length."
      ],
      "text/plain": [
       "Correct: \n",
       "\n",
       "Keep in mind Python includes spaces (and punctuation) when counting string length."
      ]
     },
     "metadata": {},
     "output_type": "display_data"
    }
   ],
   "source": [
    "b = \"it's ok\"\n",
    "length = 7\n",
    "q0.b.check()"
   ]
  },
  {
   "cell_type": "markdown",
   "id": "f7522d01",
   "metadata": {
    "papermill": {
     "duration": 0.007854,
     "end_time": "2024-02-21T06:54:21.251711",
     "exception": false,
     "start_time": "2024-02-21T06:54:21.243857",
     "status": "completed"
    },
    "tags": []
   },
   "source": [
    "# 0c."
   ]
  },
  {
   "cell_type": "code",
   "execution_count": 4,
   "id": "0844f2ca",
   "metadata": {
    "execution": {
     "iopub.execute_input": "2024-02-21T06:54:21.269530Z",
     "iopub.status.busy": "2024-02-21T06:54:21.269143Z",
     "iopub.status.idle": "2024-02-21T06:54:21.278015Z",
     "shell.execute_reply": "2024-02-21T06:54:21.276885Z"
    },
    "papermill": {
     "duration": 0.020525,
     "end_time": "2024-02-21T06:54:21.280255",
     "exception": false,
     "start_time": "2024-02-21T06:54:21.259730",
     "status": "completed"
    },
    "tags": []
   },
   "outputs": [
    {
     "data": {
      "application/javascript": [
       "parent.postMessage({\"jupyterEvent\": \"custom.exercise_interaction\", \"data\": {\"outcomeType\": 1, \"valueTowardsCompletion\": 0.3333333333333333, \"interactionType\": 1, \"questionType\": 1, \"questionId\": \"0.3_ZC\", \"learnToolsVersion\": \"0.3.4\", \"failureMessage\": \"\", \"exceptionClass\": \"\", \"trace\": \"\"}}, \"*\")"
      ],
      "text/plain": [
       "<IPython.core.display.Javascript object>"
      ]
     },
     "metadata": {},
     "output_type": "display_data"
    },
    {
     "data": {
      "text/markdown": [
       "<span style=\"color:#33cc33\">Correct:</span> \n",
       "\n",
       "Even though we use different syntax to create it, the string `c` is identical to `b`. In particular, note that the backslash is not part of the string, so it doesn't contribute to its length."
      ],
      "text/plain": [
       "Correct: \n",
       "\n",
       "Even though we use different syntax to create it, the string `c` is identical to `b`. In particular, note that the backslash is not part of the string, so it doesn't contribute to its length."
      ]
     },
     "metadata": {},
     "output_type": "display_data"
    }
   ],
   "source": [
    "c = 'it\\'s ok'\n",
    "length = 7\n",
    "q0.c.check()"
   ]
  },
  {
   "cell_type": "markdown",
   "id": "f2c0b72a",
   "metadata": {
    "papermill": {
     "duration": 0.008687,
     "end_time": "2024-02-21T06:54:21.299477",
     "exception": false,
     "start_time": "2024-02-21T06:54:21.290790",
     "status": "completed"
    },
    "tags": []
   },
   "source": [
    "# 0d."
   ]
  },
  {
   "cell_type": "code",
   "execution_count": 5,
   "id": "f4071536",
   "metadata": {
    "execution": {
     "iopub.execute_input": "2024-02-21T06:54:21.317756Z",
     "iopub.status.busy": "2024-02-21T06:54:21.317365Z",
     "iopub.status.idle": "2024-02-21T06:54:21.326741Z",
     "shell.execute_reply": "2024-02-21T06:54:21.325620Z"
    },
    "papermill": {
     "duration": 0.022808,
     "end_time": "2024-02-21T06:54:21.330562",
     "exception": false,
     "start_time": "2024-02-21T06:54:21.307754",
     "status": "completed"
    },
    "tags": []
   },
   "outputs": [
    {
     "name": "stdout",
     "output_type": "stream",
     "text": [
      "3\n"
     ]
    },
    {
     "data": {
      "application/javascript": [
       "parent.postMessage({\"jupyterEvent\": \"custom.exercise_interaction\", \"data\": {\"outcomeType\": 1, \"valueTowardsCompletion\": 0.3333333333333333, \"interactionType\": 1, \"questionType\": 1, \"questionId\": \"0.4_ZD\", \"learnToolsVersion\": \"0.3.4\", \"failureMessage\": \"\", \"exceptionClass\": \"\", \"trace\": \"\"}}, \"*\")"
      ],
      "text/plain": [
       "<IPython.core.display.Javascript object>"
      ]
     },
     "metadata": {},
     "output_type": "display_data"
    },
    {
     "data": {
      "text/markdown": [
       "<span style=\"color:#33cc33\">Correct:</span> \n",
       "\n",
       "The fact that this string was created using triple-quote syntax doesn't make any difference in terms of its content or length. This string is exactly the same as `'hey'`."
      ],
      "text/plain": [
       "Correct: \n",
       "\n",
       "The fact that this string was created using triple-quote syntax doesn't make any difference in terms of its content or length. This string is exactly the same as `'hey'`."
      ]
     },
     "metadata": {},
     "output_type": "display_data"
    }
   ],
   "source": [
    "d = \"\"\"hey\"\"\"\n",
    "length = 3\n",
    "print(len(d))\n",
    "q0.d.check()"
   ]
  },
  {
   "cell_type": "markdown",
   "id": "03478b74",
   "metadata": {
    "papermill": {
     "duration": 0.00836,
     "end_time": "2024-02-21T06:54:21.348514",
     "exception": false,
     "start_time": "2024-02-21T06:54:21.340154",
     "status": "completed"
    },
    "tags": []
   },
   "source": [
    "# 0e."
   ]
  },
  {
   "cell_type": "code",
   "execution_count": 6,
   "id": "e2e9722f",
   "metadata": {
    "execution": {
     "iopub.execute_input": "2024-02-21T06:54:21.367530Z",
     "iopub.status.busy": "2024-02-21T06:54:21.367100Z",
     "iopub.status.idle": "2024-02-21T06:54:21.376433Z",
     "shell.execute_reply": "2024-02-21T06:54:21.375560Z"
    },
    "papermill": {
     "duration": 0.022486,
     "end_time": "2024-02-21T06:54:21.379633",
     "exception": false,
     "start_time": "2024-02-21T06:54:21.357147",
     "status": "completed"
    },
    "tags": []
   },
   "outputs": [
    {
     "name": "stdout",
     "output_type": "stream",
     "text": [
      "1\n",
      "e= \n",
      "\n"
     ]
    },
    {
     "data": {
      "application/javascript": [
       "parent.postMessage({\"jupyterEvent\": \"custom.exercise_interaction\", \"data\": {\"outcomeType\": 1, \"valueTowardsCompletion\": 0.3333333333333333, \"interactionType\": 1, \"questionType\": 1, \"questionId\": \"0.5_ZE\", \"learnToolsVersion\": \"0.3.4\", \"failureMessage\": \"\", \"exceptionClass\": \"\", \"trace\": \"\"}}, \"*\")"
      ],
      "text/plain": [
       "<IPython.core.display.Javascript object>"
      ]
     },
     "metadata": {},
     "output_type": "display_data"
    },
    {
     "data": {
      "text/markdown": [
       "<span style=\"color:#33cc33\">Correct:</span> \n",
       "\n",
       "The newline character is just a single character! (Even though we represent it to Python using a combination of two characters.)"
      ],
      "text/plain": [
       "Correct: \n",
       "\n",
       "The newline character is just a single character! (Even though we represent it to Python using a combination of two characters.)"
      ]
     },
     "metadata": {},
     "output_type": "display_data"
    }
   ],
   "source": [
    "e = '\\n'\n",
    "print(len(e))\n",
    "print('e=',e)\n",
    "length = 1\n",
    "q0.e.check()"
   ]
  },
  {
   "cell_type": "markdown",
   "id": "989dc7a0",
   "metadata": {
    "papermill": {
     "duration": 0.009142,
     "end_time": "2024-02-21T06:54:21.398627",
     "exception": false,
     "start_time": "2024-02-21T06:54:21.389485",
     "status": "completed"
    },
    "tags": []
   },
   "source": [
    "# 1.\n",
    "\n",
    "There is a saying that \"Data scientists spend 80% of their time cleaning data, and 20% of their time complaining about cleaning data.\" Let's see if you can write a function to help clean US zip code data. Given a string, it should return whether or not that string represents a valid zip code. For our purposes, a valid zip code is any string consisting of exactly 5 digits.\n",
    "\n",
    "HINT: `str` has a method that will be useful here. Use `help(str)` to review a list of string methods."
   ]
  },
  {
   "cell_type": "code",
   "execution_count": 7,
   "id": "f26e4e59",
   "metadata": {
    "execution": {
     "iopub.execute_input": "2024-02-21T06:54:21.420706Z",
     "iopub.status.busy": "2024-02-21T06:54:21.420336Z",
     "iopub.status.idle": "2024-02-21T06:54:21.430293Z",
     "shell.execute_reply": "2024-02-21T06:54:21.429109Z"
    },
    "papermill": {
     "duration": 0.023736,
     "end_time": "2024-02-21T06:54:21.432807",
     "exception": false,
     "start_time": "2024-02-21T06:54:21.409071",
     "status": "completed"
    },
    "tags": []
   },
   "outputs": [
    {
     "data": {
      "application/javascript": [
       "parent.postMessage({\"jupyterEvent\": \"custom.exercise_interaction\", \"data\": {\"outcomeType\": 1, \"valueTowardsCompletion\": 0.3333333333333333, \"interactionType\": 1, \"questionType\": 2, \"questionId\": \"1_ZipValidator\", \"learnToolsVersion\": \"0.3.4\", \"failureMessage\": \"\", \"exceptionClass\": \"\", \"trace\": \"\"}}, \"*\")"
      ],
      "text/plain": [
       "<IPython.core.display.Javascript object>"
      ]
     },
     "metadata": {},
     "output_type": "display_data"
    },
    {
     "data": {
      "text/markdown": [
       "<span style=\"color:#33cc33\">Correct</span>"
      ],
      "text/plain": [
       "Correct"
      ]
     },
     "metadata": {},
     "output_type": "display_data"
    }
   ],
   "source": [
    "def is_valid_zip(zip_code):\n",
    "    \"\"\"Returns whether the input string is a valid (5 digit) zip code\n",
    "    \"\"\"\n",
    "    if zip_code.isdigit()==True and len(zip_code)==5:\n",
    "        return True\n",
    "    else:\n",
    "        return False\n",
    "    pass\n",
    "\n",
    "# Check your answer\n",
    "q1.check()"
   ]
  },
  {
   "cell_type": "code",
   "execution_count": 8,
   "id": "0a6e5662",
   "metadata": {
    "execution": {
     "iopub.execute_input": "2024-02-21T06:54:21.456583Z",
     "iopub.status.busy": "2024-02-21T06:54:21.456208Z",
     "iopub.status.idle": "2024-02-21T06:54:21.460425Z",
     "shell.execute_reply": "2024-02-21T06:54:21.459267Z"
    },
    "papermill": {
     "duration": 0.019282,
     "end_time": "2024-02-21T06:54:21.462891",
     "exception": false,
     "start_time": "2024-02-21T06:54:21.443609",
     "status": "completed"
    },
    "tags": []
   },
   "outputs": [],
   "source": [
    "#q1.hint()\n",
    "#q1.solution()"
   ]
  },
  {
   "cell_type": "markdown",
   "id": "b0061319",
   "metadata": {
    "papermill": {
     "duration": 0.009934,
     "end_time": "2024-02-21T06:54:21.482945",
     "exception": false,
     "start_time": "2024-02-21T06:54:21.473011",
     "status": "completed"
    },
    "tags": []
   },
   "source": [
    "# 2.\n",
    "\n",
    "A researcher has gathered thousands of news articles. But she wants to focus her attention on articles including a specific word. Complete the function below to help her filter her list of articles.\n",
    "\n",
    "Your function should meet the following criteria:\n",
    "\n",
    "- Do not include documents where the keyword string shows up only as a part of a larger word. For example, if she were looking for the keyword “closed”, you would not include the string “enclosed.” \n",
    "- She does not want you to distinguish upper case from lower case letters. So the phrase “Closed the case.” would be included when the keyword is “closed”\n",
    "- Do not let periods or commas affect what is matched. “It is closed.” would be included when the keyword is “closed”. But you can assume there are no other types of punctuation."
   ]
  },
  {
   "cell_type": "code",
   "execution_count": 9,
   "id": "0b9cfa35",
   "metadata": {
    "execution": {
     "iopub.execute_input": "2024-02-21T06:54:21.503966Z",
     "iopub.status.busy": "2024-02-21T06:54:21.503585Z",
     "iopub.status.idle": "2024-02-21T06:54:21.512888Z",
     "shell.execute_reply": "2024-02-21T06:54:21.511925Z"
    },
    "papermill": {
     "duration": 0.023525,
     "end_time": "2024-02-21T06:54:21.516090",
     "exception": false,
     "start_time": "2024-02-21T06:54:21.492565",
     "status": "completed"
    },
    "tags": []
   },
   "outputs": [
    {
     "data": {
      "application/javascript": [
       "parent.postMessage({\"jupyterEvent\": \"custom.exercise_interaction\", \"data\": {\"outcomeType\": 4, \"interactionType\": 1, \"questionType\": 2, \"questionId\": \"2_WordSearch\", \"learnToolsVersion\": \"0.3.4\", \"valueTowardsCompletion\": 0.0, \"failureMessage\": \"\", \"exceptionClass\": \"\", \"trace\": \"\"}}, \"*\")"
      ],
      "text/plain": [
       "<IPython.core.display.Javascript object>"
      ]
     },
     "metadata": {},
     "output_type": "display_data"
    },
    {
     "data": {
      "text/markdown": [
       "<span style=\"color:#ccaa33\">Check:</span> When you've updated the starter code, `check()` will tell you whether your code is correct. "
      ],
      "text/plain": [
       "Check: When you've updated the starter code, `check()` will tell you whether your code is correct. "
      ]
     },
     "metadata": {},
     "output_type": "display_data"
    }
   ],
   "source": [
    "def word_search(doc_list, keyword):\n",
    "    \"\"\"\n",
    "    Takes a list of documents (each document is a string) and a keyword. \n",
    "    Returns list of the index values into the original list for all documents \n",
    "    containing the keyword.\n",
    "\n",
    "    Example:\n",
    "    doc_list = [\"The Learn Python Challenge Casino.\", \"They bought a car\", \"Casinoville\"]\n",
    "    >>> word_search(doc_list, 'casino')\n",
    "    >>> [0]\n",
    "    \"\"\"\n",
    "    pass\n",
    "\n",
    "# Check your answer\n",
    "q2.check()"
   ]
  },
  {
   "cell_type": "code",
   "execution_count": 10,
   "id": "3f0cbf20",
   "metadata": {
    "execution": {
     "iopub.execute_input": "2024-02-21T06:54:21.539489Z",
     "iopub.status.busy": "2024-02-21T06:54:21.539037Z",
     "iopub.status.idle": "2024-02-21T06:54:21.543758Z",
     "shell.execute_reply": "2024-02-21T06:54:21.542599Z"
    },
    "papermill": {
     "duration": 0.019444,
     "end_time": "2024-02-21T06:54:21.545962",
     "exception": false,
     "start_time": "2024-02-21T06:54:21.526518",
     "status": "completed"
    },
    "tags": []
   },
   "outputs": [],
   "source": [
    "#q2.hint()\n",
    "#q2.solution()"
   ]
  },
  {
   "cell_type": "markdown",
   "id": "8d514ccf",
   "metadata": {
    "papermill": {
     "duration": 0.010598,
     "end_time": "2024-02-21T06:54:21.567152",
     "exception": false,
     "start_time": "2024-02-21T06:54:21.556554",
     "status": "completed"
    },
    "tags": []
   },
   "source": [
    "# 3.\n",
    "\n",
    "Now the researcher wants to supply multiple keywords to search for. Complete the function below to help her.\n",
    "\n",
    "(You're encouraged to use the `word_search` function you just wrote when implementing this function. Reusing code in this way makes your programs more robust and readable - and it saves typing!)"
   ]
  },
  {
   "cell_type": "code",
   "execution_count": 11,
   "id": "46731f55",
   "metadata": {
    "execution": {
     "iopub.execute_input": "2024-02-21T06:54:21.589949Z",
     "iopub.status.busy": "2024-02-21T06:54:21.588531Z",
     "iopub.status.idle": "2024-02-21T06:54:21.598874Z",
     "shell.execute_reply": "2024-02-21T06:54:21.597738Z"
    },
    "papermill": {
     "duration": 0.024012,
     "end_time": "2024-02-21T06:54:21.601400",
     "exception": false,
     "start_time": "2024-02-21T06:54:21.577388",
     "status": "completed"
    },
    "tags": []
   },
   "outputs": [
    {
     "data": {
      "application/javascript": [
       "parent.postMessage({\"jupyterEvent\": \"custom.exercise_interaction\", \"data\": {\"outcomeType\": 4, \"interactionType\": 1, \"questionType\": 2, \"questionId\": \"3_MultiWordSearch\", \"learnToolsVersion\": \"0.3.4\", \"valueTowardsCompletion\": 0.0, \"failureMessage\": \"\", \"exceptionClass\": \"\", \"trace\": \"\"}}, \"*\")"
      ],
      "text/plain": [
       "<IPython.core.display.Javascript object>"
      ]
     },
     "metadata": {},
     "output_type": "display_data"
    },
    {
     "data": {
      "text/markdown": [
       "<span style=\"color:#ccaa33\">Check:</span> When you've updated the starter code, `check()` will tell you whether your code is correct. "
      ],
      "text/plain": [
       "Check: When you've updated the starter code, `check()` will tell you whether your code is correct. "
      ]
     },
     "metadata": {},
     "output_type": "display_data"
    }
   ],
   "source": [
    "def multi_word_search(doc_list, keywords):\n",
    "    \"\"\"\n",
    "    Takes list of documents (each document is a string) and a list of keywords.  \n",
    "    Returns a dictionary where each key is a keyword, and the value is a list of indices\n",
    "    (from doc_list) of the documents containing that keyword\n",
    "\n",
    "    >>> doc_list = [\"The Learn Python Challenge Casino.\", \"They bought a car and a casino\", \"Casinoville\"]\n",
    "    >>> keywords = ['casino', 'they']\n",
    "    >>> multi_word_search(doc_list, keywords)\n",
    "    {'casino': [0, 1], 'they': [1]}\n",
    "    \"\"\"\n",
    "    pass\n",
    "\n",
    "# Check your answer\n",
    "q3.check()"
   ]
  },
  {
   "cell_type": "code",
   "execution_count": 12,
   "id": "41c4038a",
   "metadata": {
    "execution": {
     "iopub.execute_input": "2024-02-21T06:54:21.624480Z",
     "iopub.status.busy": "2024-02-21T06:54:21.624075Z",
     "iopub.status.idle": "2024-02-21T06:54:21.628388Z",
     "shell.execute_reply": "2024-02-21T06:54:21.627245Z"
    },
    "papermill": {
     "duration": 0.018605,
     "end_time": "2024-02-21T06:54:21.630700",
     "exception": false,
     "start_time": "2024-02-21T06:54:21.612095",
     "status": "completed"
    },
    "tags": []
   },
   "outputs": [],
   "source": [
    "#q3.solution()"
   ]
  },
  {
   "cell_type": "markdown",
   "id": "cd82dcee",
   "metadata": {
    "papermill": {
     "duration": 0.010601,
     "end_time": "2024-02-21T06:54:21.651899",
     "exception": false,
     "start_time": "2024-02-21T06:54:21.641298",
     "status": "completed"
    },
    "tags": []
   },
   "source": [
    "# Keep Going\n",
    "\n",
    "You've learned a lot. But even the best programmers rely heavily on \"libraries\" of code from other programmers. You'll learn about that in **[the last lesson](https://www.kaggle.com/colinmorris/working-with-external-libraries)**.\n"
   ]
  },
  {
   "cell_type": "markdown",
   "id": "849c32b9",
   "metadata": {
    "papermill": {
     "duration": 0.01023,
     "end_time": "2024-02-21T06:54:21.672837",
     "exception": false,
     "start_time": "2024-02-21T06:54:21.662607",
     "status": "completed"
    },
    "tags": []
   },
   "source": [
    "---\n",
    "\n",
    "\n",
    "\n",
    "\n",
    "*Have questions or comments? Visit the [course discussion forum](https://www.kaggle.com/learn/python/discussion) to chat with other learners.*"
   ]
  }
 ],
 "metadata": {
  "kaggle": {
   "accelerator": "none",
   "dataSources": [],
   "isGpuEnabled": false,
   "isInternetEnabled": false,
   "language": "python",
   "sourceType": "notebook"
  },
  "kernelspec": {
   "display_name": "Python 3",
   "language": "python",
   "name": "python3"
  },
  "language_info": {
   "codemirror_mode": {
    "name": "ipython",
    "version": 3
   },
   "file_extension": ".py",
   "mimetype": "text/x-python",
   "name": "python",
   "nbconvert_exporter": "python",
   "pygments_lexer": "ipython3",
   "version": "3.10.13"
  },
  "learntools_metadata": {
   "lesson_index": 5,
   "type": "exercise"
  },
  "papermill": {
   "default_parameters": {},
   "duration": 5.114815,
   "end_time": "2024-02-21T06:54:22.204851",
   "environment_variables": {},
   "exception": null,
   "input_path": "__notebook__.ipynb",
   "output_path": "__notebook__.ipynb",
   "parameters": {},
   "start_time": "2024-02-21T06:54:17.090036",
   "version": "2.5.0"
  }
 },
 "nbformat": 4,
 "nbformat_minor": 5
}
